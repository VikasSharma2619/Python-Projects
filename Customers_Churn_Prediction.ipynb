{
  "nbformat": 4,
  "nbformat_minor": 0,
  "metadata": {
    "colab": {
      "name": "Customers Churn Prediction",
      "provenance": [],
      "collapsed_sections": [],
      "toc_visible": true
    },
    "kernelspec": {
      "name": "python3",
      "display_name": "Python 3"
    },
    "language_info": {
      "name": "python"
    }
  },
  "cells": [
    {
      "cell_type": "code",
      "metadata": {
        "id": "ZQK7R3owjb_q"
      },
      "source": [
        "##### Importing Relevant Libraries ######\n",
        "#########################################\n",
        "\n",
        "import pandas as pd\n",
        "import numpy as np\n",
        "from matplotlib import pyplot as plt\n",
        "import seaborn as sns\n",
        "\n",
        "from sklearn.preprocessing import StandardScaler              ## (x-mean(variable))/standard_deviation(variable)\n",
        "from sklearn.model_selection import StratifiedShuffleSplit    ## for datasplitting\n",
        " \n",
        "from sklearn.model_selection import GridSearchCV              ## for hyperparameter finding\n",
        "from sklearn.linear_model import LogisticRegression\n",
        "from sklearn.metrics import roc_auc_score, plot_roc_curve, confusion_matrix,f1_score         ## model evaluation metrics\n",
        "from sklearn.tree import DecisionTreeClassifier          ## helps fitting a decision tree"
      ],
      "execution_count": 1,
      "outputs": []
    },
    {
      "cell_type": "code",
      "metadata": {
        "id": "IjdaV3N-j7h_"
      },
      "source": [
        "data = pd.read_excel('Churn.xlsx')"
      ],
      "execution_count": 2,
      "outputs": []
    },
    {
      "cell_type": "code",
      "metadata": {
        "colab": {
          "base_uri": "https://localhost:8080/",
          "height": 307
        },
        "id": "UYeVCO0ykbuH",
        "outputId": "04786b68-d895-489a-b473-1c7fa6f91afb"
      },
      "source": [
        "data.head()"
      ],
      "execution_count": 3,
      "outputs": [
        {
          "output_type": "execute_result",
          "data": {
            "text/html": [
              "<div>\n",
              "<style scoped>\n",
              "    .dataframe tbody tr th:only-of-type {\n",
              "        vertical-align: middle;\n",
              "    }\n",
              "\n",
              "    .dataframe tbody tr th {\n",
              "        vertical-align: top;\n",
              "    }\n",
              "\n",
              "    .dataframe thead th {\n",
              "        text-align: right;\n",
              "    }\n",
              "</style>\n",
              "<table border=\"1\" class=\"dataframe\">\n",
              "  <thead>\n",
              "    <tr style=\"text-align: right;\">\n",
              "      <th></th>\n",
              "      <th>customerID</th>\n",
              "      <th>gender</th>\n",
              "      <th>SeniorCitizen</th>\n",
              "      <th>Partner</th>\n",
              "      <th>Dependents</th>\n",
              "      <th>tenure</th>\n",
              "      <th>PhoneService</th>\n",
              "      <th>MultipleLines</th>\n",
              "      <th>InternetService</th>\n",
              "      <th>OnlineSecurity</th>\n",
              "      <th>OnlineBackup</th>\n",
              "      <th>DeviceProtection</th>\n",
              "      <th>TechSupport</th>\n",
              "      <th>StreamingTV</th>\n",
              "      <th>StreamingMovies</th>\n",
              "      <th>Contract</th>\n",
              "      <th>PaperlessBilling</th>\n",
              "      <th>PaymentMethod</th>\n",
              "      <th>MonthlyCharges</th>\n",
              "      <th>TotalCharges</th>\n",
              "      <th>Churn</th>\n",
              "    </tr>\n",
              "  </thead>\n",
              "  <tbody>\n",
              "    <tr>\n",
              "      <th>0</th>\n",
              "      <td>7590-VHVEG</td>\n",
              "      <td>Female</td>\n",
              "      <td>0</td>\n",
              "      <td>Yes</td>\n",
              "      <td>No</td>\n",
              "      <td>1</td>\n",
              "      <td>No</td>\n",
              "      <td>No phone service</td>\n",
              "      <td>DSL</td>\n",
              "      <td>No</td>\n",
              "      <td>Yes</td>\n",
              "      <td>No</td>\n",
              "      <td>No</td>\n",
              "      <td>No</td>\n",
              "      <td>No</td>\n",
              "      <td>Month-to-month</td>\n",
              "      <td>Yes</td>\n",
              "      <td>Electronic check</td>\n",
              "      <td>29.85</td>\n",
              "      <td>29.85</td>\n",
              "      <td>No</td>\n",
              "    </tr>\n",
              "    <tr>\n",
              "      <th>1</th>\n",
              "      <td>5575-GNVDE</td>\n",
              "      <td>Male</td>\n",
              "      <td>0</td>\n",
              "      <td>No</td>\n",
              "      <td>No</td>\n",
              "      <td>34</td>\n",
              "      <td>Yes</td>\n",
              "      <td>No</td>\n",
              "      <td>DSL</td>\n",
              "      <td>Yes</td>\n",
              "      <td>No</td>\n",
              "      <td>Yes</td>\n",
              "      <td>No</td>\n",
              "      <td>No</td>\n",
              "      <td>No</td>\n",
              "      <td>One year</td>\n",
              "      <td>No</td>\n",
              "      <td>Mailed check</td>\n",
              "      <td>56.95</td>\n",
              "      <td>1889.50</td>\n",
              "      <td>No</td>\n",
              "    </tr>\n",
              "    <tr>\n",
              "      <th>2</th>\n",
              "      <td>3668-QPYBK</td>\n",
              "      <td>Male</td>\n",
              "      <td>0</td>\n",
              "      <td>No</td>\n",
              "      <td>No</td>\n",
              "      <td>2</td>\n",
              "      <td>Yes</td>\n",
              "      <td>No</td>\n",
              "      <td>DSL</td>\n",
              "      <td>Yes</td>\n",
              "      <td>Yes</td>\n",
              "      <td>No</td>\n",
              "      <td>No</td>\n",
              "      <td>No</td>\n",
              "      <td>No</td>\n",
              "      <td>Month-to-month</td>\n",
              "      <td>Yes</td>\n",
              "      <td>Mailed check</td>\n",
              "      <td>53.85</td>\n",
              "      <td>108.15</td>\n",
              "      <td>Yes</td>\n",
              "    </tr>\n",
              "    <tr>\n",
              "      <th>3</th>\n",
              "      <td>7795-CFOCW</td>\n",
              "      <td>Male</td>\n",
              "      <td>0</td>\n",
              "      <td>No</td>\n",
              "      <td>No</td>\n",
              "      <td>45</td>\n",
              "      <td>No</td>\n",
              "      <td>No phone service</td>\n",
              "      <td>DSL</td>\n",
              "      <td>Yes</td>\n",
              "      <td>No</td>\n",
              "      <td>Yes</td>\n",
              "      <td>Yes</td>\n",
              "      <td>No</td>\n",
              "      <td>No</td>\n",
              "      <td>One year</td>\n",
              "      <td>No</td>\n",
              "      <td>Bank transfer (automatic)</td>\n",
              "      <td>42.30</td>\n",
              "      <td>1840.75</td>\n",
              "      <td>No</td>\n",
              "    </tr>\n",
              "    <tr>\n",
              "      <th>4</th>\n",
              "      <td>9237-HQITU</td>\n",
              "      <td>Female</td>\n",
              "      <td>0</td>\n",
              "      <td>No</td>\n",
              "      <td>No</td>\n",
              "      <td>2</td>\n",
              "      <td>Yes</td>\n",
              "      <td>No</td>\n",
              "      <td>Fiber optic</td>\n",
              "      <td>No</td>\n",
              "      <td>No</td>\n",
              "      <td>No</td>\n",
              "      <td>No</td>\n",
              "      <td>No</td>\n",
              "      <td>No</td>\n",
              "      <td>Month-to-month</td>\n",
              "      <td>Yes</td>\n",
              "      <td>Electronic check</td>\n",
              "      <td>70.70</td>\n",
              "      <td>151.65</td>\n",
              "      <td>Yes</td>\n",
              "    </tr>\n",
              "  </tbody>\n",
              "</table>\n",
              "</div>"
            ],
            "text/plain": [
              "   customerID  gender  SeniorCitizen  ... MonthlyCharges TotalCharges  Churn\n",
              "0  7590-VHVEG  Female              0  ...          29.85        29.85     No\n",
              "1  5575-GNVDE    Male              0  ...          56.95      1889.50     No\n",
              "2  3668-QPYBK    Male              0  ...          53.85       108.15    Yes\n",
              "3  7795-CFOCW    Male              0  ...          42.30      1840.75     No\n",
              "4  9237-HQITU  Female              0  ...          70.70       151.65    Yes\n",
              "\n",
              "[5 rows x 21 columns]"
            ]
          },
          "metadata": {
            "tags": []
          },
          "execution_count": 3
        }
      ]
    },
    {
      "cell_type": "markdown",
      "metadata": {
        "id": "Cg3VKhtM-_rm"
      },
      "source": [
        "# Data Preparation"
      ]
    },
    {
      "cell_type": "code",
      "metadata": {
        "colab": {
          "base_uri": "https://localhost:8080/"
        },
        "id": "xAjsGQ5YkDi0",
        "outputId": "be1739b3-b2ef-4c43-af45-4f967bb039b5"
      },
      "source": [
        "pd.set_option('display.max_rows', 11000)\n",
        "data.nunique()    ## checking number of unique values of all columns"
      ],
      "execution_count": 4,
      "outputs": [
        {
          "output_type": "execute_result",
          "data": {
            "text/plain": [
              "customerID          7043\n",
              "gender                 2\n",
              "SeniorCitizen          2\n",
              "Partner                2\n",
              "Dependents             2\n",
              "tenure                73\n",
              "PhoneService           2\n",
              "MultipleLines          3\n",
              "InternetService        3\n",
              "OnlineSecurity         3\n",
              "OnlineBackup           3\n",
              "DeviceProtection       3\n",
              "TechSupport            3\n",
              "StreamingTV            3\n",
              "StreamingMovies        3\n",
              "Contract               3\n",
              "PaperlessBilling       2\n",
              "PaymentMethod          4\n",
              "MonthlyCharges      1585\n",
              "TotalCharges        6530\n",
              "Churn                  2\n",
              "dtype: int64"
            ]
          },
          "metadata": {
            "tags": []
          },
          "execution_count": 4
        }
      ]
    },
    {
      "cell_type": "code",
      "metadata": {
        "colab": {
          "base_uri": "https://localhost:8080/"
        },
        "id": "MhiTJbSOsvdO",
        "outputId": "e4f8f80e-a5dd-4275-ee77-16b1d25306bc"
      },
      "source": [
        "data['customerID'].duplicated().sum()  ## cheking for duplicate records"
      ],
      "execution_count": 5,
      "outputs": [
        {
          "output_type": "execute_result",
          "data": {
            "text/plain": [
              "0"
            ]
          },
          "metadata": {
            "tags": []
          },
          "execution_count": 5
        }
      ]
    },
    {
      "cell_type": "code",
      "metadata": {
        "id": "HdietbH2kGtk"
      },
      "source": [
        "data = data.drop(data[['customerID']], axis=1)             ## customerID is a nominal column and has no duplicate values so we can drop it"
      ],
      "execution_count": 6,
      "outputs": []
    },
    {
      "cell_type": "code",
      "metadata": {
        "colab": {
          "base_uri": "https://localhost:8080/",
          "height": 290
        },
        "id": "ABeapeaLk1aE",
        "outputId": "73d40266-8783-460c-b9ff-9ca9bb764f58"
      },
      "source": [
        "data.head()"
      ],
      "execution_count": 7,
      "outputs": [
        {
          "output_type": "execute_result",
          "data": {
            "text/html": [
              "<div>\n",
              "<style scoped>\n",
              "    .dataframe tbody tr th:only-of-type {\n",
              "        vertical-align: middle;\n",
              "    }\n",
              "\n",
              "    .dataframe tbody tr th {\n",
              "        vertical-align: top;\n",
              "    }\n",
              "\n",
              "    .dataframe thead th {\n",
              "        text-align: right;\n",
              "    }\n",
              "</style>\n",
              "<table border=\"1\" class=\"dataframe\">\n",
              "  <thead>\n",
              "    <tr style=\"text-align: right;\">\n",
              "      <th></th>\n",
              "      <th>gender</th>\n",
              "      <th>SeniorCitizen</th>\n",
              "      <th>Partner</th>\n",
              "      <th>Dependents</th>\n",
              "      <th>tenure</th>\n",
              "      <th>PhoneService</th>\n",
              "      <th>MultipleLines</th>\n",
              "      <th>InternetService</th>\n",
              "      <th>OnlineSecurity</th>\n",
              "      <th>OnlineBackup</th>\n",
              "      <th>DeviceProtection</th>\n",
              "      <th>TechSupport</th>\n",
              "      <th>StreamingTV</th>\n",
              "      <th>StreamingMovies</th>\n",
              "      <th>Contract</th>\n",
              "      <th>PaperlessBilling</th>\n",
              "      <th>PaymentMethod</th>\n",
              "      <th>MonthlyCharges</th>\n",
              "      <th>TotalCharges</th>\n",
              "      <th>Churn</th>\n",
              "    </tr>\n",
              "  </thead>\n",
              "  <tbody>\n",
              "    <tr>\n",
              "      <th>0</th>\n",
              "      <td>Female</td>\n",
              "      <td>0</td>\n",
              "      <td>Yes</td>\n",
              "      <td>No</td>\n",
              "      <td>1</td>\n",
              "      <td>No</td>\n",
              "      <td>No phone service</td>\n",
              "      <td>DSL</td>\n",
              "      <td>No</td>\n",
              "      <td>Yes</td>\n",
              "      <td>No</td>\n",
              "      <td>No</td>\n",
              "      <td>No</td>\n",
              "      <td>No</td>\n",
              "      <td>Month-to-month</td>\n",
              "      <td>Yes</td>\n",
              "      <td>Electronic check</td>\n",
              "      <td>29.85</td>\n",
              "      <td>29.85</td>\n",
              "      <td>No</td>\n",
              "    </tr>\n",
              "    <tr>\n",
              "      <th>1</th>\n",
              "      <td>Male</td>\n",
              "      <td>0</td>\n",
              "      <td>No</td>\n",
              "      <td>No</td>\n",
              "      <td>34</td>\n",
              "      <td>Yes</td>\n",
              "      <td>No</td>\n",
              "      <td>DSL</td>\n",
              "      <td>Yes</td>\n",
              "      <td>No</td>\n",
              "      <td>Yes</td>\n",
              "      <td>No</td>\n",
              "      <td>No</td>\n",
              "      <td>No</td>\n",
              "      <td>One year</td>\n",
              "      <td>No</td>\n",
              "      <td>Mailed check</td>\n",
              "      <td>56.95</td>\n",
              "      <td>1889.50</td>\n",
              "      <td>No</td>\n",
              "    </tr>\n",
              "    <tr>\n",
              "      <th>2</th>\n",
              "      <td>Male</td>\n",
              "      <td>0</td>\n",
              "      <td>No</td>\n",
              "      <td>No</td>\n",
              "      <td>2</td>\n",
              "      <td>Yes</td>\n",
              "      <td>No</td>\n",
              "      <td>DSL</td>\n",
              "      <td>Yes</td>\n",
              "      <td>Yes</td>\n",
              "      <td>No</td>\n",
              "      <td>No</td>\n",
              "      <td>No</td>\n",
              "      <td>No</td>\n",
              "      <td>Month-to-month</td>\n",
              "      <td>Yes</td>\n",
              "      <td>Mailed check</td>\n",
              "      <td>53.85</td>\n",
              "      <td>108.15</td>\n",
              "      <td>Yes</td>\n",
              "    </tr>\n",
              "    <tr>\n",
              "      <th>3</th>\n",
              "      <td>Male</td>\n",
              "      <td>0</td>\n",
              "      <td>No</td>\n",
              "      <td>No</td>\n",
              "      <td>45</td>\n",
              "      <td>No</td>\n",
              "      <td>No phone service</td>\n",
              "      <td>DSL</td>\n",
              "      <td>Yes</td>\n",
              "      <td>No</td>\n",
              "      <td>Yes</td>\n",
              "      <td>Yes</td>\n",
              "      <td>No</td>\n",
              "      <td>No</td>\n",
              "      <td>One year</td>\n",
              "      <td>No</td>\n",
              "      <td>Bank transfer (automatic)</td>\n",
              "      <td>42.30</td>\n",
              "      <td>1840.75</td>\n",
              "      <td>No</td>\n",
              "    </tr>\n",
              "    <tr>\n",
              "      <th>4</th>\n",
              "      <td>Female</td>\n",
              "      <td>0</td>\n",
              "      <td>No</td>\n",
              "      <td>No</td>\n",
              "      <td>2</td>\n",
              "      <td>Yes</td>\n",
              "      <td>No</td>\n",
              "      <td>Fiber optic</td>\n",
              "      <td>No</td>\n",
              "      <td>No</td>\n",
              "      <td>No</td>\n",
              "      <td>No</td>\n",
              "      <td>No</td>\n",
              "      <td>No</td>\n",
              "      <td>Month-to-month</td>\n",
              "      <td>Yes</td>\n",
              "      <td>Electronic check</td>\n",
              "      <td>70.70</td>\n",
              "      <td>151.65</td>\n",
              "      <td>Yes</td>\n",
              "    </tr>\n",
              "  </tbody>\n",
              "</table>\n",
              "</div>"
            ],
            "text/plain": [
              "   gender  SeniorCitizen Partner  ... MonthlyCharges  TotalCharges Churn\n",
              "0  Female              0     Yes  ...          29.85         29.85    No\n",
              "1    Male              0      No  ...          56.95       1889.50    No\n",
              "2    Male              0      No  ...          53.85        108.15   Yes\n",
              "3    Male              0      No  ...          42.30       1840.75    No\n",
              "4  Female              0      No  ...          70.70        151.65   Yes\n",
              "\n",
              "[5 rows x 20 columns]"
            ]
          },
          "metadata": {
            "tags": []
          },
          "execution_count": 7
        }
      ]
    },
    {
      "cell_type": "code",
      "metadata": {
        "colab": {
          "base_uri": "https://localhost:8080/"
        },
        "id": "79dXcXTzPg0l",
        "outputId": "0d516d8c-e8b3-4648-eccc-233219ea975b"
      },
      "source": [
        "data.dtypes"
      ],
      "execution_count": 8,
      "outputs": [
        {
          "output_type": "execute_result",
          "data": {
            "text/plain": [
              "gender               object\n",
              "SeniorCitizen         int64\n",
              "Partner              object\n",
              "Dependents           object\n",
              "tenure                int64\n",
              "PhoneService         object\n",
              "MultipleLines        object\n",
              "InternetService      object\n",
              "OnlineSecurity       object\n",
              "OnlineBackup         object\n",
              "DeviceProtection     object\n",
              "TechSupport          object\n",
              "StreamingTV          object\n",
              "StreamingMovies      object\n",
              "Contract             object\n",
              "PaperlessBilling     object\n",
              "PaymentMethod        object\n",
              "MonthlyCharges      float64\n",
              "TotalCharges        float64\n",
              "Churn                object\n",
              "dtype: object"
            ]
          },
          "metadata": {
            "tags": []
          },
          "execution_count": 8
        }
      ]
    },
    {
      "cell_type": "code",
      "metadata": {
        "colab": {
          "base_uri": "https://localhost:8080/"
        },
        "id": "wp6DMq18k7jU",
        "outputId": "cd2dd2c1-c578-47a1-cbf8-ae2bedb2d507"
      },
      "source": [
        "data.isnull().sum()    ## checking for null values in all columns"
      ],
      "execution_count": 9,
      "outputs": [
        {
          "output_type": "execute_result",
          "data": {
            "text/plain": [
              "gender               0\n",
              "SeniorCitizen        0\n",
              "Partner              0\n",
              "Dependents           0\n",
              "tenure               0\n",
              "PhoneService         0\n",
              "MultipleLines        0\n",
              "InternetService      0\n",
              "OnlineSecurity       0\n",
              "OnlineBackup         0\n",
              "DeviceProtection     0\n",
              "TechSupport          0\n",
              "StreamingTV          0\n",
              "StreamingMovies      0\n",
              "Contract             0\n",
              "PaperlessBilling     0\n",
              "PaymentMethod        0\n",
              "MonthlyCharges       0\n",
              "TotalCharges        11\n",
              "Churn                0\n",
              "dtype: int64"
            ]
          },
          "metadata": {
            "tags": []
          },
          "execution_count": 9
        }
      ]
    },
    {
      "cell_type": "code",
      "metadata": {
        "id": "4lNbriz5t_LU",
        "colab": {
          "base_uri": "https://localhost:8080/"
        },
        "outputId": "e7d8760d-c759-4a9e-eab8-bec97d0b64af"
      },
      "source": [
        "##***************** gender column *********************\n",
        "\n",
        "data['gender'].value_counts() "
      ],
      "execution_count": 10,
      "outputs": [
        {
          "output_type": "execute_result",
          "data": {
            "text/plain": [
              "Male      3555\n",
              "Female    3488\n",
              "Name: gender, dtype: int64"
            ]
          },
          "metadata": {
            "tags": []
          },
          "execution_count": 10
        }
      ]
    },
    {
      "cell_type": "code",
      "metadata": {
        "id": "AX6JGxpnzmpJ"
      },
      "source": [
        "## creating dummies ,deleting the column and merging dummies dataframe with main (data) dataframe\n",
        "\n",
        "dummiesgen = pd.get_dummies(data['gender'], prefix='gender')\n",
        "del data['gender']\n",
        "data = pd.concat([data,dummiesgen],axis=1)"
      ],
      "execution_count": 11,
      "outputs": []
    },
    {
      "cell_type": "code",
      "metadata": {
        "colab": {
          "base_uri": "https://localhost:8080/"
        },
        "id": "xcxoSbvelOOm",
        "outputId": "e64af62d-0a3a-4f88-d4f9-98c55e900ae5"
      },
      "source": [
        "## ************ Partner column *******************\n",
        "\n",
        "data['Partner'].value_counts()"
      ],
      "execution_count": 12,
      "outputs": [
        {
          "output_type": "execute_result",
          "data": {
            "text/plain": [
              "No     3641\n",
              "Yes    3402\n",
              "Name: Partner, dtype: int64"
            ]
          },
          "metadata": {
            "tags": []
          },
          "execution_count": 12
        }
      ]
    },
    {
      "cell_type": "code",
      "metadata": {
        "id": "1mTto5qFl82i"
      },
      "source": [
        "## creating dummies ,deleting the column and merging dummies dataframe with main (data) dataframe\n",
        "\n",
        "dummiesPartner = pd.get_dummies(data['Partner'], prefix='Partner')\n",
        "del data['Partner']\n",
        "data = pd.concat([data,dummiesPartner],axis=1)"
      ],
      "execution_count": 13,
      "outputs": []
    },
    {
      "cell_type": "code",
      "metadata": {
        "colab": {
          "base_uri": "https://localhost:8080/"
        },
        "id": "DZc_Dy-ZmxZU",
        "outputId": "b9290a53-747d-41cc-dcba-37fba107d170"
      },
      "source": [
        "## ***************** Dependents ********************\n",
        "\n",
        "data['Dependents'].value_counts()"
      ],
      "execution_count": 14,
      "outputs": [
        {
          "output_type": "execute_result",
          "data": {
            "text/plain": [
              "No     4933\n",
              "Yes    2110\n",
              "Name: Dependents, dtype: int64"
            ]
          },
          "metadata": {
            "tags": []
          },
          "execution_count": 14
        }
      ]
    },
    {
      "cell_type": "code",
      "metadata": {
        "id": "RBVdm64VnHAT"
      },
      "source": [
        "## creating dummies ,deleting the column and merging dummies dataframe with main (data) dataframe\n",
        "\n",
        "dummiesdep = pd.get_dummies(data['Dependents'], prefix='Dependents')\n",
        "del data['Dependents']\n",
        "data = pd.concat([data,dummiesdep],axis=1)"
      ],
      "execution_count": 15,
      "outputs": []
    },
    {
      "cell_type": "code",
      "metadata": {
        "colab": {
          "base_uri": "https://localhost:8080/"
        },
        "id": "Z5K6N-uroUDX",
        "outputId": "f9535012-48e4-4619-c900-938c67059d01"
      },
      "source": [
        "## ****************** PhoneService column *****************\n",
        "\n",
        "data['PhoneService'].value_counts()  "
      ],
      "execution_count": 16,
      "outputs": [
        {
          "output_type": "execute_result",
          "data": {
            "text/plain": [
              "Yes    6361\n",
              "No      682\n",
              "Name: PhoneService, dtype: int64"
            ]
          },
          "metadata": {
            "tags": []
          },
          "execution_count": 16
        }
      ]
    },
    {
      "cell_type": "code",
      "metadata": {
        "id": "K891sM_somuE"
      },
      "source": [
        "## creating dummies ,deleting the column and merging dummies dataframe with main (data) dataframe\n",
        "\n",
        "dummiesps = pd.get_dummies(data['PhoneService'], prefix='PhoneService')\n",
        "del data['PhoneService']\n",
        "data = pd.concat([data,dummiesps],axis=1)"
      ],
      "execution_count": 17,
      "outputs": []
    },
    {
      "cell_type": "code",
      "metadata": {
        "colab": {
          "base_uri": "https://localhost:8080/"
        },
        "id": "HaRbZC5Zo-0F",
        "outputId": "6ded371b-9053-4ab7-c95a-aeecd7c24325"
      },
      "source": [
        "##******************** MultipleLines column************************\n",
        "\n",
        "data['MultipleLines'].value_counts() "
      ],
      "execution_count": 18,
      "outputs": [
        {
          "output_type": "execute_result",
          "data": {
            "text/plain": [
              "No                  3390\n",
              "Yes                 2971\n",
              "No phone service     682\n",
              "Name: MultipleLines, dtype: int64"
            ]
          },
          "metadata": {
            "tags": []
          },
          "execution_count": 18
        }
      ]
    },
    {
      "cell_type": "code",
      "metadata": {
        "id": "JC8Bq6UzpW-r"
      },
      "source": [
        "dummiesml = pd.get_dummies(data['MultipleLines'], prefix='MultipleLines', drop_first=True)\n",
        "del data['MultipleLines']\n",
        "data = pd.concat([data,dummiesml],axis=1)"
      ],
      "execution_count": 19,
      "outputs": []
    },
    {
      "cell_type": "code",
      "metadata": {
        "colab": {
          "base_uri": "https://localhost:8080/"
        },
        "id": "fFSZrOM2rvjT",
        "outputId": "5328612a-6147-4a83-8d5c-66c8cf377164"
      },
      "source": [
        "##*********** InternetService column *********************\n",
        "\n",
        "data['InternetService'].value_counts()"
      ],
      "execution_count": 20,
      "outputs": [
        {
          "output_type": "execute_result",
          "data": {
            "text/plain": [
              "Fiber optic    3096\n",
              "DSL            2421\n",
              "No             1526\n",
              "Name: InternetService, dtype: int64"
            ]
          },
          "metadata": {
            "tags": []
          },
          "execution_count": 20
        }
      ]
    },
    {
      "cell_type": "code",
      "metadata": {
        "id": "jNe0E2tksQJ1"
      },
      "source": [
        "dummiesis = pd.get_dummies(data['InternetService'], prefix='InternetService',drop_first=True)\n",
        "del data['InternetService']\n",
        "data = pd.concat([data,dummiesis],axis=1)"
      ],
      "execution_count": 21,
      "outputs": []
    },
    {
      "cell_type": "code",
      "metadata": {
        "colab": {
          "base_uri": "https://localhost:8080/"
        },
        "id": "IJx3XTKJtAzh",
        "outputId": "0e31f14c-174e-41b8-9f2f-a58ad2a0f406"
      },
      "source": [
        "data.dtypes    ## checking data types"
      ],
      "execution_count": 22,
      "outputs": [
        {
          "output_type": "execute_result",
          "data": {
            "text/plain": [
              "SeniorCitizen                       int64\n",
              "tenure                              int64\n",
              "OnlineSecurity                     object\n",
              "OnlineBackup                       object\n",
              "DeviceProtection                   object\n",
              "TechSupport                        object\n",
              "StreamingTV                        object\n",
              "StreamingMovies                    object\n",
              "Contract                           object\n",
              "PaperlessBilling                   object\n",
              "PaymentMethod                      object\n",
              "MonthlyCharges                    float64\n",
              "TotalCharges                      float64\n",
              "Churn                              object\n",
              "gender_Female                       uint8\n",
              "gender_Male                         uint8\n",
              "Partner_No                          uint8\n",
              "Partner_Yes                         uint8\n",
              "Dependents_No                       uint8\n",
              "Dependents_Yes                      uint8\n",
              "PhoneService_No                     uint8\n",
              "PhoneService_Yes                    uint8\n",
              "MultipleLines_No phone service      uint8\n",
              "MultipleLines_Yes                   uint8\n",
              "InternetService_Fiber optic         uint8\n",
              "InternetService_No                  uint8\n",
              "dtype: object"
            ]
          },
          "metadata": {
            "tags": []
          },
          "execution_count": 22
        }
      ]
    },
    {
      "cell_type": "code",
      "metadata": {
        "colab": {
          "base_uri": "https://localhost:8080/"
        },
        "id": "ZcS1ouvJtFK3",
        "outputId": "2a969be1-535e-4978-a3ba-91fad9ac2412"
      },
      "source": [
        "##***********************OnlineSecurity  *********************\n",
        "\n",
        "data['OnlineSecurity'].value_counts() "
      ],
      "execution_count": 23,
      "outputs": [
        {
          "output_type": "execute_result",
          "data": {
            "text/plain": [
              "No                     3498\n",
              "Yes                    2019\n",
              "No internet service    1526\n",
              "Name: OnlineSecurity, dtype: int64"
            ]
          },
          "metadata": {
            "tags": []
          },
          "execution_count": 23
        }
      ]
    },
    {
      "cell_type": "code",
      "metadata": {
        "id": "Hip3wznOteic"
      },
      "source": [
        "## creating dummies ,deleting the column and merging dummies dataframe with main (data) dataframe\n",
        "\n",
        "dummiesos = pd.get_dummies(data['OnlineSecurity'], prefix='OnlineSecurity',drop_first=True)\n",
        "del data['OnlineSecurity']\n",
        "data = pd.concat([data,dummiesos],axis=1)"
      ],
      "execution_count": 24,
      "outputs": []
    },
    {
      "cell_type": "code",
      "metadata": {
        "colab": {
          "base_uri": "https://localhost:8080/"
        },
        "id": "RJhStkdrtnZD",
        "outputId": "b2ca9742-8d53-4285-aed4-05a4871dfb0c"
      },
      "source": [
        "##************************* OnlineBackup ***********************\n",
        "\n",
        "data['OnlineBackup'].value_counts() "
      ],
      "execution_count": 25,
      "outputs": [
        {
          "output_type": "execute_result",
          "data": {
            "text/plain": [
              "No                     3088\n",
              "Yes                    2429\n",
              "No internet service    1526\n",
              "Name: OnlineBackup, dtype: int64"
            ]
          },
          "metadata": {
            "tags": []
          },
          "execution_count": 25
        }
      ]
    },
    {
      "cell_type": "code",
      "metadata": {
        "id": "aZHskmUYtu0p"
      },
      "source": [
        "## creating dummies ,deleting the column and merging dummies dataframe with main (data) dataframe\n",
        "\n",
        "dummiesob = pd.get_dummies(data['OnlineBackup'], prefix='OnlineBackup',drop_first=True)\n",
        "del data['OnlineBackup']\n",
        "data = pd.concat([data,dummiesob],axis=1)"
      ],
      "execution_count": 26,
      "outputs": []
    },
    {
      "cell_type": "code",
      "metadata": {
        "colab": {
          "base_uri": "https://localhost:8080/"
        },
        "id": "P8Yr7vPot3vf",
        "outputId": "c11fa3da-cdd6-4e9c-c2d8-234551d00cd1"
      },
      "source": [
        "data.dtypes"
      ],
      "execution_count": 27,
      "outputs": [
        {
          "output_type": "execute_result",
          "data": {
            "text/plain": [
              "SeniorCitizen                           int64\n",
              "tenure                                  int64\n",
              "DeviceProtection                       object\n",
              "TechSupport                            object\n",
              "StreamingTV                            object\n",
              "StreamingMovies                        object\n",
              "Contract                               object\n",
              "PaperlessBilling                       object\n",
              "PaymentMethod                          object\n",
              "MonthlyCharges                        float64\n",
              "TotalCharges                          float64\n",
              "Churn                                  object\n",
              "gender_Female                           uint8\n",
              "gender_Male                             uint8\n",
              "Partner_No                              uint8\n",
              "Partner_Yes                             uint8\n",
              "Dependents_No                           uint8\n",
              "Dependents_Yes                          uint8\n",
              "PhoneService_No                         uint8\n",
              "PhoneService_Yes                        uint8\n",
              "MultipleLines_No phone service          uint8\n",
              "MultipleLines_Yes                       uint8\n",
              "InternetService_Fiber optic             uint8\n",
              "InternetService_No                      uint8\n",
              "OnlineSecurity_No internet service      uint8\n",
              "OnlineSecurity_Yes                      uint8\n",
              "OnlineBackup_No internet service        uint8\n",
              "OnlineBackup_Yes                        uint8\n",
              "dtype: object"
            ]
          },
          "metadata": {
            "tags": []
          },
          "execution_count": 27
        }
      ]
    },
    {
      "cell_type": "code",
      "metadata": {
        "colab": {
          "base_uri": "https://localhost:8080/"
        },
        "id": "HRxq6OYEzvfb",
        "outputId": "009e1679-2b80-437b-f91b-742cec526182"
      },
      "source": [
        "##*********************** DeviceProtection column *************************************\n",
        "\n",
        "data['DeviceProtection'].value_counts() "
      ],
      "execution_count": 28,
      "outputs": [
        {
          "output_type": "execute_result",
          "data": {
            "text/plain": [
              "No                     3095\n",
              "Yes                    2422\n",
              "No internet service    1526\n",
              "Name: DeviceProtection, dtype: int64"
            ]
          },
          "metadata": {
            "tags": []
          },
          "execution_count": 28
        }
      ]
    },
    {
      "cell_type": "code",
      "metadata": {
        "id": "DxiiZD6Mz1iU"
      },
      "source": [
        "## creating dummies ,deleting the column and merging dummies dataframe with main (data) dataframe\n",
        "\n",
        "dummiesdp = pd.get_dummies(data['DeviceProtection'], prefix='DeviceProtection',drop_first=True)\n",
        "del data['DeviceProtection']\n",
        "data = pd.concat([data,dummiesdp],axis=1)"
      ],
      "execution_count": 29,
      "outputs": []
    },
    {
      "cell_type": "code",
      "metadata": {
        "colab": {
          "base_uri": "https://localhost:8080/"
        },
        "id": "Sl49TVMA127P",
        "outputId": "b919af3f-ac75-487b-f431-621c3f29c14b"
      },
      "source": [
        "##******************* TechSupport column ***********************\n",
        "\n",
        "data['TechSupport'].value_counts() "
      ],
      "execution_count": 30,
      "outputs": [
        {
          "output_type": "execute_result",
          "data": {
            "text/plain": [
              "No                     3473\n",
              "Yes                    2044\n",
              "No internet service    1526\n",
              "Name: TechSupport, dtype: int64"
            ]
          },
          "metadata": {
            "tags": []
          },
          "execution_count": 30
        }
      ]
    },
    {
      "cell_type": "code",
      "metadata": {
        "id": "F-bGTQEf122n"
      },
      "source": [
        "## creating dummies ,deleting the column and merging dummies dataframe with main (data) dataframe\n",
        "\n",
        "dummiests = pd.get_dummies(data['TechSupport'], prefix='TechSupport',drop_first=True)\n",
        "del data['TechSupport']\n",
        "data = pd.concat([data,dummiests],axis=1)"
      ],
      "execution_count": 31,
      "outputs": []
    },
    {
      "cell_type": "code",
      "metadata": {
        "colab": {
          "base_uri": "https://localhost:8080/"
        },
        "id": "Ljazf3NNSqur",
        "outputId": "f9873433-5c62-4ec1-cea0-35823951b297"
      },
      "source": [
        "##******************* StreamingTV column ***********************\n",
        "\n",
        "data['StreamingTV'].value_counts() "
      ],
      "execution_count": 32,
      "outputs": [
        {
          "output_type": "execute_result",
          "data": {
            "text/plain": [
              "No                     2810\n",
              "Yes                    2707\n",
              "No internet service    1526\n",
              "Name: StreamingTV, dtype: int64"
            ]
          },
          "metadata": {
            "tags": []
          },
          "execution_count": 32
        }
      ]
    },
    {
      "cell_type": "code",
      "metadata": {
        "id": "6Msnx9QVSqut"
      },
      "source": [
        "## creating dummies ,deleting the column and merging dummies dataframe with main (data) dataframe\n",
        "\n",
        "dummiesstv = pd.get_dummies(data['StreamingTV'], prefix='StreamingTV',drop_first=True)\n",
        "del data['StreamingTV']\n",
        "data = pd.concat([data,dummiesstv],axis=1)"
      ],
      "execution_count": 33,
      "outputs": []
    },
    {
      "cell_type": "code",
      "metadata": {
        "colab": {
          "base_uri": "https://localhost:8080/"
        },
        "id": "J95zOLqoSsmB",
        "outputId": "7b52952e-e6f9-477e-c31c-92071efb16fa"
      },
      "source": [
        "##******************* StreamingMovies column ***********************\n",
        "\n",
        "data['StreamingMovies'].value_counts() "
      ],
      "execution_count": 34,
      "outputs": [
        {
          "output_type": "execute_result",
          "data": {
            "text/plain": [
              "No                     2785\n",
              "Yes                    2732\n",
              "No internet service    1526\n",
              "Name: StreamingMovies, dtype: int64"
            ]
          },
          "metadata": {
            "tags": []
          },
          "execution_count": 34
        }
      ]
    },
    {
      "cell_type": "code",
      "metadata": {
        "id": "VtqHLa01SsmC"
      },
      "source": [
        "## creating dummies ,deleting the column and merging dummies dataframe with main (data) dataframe\n",
        "\n",
        "dummiesms = pd.get_dummies(data['StreamingMovies'], prefix='StreamingMovies',drop_first=True)\n",
        "del data['StreamingMovies']\n",
        "data = pd.concat([data,dummiesms],axis=1)"
      ],
      "execution_count": 35,
      "outputs": []
    },
    {
      "cell_type": "code",
      "metadata": {
        "colab": {
          "base_uri": "https://localhost:8080/"
        },
        "id": "6M_1qlJnSulB",
        "outputId": "2963d756-5e17-444d-d9ae-28854a95d823"
      },
      "source": [
        "##******************* Contract column ***********************\n",
        "\n",
        "data['Contract'].value_counts() "
      ],
      "execution_count": 36,
      "outputs": [
        {
          "output_type": "execute_result",
          "data": {
            "text/plain": [
              "Month-to-month    3875\n",
              "Two year          1695\n",
              "One year          1473\n",
              "Name: Contract, dtype: int64"
            ]
          },
          "metadata": {
            "tags": []
          },
          "execution_count": 36
        }
      ]
    },
    {
      "cell_type": "code",
      "metadata": {
        "id": "tevB_LgySulC"
      },
      "source": [
        "## creating dummies ,deleting the column and merging dummies dataframe with main (data) dataframe\n",
        "\n",
        "dummiescon = pd.get_dummies(data['Contract'], prefix='Contract')\n",
        "del data['Contract']\n",
        "data = pd.concat([data,dummiescon],axis=1)"
      ],
      "execution_count": 37,
      "outputs": []
    },
    {
      "cell_type": "code",
      "metadata": {
        "colab": {
          "base_uri": "https://localhost:8080/"
        },
        "id": "TNCv0QgESwKo",
        "outputId": "51d15ede-29bd-4025-e567-1df2d2c95932"
      },
      "source": [
        "##******************* PaperlessBilling column ***********************\n",
        "\n",
        "data['PaperlessBilling'].value_counts() "
      ],
      "execution_count": 38,
      "outputs": [
        {
          "output_type": "execute_result",
          "data": {
            "text/plain": [
              "Yes    4171\n",
              "No     2872\n",
              "Name: PaperlessBilling, dtype: int64"
            ]
          },
          "metadata": {
            "tags": []
          },
          "execution_count": 38
        }
      ]
    },
    {
      "cell_type": "code",
      "metadata": {
        "id": "qhevXa6lSwKp"
      },
      "source": [
        "## creating dummies ,deleting the column and merging dummies dataframe with main (data) dataframe\n",
        "\n",
        "dummiespb = pd.get_dummies(data['PaperlessBilling'], prefix='PaperlessBilling')\n",
        "del data['PaperlessBilling']\n",
        "data = pd.concat([data,dummiespb],axis=1)"
      ],
      "execution_count": 39,
      "outputs": []
    },
    {
      "cell_type": "code",
      "metadata": {
        "colab": {
          "base_uri": "https://localhost:8080/"
        },
        "id": "JGQ5-JWdSxxO",
        "outputId": "4bf7d16a-0360-417c-cd7c-3bcb5df399e6"
      },
      "source": [
        "##******************* PaymentMethod column ***********************\n",
        "\n",
        "data['PaymentMethod'].value_counts() "
      ],
      "execution_count": 40,
      "outputs": [
        {
          "output_type": "execute_result",
          "data": {
            "text/plain": [
              "Electronic check             2365\n",
              "Mailed check                 1612\n",
              "Bank transfer (automatic)    1544\n",
              "Credit card (automatic)      1522\n",
              "Name: PaymentMethod, dtype: int64"
            ]
          },
          "metadata": {
            "tags": []
          },
          "execution_count": 40
        }
      ]
    },
    {
      "cell_type": "code",
      "metadata": {
        "id": "ZYeym9yvSxxP"
      },
      "source": [
        "## creating dummies ,deleting the column and merging dummies dataframe with main (data) dataframe\n",
        "\n",
        "dummiespmt = pd.get_dummies(data['PaymentMethod'], prefix='PaymentMethod',drop_first=True)\n",
        "del data['PaymentMethod']\n",
        "data = pd.concat([data,dummiespmt],axis=1)"
      ],
      "execution_count": 41,
      "outputs": []
    },
    {
      "cell_type": "code",
      "metadata": {
        "colab": {
          "base_uri": "https://localhost:8080/"
        },
        "id": "OPGa14itUK3h",
        "outputId": "19cfc0f2-ca3f-4cd1-fe4a-298cd34b27d1"
      },
      "source": [
        "##*************** TotalCharges column *****************************\n",
        "\n",
        "data['TotalCharges'].isnull().sum(), data['TotalCharges'].mean(), data['TotalCharges'].median()"
      ],
      "execution_count": 42,
      "outputs": [
        {
          "output_type": "execute_result",
          "data": {
            "text/plain": [
              "(11, 2283.3004408418697, 1397.475)"
            ]
          },
          "metadata": {
            "tags": []
          },
          "execution_count": 42
        }
      ]
    },
    {
      "cell_type": "code",
      "metadata": {
        "id": "PdCZdVhi0C-9"
      },
      "source": [
        "data['TotalCharges'] = data['TotalCharges'].fillna(data['TotalCharges'].median())"
      ],
      "execution_count": 43,
      "outputs": []
    },
    {
      "cell_type": "code",
      "metadata": {
        "id": "fY1fOK4N0lHa"
      },
      "source": [
        "## *************** married, vehicle_ownership, children, outcome colmns ******************************\n",
        "## importing labelencoder from sklearn library\n",
        "\n",
        "from sklearn.preprocessing import LabelEncoder\n",
        "le = LabelEncoder()"
      ],
      "execution_count": 44,
      "outputs": []
    },
    {
      "cell_type": "code",
      "metadata": {
        "id": "nHVFDvSD3HR6"
      },
      "source": [
        "## encoding boolean values as True as 1 and False as 0\n",
        "\n",
        "data['Churn'] = le.fit_transform(data['Churn'])  "
      ],
      "execution_count": 45,
      "outputs": []
    },
    {
      "cell_type": "code",
      "metadata": {
        "colab": {
          "base_uri": "https://localhost:8080/"
        },
        "id": "-4DP2KnV3goq",
        "outputId": "dd0c4e50-c1f7-4c86-b634-b2eba21ea273"
      },
      "source": [
        "data.dtypes, data.isnull().sum()"
      ],
      "execution_count": 46,
      "outputs": [
        {
          "output_type": "execute_result",
          "data": {
            "text/plain": [
              "(SeniorCitizen                              int64\n",
              " tenure                                     int64\n",
              " MonthlyCharges                           float64\n",
              " TotalCharges                             float64\n",
              " Churn                                      int64\n",
              " gender_Female                              uint8\n",
              " gender_Male                                uint8\n",
              " Partner_No                                 uint8\n",
              " Partner_Yes                                uint8\n",
              " Dependents_No                              uint8\n",
              " Dependents_Yes                             uint8\n",
              " PhoneService_No                            uint8\n",
              " PhoneService_Yes                           uint8\n",
              " MultipleLines_No phone service             uint8\n",
              " MultipleLines_Yes                          uint8\n",
              " InternetService_Fiber optic                uint8\n",
              " InternetService_No                         uint8\n",
              " OnlineSecurity_No internet service         uint8\n",
              " OnlineSecurity_Yes                         uint8\n",
              " OnlineBackup_No internet service           uint8\n",
              " OnlineBackup_Yes                           uint8\n",
              " DeviceProtection_No internet service       uint8\n",
              " DeviceProtection_Yes                       uint8\n",
              " TechSupport_No internet service            uint8\n",
              " TechSupport_Yes                            uint8\n",
              " StreamingTV_No internet service            uint8\n",
              " StreamingTV_Yes                            uint8\n",
              " StreamingMovies_No internet service        uint8\n",
              " StreamingMovies_Yes                        uint8\n",
              " Contract_Month-to-month                    uint8\n",
              " Contract_One year                          uint8\n",
              " Contract_Two year                          uint8\n",
              " PaperlessBilling_No                        uint8\n",
              " PaperlessBilling_Yes                       uint8\n",
              " PaymentMethod_Credit card (automatic)      uint8\n",
              " PaymentMethod_Electronic check             uint8\n",
              " PaymentMethod_Mailed check                 uint8\n",
              " dtype: object, SeniorCitizen                            0\n",
              " tenure                                   0\n",
              " MonthlyCharges                           0\n",
              " TotalCharges                             0\n",
              " Churn                                    0\n",
              " gender_Female                            0\n",
              " gender_Male                              0\n",
              " Partner_No                               0\n",
              " Partner_Yes                              0\n",
              " Dependents_No                            0\n",
              " Dependents_Yes                           0\n",
              " PhoneService_No                          0\n",
              " PhoneService_Yes                         0\n",
              " MultipleLines_No phone service           0\n",
              " MultipleLines_Yes                        0\n",
              " InternetService_Fiber optic              0\n",
              " InternetService_No                       0\n",
              " OnlineSecurity_No internet service       0\n",
              " OnlineSecurity_Yes                       0\n",
              " OnlineBackup_No internet service         0\n",
              " OnlineBackup_Yes                         0\n",
              " DeviceProtection_No internet service     0\n",
              " DeviceProtection_Yes                     0\n",
              " TechSupport_No internet service          0\n",
              " TechSupport_Yes                          0\n",
              " StreamingTV_No internet service          0\n",
              " StreamingTV_Yes                          0\n",
              " StreamingMovies_No internet service      0\n",
              " StreamingMovies_Yes                      0\n",
              " Contract_Month-to-month                  0\n",
              " Contract_One year                        0\n",
              " Contract_Two year                        0\n",
              " PaperlessBilling_No                      0\n",
              " PaperlessBilling_Yes                     0\n",
              " PaymentMethod_Credit card (automatic)    0\n",
              " PaymentMethod_Electronic check           0\n",
              " PaymentMethod_Mailed check               0\n",
              " dtype: int64)"
            ]
          },
          "metadata": {
            "tags": []
          },
          "execution_count": 46
        }
      ]
    },
    {
      "cell_type": "code",
      "metadata": {
        "colab": {
          "base_uri": "https://localhost:8080/",
          "height": 1000
        },
        "id": "d1S9EcYqgaBn",
        "outputId": "8dd454d4-7977-463e-f327-79dec4bcb250"
      },
      "source": [
        "data.corr()  ## checking correlation"
      ],
      "execution_count": 47,
      "outputs": [
        {
          "output_type": "execute_result",
          "data": {
            "text/html": [
              "<div>\n",
              "<style scoped>\n",
              "    .dataframe tbody tr th:only-of-type {\n",
              "        vertical-align: middle;\n",
              "    }\n",
              "\n",
              "    .dataframe tbody tr th {\n",
              "        vertical-align: top;\n",
              "    }\n",
              "\n",
              "    .dataframe thead th {\n",
              "        text-align: right;\n",
              "    }\n",
              "</style>\n",
              "<table border=\"1\" class=\"dataframe\">\n",
              "  <thead>\n",
              "    <tr style=\"text-align: right;\">\n",
              "      <th></th>\n",
              "      <th>SeniorCitizen</th>\n",
              "      <th>tenure</th>\n",
              "      <th>MonthlyCharges</th>\n",
              "      <th>TotalCharges</th>\n",
              "      <th>Churn</th>\n",
              "      <th>gender_Female</th>\n",
              "      <th>gender_Male</th>\n",
              "      <th>Partner_No</th>\n",
              "      <th>Partner_Yes</th>\n",
              "      <th>Dependents_No</th>\n",
              "      <th>Dependents_Yes</th>\n",
              "      <th>PhoneService_No</th>\n",
              "      <th>PhoneService_Yes</th>\n",
              "      <th>MultipleLines_No phone service</th>\n",
              "      <th>MultipleLines_Yes</th>\n",
              "      <th>InternetService_Fiber optic</th>\n",
              "      <th>InternetService_No</th>\n",
              "      <th>OnlineSecurity_No internet service</th>\n",
              "      <th>OnlineSecurity_Yes</th>\n",
              "      <th>OnlineBackup_No internet service</th>\n",
              "      <th>OnlineBackup_Yes</th>\n",
              "      <th>DeviceProtection_No internet service</th>\n",
              "      <th>DeviceProtection_Yes</th>\n",
              "      <th>TechSupport_No internet service</th>\n",
              "      <th>TechSupport_Yes</th>\n",
              "      <th>StreamingTV_No internet service</th>\n",
              "      <th>StreamingTV_Yes</th>\n",
              "      <th>StreamingMovies_No internet service</th>\n",
              "      <th>StreamingMovies_Yes</th>\n",
              "      <th>Contract_Month-to-month</th>\n",
              "      <th>Contract_One year</th>\n",
              "      <th>Contract_Two year</th>\n",
              "      <th>PaperlessBilling_No</th>\n",
              "      <th>PaperlessBilling_Yes</th>\n",
              "      <th>PaymentMethod_Credit card (automatic)</th>\n",
              "      <th>PaymentMethod_Electronic check</th>\n",
              "      <th>PaymentMethod_Mailed check</th>\n",
              "    </tr>\n",
              "  </thead>\n",
              "  <tbody>\n",
              "    <tr>\n",
              "      <th>SeniorCitizen</th>\n",
              "      <td>1.000000</td>\n",
              "      <td>0.016567</td>\n",
              "      <td>0.220173</td>\n",
              "      <td>0.102652</td>\n",
              "      <td>0.150889</td>\n",
              "      <td>0.001874</td>\n",
              "      <td>-0.001874</td>\n",
              "      <td>-0.016479</td>\n",
              "      <td>0.016479</td>\n",
              "      <td>0.211185</td>\n",
              "      <td>-0.211185</td>\n",
              "      <td>-0.008576</td>\n",
              "      <td>0.008576</td>\n",
              "      <td>-0.008576</td>\n",
              "      <td>0.142948</td>\n",
              "      <td>0.255338</td>\n",
              "      <td>-0.182742</td>\n",
              "      <td>-0.182742</td>\n",
              "      <td>-0.038653</td>\n",
              "      <td>-0.182742</td>\n",
              "      <td>0.066572</td>\n",
              "      <td>-0.182742</td>\n",
              "      <td>0.059428</td>\n",
              "      <td>-0.182742</td>\n",
              "      <td>-0.060625</td>\n",
              "      <td>-0.182742</td>\n",
              "      <td>0.105378</td>\n",
              "      <td>-0.182742</td>\n",
              "      <td>0.120176</td>\n",
              "      <td>0.138360</td>\n",
              "      <td>-0.046262</td>\n",
              "      <td>-0.117000</td>\n",
              "      <td>-0.156530</td>\n",
              "      <td>0.156530</td>\n",
              "      <td>-0.024135</td>\n",
              "      <td>0.171718</td>\n",
              "      <td>-0.153477</td>\n",
              "    </tr>\n",
              "    <tr>\n",
              "      <th>tenure</th>\n",
              "      <td>0.016567</td>\n",
              "      <td>1.000000</td>\n",
              "      <td>0.247900</td>\n",
              "      <td>0.825464</td>\n",
              "      <td>-0.352229</td>\n",
              "      <td>-0.005106</td>\n",
              "      <td>0.005106</td>\n",
              "      <td>-0.379697</td>\n",
              "      <td>0.379697</td>\n",
              "      <td>-0.159712</td>\n",
              "      <td>0.159712</td>\n",
              "      <td>-0.008448</td>\n",
              "      <td>0.008448</td>\n",
              "      <td>-0.008448</td>\n",
              "      <td>0.331941</td>\n",
              "      <td>0.019720</td>\n",
              "      <td>-0.039062</td>\n",
              "      <td>-0.039062</td>\n",
              "      <td>0.327203</td>\n",
              "      <td>-0.039062</td>\n",
              "      <td>0.360277</td>\n",
              "      <td>-0.039062</td>\n",
              "      <td>0.360653</td>\n",
              "      <td>-0.039062</td>\n",
              "      <td>0.324221</td>\n",
              "      <td>-0.039062</td>\n",
              "      <td>0.279756</td>\n",
              "      <td>-0.039062</td>\n",
              "      <td>0.286111</td>\n",
              "      <td>-0.645561</td>\n",
              "      <td>0.202570</td>\n",
              "      <td>0.558533</td>\n",
              "      <td>-0.006152</td>\n",
              "      <td>0.006152</td>\n",
              "      <td>0.233006</td>\n",
              "      <td>-0.208363</td>\n",
              "      <td>-0.233852</td>\n",
              "    </tr>\n",
              "    <tr>\n",
              "      <th>MonthlyCharges</th>\n",
              "      <td>0.220173</td>\n",
              "      <td>0.247900</td>\n",
              "      <td>1.000000</td>\n",
              "      <td>0.650864</td>\n",
              "      <td>0.193356</td>\n",
              "      <td>0.014569</td>\n",
              "      <td>-0.014569</td>\n",
              "      <td>-0.096848</td>\n",
              "      <td>0.096848</td>\n",
              "      <td>0.113890</td>\n",
              "      <td>-0.113890</td>\n",
              "      <td>-0.247398</td>\n",
              "      <td>0.247398</td>\n",
              "      <td>-0.247398</td>\n",
              "      <td>0.490434</td>\n",
              "      <td>0.787066</td>\n",
              "      <td>-0.763557</td>\n",
              "      <td>-0.763557</td>\n",
              "      <td>0.296594</td>\n",
              "      <td>-0.763557</td>\n",
              "      <td>0.441780</td>\n",
              "      <td>-0.763557</td>\n",
              "      <td>0.482692</td>\n",
              "      <td>-0.763557</td>\n",
              "      <td>0.338304</td>\n",
              "      <td>-0.763557</td>\n",
              "      <td>0.629603</td>\n",
              "      <td>-0.763557</td>\n",
              "      <td>0.627429</td>\n",
              "      <td>0.060165</td>\n",
              "      <td>0.004904</td>\n",
              "      <td>-0.074681</td>\n",
              "      <td>-0.352150</td>\n",
              "      <td>0.352150</td>\n",
              "      <td>0.030550</td>\n",
              "      <td>0.271625</td>\n",
              "      <td>-0.377437</td>\n",
              "    </tr>\n",
              "    <tr>\n",
              "      <th>TotalCharges</th>\n",
              "      <td>0.102652</td>\n",
              "      <td>0.825464</td>\n",
              "      <td>0.650864</td>\n",
              "      <td>1.000000</td>\n",
              "      <td>-0.199037</td>\n",
              "      <td>0.000002</td>\n",
              "      <td>-0.000002</td>\n",
              "      <td>-0.318364</td>\n",
              "      <td>0.318364</td>\n",
              "      <td>-0.063593</td>\n",
              "      <td>0.063593</td>\n",
              "      <td>-0.113013</td>\n",
              "      <td>0.113013</td>\n",
              "      <td>-0.113013</td>\n",
              "      <td>0.468705</td>\n",
              "      <td>0.361045</td>\n",
              "      <td>-0.374706</td>\n",
              "      <td>-0.374706</td>\n",
              "      <td>0.412091</td>\n",
              "      <td>-0.374706</td>\n",
              "      <td>0.509607</td>\n",
              "      <td>-0.374706</td>\n",
              "      <td>0.522374</td>\n",
              "      <td>-0.374706</td>\n",
              "      <td>0.432329</td>\n",
              "      <td>-0.374706</td>\n",
              "      <td>0.515279</td>\n",
              "      <td>-0.374706</td>\n",
              "      <td>0.519884</td>\n",
              "      <td>-0.445619</td>\n",
              "      <td>0.170649</td>\n",
              "      <td>0.356226</td>\n",
              "      <td>-0.158055</td>\n",
              "      <td>0.158055</td>\n",
              "      <td>0.182745</td>\n",
              "      <td>-0.059971</td>\n",
              "      <td>-0.294814</td>\n",
              "    </tr>\n",
              "    <tr>\n",
              "      <th>Churn</th>\n",
              "      <td>0.150889</td>\n",
              "      <td>-0.352229</td>\n",
              "      <td>0.193356</td>\n",
              "      <td>-0.199037</td>\n",
              "      <td>1.000000</td>\n",
              "      <td>0.008612</td>\n",
              "      <td>-0.008612</td>\n",
              "      <td>0.150448</td>\n",
              "      <td>-0.150448</td>\n",
              "      <td>0.164221</td>\n",
              "      <td>-0.164221</td>\n",
              "      <td>-0.011942</td>\n",
              "      <td>0.011942</td>\n",
              "      <td>-0.011942</td>\n",
              "      <td>0.040102</td>\n",
              "      <td>0.308020</td>\n",
              "      <td>-0.227890</td>\n",
              "      <td>-0.227890</td>\n",
              "      <td>-0.171226</td>\n",
              "      <td>-0.227890</td>\n",
              "      <td>-0.082255</td>\n",
              "      <td>-0.227890</td>\n",
              "      <td>-0.066160</td>\n",
              "      <td>-0.227890</td>\n",
              "      <td>-0.164674</td>\n",
              "      <td>-0.227890</td>\n",
              "      <td>0.063228</td>\n",
              "      <td>-0.227890</td>\n",
              "      <td>0.061382</td>\n",
              "      <td>0.405103</td>\n",
              "      <td>-0.177820</td>\n",
              "      <td>-0.302253</td>\n",
              "      <td>-0.191825</td>\n",
              "      <td>0.191825</td>\n",
              "      <td>-0.134302</td>\n",
              "      <td>0.301919</td>\n",
              "      <td>-0.091683</td>\n",
              "    </tr>\n",
              "    <tr>\n",
              "      <th>gender_Female</th>\n",
              "      <td>0.001874</td>\n",
              "      <td>-0.005106</td>\n",
              "      <td>0.014569</td>\n",
              "      <td>0.000002</td>\n",
              "      <td>0.008612</td>\n",
              "      <td>1.000000</td>\n",
              "      <td>-1.000000</td>\n",
              "      <td>-0.001808</td>\n",
              "      <td>0.001808</td>\n",
              "      <td>0.010517</td>\n",
              "      <td>-0.010517</td>\n",
              "      <td>-0.006488</td>\n",
              "      <td>0.006488</td>\n",
              "      <td>-0.006488</td>\n",
              "      <td>0.008414</td>\n",
              "      <td>0.011286</td>\n",
              "      <td>-0.006026</td>\n",
              "      <td>-0.006026</td>\n",
              "      <td>0.017021</td>\n",
              "      <td>-0.006026</td>\n",
              "      <td>0.013773</td>\n",
              "      <td>-0.006026</td>\n",
              "      <td>0.002105</td>\n",
              "      <td>-0.006026</td>\n",
              "      <td>0.009212</td>\n",
              "      <td>-0.006026</td>\n",
              "      <td>0.008393</td>\n",
              "      <td>-0.006026</td>\n",
              "      <td>0.010487</td>\n",
              "      <td>0.003386</td>\n",
              "      <td>-0.008026</td>\n",
              "      <td>0.003695</td>\n",
              "      <td>-0.011754</td>\n",
              "      <td>0.011754</td>\n",
              "      <td>-0.001215</td>\n",
              "      <td>-0.000752</td>\n",
              "      <td>-0.013744</td>\n",
              "    </tr>\n",
              "    <tr>\n",
              "      <th>gender_Male</th>\n",
              "      <td>-0.001874</td>\n",
              "      <td>0.005106</td>\n",
              "      <td>-0.014569</td>\n",
              "      <td>-0.000002</td>\n",
              "      <td>-0.008612</td>\n",
              "      <td>-1.000000</td>\n",
              "      <td>1.000000</td>\n",
              "      <td>0.001808</td>\n",
              "      <td>-0.001808</td>\n",
              "      <td>-0.010517</td>\n",
              "      <td>0.010517</td>\n",
              "      <td>0.006488</td>\n",
              "      <td>-0.006488</td>\n",
              "      <td>0.006488</td>\n",
              "      <td>-0.008414</td>\n",
              "      <td>-0.011286</td>\n",
              "      <td>0.006026</td>\n",
              "      <td>0.006026</td>\n",
              "      <td>-0.017021</td>\n",
              "      <td>0.006026</td>\n",
              "      <td>-0.013773</td>\n",
              "      <td>0.006026</td>\n",
              "      <td>-0.002105</td>\n",
              "      <td>0.006026</td>\n",
              "      <td>-0.009212</td>\n",
              "      <td>0.006026</td>\n",
              "      <td>-0.008393</td>\n",
              "      <td>0.006026</td>\n",
              "      <td>-0.010487</td>\n",
              "      <td>-0.003386</td>\n",
              "      <td>0.008026</td>\n",
              "      <td>-0.003695</td>\n",
              "      <td>0.011754</td>\n",
              "      <td>-0.011754</td>\n",
              "      <td>0.001215</td>\n",
              "      <td>0.000752</td>\n",
              "      <td>0.013744</td>\n",
              "    </tr>\n",
              "    <tr>\n",
              "      <th>Partner_No</th>\n",
              "      <td>-0.016479</td>\n",
              "      <td>-0.379697</td>\n",
              "      <td>-0.096848</td>\n",
              "      <td>-0.318364</td>\n",
              "      <td>0.150448</td>\n",
              "      <td>-0.001808</td>\n",
              "      <td>0.001808</td>\n",
              "      <td>1.000000</td>\n",
              "      <td>-1.000000</td>\n",
              "      <td>0.452676</td>\n",
              "      <td>-0.452676</td>\n",
              "      <td>0.017706</td>\n",
              "      <td>-0.017706</td>\n",
              "      <td>0.017706</td>\n",
              "      <td>-0.142057</td>\n",
              "      <td>-0.000304</td>\n",
              "      <td>-0.000615</td>\n",
              "      <td>-0.000615</td>\n",
              "      <td>-0.143106</td>\n",
              "      <td>-0.000615</td>\n",
              "      <td>-0.141498</td>\n",
              "      <td>-0.000615</td>\n",
              "      <td>-0.153786</td>\n",
              "      <td>-0.000615</td>\n",
              "      <td>-0.119999</td>\n",
              "      <td>-0.000615</td>\n",
              "      <td>-0.124666</td>\n",
              "      <td>-0.000615</td>\n",
              "      <td>-0.117412</td>\n",
              "      <td>0.280865</td>\n",
              "      <td>-0.082783</td>\n",
              "      <td>-0.248091</td>\n",
              "      <td>-0.014877</td>\n",
              "      <td>0.014877</td>\n",
              "      <td>-0.082029</td>\n",
              "      <td>0.083852</td>\n",
              "      <td>0.095125</td>\n",
              "    </tr>\n",
              "    <tr>\n",
              "      <th>Partner_Yes</th>\n",
              "      <td>0.016479</td>\n",
              "      <td>0.379697</td>\n",
              "      <td>0.096848</td>\n",
              "      <td>0.318364</td>\n",
              "      <td>-0.150448</td>\n",
              "      <td>0.001808</td>\n",
              "      <td>-0.001808</td>\n",
              "      <td>-1.000000</td>\n",
              "      <td>1.000000</td>\n",
              "      <td>-0.452676</td>\n",
              "      <td>0.452676</td>\n",
              "      <td>-0.017706</td>\n",
              "      <td>0.017706</td>\n",
              "      <td>-0.017706</td>\n",
              "      <td>0.142057</td>\n",
              "      <td>0.000304</td>\n",
              "      <td>0.000615</td>\n",
              "      <td>0.000615</td>\n",
              "      <td>0.143106</td>\n",
              "      <td>0.000615</td>\n",
              "      <td>0.141498</td>\n",
              "      <td>0.000615</td>\n",
              "      <td>0.153786</td>\n",
              "      <td>0.000615</td>\n",
              "      <td>0.119999</td>\n",
              "      <td>0.000615</td>\n",
              "      <td>0.124666</td>\n",
              "      <td>0.000615</td>\n",
              "      <td>0.117412</td>\n",
              "      <td>-0.280865</td>\n",
              "      <td>0.082783</td>\n",
              "      <td>0.248091</td>\n",
              "      <td>0.014877</td>\n",
              "      <td>-0.014877</td>\n",
              "      <td>0.082029</td>\n",
              "      <td>-0.083852</td>\n",
              "      <td>-0.095125</td>\n",
              "    </tr>\n",
              "    <tr>\n",
              "      <th>Dependents_No</th>\n",
              "      <td>0.211185</td>\n",
              "      <td>-0.159712</td>\n",
              "      <td>0.113890</td>\n",
              "      <td>-0.063593</td>\n",
              "      <td>0.164221</td>\n",
              "      <td>0.010517</td>\n",
              "      <td>-0.010517</td>\n",
              "      <td>0.452676</td>\n",
              "      <td>-0.452676</td>\n",
              "      <td>1.000000</td>\n",
              "      <td>-1.000000</td>\n",
              "      <td>-0.001762</td>\n",
              "      <td>0.001762</td>\n",
              "      <td>-0.001762</td>\n",
              "      <td>0.024526</td>\n",
              "      <td>0.165818</td>\n",
              "      <td>-0.139812</td>\n",
              "      <td>-0.139812</td>\n",
              "      <td>-0.080972</td>\n",
              "      <td>-0.139812</td>\n",
              "      <td>-0.023671</td>\n",
              "      <td>-0.139812</td>\n",
              "      <td>-0.013963</td>\n",
              "      <td>-0.139812</td>\n",
              "      <td>-0.063268</td>\n",
              "      <td>-0.139812</td>\n",
              "      <td>0.016558</td>\n",
              "      <td>-0.139812</td>\n",
              "      <td>0.039741</td>\n",
              "      <td>0.231720</td>\n",
              "      <td>-0.068368</td>\n",
              "      <td>-0.204613</td>\n",
              "      <td>-0.111377</td>\n",
              "      <td>0.111377</td>\n",
              "      <td>-0.060267</td>\n",
              "      <td>0.150642</td>\n",
              "      <td>-0.059071</td>\n",
              "    </tr>\n",
              "    <tr>\n",
              "      <th>Dependents_Yes</th>\n",
              "      <td>-0.211185</td>\n",
              "      <td>0.159712</td>\n",
              "      <td>-0.113890</td>\n",
              "      <td>0.063593</td>\n",
              "      <td>-0.164221</td>\n",
              "      <td>-0.010517</td>\n",
              "      <td>0.010517</td>\n",
              "      <td>-0.452676</td>\n",
              "      <td>0.452676</td>\n",
              "      <td>-1.000000</td>\n",
              "      <td>1.000000</td>\n",
              "      <td>0.001762</td>\n",
              "      <td>-0.001762</td>\n",
              "      <td>0.001762</td>\n",
              "      <td>-0.024526</td>\n",
              "      <td>-0.165818</td>\n",
              "      <td>0.139812</td>\n",
              "      <td>0.139812</td>\n",
              "      <td>0.080972</td>\n",
              "      <td>0.139812</td>\n",
              "      <td>0.023671</td>\n",
              "      <td>0.139812</td>\n",
              "      <td>0.013963</td>\n",
              "      <td>0.139812</td>\n",
              "      <td>0.063268</td>\n",
              "      <td>0.139812</td>\n",
              "      <td>-0.016558</td>\n",
              "      <td>0.139812</td>\n",
              "      <td>-0.039741</td>\n",
              "      <td>-0.231720</td>\n",
              "      <td>0.068368</td>\n",
              "      <td>0.204613</td>\n",
              "      <td>0.111377</td>\n",
              "      <td>-0.111377</td>\n",
              "      <td>0.060267</td>\n",
              "      <td>-0.150642</td>\n",
              "      <td>0.059071</td>\n",
              "    </tr>\n",
              "    <tr>\n",
              "      <th>PhoneService_No</th>\n",
              "      <td>-0.008576</td>\n",
              "      <td>-0.008448</td>\n",
              "      <td>-0.247398</td>\n",
              "      <td>-0.113013</td>\n",
              "      <td>-0.011942</td>\n",
              "      <td>-0.006488</td>\n",
              "      <td>0.006488</td>\n",
              "      <td>0.017706</td>\n",
              "      <td>-0.017706</td>\n",
              "      <td>-0.001762</td>\n",
              "      <td>0.001762</td>\n",
              "      <td>1.000000</td>\n",
              "      <td>-1.000000</td>\n",
              "      <td>1.000000</td>\n",
              "      <td>-0.279690</td>\n",
              "      <td>-0.289999</td>\n",
              "      <td>-0.172209</td>\n",
              "      <td>-0.172209</td>\n",
              "      <td>0.092893</td>\n",
              "      <td>-0.172209</td>\n",
              "      <td>0.052312</td>\n",
              "      <td>-0.172209</td>\n",
              "      <td>0.071227</td>\n",
              "      <td>-0.172209</td>\n",
              "      <td>0.096340</td>\n",
              "      <td>-0.172209</td>\n",
              "      <td>0.022574</td>\n",
              "      <td>-0.172209</td>\n",
              "      <td>0.032959</td>\n",
              "      <td>0.000742</td>\n",
              "      <td>0.002791</td>\n",
              "      <td>-0.003519</td>\n",
              "      <td>0.016505</td>\n",
              "      <td>-0.016505</td>\n",
              "      <td>0.007721</td>\n",
              "      <td>-0.003062</td>\n",
              "      <td>0.003319</td>\n",
              "    </tr>\n",
              "    <tr>\n",
              "      <th>PhoneService_Yes</th>\n",
              "      <td>0.008576</td>\n",
              "      <td>0.008448</td>\n",
              "      <td>0.247398</td>\n",
              "      <td>0.113013</td>\n",
              "      <td>0.011942</td>\n",
              "      <td>0.006488</td>\n",
              "      <td>-0.006488</td>\n",
              "      <td>-0.017706</td>\n",
              "      <td>0.017706</td>\n",
              "      <td>0.001762</td>\n",
              "      <td>-0.001762</td>\n",
              "      <td>-1.000000</td>\n",
              "      <td>1.000000</td>\n",
              "      <td>-1.000000</td>\n",
              "      <td>0.279690</td>\n",
              "      <td>0.289999</td>\n",
              "      <td>0.172209</td>\n",
              "      <td>0.172209</td>\n",
              "      <td>-0.092893</td>\n",
              "      <td>0.172209</td>\n",
              "      <td>-0.052312</td>\n",
              "      <td>0.172209</td>\n",
              "      <td>-0.071227</td>\n",
              "      <td>0.172209</td>\n",
              "      <td>-0.096340</td>\n",
              "      <td>0.172209</td>\n",
              "      <td>-0.022574</td>\n",
              "      <td>0.172209</td>\n",
              "      <td>-0.032959</td>\n",
              "      <td>-0.000742</td>\n",
              "      <td>-0.002791</td>\n",
              "      <td>0.003519</td>\n",
              "      <td>-0.016505</td>\n",
              "      <td>0.016505</td>\n",
              "      <td>-0.007721</td>\n",
              "      <td>0.003062</td>\n",
              "      <td>-0.003319</td>\n",
              "    </tr>\n",
              "    <tr>\n",
              "      <th>MultipleLines_No phone service</th>\n",
              "      <td>-0.008576</td>\n",
              "      <td>-0.008448</td>\n",
              "      <td>-0.247398</td>\n",
              "      <td>-0.113013</td>\n",
              "      <td>-0.011942</td>\n",
              "      <td>-0.006488</td>\n",
              "      <td>0.006488</td>\n",
              "      <td>0.017706</td>\n",
              "      <td>-0.017706</td>\n",
              "      <td>-0.001762</td>\n",
              "      <td>0.001762</td>\n",
              "      <td>1.000000</td>\n",
              "      <td>-1.000000</td>\n",
              "      <td>1.000000</td>\n",
              "      <td>-0.279690</td>\n",
              "      <td>-0.289999</td>\n",
              "      <td>-0.172209</td>\n",
              "      <td>-0.172209</td>\n",
              "      <td>0.092893</td>\n",
              "      <td>-0.172209</td>\n",
              "      <td>0.052312</td>\n",
              "      <td>-0.172209</td>\n",
              "      <td>0.071227</td>\n",
              "      <td>-0.172209</td>\n",
              "      <td>0.096340</td>\n",
              "      <td>-0.172209</td>\n",
              "      <td>0.022574</td>\n",
              "      <td>-0.172209</td>\n",
              "      <td>0.032959</td>\n",
              "      <td>0.000742</td>\n",
              "      <td>0.002791</td>\n",
              "      <td>-0.003519</td>\n",
              "      <td>0.016505</td>\n",
              "      <td>-0.016505</td>\n",
              "      <td>0.007721</td>\n",
              "      <td>-0.003062</td>\n",
              "      <td>0.003319</td>\n",
              "    </tr>\n",
              "    <tr>\n",
              "      <th>MultipleLines_Yes</th>\n",
              "      <td>0.142948</td>\n",
              "      <td>0.331941</td>\n",
              "      <td>0.490434</td>\n",
              "      <td>0.468705</td>\n",
              "      <td>0.040102</td>\n",
              "      <td>0.008414</td>\n",
              "      <td>-0.008414</td>\n",
              "      <td>-0.142057</td>\n",
              "      <td>0.142057</td>\n",
              "      <td>0.024526</td>\n",
              "      <td>-0.024526</td>\n",
              "      <td>-0.279690</td>\n",
              "      <td>0.279690</td>\n",
              "      <td>-0.279690</td>\n",
              "      <td>1.000000</td>\n",
              "      <td>0.366083</td>\n",
              "      <td>-0.210564</td>\n",
              "      <td>-0.210564</td>\n",
              "      <td>0.098108</td>\n",
              "      <td>-0.210564</td>\n",
              "      <td>0.202237</td>\n",
              "      <td>-0.210564</td>\n",
              "      <td>0.201137</td>\n",
              "      <td>-0.210564</td>\n",
              "      <td>0.100571</td>\n",
              "      <td>-0.210564</td>\n",
              "      <td>0.257152</td>\n",
              "      <td>-0.210564</td>\n",
              "      <td>0.258751</td>\n",
              "      <td>-0.088203</td>\n",
              "      <td>-0.003794</td>\n",
              "      <td>0.106253</td>\n",
              "      <td>-0.163530</td>\n",
              "      <td>0.163530</td>\n",
              "      <td>0.060048</td>\n",
              "      <td>0.083618</td>\n",
              "      <td>-0.227206</td>\n",
              "    </tr>\n",
              "    <tr>\n",
              "      <th>InternetService_Fiber optic</th>\n",
              "      <td>0.255338</td>\n",
              "      <td>0.019720</td>\n",
              "      <td>0.787066</td>\n",
              "      <td>0.361045</td>\n",
              "      <td>0.308020</td>\n",
              "      <td>0.011286</td>\n",
              "      <td>-0.011286</td>\n",
              "      <td>-0.000304</td>\n",
              "      <td>0.000304</td>\n",
              "      <td>0.165818</td>\n",
              "      <td>-0.165818</td>\n",
              "      <td>-0.289999</td>\n",
              "      <td>0.289999</td>\n",
              "      <td>-0.289999</td>\n",
              "      <td>0.366083</td>\n",
              "      <td>1.000000</td>\n",
              "      <td>-0.465793</td>\n",
              "      <td>-0.465793</td>\n",
              "      <td>-0.030696</td>\n",
              "      <td>-0.465793</td>\n",
              "      <td>0.165651</td>\n",
              "      <td>-0.465793</td>\n",
              "      <td>0.176049</td>\n",
              "      <td>-0.465793</td>\n",
              "      <td>-0.020492</td>\n",
              "      <td>-0.465793</td>\n",
              "      <td>0.329349</td>\n",
              "      <td>-0.465793</td>\n",
              "      <td>0.322923</td>\n",
              "      <td>0.244164</td>\n",
              "      <td>-0.076324</td>\n",
              "      <td>-0.211526</td>\n",
              "      <td>-0.326853</td>\n",
              "      <td>0.326853</td>\n",
              "      <td>-0.050077</td>\n",
              "      <td>0.336410</td>\n",
              "      <td>-0.306834</td>\n",
              "    </tr>\n",
              "    <tr>\n",
              "      <th>InternetService_No</th>\n",
              "      <td>-0.182742</td>\n",
              "      <td>-0.039062</td>\n",
              "      <td>-0.763557</td>\n",
              "      <td>-0.374706</td>\n",
              "      <td>-0.227890</td>\n",
              "      <td>-0.006026</td>\n",
              "      <td>0.006026</td>\n",
              "      <td>-0.000615</td>\n",
              "      <td>0.000615</td>\n",
              "      <td>-0.139812</td>\n",
              "      <td>0.139812</td>\n",
              "      <td>-0.172209</td>\n",
              "      <td>0.172209</td>\n",
              "      <td>-0.172209</td>\n",
              "      <td>-0.210564</td>\n",
              "      <td>-0.465793</td>\n",
              "      <td>1.000000</td>\n",
              "      <td>1.000000</td>\n",
              "      <td>-0.333403</td>\n",
              "      <td>1.000000</td>\n",
              "      <td>-0.381593</td>\n",
              "      <td>1.000000</td>\n",
              "      <td>-0.380754</td>\n",
              "      <td>1.000000</td>\n",
              "      <td>-0.336298</td>\n",
              "      <td>1.000000</td>\n",
              "      <td>-0.415552</td>\n",
              "      <td>1.000000</td>\n",
              "      <td>-0.418675</td>\n",
              "      <td>-0.218639</td>\n",
              "      <td>0.038004</td>\n",
              "      <td>0.218278</td>\n",
              "      <td>0.321013</td>\n",
              "      <td>-0.321013</td>\n",
              "      <td>0.001030</td>\n",
              "      <td>-0.284917</td>\n",
              "      <td>0.321361</td>\n",
              "    </tr>\n",
              "    <tr>\n",
              "      <th>OnlineSecurity_No internet service</th>\n",
              "      <td>-0.182742</td>\n",
              "      <td>-0.039062</td>\n",
              "      <td>-0.763557</td>\n",
              "      <td>-0.374706</td>\n",
              "      <td>-0.227890</td>\n",
              "      <td>-0.006026</td>\n",
              "      <td>0.006026</td>\n",
              "      <td>-0.000615</td>\n",
              "      <td>0.000615</td>\n",
              "      <td>-0.139812</td>\n",
              "      <td>0.139812</td>\n",
              "      <td>-0.172209</td>\n",
              "      <td>0.172209</td>\n",
              "      <td>-0.172209</td>\n",
              "      <td>-0.210564</td>\n",
              "      <td>-0.465793</td>\n",
              "      <td>1.000000</td>\n",
              "      <td>1.000000</td>\n",
              "      <td>-0.333403</td>\n",
              "      <td>1.000000</td>\n",
              "      <td>-0.381593</td>\n",
              "      <td>1.000000</td>\n",
              "      <td>-0.380754</td>\n",
              "      <td>1.000000</td>\n",
              "      <td>-0.336298</td>\n",
              "      <td>1.000000</td>\n",
              "      <td>-0.415552</td>\n",
              "      <td>1.000000</td>\n",
              "      <td>-0.418675</td>\n",
              "      <td>-0.218639</td>\n",
              "      <td>0.038004</td>\n",
              "      <td>0.218278</td>\n",
              "      <td>0.321013</td>\n",
              "      <td>-0.321013</td>\n",
              "      <td>0.001030</td>\n",
              "      <td>-0.284917</td>\n",
              "      <td>0.321361</td>\n",
              "    </tr>\n",
              "    <tr>\n",
              "      <th>OnlineSecurity_Yes</th>\n",
              "      <td>-0.038653</td>\n",
              "      <td>0.327203</td>\n",
              "      <td>0.296594</td>\n",
              "      <td>0.412091</td>\n",
              "      <td>-0.171226</td>\n",
              "      <td>0.017021</td>\n",
              "      <td>-0.017021</td>\n",
              "      <td>-0.143106</td>\n",
              "      <td>0.143106</td>\n",
              "      <td>-0.080972</td>\n",
              "      <td>0.080972</td>\n",
              "      <td>0.092893</td>\n",
              "      <td>-0.092893</td>\n",
              "      <td>0.092893</td>\n",
              "      <td>0.098108</td>\n",
              "      <td>-0.030696</td>\n",
              "      <td>-0.333403</td>\n",
              "      <td>-0.333403</td>\n",
              "      <td>1.000000</td>\n",
              "      <td>-0.333403</td>\n",
              "      <td>0.283832</td>\n",
              "      <td>-0.333403</td>\n",
              "      <td>0.275438</td>\n",
              "      <td>-0.333403</td>\n",
              "      <td>0.354931</td>\n",
              "      <td>-0.333403</td>\n",
              "      <td>0.176207</td>\n",
              "      <td>-0.333403</td>\n",
              "      <td>0.187398</td>\n",
              "      <td>-0.246679</td>\n",
              "      <td>0.100162</td>\n",
              "      <td>0.191773</td>\n",
              "      <td>0.003636</td>\n",
              "      <td>-0.003636</td>\n",
              "      <td>0.115721</td>\n",
              "      <td>-0.112338</td>\n",
              "      <td>-0.080798</td>\n",
              "    </tr>\n",
              "    <tr>\n",
              "      <th>OnlineBackup_No internet service</th>\n",
              "      <td>-0.182742</td>\n",
              "      <td>-0.039062</td>\n",
              "      <td>-0.763557</td>\n",
              "      <td>-0.374706</td>\n",
              "      <td>-0.227890</td>\n",
              "      <td>-0.006026</td>\n",
              "      <td>0.006026</td>\n",
              "      <td>-0.000615</td>\n",
              "      <td>0.000615</td>\n",
              "      <td>-0.139812</td>\n",
              "      <td>0.139812</td>\n",
              "      <td>-0.172209</td>\n",
              "      <td>0.172209</td>\n",
              "      <td>-0.172209</td>\n",
              "      <td>-0.210564</td>\n",
              "      <td>-0.465793</td>\n",
              "      <td>1.000000</td>\n",
              "      <td>1.000000</td>\n",
              "      <td>-0.333403</td>\n",
              "      <td>1.000000</td>\n",
              "      <td>-0.381593</td>\n",
              "      <td>1.000000</td>\n",
              "      <td>-0.380754</td>\n",
              "      <td>1.000000</td>\n",
              "      <td>-0.336298</td>\n",
              "      <td>1.000000</td>\n",
              "      <td>-0.415552</td>\n",
              "      <td>1.000000</td>\n",
              "      <td>-0.418675</td>\n",
              "      <td>-0.218639</td>\n",
              "      <td>0.038004</td>\n",
              "      <td>0.218278</td>\n",
              "      <td>0.321013</td>\n",
              "      <td>-0.321013</td>\n",
              "      <td>0.001030</td>\n",
              "      <td>-0.284917</td>\n",
              "      <td>0.321361</td>\n",
              "    </tr>\n",
              "    <tr>\n",
              "      <th>OnlineBackup_Yes</th>\n",
              "      <td>0.066572</td>\n",
              "      <td>0.360277</td>\n",
              "      <td>0.441780</td>\n",
              "      <td>0.509607</td>\n",
              "      <td>-0.082255</td>\n",
              "      <td>0.013773</td>\n",
              "      <td>-0.013773</td>\n",
              "      <td>-0.141498</td>\n",
              "      <td>0.141498</td>\n",
              "      <td>-0.023671</td>\n",
              "      <td>0.023671</td>\n",
              "      <td>0.052312</td>\n",
              "      <td>-0.052312</td>\n",
              "      <td>0.052312</td>\n",
              "      <td>0.202237</td>\n",
              "      <td>0.165651</td>\n",
              "      <td>-0.381593</td>\n",
              "      <td>-0.381593</td>\n",
              "      <td>0.283832</td>\n",
              "      <td>-0.381593</td>\n",
              "      <td>1.000000</td>\n",
              "      <td>-0.381593</td>\n",
              "      <td>0.303546</td>\n",
              "      <td>-0.381593</td>\n",
              "      <td>0.294233</td>\n",
              "      <td>-0.381593</td>\n",
              "      <td>0.282106</td>\n",
              "      <td>-0.381593</td>\n",
              "      <td>0.274501</td>\n",
              "      <td>-0.164172</td>\n",
              "      <td>0.083722</td>\n",
              "      <td>0.111400</td>\n",
              "      <td>-0.126735</td>\n",
              "      <td>0.126735</td>\n",
              "      <td>0.090785</td>\n",
              "      <td>-0.000408</td>\n",
              "      <td>-0.174164</td>\n",
              "    </tr>\n",
              "    <tr>\n",
              "      <th>DeviceProtection_No internet service</th>\n",
              "      <td>-0.182742</td>\n",
              "      <td>-0.039062</td>\n",
              "      <td>-0.763557</td>\n",
              "      <td>-0.374706</td>\n",
              "      <td>-0.227890</td>\n",
              "      <td>-0.006026</td>\n",
              "      <td>0.006026</td>\n",
              "      <td>-0.000615</td>\n",
              "      <td>0.000615</td>\n",
              "      <td>-0.139812</td>\n",
              "      <td>0.139812</td>\n",
              "      <td>-0.172209</td>\n",
              "      <td>0.172209</td>\n",
              "      <td>-0.172209</td>\n",
              "      <td>-0.210564</td>\n",
              "      <td>-0.465793</td>\n",
              "      <td>1.000000</td>\n",
              "      <td>1.000000</td>\n",
              "      <td>-0.333403</td>\n",
              "      <td>1.000000</td>\n",
              "      <td>-0.381593</td>\n",
              "      <td>1.000000</td>\n",
              "      <td>-0.380754</td>\n",
              "      <td>1.000000</td>\n",
              "      <td>-0.336298</td>\n",
              "      <td>1.000000</td>\n",
              "      <td>-0.415552</td>\n",
              "      <td>1.000000</td>\n",
              "      <td>-0.418675</td>\n",
              "      <td>-0.218639</td>\n",
              "      <td>0.038004</td>\n",
              "      <td>0.218278</td>\n",
              "      <td>0.321013</td>\n",
              "      <td>-0.321013</td>\n",
              "      <td>0.001030</td>\n",
              "      <td>-0.284917</td>\n",
              "      <td>0.321361</td>\n",
              "    </tr>\n",
              "    <tr>\n",
              "      <th>DeviceProtection_Yes</th>\n",
              "      <td>0.059428</td>\n",
              "      <td>0.360653</td>\n",
              "      <td>0.482692</td>\n",
              "      <td>0.522374</td>\n",
              "      <td>-0.066160</td>\n",
              "      <td>0.002105</td>\n",
              "      <td>-0.002105</td>\n",
              "      <td>-0.153786</td>\n",
              "      <td>0.153786</td>\n",
              "      <td>-0.013963</td>\n",
              "      <td>0.013963</td>\n",
              "      <td>0.071227</td>\n",
              "      <td>-0.071227</td>\n",
              "      <td>0.071227</td>\n",
              "      <td>0.201137</td>\n",
              "      <td>0.176049</td>\n",
              "      <td>-0.380754</td>\n",
              "      <td>-0.380754</td>\n",
              "      <td>0.275438</td>\n",
              "      <td>-0.380754</td>\n",
              "      <td>0.303546</td>\n",
              "      <td>-0.380754</td>\n",
              "      <td>1.000000</td>\n",
              "      <td>-0.380754</td>\n",
              "      <td>0.333313</td>\n",
              "      <td>-0.380754</td>\n",
              "      <td>0.390874</td>\n",
              "      <td>-0.380754</td>\n",
              "      <td>0.402111</td>\n",
              "      <td>-0.225662</td>\n",
              "      <td>0.102495</td>\n",
              "      <td>0.165096</td>\n",
              "      <td>-0.103797</td>\n",
              "      <td>0.103797</td>\n",
              "      <td>0.111554</td>\n",
              "      <td>-0.003351</td>\n",
              "      <td>-0.187373</td>\n",
              "    </tr>\n",
              "    <tr>\n",
              "      <th>TechSupport_No internet service</th>\n",
              "      <td>-0.182742</td>\n",
              "      <td>-0.039062</td>\n",
              "      <td>-0.763557</td>\n",
              "      <td>-0.374706</td>\n",
              "      <td>-0.227890</td>\n",
              "      <td>-0.006026</td>\n",
              "      <td>0.006026</td>\n",
              "      <td>-0.000615</td>\n",
              "      <td>0.000615</td>\n",
              "      <td>-0.139812</td>\n",
              "      <td>0.139812</td>\n",
              "      <td>-0.172209</td>\n",
              "      <td>0.172209</td>\n",
              "      <td>-0.172209</td>\n",
              "      <td>-0.210564</td>\n",
              "      <td>-0.465793</td>\n",
              "      <td>1.000000</td>\n",
              "      <td>1.000000</td>\n",
              "      <td>-0.333403</td>\n",
              "      <td>1.000000</td>\n",
              "      <td>-0.381593</td>\n",
              "      <td>1.000000</td>\n",
              "      <td>-0.380754</td>\n",
              "      <td>1.000000</td>\n",
              "      <td>-0.336298</td>\n",
              "      <td>1.000000</td>\n",
              "      <td>-0.415552</td>\n",
              "      <td>1.000000</td>\n",
              "      <td>-0.418675</td>\n",
              "      <td>-0.218639</td>\n",
              "      <td>0.038004</td>\n",
              "      <td>0.218278</td>\n",
              "      <td>0.321013</td>\n",
              "      <td>-0.321013</td>\n",
              "      <td>0.001030</td>\n",
              "      <td>-0.284917</td>\n",
              "      <td>0.321361</td>\n",
              "    </tr>\n",
              "    <tr>\n",
              "      <th>TechSupport_Yes</th>\n",
              "      <td>-0.060625</td>\n",
              "      <td>0.324221</td>\n",
              "      <td>0.338304</td>\n",
              "      <td>0.432329</td>\n",
              "      <td>-0.164674</td>\n",
              "      <td>0.009212</td>\n",
              "      <td>-0.009212</td>\n",
              "      <td>-0.119999</td>\n",
              "      <td>0.119999</td>\n",
              "      <td>-0.063268</td>\n",
              "      <td>0.063268</td>\n",
              "      <td>0.096340</td>\n",
              "      <td>-0.096340</td>\n",
              "      <td>0.096340</td>\n",
              "      <td>0.100571</td>\n",
              "      <td>-0.020492</td>\n",
              "      <td>-0.336298</td>\n",
              "      <td>-0.336298</td>\n",
              "      <td>0.354931</td>\n",
              "      <td>-0.336298</td>\n",
              "      <td>0.294233</td>\n",
              "      <td>-0.336298</td>\n",
              "      <td>0.333313</td>\n",
              "      <td>-0.336298</td>\n",
              "      <td>1.000000</td>\n",
              "      <td>-0.336298</td>\n",
              "      <td>0.278070</td>\n",
              "      <td>-0.336298</td>\n",
              "      <td>0.279358</td>\n",
              "      <td>-0.285241</td>\n",
              "      <td>0.095775</td>\n",
              "      <td>0.240824</td>\n",
              "      <td>-0.037880</td>\n",
              "      <td>0.037880</td>\n",
              "      <td>0.117272</td>\n",
              "      <td>-0.114839</td>\n",
              "      <td>-0.085509</td>\n",
              "    </tr>\n",
              "    <tr>\n",
              "      <th>StreamingTV_No internet service</th>\n",
              "      <td>-0.182742</td>\n",
              "      <td>-0.039062</td>\n",
              "      <td>-0.763557</td>\n",
              "      <td>-0.374706</td>\n",
              "      <td>-0.227890</td>\n",
              "      <td>-0.006026</td>\n",
              "      <td>0.006026</td>\n",
              "      <td>-0.000615</td>\n",
              "      <td>0.000615</td>\n",
              "      <td>-0.139812</td>\n",
              "      <td>0.139812</td>\n",
              "      <td>-0.172209</td>\n",
              "      <td>0.172209</td>\n",
              "      <td>-0.172209</td>\n",
              "      <td>-0.210564</td>\n",
              "      <td>-0.465793</td>\n",
              "      <td>1.000000</td>\n",
              "      <td>1.000000</td>\n",
              "      <td>-0.333403</td>\n",
              "      <td>1.000000</td>\n",
              "      <td>-0.381593</td>\n",
              "      <td>1.000000</td>\n",
              "      <td>-0.380754</td>\n",
              "      <td>1.000000</td>\n",
              "      <td>-0.336298</td>\n",
              "      <td>1.000000</td>\n",
              "      <td>-0.415552</td>\n",
              "      <td>1.000000</td>\n",
              "      <td>-0.418675</td>\n",
              "      <td>-0.218639</td>\n",
              "      <td>0.038004</td>\n",
              "      <td>0.218278</td>\n",
              "      <td>0.321013</td>\n",
              "      <td>-0.321013</td>\n",
              "      <td>0.001030</td>\n",
              "      <td>-0.284917</td>\n",
              "      <td>0.321361</td>\n",
              "    </tr>\n",
              "    <tr>\n",
              "      <th>StreamingTV_Yes</th>\n",
              "      <td>0.105378</td>\n",
              "      <td>0.279756</td>\n",
              "      <td>0.629603</td>\n",
              "      <td>0.515279</td>\n",
              "      <td>0.063228</td>\n",
              "      <td>0.008393</td>\n",
              "      <td>-0.008393</td>\n",
              "      <td>-0.124666</td>\n",
              "      <td>0.124666</td>\n",
              "      <td>0.016558</td>\n",
              "      <td>-0.016558</td>\n",
              "      <td>0.022574</td>\n",
              "      <td>-0.022574</td>\n",
              "      <td>0.022574</td>\n",
              "      <td>0.257152</td>\n",
              "      <td>0.329349</td>\n",
              "      <td>-0.415552</td>\n",
              "      <td>-0.415552</td>\n",
              "      <td>0.176207</td>\n",
              "      <td>-0.415552</td>\n",
              "      <td>0.282106</td>\n",
              "      <td>-0.415552</td>\n",
              "      <td>0.390874</td>\n",
              "      <td>-0.415552</td>\n",
              "      <td>0.278070</td>\n",
              "      <td>-0.415552</td>\n",
              "      <td>1.000000</td>\n",
              "      <td>-0.415552</td>\n",
              "      <td>0.533094</td>\n",
              "      <td>-0.112282</td>\n",
              "      <td>0.061612</td>\n",
              "      <td>0.072049</td>\n",
              "      <td>-0.223841</td>\n",
              "      <td>0.223841</td>\n",
              "      <td>0.040433</td>\n",
              "      <td>0.144626</td>\n",
              "      <td>-0.247742</td>\n",
              "    </tr>\n",
              "    <tr>\n",
              "      <th>StreamingMovies_No internet service</th>\n",
              "      <td>-0.182742</td>\n",
              "      <td>-0.039062</td>\n",
              "      <td>-0.763557</td>\n",
              "      <td>-0.374706</td>\n",
              "      <td>-0.227890</td>\n",
              "      <td>-0.006026</td>\n",
              "      <td>0.006026</td>\n",
              "      <td>-0.000615</td>\n",
              "      <td>0.000615</td>\n",
              "      <td>-0.139812</td>\n",
              "      <td>0.139812</td>\n",
              "      <td>-0.172209</td>\n",
              "      <td>0.172209</td>\n",
              "      <td>-0.172209</td>\n",
              "      <td>-0.210564</td>\n",
              "      <td>-0.465793</td>\n",
              "      <td>1.000000</td>\n",
              "      <td>1.000000</td>\n",
              "      <td>-0.333403</td>\n",
              "      <td>1.000000</td>\n",
              "      <td>-0.381593</td>\n",
              "      <td>1.000000</td>\n",
              "      <td>-0.380754</td>\n",
              "      <td>1.000000</td>\n",
              "      <td>-0.336298</td>\n",
              "      <td>1.000000</td>\n",
              "      <td>-0.415552</td>\n",
              "      <td>1.000000</td>\n",
              "      <td>-0.418675</td>\n",
              "      <td>-0.218639</td>\n",
              "      <td>0.038004</td>\n",
              "      <td>0.218278</td>\n",
              "      <td>0.321013</td>\n",
              "      <td>-0.321013</td>\n",
              "      <td>0.001030</td>\n",
              "      <td>-0.284917</td>\n",
              "      <td>0.321361</td>\n",
              "    </tr>\n",
              "    <tr>\n",
              "      <th>StreamingMovies_Yes</th>\n",
              "      <td>0.120176</td>\n",
              "      <td>0.286111</td>\n",
              "      <td>0.627429</td>\n",
              "      <td>0.519884</td>\n",
              "      <td>0.061382</td>\n",
              "      <td>0.010487</td>\n",
              "      <td>-0.010487</td>\n",
              "      <td>-0.117412</td>\n",
              "      <td>0.117412</td>\n",
              "      <td>0.039741</td>\n",
              "      <td>-0.039741</td>\n",
              "      <td>0.032959</td>\n",
              "      <td>-0.032959</td>\n",
              "      <td>0.032959</td>\n",
              "      <td>0.258751</td>\n",
              "      <td>0.322923</td>\n",
              "      <td>-0.418675</td>\n",
              "      <td>-0.418675</td>\n",
              "      <td>0.187398</td>\n",
              "      <td>-0.418675</td>\n",
              "      <td>0.274501</td>\n",
              "      <td>-0.418675</td>\n",
              "      <td>0.402111</td>\n",
              "      <td>-0.418675</td>\n",
              "      <td>0.279358</td>\n",
              "      <td>-0.418675</td>\n",
              "      <td>0.533094</td>\n",
              "      <td>-0.418675</td>\n",
              "      <td>1.000000</td>\n",
              "      <td>-0.116633</td>\n",
              "      <td>0.064926</td>\n",
              "      <td>0.073960</td>\n",
              "      <td>-0.211716</td>\n",
              "      <td>0.211716</td>\n",
              "      <td>0.048575</td>\n",
              "      <td>0.137966</td>\n",
              "      <td>-0.250595</td>\n",
              "    </tr>\n",
              "    <tr>\n",
              "      <th>Contract_Month-to-month</th>\n",
              "      <td>0.138360</td>\n",
              "      <td>-0.645561</td>\n",
              "      <td>0.060165</td>\n",
              "      <td>-0.445619</td>\n",
              "      <td>0.405103</td>\n",
              "      <td>0.003386</td>\n",
              "      <td>-0.003386</td>\n",
              "      <td>0.280865</td>\n",
              "      <td>-0.280865</td>\n",
              "      <td>0.231720</td>\n",
              "      <td>-0.231720</td>\n",
              "      <td>0.000742</td>\n",
              "      <td>-0.000742</td>\n",
              "      <td>0.000742</td>\n",
              "      <td>-0.088203</td>\n",
              "      <td>0.244164</td>\n",
              "      <td>-0.218639</td>\n",
              "      <td>-0.218639</td>\n",
              "      <td>-0.246679</td>\n",
              "      <td>-0.218639</td>\n",
              "      <td>-0.164172</td>\n",
              "      <td>-0.218639</td>\n",
              "      <td>-0.225662</td>\n",
              "      <td>-0.218639</td>\n",
              "      <td>-0.285241</td>\n",
              "      <td>-0.218639</td>\n",
              "      <td>-0.112282</td>\n",
              "      <td>-0.218639</td>\n",
              "      <td>-0.116633</td>\n",
              "      <td>1.000000</td>\n",
              "      <td>-0.568744</td>\n",
              "      <td>-0.622633</td>\n",
              "      <td>-0.169096</td>\n",
              "      <td>0.169096</td>\n",
              "      <td>-0.204145</td>\n",
              "      <td>0.331661</td>\n",
              "      <td>0.004138</td>\n",
              "    </tr>\n",
              "    <tr>\n",
              "      <th>Contract_One year</th>\n",
              "      <td>-0.046262</td>\n",
              "      <td>0.202570</td>\n",
              "      <td>0.004904</td>\n",
              "      <td>0.170649</td>\n",
              "      <td>-0.177820</td>\n",
              "      <td>-0.008026</td>\n",
              "      <td>0.008026</td>\n",
              "      <td>-0.082783</td>\n",
              "      <td>0.082783</td>\n",
              "      <td>-0.068368</td>\n",
              "      <td>0.068368</td>\n",
              "      <td>0.002791</td>\n",
              "      <td>-0.002791</td>\n",
              "      <td>0.002791</td>\n",
              "      <td>-0.003794</td>\n",
              "      <td>-0.076324</td>\n",
              "      <td>0.038004</td>\n",
              "      <td>0.038004</td>\n",
              "      <td>0.100162</td>\n",
              "      <td>0.038004</td>\n",
              "      <td>0.083722</td>\n",
              "      <td>0.038004</td>\n",
              "      <td>0.102495</td>\n",
              "      <td>0.038004</td>\n",
              "      <td>0.095775</td>\n",
              "      <td>0.038004</td>\n",
              "      <td>0.061612</td>\n",
              "      <td>0.038004</td>\n",
              "      <td>0.064926</td>\n",
              "      <td>-0.568744</td>\n",
              "      <td>1.000000</td>\n",
              "      <td>-0.289510</td>\n",
              "      <td>0.051391</td>\n",
              "      <td>-0.051391</td>\n",
              "      <td>0.067589</td>\n",
              "      <td>-0.109130</td>\n",
              "      <td>-0.000116</td>\n",
              "    </tr>\n",
              "    <tr>\n",
              "      <th>Contract_Two year</th>\n",
              "      <td>-0.117000</td>\n",
              "      <td>0.558533</td>\n",
              "      <td>-0.074681</td>\n",
              "      <td>0.356226</td>\n",
              "      <td>-0.302253</td>\n",
              "      <td>0.003695</td>\n",
              "      <td>-0.003695</td>\n",
              "      <td>-0.248091</td>\n",
              "      <td>0.248091</td>\n",
              "      <td>-0.204613</td>\n",
              "      <td>0.204613</td>\n",
              "      <td>-0.003519</td>\n",
              "      <td>0.003519</td>\n",
              "      <td>-0.003519</td>\n",
              "      <td>0.106253</td>\n",
              "      <td>-0.211526</td>\n",
              "      <td>0.218278</td>\n",
              "      <td>0.218278</td>\n",
              "      <td>0.191773</td>\n",
              "      <td>0.218278</td>\n",
              "      <td>0.111400</td>\n",
              "      <td>0.218278</td>\n",
              "      <td>0.165096</td>\n",
              "      <td>0.218278</td>\n",
              "      <td>0.240824</td>\n",
              "      <td>0.218278</td>\n",
              "      <td>0.072049</td>\n",
              "      <td>0.218278</td>\n",
              "      <td>0.073960</td>\n",
              "      <td>-0.622633</td>\n",
              "      <td>-0.289510</td>\n",
              "      <td>1.000000</td>\n",
              "      <td>0.147889</td>\n",
              "      <td>-0.147889</td>\n",
              "      <td>0.173265</td>\n",
              "      <td>-0.282138</td>\n",
              "      <td>-0.004705</td>\n",
              "    </tr>\n",
              "    <tr>\n",
              "      <th>PaperlessBilling_No</th>\n",
              "      <td>-0.156530</td>\n",
              "      <td>-0.006152</td>\n",
              "      <td>-0.352150</td>\n",
              "      <td>-0.158055</td>\n",
              "      <td>-0.191825</td>\n",
              "      <td>-0.011754</td>\n",
              "      <td>0.011754</td>\n",
              "      <td>-0.014877</td>\n",
              "      <td>0.014877</td>\n",
              "      <td>-0.111377</td>\n",
              "      <td>0.111377</td>\n",
              "      <td>0.016505</td>\n",
              "      <td>-0.016505</td>\n",
              "      <td>0.016505</td>\n",
              "      <td>-0.163530</td>\n",
              "      <td>-0.326853</td>\n",
              "      <td>0.321013</td>\n",
              "      <td>0.321013</td>\n",
              "      <td>0.003636</td>\n",
              "      <td>0.321013</td>\n",
              "      <td>-0.126735</td>\n",
              "      <td>0.321013</td>\n",
              "      <td>-0.103797</td>\n",
              "      <td>0.321013</td>\n",
              "      <td>-0.037880</td>\n",
              "      <td>0.321013</td>\n",
              "      <td>-0.223841</td>\n",
              "      <td>0.321013</td>\n",
              "      <td>-0.211716</td>\n",
              "      <td>-0.169096</td>\n",
              "      <td>0.051391</td>\n",
              "      <td>0.147889</td>\n",
              "      <td>1.000000</td>\n",
              "      <td>-1.000000</td>\n",
              "      <td>0.013589</td>\n",
              "      <td>-0.208865</td>\n",
              "      <td>0.205398</td>\n",
              "    </tr>\n",
              "    <tr>\n",
              "      <th>PaperlessBilling_Yes</th>\n",
              "      <td>0.156530</td>\n",
              "      <td>0.006152</td>\n",
              "      <td>0.352150</td>\n",
              "      <td>0.158055</td>\n",
              "      <td>0.191825</td>\n",
              "      <td>0.011754</td>\n",
              "      <td>-0.011754</td>\n",
              "      <td>0.014877</td>\n",
              "      <td>-0.014877</td>\n",
              "      <td>0.111377</td>\n",
              "      <td>-0.111377</td>\n",
              "      <td>-0.016505</td>\n",
              "      <td>0.016505</td>\n",
              "      <td>-0.016505</td>\n",
              "      <td>0.163530</td>\n",
              "      <td>0.326853</td>\n",
              "      <td>-0.321013</td>\n",
              "      <td>-0.321013</td>\n",
              "      <td>-0.003636</td>\n",
              "      <td>-0.321013</td>\n",
              "      <td>0.126735</td>\n",
              "      <td>-0.321013</td>\n",
              "      <td>0.103797</td>\n",
              "      <td>-0.321013</td>\n",
              "      <td>0.037880</td>\n",
              "      <td>-0.321013</td>\n",
              "      <td>0.223841</td>\n",
              "      <td>-0.321013</td>\n",
              "      <td>0.211716</td>\n",
              "      <td>0.169096</td>\n",
              "      <td>-0.051391</td>\n",
              "      <td>-0.147889</td>\n",
              "      <td>-1.000000</td>\n",
              "      <td>1.000000</td>\n",
              "      <td>-0.013589</td>\n",
              "      <td>0.208865</td>\n",
              "      <td>-0.205398</td>\n",
              "    </tr>\n",
              "    <tr>\n",
              "      <th>PaymentMethod_Credit card (automatic)</th>\n",
              "      <td>-0.024135</td>\n",
              "      <td>0.233006</td>\n",
              "      <td>0.030550</td>\n",
              "      <td>0.182745</td>\n",
              "      <td>-0.134302</td>\n",
              "      <td>-0.001215</td>\n",
              "      <td>0.001215</td>\n",
              "      <td>-0.082029</td>\n",
              "      <td>0.082029</td>\n",
              "      <td>-0.060267</td>\n",
              "      <td>0.060267</td>\n",
              "      <td>0.007721</td>\n",
              "      <td>-0.007721</td>\n",
              "      <td>0.007721</td>\n",
              "      <td>0.060048</td>\n",
              "      <td>-0.050077</td>\n",
              "      <td>0.001030</td>\n",
              "      <td>0.001030</td>\n",
              "      <td>0.115721</td>\n",
              "      <td>0.001030</td>\n",
              "      <td>0.090785</td>\n",
              "      <td>0.001030</td>\n",
              "      <td>0.111554</td>\n",
              "      <td>0.001030</td>\n",
              "      <td>0.117272</td>\n",
              "      <td>0.001030</td>\n",
              "      <td>0.040433</td>\n",
              "      <td>0.001030</td>\n",
              "      <td>0.048575</td>\n",
              "      <td>-0.204145</td>\n",
              "      <td>0.067589</td>\n",
              "      <td>0.173265</td>\n",
              "      <td>0.013589</td>\n",
              "      <td>-0.013589</td>\n",
              "      <td>1.000000</td>\n",
              "      <td>-0.373322</td>\n",
              "      <td>-0.286049</td>\n",
              "    </tr>\n",
              "    <tr>\n",
              "      <th>PaymentMethod_Electronic check</th>\n",
              "      <td>0.171718</td>\n",
              "      <td>-0.208363</td>\n",
              "      <td>0.271625</td>\n",
              "      <td>-0.059971</td>\n",
              "      <td>0.301919</td>\n",
              "      <td>-0.000752</td>\n",
              "      <td>0.000752</td>\n",
              "      <td>0.083852</td>\n",
              "      <td>-0.083852</td>\n",
              "      <td>0.150642</td>\n",
              "      <td>-0.150642</td>\n",
              "      <td>-0.003062</td>\n",
              "      <td>0.003062</td>\n",
              "      <td>-0.003062</td>\n",
              "      <td>0.083618</td>\n",
              "      <td>0.336410</td>\n",
              "      <td>-0.284917</td>\n",
              "      <td>-0.284917</td>\n",
              "      <td>-0.112338</td>\n",
              "      <td>-0.284917</td>\n",
              "      <td>-0.000408</td>\n",
              "      <td>-0.284917</td>\n",
              "      <td>-0.003351</td>\n",
              "      <td>-0.284917</td>\n",
              "      <td>-0.114839</td>\n",
              "      <td>-0.284917</td>\n",
              "      <td>0.144626</td>\n",
              "      <td>-0.284917</td>\n",
              "      <td>0.137966</td>\n",
              "      <td>0.331661</td>\n",
              "      <td>-0.109130</td>\n",
              "      <td>-0.282138</td>\n",
              "      <td>-0.208865</td>\n",
              "      <td>0.208865</td>\n",
              "      <td>-0.373322</td>\n",
              "      <td>1.000000</td>\n",
              "      <td>-0.387372</td>\n",
              "    </tr>\n",
              "    <tr>\n",
              "      <th>PaymentMethod_Mailed check</th>\n",
              "      <td>-0.153477</td>\n",
              "      <td>-0.233852</td>\n",
              "      <td>-0.377437</td>\n",
              "      <td>-0.294814</td>\n",
              "      <td>-0.091683</td>\n",
              "      <td>-0.013744</td>\n",
              "      <td>0.013744</td>\n",
              "      <td>0.095125</td>\n",
              "      <td>-0.095125</td>\n",
              "      <td>-0.059071</td>\n",
              "      <td>0.059071</td>\n",
              "      <td>0.003319</td>\n",
              "      <td>-0.003319</td>\n",
              "      <td>0.003319</td>\n",
              "      <td>-0.227206</td>\n",
              "      <td>-0.306834</td>\n",
              "      <td>0.321361</td>\n",
              "      <td>0.321361</td>\n",
              "      <td>-0.080798</td>\n",
              "      <td>0.321361</td>\n",
              "      <td>-0.174164</td>\n",
              "      <td>0.321361</td>\n",
              "      <td>-0.187373</td>\n",
              "      <td>0.321361</td>\n",
              "      <td>-0.085509</td>\n",
              "      <td>0.321361</td>\n",
              "      <td>-0.247742</td>\n",
              "      <td>0.321361</td>\n",
              "      <td>-0.250595</td>\n",
              "      <td>0.004138</td>\n",
              "      <td>-0.000116</td>\n",
              "      <td>-0.004705</td>\n",
              "      <td>0.205398</td>\n",
              "      <td>-0.205398</td>\n",
              "      <td>-0.286049</td>\n",
              "      <td>-0.387372</td>\n",
              "      <td>1.000000</td>\n",
              "    </tr>\n",
              "  </tbody>\n",
              "</table>\n",
              "</div>"
            ],
            "text/plain": [
              "                                       SeniorCitizen  ...  PaymentMethod_Mailed check\n",
              "SeniorCitizen                               1.000000  ...                   -0.153477\n",
              "tenure                                      0.016567  ...                   -0.233852\n",
              "MonthlyCharges                              0.220173  ...                   -0.377437\n",
              "TotalCharges                                0.102652  ...                   -0.294814\n",
              "Churn                                       0.150889  ...                   -0.091683\n",
              "gender_Female                               0.001874  ...                   -0.013744\n",
              "gender_Male                                -0.001874  ...                    0.013744\n",
              "Partner_No                                 -0.016479  ...                    0.095125\n",
              "Partner_Yes                                 0.016479  ...                   -0.095125\n",
              "Dependents_No                               0.211185  ...                   -0.059071\n",
              "Dependents_Yes                             -0.211185  ...                    0.059071\n",
              "PhoneService_No                            -0.008576  ...                    0.003319\n",
              "PhoneService_Yes                            0.008576  ...                   -0.003319\n",
              "MultipleLines_No phone service             -0.008576  ...                    0.003319\n",
              "MultipleLines_Yes                           0.142948  ...                   -0.227206\n",
              "InternetService_Fiber optic                 0.255338  ...                   -0.306834\n",
              "InternetService_No                         -0.182742  ...                    0.321361\n",
              "OnlineSecurity_No internet service         -0.182742  ...                    0.321361\n",
              "OnlineSecurity_Yes                         -0.038653  ...                   -0.080798\n",
              "OnlineBackup_No internet service           -0.182742  ...                    0.321361\n",
              "OnlineBackup_Yes                            0.066572  ...                   -0.174164\n",
              "DeviceProtection_No internet service       -0.182742  ...                    0.321361\n",
              "DeviceProtection_Yes                        0.059428  ...                   -0.187373\n",
              "TechSupport_No internet service            -0.182742  ...                    0.321361\n",
              "TechSupport_Yes                            -0.060625  ...                   -0.085509\n",
              "StreamingTV_No internet service            -0.182742  ...                    0.321361\n",
              "StreamingTV_Yes                             0.105378  ...                   -0.247742\n",
              "StreamingMovies_No internet service        -0.182742  ...                    0.321361\n",
              "StreamingMovies_Yes                         0.120176  ...                   -0.250595\n",
              "Contract_Month-to-month                     0.138360  ...                    0.004138\n",
              "Contract_One year                          -0.046262  ...                   -0.000116\n",
              "Contract_Two year                          -0.117000  ...                   -0.004705\n",
              "PaperlessBilling_No                        -0.156530  ...                    0.205398\n",
              "PaperlessBilling_Yes                        0.156530  ...                   -0.205398\n",
              "PaymentMethod_Credit card (automatic)      -0.024135  ...                   -0.286049\n",
              "PaymentMethod_Electronic check              0.171718  ...                   -0.387372\n",
              "PaymentMethod_Mailed check                 -0.153477  ...                    1.000000\n",
              "\n",
              "[37 rows x 37 columns]"
            ]
          },
          "metadata": {
            "tags": []
          },
          "execution_count": 47
        }
      ]
    },
    {
      "cell_type": "code",
      "metadata": {
        "colab": {
          "base_uri": "https://localhost:8080/",
          "height": 479
        },
        "id": "DQEE7DW23ikz",
        "outputId": "333e55f1-8c64-43f3-8b94-17643b5c6fc6"
      },
      "source": [
        "import seaborn as sns\n",
        "sns.heatmap(data.corr())    ##plotting correlation matrix"
      ],
      "execution_count": 48,
      "outputs": [
        {
          "output_type": "execute_result",
          "data": {
            "text/plain": [
              "<matplotlib.axes._subplots.AxesSubplot at 0x7f1860a194d0>"
            ]
          },
          "metadata": {
            "tags": []
          },
          "execution_count": 48
        },
        {
          "output_type": "display_data",
          "data": {
            "image/png": "[encoded data removed]",
            "text/plain": [
              "<Figure size 432x288 with 2 Axes>"
            ]
          },
          "metadata": {
            "tags": [],
            "needs_background": "light"
          }
        }
      ]
    },
    {
      "cell_type": "code",
      "metadata": {
        "colab": {
          "base_uri": "https://localhost:8080/"
        },
        "id": "WXGLmzgBWq4D",
        "outputId": "cb8b6b64-3653-45ea-c091-48429e99314c"
      },
      "source": [
        "data.shape"
      ],
      "execution_count": 49,
      "outputs": [
        {
          "output_type": "execute_result",
          "data": {
            "text/plain": [
              "(7043, 37)"
            ]
          },
          "metadata": {
            "tags": []
          },
          "execution_count": 49
        }
      ]
    },
    {
      "cell_type": "code",
      "metadata": {
        "colab": {
          "base_uri": "https://localhost:8080/",
          "height": 1000
        },
        "id": "imHyplGe4KaP",
        "outputId": "f6be551f-12d0-40c5-8651-7f9613266d5b"
      },
      "source": [
        "#### Visualizing numeric columns ######\n",
        "\n",
        "numeric_cols = data.select_dtypes(include = np.number) ### selects numeric columns\n",
        "\n",
        "column_names = list(numeric_cols.columns)\n",
        "\n",
        "col_index = 0\n",
        "\n",
        "plot_rows = 8\n",
        "plot_cols = 4\n",
        "\n",
        "fig, ax = plt.subplots(nrows = plot_rows,ncols=plot_cols,figsize = (20,20))\n",
        "\n",
        "for row_count in range(plot_rows):\n",
        "    for col_count in range(plot_cols):\n",
        "        ax[row_count][col_count].scatter(y = numeric_cols[column_names[col_index]],x=numeric_cols.index)\n",
        "        ax[row_count][col_count].set_ylabel(column_names[col_index])\n",
        "        col_index = col_index + 1"
      ],
      "execution_count": 50,
      "outputs": [
        {
          "output_type": "display_data",
          "data": {
            "image/png": "[encoded data removed]",
            "text/plain": [
              "<Figure size 1440x1440 with 32 Axes>"
            ]
          },
          "metadata": {
            "tags": [],
            "needs_background": "light"
          }
        }
      ]
    },
    {
      "cell_type": "code",
      "metadata": {
        "id": "U3T2iDvi6Rdj",
        "colab": {
          "base_uri": "https://localhost:8080/"
        },
        "outputId": "cae63e35-bd8c-467f-b00f-d1ec9e8b26ac"
      },
      "source": [
        "data.shape"
      ],
      "execution_count": 51,
      "outputs": [
        {
          "output_type": "execute_result",
          "data": {
            "text/plain": [
              "(7043, 37)"
            ]
          },
          "metadata": {
            "tags": []
          },
          "execution_count": 51
        }
      ]
    },
    {
      "cell_type": "code",
      "metadata": {
        "id": "SmSaLXUPnDll"
      },
      "source": [
        "## scaling down the values because some columns are having high range of values\n",
        "scaler = StandardScaler() \n",
        "\n",
        "scaler.fit(data[['tenure','MonthlyCharges','TotalCharges']]) ### it will compute mean and standard deviation of every column\n",
        "\n",
        "data[['tenure','MonthlyCharges','TotalCharges']] = scaler.transform(data[['tenure','MonthlyCharges','TotalCharges']])  ## transforming and reassigning names of columns"
      ],
      "execution_count": 52,
      "outputs": []
    },
    {
      "cell_type": "code",
      "metadata": {
        "colab": {
          "base_uri": "https://localhost:8080/",
          "height": 257
        },
        "id": "l7Tt1wkEnVQj",
        "outputId": "bcdc6776-3680-4fea-891c-f562c62d3fad"
      },
      "source": [
        "data.head()"
      ],
      "execution_count": 53,
      "outputs": [
        {
          "output_type": "execute_result",
          "data": {
            "text/html": [
              "<div>\n",
              "<style scoped>\n",
              "    .dataframe tbody tr th:only-of-type {\n",
              "        vertical-align: middle;\n",
              "    }\n",
              "\n",
              "    .dataframe tbody tr th {\n",
              "        vertical-align: top;\n",
              "    }\n",
              "\n",
              "    .dataframe thead th {\n",
              "        text-align: right;\n",
              "    }\n",
              "</style>\n",
              "<table border=\"1\" class=\"dataframe\">\n",
              "  <thead>\n",
              "    <tr style=\"text-align: right;\">\n",
              "      <th></th>\n",
              "      <th>SeniorCitizen</th>\n",
              "      <th>tenure</th>\n",
              "      <th>MonthlyCharges</th>\n",
              "      <th>TotalCharges</th>\n",
              "      <th>Churn</th>\n",
              "      <th>gender_Female</th>\n",
              "      <th>gender_Male</th>\n",
              "      <th>Partner_No</th>\n",
              "      <th>Partner_Yes</th>\n",
              "      <th>Dependents_No</th>\n",
              "      <th>Dependents_Yes</th>\n",
              "      <th>PhoneService_No</th>\n",
              "      <th>PhoneService_Yes</th>\n",
              "      <th>MultipleLines_No phone service</th>\n",
              "      <th>MultipleLines_Yes</th>\n",
              "      <th>InternetService_Fiber optic</th>\n",
              "      <th>InternetService_No</th>\n",
              "      <th>OnlineSecurity_No internet service</th>\n",
              "      <th>OnlineSecurity_Yes</th>\n",
              "      <th>OnlineBackup_No internet service</th>\n",
              "      <th>OnlineBackup_Yes</th>\n",
              "      <th>DeviceProtection_No internet service</th>\n",
              "      <th>DeviceProtection_Yes</th>\n",
              "      <th>TechSupport_No internet service</th>\n",
              "      <th>TechSupport_Yes</th>\n",
              "      <th>StreamingTV_No internet service</th>\n",
              "      <th>StreamingTV_Yes</th>\n",
              "      <th>StreamingMovies_No internet service</th>\n",
              "      <th>StreamingMovies_Yes</th>\n",
              "      <th>Contract_Month-to-month</th>\n",
              "      <th>Contract_One year</th>\n",
              "      <th>Contract_Two year</th>\n",
              "      <th>PaperlessBilling_No</th>\n",
              "      <th>PaperlessBilling_Yes</th>\n",
              "      <th>PaymentMethod_Credit card (automatic)</th>\n",
              "      <th>PaymentMethod_Electronic check</th>\n",
              "      <th>PaymentMethod_Mailed check</th>\n",
              "    </tr>\n",
              "  </thead>\n",
              "  <tbody>\n",
              "    <tr>\n",
              "      <th>0</th>\n",
              "      <td>0</td>\n",
              "      <td>-1.277445</td>\n",
              "      <td>-1.160323</td>\n",
              "      <td>-0.994242</td>\n",
              "      <td>0</td>\n",
              "      <td>1</td>\n",
              "      <td>0</td>\n",
              "      <td>0</td>\n",
              "      <td>1</td>\n",
              "      <td>1</td>\n",
              "      <td>0</td>\n",
              "      <td>1</td>\n",
              "      <td>0</td>\n",
              "      <td>1</td>\n",
              "      <td>0</td>\n",
              "      <td>0</td>\n",
              "      <td>0</td>\n",
              "      <td>0</td>\n",
              "      <td>0</td>\n",
              "      <td>0</td>\n",
              "      <td>1</td>\n",
              "      <td>0</td>\n",
              "      <td>0</td>\n",
              "      <td>0</td>\n",
              "      <td>0</td>\n",
              "      <td>0</td>\n",
              "      <td>0</td>\n",
              "      <td>0</td>\n",
              "      <td>0</td>\n",
              "      <td>1</td>\n",
              "      <td>0</td>\n",
              "      <td>0</td>\n",
              "      <td>0</td>\n",
              "      <td>1</td>\n",
              "      <td>0</td>\n",
              "      <td>1</td>\n",
              "      <td>0</td>\n",
              "    </tr>\n",
              "    <tr>\n",
              "      <th>1</th>\n",
              "      <td>0</td>\n",
              "      <td>0.066327</td>\n",
              "      <td>-0.259629</td>\n",
              "      <td>-0.173244</td>\n",
              "      <td>0</td>\n",
              "      <td>0</td>\n",
              "      <td>1</td>\n",
              "      <td>1</td>\n",
              "      <td>0</td>\n",
              "      <td>1</td>\n",
              "      <td>0</td>\n",
              "      <td>0</td>\n",
              "      <td>1</td>\n",
              "      <td>0</td>\n",
              "      <td>0</td>\n",
              "      <td>0</td>\n",
              "      <td>0</td>\n",
              "      <td>0</td>\n",
              "      <td>1</td>\n",
              "      <td>0</td>\n",
              "      <td>0</td>\n",
              "      <td>0</td>\n",
              "      <td>1</td>\n",
              "      <td>0</td>\n",
              "      <td>0</td>\n",
              "      <td>0</td>\n",
              "      <td>0</td>\n",
              "      <td>0</td>\n",
              "      <td>0</td>\n",
              "      <td>0</td>\n",
              "      <td>1</td>\n",
              "      <td>0</td>\n",
              "      <td>1</td>\n",
              "      <td>0</td>\n",
              "      <td>0</td>\n",
              "      <td>0</td>\n",
              "      <td>1</td>\n",
              "    </tr>\n",
              "    <tr>\n",
              "      <th>2</th>\n",
              "      <td>0</td>\n",
              "      <td>-1.236724</td>\n",
              "      <td>-0.362660</td>\n",
              "      <td>-0.959674</td>\n",
              "      <td>1</td>\n",
              "      <td>0</td>\n",
              "      <td>1</td>\n",
              "      <td>1</td>\n",
              "      <td>0</td>\n",
              "      <td>1</td>\n",
              "      <td>0</td>\n",
              "      <td>0</td>\n",
              "      <td>1</td>\n",
              "      <td>0</td>\n",
              "      <td>0</td>\n",
              "      <td>0</td>\n",
              "      <td>0</td>\n",
              "      <td>0</td>\n",
              "      <td>1</td>\n",
              "      <td>0</td>\n",
              "      <td>1</td>\n",
              "      <td>0</td>\n",
              "      <td>0</td>\n",
              "      <td>0</td>\n",
              "      <td>0</td>\n",
              "      <td>0</td>\n",
              "      <td>0</td>\n",
              "      <td>0</td>\n",
              "      <td>0</td>\n",
              "      <td>1</td>\n",
              "      <td>0</td>\n",
              "      <td>0</td>\n",
              "      <td>0</td>\n",
              "      <td>1</td>\n",
              "      <td>0</td>\n",
              "      <td>0</td>\n",
              "      <td>1</td>\n",
              "    </tr>\n",
              "    <tr>\n",
              "      <th>3</th>\n",
              "      <td>0</td>\n",
              "      <td>0.514251</td>\n",
              "      <td>-0.746535</td>\n",
              "      <td>-0.194766</td>\n",
              "      <td>0</td>\n",
              "      <td>0</td>\n",
              "      <td>1</td>\n",
              "      <td>1</td>\n",
              "      <td>0</td>\n",
              "      <td>1</td>\n",
              "      <td>0</td>\n",
              "      <td>1</td>\n",
              "      <td>0</td>\n",
              "      <td>1</td>\n",
              "      <td>0</td>\n",
              "      <td>0</td>\n",
              "      <td>0</td>\n",
              "      <td>0</td>\n",
              "      <td>1</td>\n",
              "      <td>0</td>\n",
              "      <td>0</td>\n",
              "      <td>0</td>\n",
              "      <td>1</td>\n",
              "      <td>0</td>\n",
              "      <td>1</td>\n",
              "      <td>0</td>\n",
              "      <td>0</td>\n",
              "      <td>0</td>\n",
              "      <td>0</td>\n",
              "      <td>0</td>\n",
              "      <td>1</td>\n",
              "      <td>0</td>\n",
              "      <td>1</td>\n",
              "      <td>0</td>\n",
              "      <td>0</td>\n",
              "      <td>0</td>\n",
              "      <td>0</td>\n",
              "    </tr>\n",
              "    <tr>\n",
              "      <th>4</th>\n",
              "      <td>0</td>\n",
              "      <td>-1.236724</td>\n",
              "      <td>0.197365</td>\n",
              "      <td>-0.940470</td>\n",
              "      <td>1</td>\n",
              "      <td>1</td>\n",
              "      <td>0</td>\n",
              "      <td>1</td>\n",
              "      <td>0</td>\n",
              "      <td>1</td>\n",
              "      <td>0</td>\n",
              "      <td>0</td>\n",
              "      <td>1</td>\n",
              "      <td>0</td>\n",
              "      <td>0</td>\n",
              "      <td>1</td>\n",
              "      <td>0</td>\n",
              "      <td>0</td>\n",
              "      <td>0</td>\n",
              "      <td>0</td>\n",
              "      <td>0</td>\n",
              "      <td>0</td>\n",
              "      <td>0</td>\n",
              "      <td>0</td>\n",
              "      <td>0</td>\n",
              "      <td>0</td>\n",
              "      <td>0</td>\n",
              "      <td>0</td>\n",
              "      <td>0</td>\n",
              "      <td>1</td>\n",
              "      <td>0</td>\n",
              "      <td>0</td>\n",
              "      <td>0</td>\n",
              "      <td>1</td>\n",
              "      <td>0</td>\n",
              "      <td>1</td>\n",
              "      <td>0</td>\n",
              "    </tr>\n",
              "  </tbody>\n",
              "</table>\n",
              "</div>"
            ],
            "text/plain": [
              "   SeniorCitizen  ...  PaymentMethod_Mailed check\n",
              "0              0  ...                           0\n",
              "1              0  ...                           1\n",
              "2              0  ...                           1\n",
              "3              0  ...                           0\n",
              "4              0  ...                           0\n",
              "\n",
              "[5 rows x 37 columns]"
            ]
          },
          "metadata": {
            "tags": []
          },
          "execution_count": 53
        }
      ]
    },
    {
      "cell_type": "markdown",
      "metadata": {
        "id": "WwCk5wSD66Wo"
      },
      "source": [
        "# Model Data Preparation"
      ]
    },
    {
      "cell_type": "code",
      "metadata": {
        "id": "1JyyD63D6-hO"
      },
      "source": [
        "features = data.drop(['Churn'],axis=1)   ## dropping target column and storing all features in features variable\n",
        "target = data['Churn']                   ## selecting only target column (outcome) and storing in target variable"
      ],
      "execution_count": 54,
      "outputs": []
    },
    {
      "cell_type": "code",
      "metadata": {
        "colab": {
          "base_uri": "https://localhost:8080/"
        },
        "id": "91gIl_jB72yR",
        "outputId": "7afe6185-9c09-4616-8416-860568ed20c0"
      },
      "source": [
        "features.shape, target.shape"
      ],
      "execution_count": 55,
      "outputs": [
        {
          "output_type": "execute_result",
          "data": {
            "text/plain": [
              "((7043, 36), (7043,))"
            ]
          },
          "metadata": {
            "tags": []
          },
          "execution_count": 55
        }
      ]
    },
    {
      "cell_type": "code",
      "metadata": {
        "colab": {
          "base_uri": "https://localhost:8080/"
        },
        "id": "RD5cs3MdXUTy",
        "outputId": "1f90cdd2-d534-496c-9cda-ce68ccc71aa2"
      },
      "source": [
        "4000/7043, 3043/7043"
      ],
      "execution_count": 56,
      "outputs": [
        {
          "output_type": "execute_result",
          "data": {
            "text/plain": [
              "(0.5679397983813715, 0.4320602016186284)"
            ]
          },
          "metadata": {
            "tags": []
          },
          "execution_count": 56
        }
      ]
    },
    {
      "cell_type": "code",
      "metadata": {
        "colab": {
          "base_uri": "https://localhost:8080/"
        },
        "id": "NUYbSh_o75ii",
        "outputId": "9dbd1083-81d9-48a9-e612-d3dfe90ccfef"
      },
      "source": [
        "target.value_counts()   ## imbalanced dataset"
      ],
      "execution_count": 57,
      "outputs": [
        {
          "output_type": "execute_result",
          "data": {
            "text/plain": [
              "0    5174\n",
              "1    1869\n",
              "Name: Churn, dtype: int64"
            ]
          },
          "metadata": {
            "tags": []
          },
          "execution_count": 57
        }
      ]
    },
    {
      "cell_type": "code",
      "metadata": {
        "id": "KE8zxhKy8Agm"
      },
      "source": [
        "##### Creating a test set to validate the model on ######\n",
        "\n",
        "split_size = 0.4320602016186284\n",
        "\n",
        "split_ins = StratifiedShuffleSplit(n_splits=1, test_size=split_size, random_state=1000)\n",
        "\n",
        "splits = split_ins.split(features,target)\n",
        "\n",
        "for train_index, test_index in splits:\n",
        "    xtrain = features.iloc[train_index,:]   ## features for the training set\n",
        "    ytrain = target[train_index]            ## target values for the training set\n",
        "    xval = features.iloc[test_index,:]      ## features for the validation set\n",
        "    yval = target[test_index]               ## targets for the validation set"
      ],
      "execution_count": 58,
      "outputs": []
    },
    {
      "cell_type": "code",
      "metadata": {
        "colab": {
          "base_uri": "https://localhost:8080/"
        },
        "id": "5yYp3-ogjbm-",
        "outputId": "b14810fa-3b7b-496f-9ad6-1cb86299349d"
      },
      "source": [
        "xtrain.shape, ytrain.shape, xval.shape, yval.shape"
      ],
      "execution_count": 59,
      "outputs": [
        {
          "output_type": "execute_result",
          "data": {
            "text/plain": [
              "((4000, 36), (4000,), (3043, 36), (3043,))"
            ]
          },
          "metadata": {
            "tags": []
          },
          "execution_count": 59
        }
      ]
    },
    {
      "cell_type": "markdown",
      "metadata": {
        "id": "vU2_WaUyjxEz"
      },
      "source": [
        "# Logistic Regression Model"
      ]
    },
    {
      "cell_type": "code",
      "metadata": {
        "id": "z7KtOYwCj14C"
      },
      "source": [
        "LR_model = LogisticRegression(penalty ='l2' ,class_weight = 'balanced',max_iter=200,random_state=1000)"
      ],
      "execution_count": 60,
      "outputs": []
    },
    {
      "cell_type": "code",
      "metadata": {
        "colab": {
          "base_uri": "https://localhost:8080/"
        },
        "id": "vmYNGhGslQfZ",
        "outputId": "f1f68f39-9b58-4081-e8b1-7125b3892145"
      },
      "source": [
        "LR_model.fit(xtrain,ytrain)                  ##training the model"
      ],
      "execution_count": 61,
      "outputs": [
        {
          "output_type": "execute_result",
          "data": {
            "text/plain": [
              "LogisticRegression(C=1.0, class_weight='balanced', dual=False,\n",
              "                   fit_intercept=True, intercept_scaling=1, l1_ratio=None,\n",
              "                   max_iter=200, multi_class='auto', n_jobs=None, penalty='l2',\n",
              "                   random_state=1000, solver='lbfgs', tol=0.0001, verbose=0,\n",
              "                   warm_start=False)"
            ]
          },
          "metadata": {
            "tags": []
          },
          "execution_count": 61
        }
      ]
    },
    {
      "cell_type": "code",
      "metadata": {
        "id": "zFc6HuwHlWUA"
      },
      "source": [
        "prediction_train = LR_model.predict_proba(xtrain)                 ## applies a threshold of 0.5"
      ],
      "execution_count": 62,
      "outputs": []
    },
    {
      "cell_type": "code",
      "metadata": {
        "colab": {
          "base_uri": "https://localhost:8080/",
          "height": 346
        },
        "id": "x0ySR-f1ldCq",
        "outputId": "cd54ead6-fca3-471e-bde1-f8ffd4ba115f"
      },
      "source": [
        "print(confusion_matrix(y_true = ytrain, y_pred = LR_model.predict(xtrain)))                  ##confusion matrix for pred on train set\n",
        "\n",
        "print ('The F1-SCORE on the train set prediction ',f1_score(y_true=ytrain,y_pred = LR_model.predict(xtrain),sample_weight = ytrain))   ## calculating F score\n",
        "plot_roc_curve(LR_model,X =xtrain, y= ytrain)  ## plotting roc and auc curve"
      ],
      "execution_count": 63,
      "outputs": [
        {
          "output_type": "stream",
          "text": [
            "[[2159  780]\n",
            " [ 207  854]]\n",
            "The F1-SCORE on the train set prediction  0.8919060052219322\n"
          ],
          "name": "stdout"
        },
        {
          "output_type": "execute_result",
          "data": {
            "text/plain": [
              "<sklearn.metrics._plot.roc_curve.RocCurveDisplay at 0x7f185b4e3b10>"
            ]
          },
          "metadata": {
            "tags": []
          },
          "execution_count": 63
        },
        {
          "output_type": "display_data",
          "data": {
            "image/png": "[encoded data removed]",
            "text/plain": [
              "<Figure size 432x288 with 1 Axes>"
            ]
          },
          "metadata": {
            "tags": [],
            "needs_background": "light"
          }
        }
      ]
    },
    {
      "cell_type": "code",
      "metadata": {
        "id": "CAc8Kv7_lkD5"
      },
      "source": [
        "##******************** validation set **********************************\n",
        "predictionval = LR_model.predict_proba(xval) ### applies a threshold of 0.5"
      ],
      "execution_count": 64,
      "outputs": []
    },
    {
      "cell_type": "code",
      "metadata": {
        "colab": {
          "base_uri": "https://localhost:8080/",
          "height": 346
        },
        "id": "Hv4auHfbmDbv",
        "outputId": "6ce8e9f1-96d8-4025-c213-b6b276957dce"
      },
      "source": [
        "print(confusion_matrix(y_true = yval, y_pred = LR_model.predict(xval)))          ## confusion matrix for pred on validation set\n",
        "\n",
        "print ('The F1-SCORE on the validation set prediction ',f1_score(y_true=yval,y_pred = LR_model.predict(xval),sample_weight = yval))   ## calculating F score\n",
        "plot_roc_curve(LR_model,X =xval, y= yval)         ## plotting roc and auc curve "
      ],
      "execution_count": 65,
      "outputs": [
        {
          "output_type": "stream",
          "text": [
            "[[1588  647]\n",
            " [ 162  646]]\n",
            "The F1-SCORE on the validation set prediction  0.8885832187070152\n"
          ],
          "name": "stdout"
        },
        {
          "output_type": "execute_result",
          "data": {
            "text/plain": [
              "<sklearn.metrics._plot.roc_curve.RocCurveDisplay at 0x7f185b1fdc50>"
            ]
          },
          "metadata": {
            "tags": []
          },
          "execution_count": 65
        },
        {
          "output_type": "display_data",
          "data": {
            "image/png": "[encoded data removed]",
            "text/plain": [
              "<Figure size 432x288 with 1 Axes>"
            ]
          },
          "metadata": {
            "tags": [],
            "needs_background": "light"
          }
        }
      ]
    },
    {
      "cell_type": "markdown",
      "metadata": {
        "id": "utiaY5fzog2e"
      },
      "source": [
        "# Decision Tree Model"
      ]
    },
    {
      "cell_type": "code",
      "metadata": {
        "id": "4DD0Bm5QokRm"
      },
      "source": [
        "clf = DecisionTreeClassifier()\n",
        "\n",
        "params={'class_weight':['balanced'], \n",
        "        'max_features' : [1,5],\n",
        "        'max_depth' : [6,7,8,9,10],\n",
        "        'criterion' :['gini','entropy'],\n",
        "        'min_samples_split' : [2,5,10,20]}"
      ],
      "execution_count": 66,
      "outputs": []
    },
    {
      "cell_type": "code",
      "metadata": {
        "colab": {
          "base_uri": "https://localhost:8080/"
        },
        "id": "RB3BAsB4o8v_",
        "outputId": "7e7574cf-97dd-474b-837a-2619ae8c314f"
      },
      "source": [
        "##### Fitting grid search cv to find the best combination of hyper parameters ####\n",
        "\n",
        "grid_search = GridSearchCV(estimator = clf,param_grid = params,cv = 5,scoring = 'f1', return_train_score=True)\n",
        "\n",
        "grid_search.fit(xtrain,ytrain)"
      ],
      "execution_count": 67,
      "outputs": [
        {
          "output_type": "execute_result",
          "data": {
            "text/plain": [
              "GridSearchCV(cv=5, error_score=nan,\n",
              "             estimator=DecisionTreeClassifier(ccp_alpha=0.0, class_weight=None,\n",
              "                                              criterion='gini', max_depth=None,\n",
              "                                              max_features=None,\n",
              "                                              max_leaf_nodes=None,\n",
              "                                              min_impurity_decrease=0.0,\n",
              "                                              min_impurity_split=None,\n",
              "                                              min_samples_leaf=1,\n",
              "                                              min_samples_split=2,\n",
              "                                              min_weight_fraction_leaf=0.0,\n",
              "                                              presort='deprecated',\n",
              "                                              random_state=None,\n",
              "                                              splitter='best'),\n",
              "             iid='deprecated', n_jobs=None,\n",
              "             param_grid={'class_weight': ['balanced'],\n",
              "                         'criterion': ['gini', 'entropy'],\n",
              "                         'max_depth': [6, 7, 8, 9, 10], 'max_features': [1, 5],\n",
              "                         'min_samples_split': [2, 5, 10, 20]},\n",
              "             pre_dispatch='2*n_jobs', refit=True, return_train_score=True,\n",
              "             scoring='f1', verbose=0)"
            ]
          },
          "metadata": {
            "tags": []
          },
          "execution_count": 67
        }
      ]
    },
    {
      "cell_type": "code",
      "metadata": {
        "colab": {
          "base_uri": "https://localhost:8080/"
        },
        "id": "aIFOOAvmpDae",
        "outputId": "e341f10d-6c2a-428b-fe2e-da2848e31cc8"
      },
      "source": [
        "grid_search.best_estimator_   ## shows best set of parameter"
      ],
      "execution_count": 68,
      "outputs": [
        {
          "output_type": "execute_result",
          "data": {
            "text/plain": [
              "DecisionTreeClassifier(ccp_alpha=0.0, class_weight='balanced', criterion='gini',\n",
              "                       max_depth=6, max_features=5, max_leaf_nodes=None,\n",
              "                       min_impurity_decrease=0.0, min_impurity_split=None,\n",
              "                       min_samples_leaf=1, min_samples_split=5,\n",
              "                       min_weight_fraction_leaf=0.0, presort='deprecated',\n",
              "                       random_state=None, splitter='best')"
            ]
          },
          "metadata": {
            "tags": []
          },
          "execution_count": 68
        }
      ]
    },
    {
      "cell_type": "code",
      "metadata": {
        "id": "kYhGJWyvpRkZ"
      },
      "source": [
        "clf = grid_search.best_estimator_"
      ],
      "execution_count": 69,
      "outputs": []
    },
    {
      "cell_type": "code",
      "metadata": {
        "colab": {
          "base_uri": "https://localhost:8080/"
        },
        "id": "uMCGiJsDpUrZ",
        "outputId": "8d883311-e04b-4de5-acb7-4b6740dfd4aa"
      },
      "source": [
        "clf.fit(xtrain,ytrain)   ## fitting with best set of parameters given by gridsearchcv"
      ],
      "execution_count": 70,
      "outputs": [
        {
          "output_type": "execute_result",
          "data": {
            "text/plain": [
              "DecisionTreeClassifier(ccp_alpha=0.0, class_weight='balanced', criterion='gini',\n",
              "                       max_depth=6, max_features=5, max_leaf_nodes=None,\n",
              "                       min_impurity_decrease=0.0, min_impurity_split=None,\n",
              "                       min_samples_leaf=1, min_samples_split=5,\n",
              "                       min_weight_fraction_leaf=0.0, presort='deprecated',\n",
              "                       random_state=None, splitter='best')"
            ]
          },
          "metadata": {
            "tags": []
          },
          "execution_count": 70
        }
      ]
    },
    {
      "cell_type": "code",
      "metadata": {
        "colab": {
          "base_uri": "https://localhost:8080/",
          "height": 330
        },
        "id": "B1r6YFLYpXK4",
        "outputId": "6ee65f2d-28d9-4865-d770-42bd1053a5ca"
      },
      "source": [
        "## Evaluating model on train set\n",
        "\n",
        "predicted_train = clf.predict(xtrain)      # prediction on train set\n",
        "\n",
        "plot_roc_curve(clf,X =xtrain, y= ytrain)     # roc and auc curve\n",
        "\n",
        "print(confusion_matrix(y_true = ytrain, y_pred = predicted_train))   # printing confusion matrix\n",
        "\n",
        "print ('The F1-SCORE on the train set prediction ',f1_score(y_true=ytrain,y_pred = predicted_train,sample_weight = ytrain))  # calculating F1 score"
      ],
      "execution_count": 71,
      "outputs": [
        {
          "output_type": "stream",
          "text": [
            "[[2094  845]\n",
            " [ 197  864]]\n",
            "The F1-SCORE on the train set prediction  0.8976623376623376\n"
          ],
          "name": "stdout"
        },
        {
          "output_type": "display_data",
          "data": {
            "image/png": "[encoded data removed]",
            "text/plain": [
              "<Figure size 432x288 with 1 Axes>"
            ]
          },
          "metadata": {
            "tags": [],
            "needs_background": "light"
          }
        }
      ]
    },
    {
      "cell_type": "code",
      "metadata": {
        "colab": {
          "base_uri": "https://localhost:8080/",
          "height": 330
        },
        "id": "MxPz0UYdpnet",
        "outputId": "363fad6e-f97f-4ba5-c684-944664117401"
      },
      "source": [
        "## Evaluating model on train set\n",
        "\n",
        "predicted_val = clf.predict(xval)         # prediction on validation set\n",
        "\n",
        "plot_roc_curve(clf,X =xval, y= yval)            # roc and auc curve\n",
        "\n",
        "print(confusion_matrix(y_true = yval, y_pred = predicted_val))                # printing confusion matrix\n",
        "\n",
        "print ('The F1-SCORE on the validation set prediction ',f1_score(y_true=yval,y_pred = predicted_val,sample_weight = yval))      # calculating F1 score"
      ],
      "execution_count": 72,
      "outputs": [
        {
          "output_type": "stream",
          "text": [
            "[[1541  694]\n",
            " [ 181  627]]\n",
            "The F1-SCORE on the validation set prediction  0.8738675958188153\n"
          ],
          "name": "stdout"
        },
        {
          "output_type": "display_data",
          "data": {
            "image/png": "[encoded data removed]",
            "text/plain": [
              "<Figure size 432x288 with 1 Axes>"
            ]
          },
          "metadata": {
            "tags": [],
            "needs_background": "light"
          }
        }
      ]
    },
    {
      "cell_type": "markdown",
      "metadata": {
        "id": "YkrU4ghp1Pjc"
      },
      "source": [
        "# Random Forest Model"
      ]
    },
    {
      "cell_type": "code",
      "metadata": {
        "id": "kSIoM3vz4vf9"
      },
      "source": [
        "from sklearn.ensemble import RandomForestClassifier         ## models from sklearn"
      ],
      "execution_count": 73,
      "outputs": []
    },
    {
      "cell_type": "code",
      "metadata": {
        "id": "kol5oNPu4brA"
      },
      "source": [
        "#### Fitting a random forest classifier ######\n",
        "\n",
        "clf = RandomForestClassifier()                          ## random forest function from  sklearn\n",
        "\n",
        "params={'n_estimators':[50,70,100],                     ## number of trees combination i want\n",
        "        'class_weight':['balanced'],                \n",
        "        'criterion':['gini'],                           ## two different methods to find purity of node\n",
        "        'max_depth':[3,4,5],                            ## depth combination\n",
        "        'min_samples_split': [2,3,4,5],                 ## minimum number of samples must be there for occurence of a split\n",
        "        'max_samples':[0.7,0.8,0.9],\n",
        "        'max_features':[10,12,15,18,20]}                ## parameter combinations"
      ],
      "execution_count": 74,
      "outputs": []
    },
    {
      "cell_type": "code",
      "metadata": {
        "colab": {
          "base_uri": "https://localhost:8080/"
        },
        "id": "NYLcF7XV4gdT",
        "outputId": "92357031-ab1a-4a04-bece-a0b2b8d9bf55"
      },
      "source": [
        "grid_search = GridSearchCV(estimator = clf,param_grid = params,cv = 5,scoring = 'f1',return_train_score=True)\n",
        "\n",
        "grid_search.fit(xtrain, ytrain)"
      ],
      "execution_count": 75,
      "outputs": [
        {
          "output_type": "execute_result",
          "data": {
            "text/plain": [
              "GridSearchCV(cv=5, error_score=nan,\n",
              "             estimator=RandomForestClassifier(bootstrap=True, ccp_alpha=0.0,\n",
              "                                              class_weight=None,\n",
              "                                              criterion='gini', max_depth=None,\n",
              "                                              max_features='auto',\n",
              "                                              max_leaf_nodes=None,\n",
              "                                              max_samples=None,\n",
              "                                              min_impurity_decrease=0.0,\n",
              "                                              min_impurity_split=None,\n",
              "                                              min_samples_leaf=1,\n",
              "                                              min_samples_split=2,\n",
              "                                              min_weight_fraction_leaf=0.0,\n",
              "                                              n_estimators=100, n_jobs=None,...\n",
              "                                              random_state=None, verbose=0,\n",
              "                                              warm_start=False),\n",
              "             iid='deprecated', n_jobs=None,\n",
              "             param_grid={'class_weight': ['balanced'], 'criterion': ['gini'],\n",
              "                         'max_depth': [3, 4, 5],\n",
              "                         'max_features': [10, 12, 15, 18, 20],\n",
              "                         'max_samples': [0.7, 0.8, 0.9],\n",
              "                         'min_samples_split': [2, 3, 4, 5],\n",
              "                         'n_estimators': [50, 70, 100]},\n",
              "             pre_dispatch='2*n_jobs', refit=True, return_train_score=True,\n",
              "             scoring='f1', verbose=0)"
            ]
          },
          "metadata": {
            "tags": []
          },
          "execution_count": 75
        }
      ]
    },
    {
      "cell_type": "code",
      "metadata": {
        "colab": {
          "base_uri": "https://localhost:8080/"
        },
        "id": "hpfMQXuL43KZ",
        "outputId": "927303c3-13a1-4d6a-9eff-42d0988975ce"
      },
      "source": [
        "grid_search.best_estimator_    ## printing best estimators"
      ],
      "execution_count": 76,
      "outputs": [
        {
          "output_type": "execute_result",
          "data": {
            "text/plain": [
              "RandomForestClassifier(bootstrap=True, ccp_alpha=0.0, class_weight='balanced',\n",
              "                       criterion='gini', max_depth=5, max_features=20,\n",
              "                       max_leaf_nodes=None, max_samples=0.7,\n",
              "                       min_impurity_decrease=0.0, min_impurity_split=None,\n",
              "                       min_samples_leaf=1, min_samples_split=4,\n",
              "                       min_weight_fraction_leaf=0.0, n_estimators=50,\n",
              "                       n_jobs=None, oob_score=False, random_state=None,\n",
              "                       verbose=0, warm_start=False)"
            ]
          },
          "metadata": {
            "tags": []
          },
          "execution_count": 76
        }
      ]
    },
    {
      "cell_type": "code",
      "metadata": {
        "id": "HFvA05cm5BZj"
      },
      "source": [
        "clf = grid_search.best_estimator_  "
      ],
      "execution_count": 77,
      "outputs": []
    },
    {
      "cell_type": "code",
      "metadata": {
        "colab": {
          "base_uri": "https://localhost:8080/"
        },
        "id": "oVUsi8X35BWa",
        "outputId": "c72c95e8-ae20-4838-ba55-8cc5b2fb2542"
      },
      "source": [
        "clf.fit(xtrain, ytrain)     ## training model with best estimators obtained from gridsearchcv"
      ],
      "execution_count": 78,
      "outputs": [
        {
          "output_type": "execute_result",
          "data": {
            "text/plain": [
              "RandomForestClassifier(bootstrap=True, ccp_alpha=0.0, class_weight='balanced',\n",
              "                       criterion='gini', max_depth=5, max_features=20,\n",
              "                       max_leaf_nodes=None, max_samples=0.7,\n",
              "                       min_impurity_decrease=0.0, min_impurity_split=None,\n",
              "                       min_samples_leaf=1, min_samples_split=4,\n",
              "                       min_weight_fraction_leaf=0.0, n_estimators=50,\n",
              "                       n_jobs=None, oob_score=False, random_state=None,\n",
              "                       verbose=0, warm_start=False)"
            ]
          },
          "metadata": {
            "tags": []
          },
          "execution_count": 78
        }
      ]
    },
    {
      "cell_type": "code",
      "metadata": {
        "colab": {
          "base_uri": "https://localhost:8080/",
          "height": 330
        },
        "id": "sis_eYoF5BTJ",
        "outputId": "00d8c2e0-b807-442b-c397-691ef4394715"
      },
      "source": [
        "## Evaluating model on train set\n",
        "\n",
        "predicted_train = clf.predict(xtrain)          # prediction on train set\n",
        "\n",
        "plot_roc_curve(clf,X =xtrain, y= ytrain)         # roc and auc curve\n",
        "\n",
        "print(confusion_matrix(y_true = ytrain, y_pred = predicted_train))      # printing confusion matrix\n",
        "\n",
        "print ('The F1-SCORE on the train set prediction ',f1_score(y_true=ytrain,y_pred = predicted_train,sample_weight = ytrain))  # calculating F1 score"
      ],
      "execution_count": 79,
      "outputs": [
        {
          "output_type": "stream",
          "text": [
            "[[2209  730]\n",
            " [ 179  882]]\n",
            "The F1-SCORE on the train set prediction  0.9078744209984559\n"
          ],
          "name": "stdout"
        },
        {
          "output_type": "display_data",
          "data": {
            "image/png": "[encoded data removed]",
            "text/plain": [
              "<Figure size 432x288 with 1 Axes>"
            ]
          },
          "metadata": {
            "tags": [],
            "needs_background": "light"
          }
        }
      ]
    },
    {
      "cell_type": "code",
      "metadata": {
        "colab": {
          "base_uri": "https://localhost:8080/",
          "height": 330
        },
        "id": "vM4uVQeI5hvH",
        "outputId": "9257a63a-6245-4074-8653-7ef5468a6dfd"
      },
      "source": [
        "##**************** validation set *********************************\n",
        "\n",
        "predicted_train = clf.predict(xval)     # prediction on validation set\n",
        "\n",
        "plot_roc_curve(clf,X =xval, y= yval)      # roc and auc curve\n",
        "\n",
        "print(confusion_matrix(y_true = yval, y_pred = predicted_train))       # printing confusion matrix\n",
        "\n",
        "print ('The F1-SCORE on the validation set prediction ',f1_score(y_true=yval,y_pred = predicted_train,sample_weight = yval))      # calculating F1 score"
      ],
      "execution_count": 80,
      "outputs": [
        {
          "output_type": "stream",
          "text": [
            "[[1614  621]\n",
            " [ 159  649]]\n",
            "The F1-SCORE on the validation set prediction  0.8908716540837337\n"
          ],
          "name": "stdout"
        },
        {
          "output_type": "display_data",
          "data": {
            "image/png": "[encoded data removed]",
            "text/plain": [
              "<Figure size 432x288 with 1 Axes>"
            ]
          },
          "metadata": {
            "tags": [],
            "needs_background": "light"
          }
        }
      ]
    },
    {
      "cell_type": "code",
      "metadata": {
        "id": "-hLBOPmd-ec8"
      },
      "source": [
        "### Calculating the feature importances ####\n",
        "\n",
        "importances = clf.feature_importances_\n",
        "\n",
        "columns = list(xtrain.columns)\n",
        "\n",
        "importances_dict = {columns[i]: importances[i] for i in range(len(columns))}\n",
        "\n",
        "importances_dict = dict(sorted(importances_dict.items(), key=lambda importances_dict: importances_dict[1],reverse=True))"
      ],
      "execution_count": 81,
      "outputs": []
    },
    {
      "cell_type": "code",
      "metadata": {
        "colab": {
          "base_uri": "https://localhost:8080/"
        },
        "id": "SKzWZ5pdga0Z",
        "outputId": "94d6703e-4dc2-4112-d9fc-c35712e8b163"
      },
      "source": [
        "importances_dict"
      ],
      "execution_count": 82,
      "outputs": [
        {
          "output_type": "execute_result",
          "data": {
            "text/plain": [
              "{'Contract_Month-to-month': 0.3531416103566933,\n",
              " 'Contract_One year': 0.035331041636867566,\n",
              " 'Contract_Two year': 0.12335086779108285,\n",
              " 'Dependents_No': 0.0018729401706792438,\n",
              " 'Dependents_Yes': 0.0022067173746503025,\n",
              " 'DeviceProtection_No internet service': 0.002377580598162851,\n",
              " 'DeviceProtection_Yes': 0.0012023765733671248,\n",
              " 'InternetService_Fiber optic': 0.08178580016984327,\n",
              " 'InternetService_No': 0.005636031851657146,\n",
              " 'MonthlyCharges': 0.07489361284554434,\n",
              " 'MultipleLines_No phone service': 0.0030907471534545442,\n",
              " 'MultipleLines_Yes': 0.0037542449257257616,\n",
              " 'OnlineBackup_No internet service': 0.005927040585629861,\n",
              " 'OnlineBackup_Yes': 0.00389768527963583,\n",
              " 'OnlineSecurity_No internet service': 0.005745913614846407,\n",
              " 'OnlineSecurity_Yes': 0.012435689750938577,\n",
              " 'PaperlessBilling_No': 0.0058245785986297816,\n",
              " 'PaperlessBilling_Yes': 0.00296182493051231,\n",
              " 'Partner_No': 0.0011105692206075325,\n",
              " 'Partner_Yes': 0.0017502447167310716,\n",
              " 'PaymentMethod_Credit card (automatic)': 0.0016747688146451429,\n",
              " 'PaymentMethod_Electronic check': 0.014051914793346191,\n",
              " 'PaymentMethod_Mailed check': 0.002961287610222792,\n",
              " 'PhoneService_No': 0.006721184762348644,\n",
              " 'PhoneService_Yes': 0.0013558186375967984,\n",
              " 'SeniorCitizen': 0.004744818974246447,\n",
              " 'StreamingMovies_No internet service': 0.003013220365892391,\n",
              " 'StreamingMovies_Yes': 0.01563699432577869,\n",
              " 'StreamingTV_No internet service': 0.002824834818284216,\n",
              " 'StreamingTV_Yes': 0.00902201600456095,\n",
              " 'TechSupport_No internet service': 0.0014445967364472916,\n",
              " 'TechSupport_Yes': 0.00847916024155633,\n",
              " 'TotalCharges': 0.06626784650675548,\n",
              " 'gender_Female': 0.0010432279415040384,\n",
              " 'gender_Male': 0.0010938263688820527,\n",
              " 'tenure': 0.13136736495267284}"
            ]
          },
          "metadata": {
            "tags": []
          },
          "execution_count": 82
        }
      ]
    },
    {
      "cell_type": "markdown",
      "metadata": {
        "id": "mZqe6dSN_IYa"
      },
      "source": [
        "# XG Boost Model"
      ]
    },
    {
      "cell_type": "code",
      "metadata": {
        "id": "MjNhDnew_LwP"
      },
      "source": [
        "from xgboost.sklearn import XGBClassifier     "
      ],
      "execution_count": 83,
      "outputs": []
    },
    {
      "cell_type": "code",
      "metadata": {
        "id": "oIuUusZQHJo0"
      },
      "source": [
        "from sklearn.model_selection import RandomizedSearchCV  "
      ],
      "execution_count": 84,
      "outputs": []
    },
    {
      "cell_type": "code",
      "metadata": {
        "id": "yl1RgQ6DClLf"
      },
      "source": [
        "## trying with different parameters\n",
        "\n",
        "xgb_params = {  \n",
        "                \"learning_rate\":[0.01,0.05,0.1,0.3,0.5],\n",
        "                \"gamma\":[i/10.0 for i in range(0,5)],\n",
        "                \"max_depth\": [2,3,4,5,6,7,8],\n",
        "                \"min_child_weight\":[1,2,5,10],\n",
        "                \"max_delta_step\":[0,1,2,5,10],\n",
        "                \"subsample\":[i/10.0 for i in range(5,10)],\n",
        "                \"colsample_bytree\":[i/10.0 for i in range(5,10)],\n",
        "                \"colsample_bylevel\":[i/10.0 for i in range(5,10)],\n",
        "                \"reg_lambda\":[1e-5, 1e-2, 0.1, 1, 100], \n",
        "                \"reg_alpha\":[1e-5, 1e-2, 0.1, 1, 100],\n",
        "                \"scale_pos_weight\":[1,2,3,4,5,6,7,8,9],\n",
        "                \"n_estimators\":[100,500,700,1000]\n",
        "             }"
      ],
      "execution_count": 85,
      "outputs": []
    },
    {
      "cell_type": "code",
      "metadata": {
        "id": "iI39HfnpGv4A"
      },
      "source": [
        "xgb=XGBClassifier(objective='binary:logistic')   ## binary classification "
      ],
      "execution_count": 86,
      "outputs": []
    },
    {
      "cell_type": "code",
      "metadata": {
        "id": "-qbweGQGGzRn"
      },
      "source": [
        "n_iter=10\n",
        "\n",
        "random_search=RandomizedSearchCV(xgb,n_jobs=-1,cv=10,n_iter=n_iter,scoring='roc_auc',\n",
        "                                 param_distributions=xgb_params)"
      ],
      "execution_count": 87,
      "outputs": []
    },
    {
      "cell_type": "code",
      "metadata": {
        "colab": {
          "base_uri": "https://localhost:8080/"
        },
        "id": "KNNd73LUG2Bb",
        "outputId": "ec70242e-9f0c-484c-fca7-02f2909ad2f7"
      },
      "source": [
        "random_search.fit(xtrain,ytrain)    ## training the model with different parameters to obtain best set of parameters"
      ],
      "execution_count": 88,
      "outputs": [
        {
          "output_type": "execute_result",
          "data": {
            "text/plain": [
              "RandomizedSearchCV(cv=10, error_score=nan,\n",
              "                   estimator=XGBClassifier(base_score=0.5, booster='gbtree',\n",
              "                                           colsample_bylevel=1,\n",
              "                                           colsample_bynode=1,\n",
              "                                           colsample_bytree=1, gamma=0,\n",
              "                                           learning_rate=0.1, max_delta_step=0,\n",
              "                                           max_depth=3, min_child_weight=1,\n",
              "                                           missing=None, n_estimators=100,\n",
              "                                           n_jobs=1, nthread=None,\n",
              "                                           objective='binary:logistic',\n",
              "                                           random_state=0, reg_alpha=0,\n",
              "                                           reg_lambda=1, s...\n",
              "                                        'max_delta_step': [0, 1, 2, 5, 10],\n",
              "                                        'max_depth': [2, 3, 4, 5, 6, 7, 8],\n",
              "                                        'min_child_weight': [1, 2, 5, 10],\n",
              "                                        'n_estimators': [100, 500, 700, 1000],\n",
              "                                        'reg_alpha': [1e-05, 0.01, 0.1, 1, 100],\n",
              "                                        'reg_lambda': [1e-05, 0.01, 0.1, 1,\n",
              "                                                       100],\n",
              "                                        'scale_pos_weight': [1, 2, 3, 4, 5, 6,\n",
              "                                                             7, 8, 9],\n",
              "                                        'subsample': [0.5, 0.6, 0.7, 0.8, 0.9]},\n",
              "                   pre_dispatch='2*n_jobs', random_state=None, refit=True,\n",
              "                   return_train_score=False, scoring='roc_auc', verbose=0)"
            ]
          },
          "metadata": {
            "tags": []
          },
          "execution_count": 88
        }
      ]
    },
    {
      "cell_type": "code",
      "metadata": {
        "id": "WZXWtayuJwQN"
      },
      "source": [
        "## defining a function to get report means summary\n",
        "\n",
        "def report(results, n_top=3):\n",
        "    for i in range(1, n_top + 1):\n",
        "        candidates = np.flatnonzero(results['rank_test_score'] == i)\n",
        "        for candidate in candidates:\n",
        "            print(\"Model with rank: {0}\".format(i))\n",
        "            print(\"Mean validation score: {0:.3f} (std: {1:.5f})\".format(\n",
        "                  results['mean_test_score'][candidate],\n",
        "                  results['std_test_score'][candidate]))\n",
        "            print(\"Parameters: {0}\".format(results['params'][candidate]))\n",
        "            print(\"\")"
      ],
      "execution_count": 89,
      "outputs": []
    },
    {
      "cell_type": "code",
      "metadata": {
        "colab": {
          "base_uri": "https://localhost:8080/"
        },
        "id": "9LEGq1DOG4Mg",
        "outputId": "9bca914d-bc6c-4e13-844b-1cb06367098b"
      },
      "source": [
        "report(random_search.cv_results_,5)"
      ],
      "execution_count": 90,
      "outputs": [
        {
          "output_type": "stream",
          "text": [
            "Model with rank: 1\n",
            "Mean validation score: 0.851 (std: 0.02325)\n",
            "Parameters: {'subsample': 0.5, 'scale_pos_weight': 7, 'reg_lambda': 1, 'reg_alpha': 0.1, 'n_estimators': 100, 'min_child_weight': 10, 'max_depth': 8, 'max_delta_step': 0, 'learning_rate': 0.01, 'gamma': 0.0, 'colsample_bytree': 0.6, 'colsample_bylevel': 0.8}\n",
            "\n",
            "Model with rank: 2\n",
            "Mean validation score: 0.848 (std: 0.02106)\n",
            "Parameters: {'subsample': 0.5, 'scale_pos_weight': 8, 'reg_lambda': 100, 'reg_alpha': 100, 'n_estimators': 700, 'min_child_weight': 2, 'max_depth': 7, 'max_delta_step': 10, 'learning_rate': 0.1, 'gamma': 0.1, 'colsample_bytree': 0.9, 'colsample_bylevel': 0.7}\n",
            "\n",
            "Model with rank: 3\n",
            "Mean validation score: 0.848 (std: 0.02376)\n",
            "Parameters: {'subsample': 0.8, 'scale_pos_weight': 5, 'reg_lambda': 0.1, 'reg_alpha': 0.1, 'n_estimators': 100, 'min_child_weight': 2, 'max_depth': 2, 'max_delta_step': 10, 'learning_rate': 0.3, 'gamma': 0.3, 'colsample_bytree': 0.8, 'colsample_bylevel': 0.5}\n",
            "\n",
            "Model with rank: 4\n",
            "Mean validation score: 0.841 (std: 0.02031)\n",
            "Parameters: {'subsample': 0.6, 'scale_pos_weight': 2, 'reg_lambda': 0.1, 'reg_alpha': 100, 'n_estimators': 100, 'min_child_weight': 10, 'max_depth': 5, 'max_delta_step': 5, 'learning_rate': 0.1, 'gamma': 0.4, 'colsample_bytree': 0.6, 'colsample_bylevel': 0.6}\n",
            "\n",
            "Model with rank: 5\n",
            "Mean validation score: 0.839 (std: 0.02276)\n",
            "Parameters: {'subsample': 0.8, 'scale_pos_weight': 3, 'reg_lambda': 0.01, 'reg_alpha': 0.01, 'n_estimators': 700, 'min_child_weight': 1, 'max_depth': 8, 'max_delta_step': 2, 'learning_rate': 0.01, 'gamma': 0.4, 'colsample_bytree': 0.8, 'colsample_bylevel': 0.9}\n",
            "\n"
          ],
          "name": "stdout"
        }
      ]
    },
    {
      "cell_type": "code",
      "metadata": {
        "colab": {
          "base_uri": "https://localhost:8080/"
        },
        "id": "d6NDlGihHBWq",
        "outputId": "523e9572-c0d8-4225-c355-97bd92307995"
      },
      "source": [
        "random_search.best_estimator_   ## best estimators"
      ],
      "execution_count": 91,
      "outputs": [
        {
          "output_type": "execute_result",
          "data": {
            "text/plain": [
              "XGBClassifier(base_score=0.5, booster='gbtree', colsample_bylevel=0.8,\n",
              "              colsample_bynode=1, colsample_bytree=0.6, gamma=0.0,\n",
              "              learning_rate=0.01, max_delta_step=0, max_depth=8,\n",
              "              min_child_weight=10, missing=None, n_estimators=100, n_jobs=1,\n",
              "              nthread=None, objective='binary:logistic', random_state=0,\n",
              "              reg_alpha=0.1, reg_lambda=1, scale_pos_weight=7, seed=None,\n",
              "              silent=None, subsample=0.5, verbosity=1)"
            ]
          },
          "metadata": {
            "tags": []
          },
          "execution_count": 91
        }
      ]
    },
    {
      "cell_type": "code",
      "metadata": {
        "id": "MIz87JXfJ10C"
      },
      "source": [
        "xgbmodel = random_search.best_estimator_"
      ],
      "execution_count": 92,
      "outputs": []
    },
    {
      "cell_type": "code",
      "metadata": {
        "id": "XcY5q51fd7RX"
      },
      "source": [
        "from sklearn.model_selection import cross_val_score"
      ],
      "execution_count": 93,
      "outputs": []
    },
    {
      "cell_type": "code",
      "metadata": {
        "colab": {
          "base_uri": "https://localhost:8080/"
        },
        "id": "odxRGIplK292",
        "outputId": "f4c0f344-74e6-4df3-8510-d0d4d21dff65"
      },
      "source": [
        "cross_val_score(xgbmodel,xtrain,ytrain,scoring='roc_auc',verbose=10,n_jobs=-1,cv=10)    ## training with best obtained params and getting validation score"
      ],
      "execution_count": 94,
      "outputs": [
        {
          "output_type": "stream",
          "text": [
            "[Parallel(n_jobs=-1)]: Using backend LokyBackend with 2 concurrent workers.\n",
            "[Parallel(n_jobs=-1)]: Done   1 tasks      | elapsed:    1.0s\n",
            "[Parallel(n_jobs=-1)]: Done   4 tasks      | elapsed:    2.0s\n",
            "[Parallel(n_jobs=-1)]: Done  10 out of  10 | elapsed:    4.9s finished\n"
          ],
          "name": "stderr"
        },
        {
          "output_type": "execute_result",
          "data": {
            "text/plain": [
              "array([0.8702028 , 0.81555641, 0.87941214, 0.82890515, 0.84997112,\n",
              "       0.82287255, 0.85386985, 0.86535746, 0.83570787, 0.88625562])"
            ]
          },
          "metadata": {
            "tags": []
          },
          "execution_count": 94
        }
      ]
    },
    {
      "cell_type": "code",
      "metadata": {
        "id": "WOkG6lbtLRj2"
      },
      "source": [
        "## Validation scores\n",
        "\n",
        "scores =[0.8702028 , 0.81555641, 0.87941214, 0.82890515, 0.84997112,\n",
        "       0.82287255, 0.85386985, 0.86535746, 0.83570787, 0.88625562]"
      ],
      "execution_count": 98,
      "outputs": []
    },
    {
      "cell_type": "code",
      "metadata": {
        "colab": {
          "base_uri": "https://localhost:8080/"
        },
        "id": "QwXvZCZALnUH",
        "outputId": "27cae16b-60c4-467b-9954-cb636ac0bf61"
      },
      "source": [
        "scores"
      ],
      "execution_count": 99,
      "outputs": [
        {
          "output_type": "execute_result",
          "data": {
            "text/plain": [
              "[0.8702028,\n",
              " 0.81555641,\n",
              " 0.87941214,\n",
              " 0.82890515,\n",
              " 0.84997112,\n",
              " 0.82287255,\n",
              " 0.85386985,\n",
              " 0.86535746,\n",
              " 0.83570787,\n",
              " 0.88625562]"
            ]
          },
          "metadata": {
            "tags": []
          },
          "execution_count": 99
        }
      ]
    },
    {
      "cell_type": "markdown",
      "metadata": {
        "id": "pq98OH18xDmU"
      },
      "source": [
        "# Questions & Answers"
      ]
    },
    {
      "cell_type": "code",
      "metadata": {
        "id": "IbvGGQK0R2M9"
      },
      "source": [
        "#1. Data cleaning including missing values, outliers and multi-collinearity.\n",
        "#Ans: I converted the categorical variables into numerical variables (e.g. Yes/No to 1/0). Also i filled null values in total charges column with median. I ensured\n",
        "#   that all the values are in numeric format.Then I created a new dataframe which consists of zeros and ones. The dataframe will have a one depending on the truth\n",
        "#   of the categorical variables in this case. As some columns were having lower and higher numeric values, I scaled them down by using StandardScaler function from\n",
        "#   sklearn library because irregular range of values can affect the performance of my model to some extent"
      ],
      "execution_count": 107,
      "outputs": []
    },
    {
      "cell_type": "code",
      "metadata": {
        "id": "_ognxtaMrJ75"
      },
      "source": [
        "#2. Describe your predictive churn model in elaboration.\n",
        "#Ans:- 1.Environment and tools:\n",
        "#   scikit-learn\n",
        "#   numpy\n",
        "#   pandas\n",
        "#   matplotlib\n",
        "#   seaborn\n",
        "\n",
        "#   2.Description of variables in the dataset:\n",
        "#   customerID:---------> Customer ID\n",
        "#   gender:-------------> Whether the customer is a male or a female\n",
        "#   SeniorCitizen:------> Whether the customer is a senior citizen or not (1, 0)\n",
        "#   Partner:------------> Whether the customer has a partner or not (Yes, No)\n",
        "#   Dependents:---------> Whether the customer has dependents or not (Yes, No)\n",
        "#   tenure:-------------> Number of months the customer has stayed with the company\n",
        "#   PhoneService:-------> Whether the customer has a phone service or not (Yes, No)\n",
        "#   MultipleLines:------> Whether the customer has multiple lines or not (Yes, No, No phone service)\n",
        "#   InternetService:----> Customer’s internet service provider (DSL, Fiber optic, No)\n",
        "#   OnlineSecurity:-----> Whether the customer has online security or not (Yes, No, No internet service)\n",
        "#   OnlineBackup:-------> Whether the customer has online backup or not (Yes, No, No internet service)\n",
        "#   DeviceProtection:---> Whether the customer has device protection or not (Yes, No, No internet service)\n",
        "#   TechSupport:--------> Whether the customer has tech support or not (Yes, No, No internet service)\n",
        "#   StreamingTV:--------> Whether the customer has streaming TV or not (Yes, No, No internet service)\n",
        "#   StreamingMovies:----> Whether the customer has streaming movies or not (Yes, No, No internet service)\n",
        "#   Contract:-----------> The contract term of the customer (Month-to-month, One year, Two year)\n",
        "#   PaperlessBilling:---> Whether the customer has paperless billing or not (Yes, No)\n",
        "#   PaymentMethod:------> The customer’s payment method (Electronic check, Mailed check, Bank transfer (automatic), Credit card (automatic))\n",
        "#   MonthlyCharges:-----> The amount charged to the customer monthly\n",
        "#   TotalCharges:-------> The total amount charged to the customer\n",
        "#   Churn:--------------> Whether the customer churned or not (Yes or No)\n",
        "\n",
        "#   3.Data Preprocessing:\n",
        "#   I converted the categorical variables into numerical variables (e.g. Yes/No to 1/0). Also i filled null values in total charges column with median. I ensured\n",
        "#   that all the values are in numeric format.Then I created a new dataframe which consists of zeros and ones. The dataframe will have a one depending on the truth\n",
        "#   of the categorical variables in this case. As some columns were having lower and higher numeric values, I scaled them down using StandardScaler function from\n",
        "#   sklearn library because irregular range of values can affect the performance of my model to some extent.Then, I split the dataset into features and target.\n",
        "\n",
        "#   4. Model Data Preparation:\n",
        "#   features object contains all the features that are used for making the predictions.\n",
        "#   target object contains the outcomes that is whether or not the customer churned.\n",
        "#   Next I used StratifiedShuffleSplit to split the data into training and validation sets with 43.20% of the data given to the validation set. The training set \n",
        "#   is used to train the model, while the validation set is only used to evaluate the model’s performance.\n",
        "\n",
        "#   5. Random Forest Model:\n",
        "#   I used GridSearchcv with various combination of parameters and after getting best set of parameter I used those parameters and with the help of \n",
        "#   random forest classifier trained the model with 50 trees and maximum depth of trees as 5.\n",
        "\n",
        "#   6.Result:\n",
        "#   The F1 score on traning set achieved is 0.9078744209984559 with AUC= 0.87 and F1 score on validation set achieved is 0.8908716540837337 with AUC= 0.84."
      ],
      "execution_count": 108,
      "outputs": []
    },
    {
      "cell_type": "code",
      "metadata": {
        "id": "ncDYU7rm6Bbk"
      },
      "source": [
        "#3. How did you select variables to be included in the model?\n",
        "#Ans: After the cleaning of data and converting all features into numeric values, correlation between features and targest is observed. If correlation among \n",
        "#   features is high then it leads to multi-collinearity which will affect the performace of model and those features should be dropped.If corelation between \n",
        "#   features and target is high, then those features are considered as good features. Hence, with the help of correlation matrix, we select good variables or\n",
        "#   features."
      ],
      "execution_count": 109,
      "outputs": []
    },
    {
      "cell_type": "code",
      "metadata": {
        "id": "PYexjg60rJuZ"
      },
      "source": [
        "#4. Demonstrate the performance of the model by using best set of tools.\n",
        "#Ans:- I have demonstrated the performance of model with different algorithms like Logistic Regression, decision trees, Random Forest and XGBoost. After seeing\n",
        "#      no improvement in model, I have finalised Random Forest model because of its capacity to prevent overfitting and giving low bias and low variance.\n",
        "#      All the details regarding performance of various models are given in Summary section below."
      ],
      "execution_count": 110,
      "outputs": []
    },
    {
      "cell_type": "code",
      "metadata": {
        "colab": {
          "base_uri": "https://localhost:8080/"
        },
        "id": "cwi1eBumrJrp",
        "outputId": "15f9206b-0eb7-4ba5-b4a0-802fe6dd44cb"
      },
      "source": [
        "#5. What are the key factors that predict customer churn?\n",
        "#Ans:- The key factors that predict customer churn are : \n",
        "#      1.Dependents: Many (82.56%) people were not having dependents.\n",
        "#      2.Online Security: Many (78.17%) people were not having online security.\n",
        "#      3.Tech Support: Many (77.37%) people were not having tech support service.\n",
        "#      4.Contract: Many (88.55%) people were having month-to-month contract.\n",
        "# Solution:-\n",
        "data2 = pd.read_excel('Churn.xlsx')\n",
        "newdf = data2.loc[data['Churn']=='Yes']\n",
        "print(newdf['Dependents'].value_counts())\n",
        "print('The percent of people not having dependents is :', ((1543/1869)*100))\n",
        "print('*************************************************************************************')\n",
        "print(newdf['OnlineSecurity'].value_counts())\n",
        "print('The percent of people not having online security is :', ((1461/1869)*100))\n",
        "print('*************************************************************************************')\n",
        "print(newdf['TechSupport'].value_counts())\n",
        "print('The percent of people not having tech support is :', ((1446/1869)*100))\n",
        "print('*************************************************************************************')\n",
        "print(newdf['Contract'].value_counts())\n",
        "print('The percent of people having month-to-month contract is :', ((1655/1869)*100))"
      ],
      "execution_count": 111,
      "outputs": [
        {
          "output_type": "stream",
          "text": [
            "No     1543\n",
            "Yes     326\n",
            "Name: Dependents, dtype: int64\n",
            "The percent of people not having dependents is : 82.55751738897807\n",
            "*************************************************************************************\n",
            "No                     1461\n",
            "Yes                     295\n",
            "No internet service     113\n",
            "Name: OnlineSecurity, dtype: int64\n",
            "The percent of people not having online security is : 78.1701444622793\n",
            "*************************************************************************************\n",
            "No                     1446\n",
            "Yes                     310\n",
            "No internet service     113\n",
            "Name: TechSupport, dtype: int64\n",
            "The percent of people not having tech support is : 77.36757624398074\n",
            "*************************************************************************************\n",
            "Month-to-month    1655\n",
            "One year           166\n",
            "Two year            48\n",
            "Name: Contract, dtype: int64\n",
            "The percent of people having month-to-month contract is : 88.55002675227395\n"
          ],
          "name": "stdout"
        }
      ]
    },
    {
      "cell_type": "code",
      "metadata": {
        "id": "s9qEiDo6rJob"
      },
      "source": [
        "#6. Do these factors make sense? If yes, How? If not, How not?\n",
        "#Ans:- Yes, it make sense except Dependents because having or not having dependents is not under company's control. But not having online\n",
        "#      security can affect the customer's privacy. Also, not having good tech support can let feel the customers helpless which made customers\n",
        "#      to make month-to-month contract with company which shows lack of trust of customers towards company. As a result,negative mindset of\n",
        "#      people created towards company which lead to customer churn."
      ],
      "execution_count": 112,
      "outputs": []
    },
    {
      "cell_type": "code",
      "metadata": {
        "id": "-6c1qrkdrJlQ"
      },
      "source": [
        "#7. What kind of offers should be avail to customers to encourage them to remain with company?\n",
        "#Ans:- The following changes and offers can be given to customers in order to encourage them to remain with company:\n",
        "#      1.Company should hire more cyber security professionals and should open tech support 24/7 for all.\n",
        "#      2.The margin profit of product can be reduced.\n",
        "#      3.Discount offers on long tern contract can be given.\n",
        "#      4.Longer the contract, higher the discount."
      ],
      "execution_count": 113,
      "outputs": []
    },
    {
      "cell_type": "code",
      "metadata": {
        "id": "4QBkqJ6LrJiS"
      },
      "source": [
        "#8. Assuming these actions have been implemented, how would you determine if they work?\n",
        "#Ans:- 1.By collecting the data of some months after the offers, we can see that the graph of number of customers churn declining because \n",
        "#      services and security are given at minimal rate along with long contract offers are given.\n",
        "#      2.Customers having long term contracts will increase.\n",
        "#      3.Company can also ask for reviews with the help of either email (consisting of star rating and reviews) or call from tech support. \n",
        "#      Higher positive reviews means higher satisfaction of customers."
      ],
      "execution_count": 114,
      "outputs": []
    },
    {
      "cell_type": "markdown",
      "metadata": {
        "id": "zOMI7uyAzS2l"
      },
      "source": [
        "# Working Of Model (Simplified Manner)"
      ]
    },
    {
      "cell_type": "markdown",
      "metadata": {
        "id": "mTkamxIVHHa9"
      },
      "source": [
        "**Introduction** : \n",
        "In the Machine Learning world, Random Forest models are a kind of non \n",
        "parametric models that can be used both for regression and classification. They are one of the most popular ensemble methods (Ensemble method is a machine learning technique that combines several base models in order to produce one optimal predictive model), belonging to the specific category of Bagging methods(it is a simple and very powerful ensemble method).                         \n",
        "**Working Procedure :**                                     \n",
        "*Step 1 : Training the model.*                  \n",
        "1.We create a bootstrapped data set for each tree. (Bootstrapping is a statistical procedure that resamples a single dataset to create many simulated samples).                \n",
        "2.Then we create a decision tree using its corresponding data set, but at each node use a random sub sample of variables or features to split on. (Decision tree is a Machine Learning Algorithm which involves in making a tree shaped diagram to analyse the data which breaks into different branches to make predictions and give statistical probability and those branches are called nodes).         \n",
        "3.Repeat all these three steps hundreds of times to build a massive forest with a wide variety of trees. This variety is what makes a Random Forest way better than a single decision tree.                        \n",
        "*Step 2: Making predictions.*             \n",
        "After model gets trained, making predictions with a Random Forest is very easy. We just have to take each of our individual trees, pass the observation for which we want to make a prediction through them, get a prediction from every tree and then obtain an overall, aggregated (average) prediction. \n",
        "\n",
        "**Conclusion:**                         \n",
        "Random Forests are very flexible and powerful Machine Learning models that are highly used in commercial and industrial applications, along with Boosting models and Artificial Neural Networks."
      ]
    },
    {
      "cell_type": "markdown",
      "metadata": {
        "id": "eNZzSCRw6Cth"
      },
      "source": [
        "# Summary"
      ]
    },
    {
      "cell_type": "markdown",
      "metadata": {
        "id": "Eu9ncnhPCUXF"
      },
      "source": [
        "**Logistic Model** --> \n",
        "Train score : 0.8919060052219322 and AUC= 0.85.                        \n",
        "Validation score : 0.8885832187070152 and AUC= 0.84.\n",
        "\n",
        "**Decision Tree Model**-->\n",
        "Train score : 0.8976623376623376 and AUC= 0.84.                                \n",
        "Validation score : 0.8738675958188153 and AUC= 0.80.\n",
        "\n",
        "**Random Forest Model**-->\n",
        "Train score : 0.9078744209984559 and AUC= 0.87.                                 \n",
        "Validation score : 0.8908716540837337 and AUC= 0.84.\n",
        "\n",
        "**XGBoost Model**--> \n",
        "Best Cross Validation score : 0.88625562.\n",
        "\n",
        "***Conclusion:***\n",
        "As the improvement of model is not so much, we can finalise the Random Forest Model."
      ]
    }
  ]
}