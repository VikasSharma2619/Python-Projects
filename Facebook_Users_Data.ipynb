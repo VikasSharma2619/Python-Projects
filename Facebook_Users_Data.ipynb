{
  "nbformat": 4,
  "nbformat_minor": 0,
  "metadata": {
    "colab": {
      "name": "Facebook_Users_Data.ipynb",
      "provenance": [],
      "collapsed_sections": []
    },
    "kernelspec": {
      "name": "python3",
      "display_name": "Python 3"
    },
    "language_info": {
      "name": "python"
    }
  },
  "cells": [
    {
      "cell_type": "code",
      "metadata": {
        "id": "uWvheXEKjwSa"
      },
      "source": [
        "## Imoorting relevant libraries ##\n",
        "\n",
        "import numpy as np                ## for mathematical operations on arrays\n",
        "import pandas as pd               ## for dataframe operations\n",
        "import matplotlib.pyplot as plt   ## for plotting\n",
        "import seaborn as sns             ## for plotting\n",
        "\n",
        "%matplotlib inline"
      ],
      "execution_count": 1,
      "outputs": []
    },
    {
      "cell_type": "code",
      "metadata": {
        "id": "l99ENNy4ki1c"
      },
      "source": [
        "data = pd.read_csv('facebook_user_data.csv')    ## reading csv file"
      ],
      "execution_count": 2,
      "outputs": []
    },
    {
      "cell_type": "code",
      "metadata": {
        "colab": {
          "base_uri": "https://localhost:8080/",
          "height": 223
        },
        "id": "Nih2K7a3kqPq",
        "outputId": "b4f93c90-bfcb-43b6-f6d0-9ec04dfc6d20"
      },
      "source": [
        "data.head()    "
      ],
      "execution_count": 3,
      "outputs": [
        {
          "output_type": "execute_result",
          "data": {
            "text/html": [
              "<div>\n",
              "<style scoped>\n",
              "    .dataframe tbody tr th:only-of-type {\n",
              "        vertical-align: middle;\n",
              "    }\n",
              "\n",
              "    .dataframe tbody tr th {\n",
              "        vertical-align: top;\n",
              "    }\n",
              "\n",
              "    .dataframe thead th {\n",
              "        text-align: right;\n",
              "    }\n",
              "</style>\n",
              "<table border=\"1\" class=\"dataframe\">\n",
              "  <thead>\n",
              "    <tr style=\"text-align: right;\">\n",
              "      <th></th>\n",
              "      <th>userid</th>\n",
              "      <th>age</th>\n",
              "      <th>dob_day</th>\n",
              "      <th>dob_year</th>\n",
              "      <th>dob_month</th>\n",
              "      <th>gender</th>\n",
              "      <th>tenure</th>\n",
              "      <th>friend_count</th>\n",
              "      <th>friendships_initiated</th>\n",
              "      <th>likes</th>\n",
              "      <th>likes_received</th>\n",
              "      <th>mobile_likes</th>\n",
              "      <th>mobile_likes_received</th>\n",
              "      <th>www_likes</th>\n",
              "      <th>www_likes_received</th>\n",
              "    </tr>\n",
              "  </thead>\n",
              "  <tbody>\n",
              "    <tr>\n",
              "      <th>0</th>\n",
              "      <td>2094382</td>\n",
              "      <td>14</td>\n",
              "      <td>19</td>\n",
              "      <td>1999</td>\n",
              "      <td>11</td>\n",
              "      <td>male</td>\n",
              "      <td>266.0</td>\n",
              "      <td>0</td>\n",
              "      <td>0</td>\n",
              "      <td>0</td>\n",
              "      <td>0</td>\n",
              "      <td>0</td>\n",
              "      <td>0</td>\n",
              "      <td>0</td>\n",
              "      <td>0</td>\n",
              "    </tr>\n",
              "    <tr>\n",
              "      <th>1</th>\n",
              "      <td>1192601</td>\n",
              "      <td>14</td>\n",
              "      <td>2</td>\n",
              "      <td>1999</td>\n",
              "      <td>11</td>\n",
              "      <td>female</td>\n",
              "      <td>6.0</td>\n",
              "      <td>0</td>\n",
              "      <td>0</td>\n",
              "      <td>0</td>\n",
              "      <td>0</td>\n",
              "      <td>0</td>\n",
              "      <td>0</td>\n",
              "      <td>0</td>\n",
              "      <td>0</td>\n",
              "    </tr>\n",
              "    <tr>\n",
              "      <th>2</th>\n",
              "      <td>2083884</td>\n",
              "      <td>14</td>\n",
              "      <td>16</td>\n",
              "      <td>1999</td>\n",
              "      <td>11</td>\n",
              "      <td>male</td>\n",
              "      <td>13.0</td>\n",
              "      <td>0</td>\n",
              "      <td>0</td>\n",
              "      <td>0</td>\n",
              "      <td>0</td>\n",
              "      <td>0</td>\n",
              "      <td>0</td>\n",
              "      <td>0</td>\n",
              "      <td>0</td>\n",
              "    </tr>\n",
              "    <tr>\n",
              "      <th>3</th>\n",
              "      <td>1203168</td>\n",
              "      <td>14</td>\n",
              "      <td>25</td>\n",
              "      <td>1999</td>\n",
              "      <td>12</td>\n",
              "      <td>female</td>\n",
              "      <td>93.0</td>\n",
              "      <td>0</td>\n",
              "      <td>0</td>\n",
              "      <td>0</td>\n",
              "      <td>0</td>\n",
              "      <td>0</td>\n",
              "      <td>0</td>\n",
              "      <td>0</td>\n",
              "      <td>0</td>\n",
              "    </tr>\n",
              "    <tr>\n",
              "      <th>4</th>\n",
              "      <td>1733186</td>\n",
              "      <td>14</td>\n",
              "      <td>4</td>\n",
              "      <td>1999</td>\n",
              "      <td>12</td>\n",
              "      <td>male</td>\n",
              "      <td>82.0</td>\n",
              "      <td>0</td>\n",
              "      <td>0</td>\n",
              "      <td>0</td>\n",
              "      <td>0</td>\n",
              "      <td>0</td>\n",
              "      <td>0</td>\n",
              "      <td>0</td>\n",
              "      <td>0</td>\n",
              "    </tr>\n",
              "  </tbody>\n",
              "</table>\n",
              "</div>"
            ],
            "text/plain": [
              "    userid  age  dob_day  ...  mobile_likes_received  www_likes www_likes_received\n",
              "0  2094382   14       19  ...                      0          0                  0\n",
              "1  1192601   14        2  ...                      0          0                  0\n",
              "2  2083884   14       16  ...                      0          0                  0\n",
              "3  1203168   14       25  ...                      0          0                  0\n",
              "4  1733186   14        4  ...                      0          0                  0\n",
              "\n",
              "[5 rows x 15 columns]"
            ]
          },
          "metadata": {
            "tags": []
          },
          "execution_count": 3
        }
      ]
    },
    {
      "cell_type": "code",
      "metadata": {
        "colab": {
          "base_uri": "https://localhost:8080/"
        },
        "id": "XraZB24qkr9k",
        "outputId": "2366f1b6-1d0d-41a1-8225-9bb1f24e4e0c"
      },
      "source": [
        "data.shape     ## checking no. of rows and columns"
      ],
      "execution_count": 4,
      "outputs": [
        {
          "output_type": "execute_result",
          "data": {
            "text/plain": [
              "(99003, 15)"
            ]
          },
          "metadata": {
            "tags": []
          },
          "execution_count": 4
        }
      ]
    },
    {
      "cell_type": "code",
      "metadata": {
        "colab": {
          "base_uri": "https://localhost:8080/"
        },
        "id": "D4HXpXtak2kJ",
        "outputId": "9ac8f689-8c15-4576-ff73-5fded7490b7b"
      },
      "source": [
        "print(data.nunique())        ## checking number of unique conuts in every column\n",
        "print('*********************************************')\n",
        "print(data.isnull().sum())   ## checking null values if present in every column\n",
        "print('*********************************************')\n",
        "print(data.dtypes)           ## checking data type of every column"
      ],
      "execution_count": 5,
      "outputs": [
        {
          "output_type": "stream",
          "text": [
            "userid                   99003\n",
            "age                        101\n",
            "dob_day                     31\n",
            "dob_year                   101\n",
            "dob_month                   12\n",
            "gender                       2\n",
            "tenure                    2426\n",
            "friend_count              2562\n",
            "friendships_initiated     1519\n",
            "likes                     2924\n",
            "likes_received            2681\n",
            "mobile_likes              2396\n",
            "mobile_likes_received     2004\n",
            "www_likes                 1726\n",
            "www_likes_received        1636\n",
            "dtype: int64\n",
            "*********************************************\n",
            "userid                     0\n",
            "age                        0\n",
            "dob_day                    0\n",
            "dob_year                   0\n",
            "dob_month                  0\n",
            "gender                   175\n",
            "tenure                     2\n",
            "friend_count               0\n",
            "friendships_initiated      0\n",
            "likes                      0\n",
            "likes_received             0\n",
            "mobile_likes               0\n",
            "mobile_likes_received      0\n",
            "www_likes                  0\n",
            "www_likes_received         0\n",
            "dtype: int64\n",
            "*********************************************\n",
            "userid                     int64\n",
            "age                        int64\n",
            "dob_day                    int64\n",
            "dob_year                   int64\n",
            "dob_month                  int64\n",
            "gender                    object\n",
            "tenure                   float64\n",
            "friend_count               int64\n",
            "friendships_initiated      int64\n",
            "likes                      int64\n",
            "likes_received             int64\n",
            "mobile_likes               int64\n",
            "mobile_likes_received      int64\n",
            "www_likes                  int64\n",
            "www_likes_received         int64\n",
            "dtype: object\n"
          ],
          "name": "stdout"
        }
      ]
    },
    {
      "cell_type": "code",
      "metadata": {
        "id": "5gt0ZmDLKEEg"
      },
      "source": [
        ""
      ],
      "execution_count": 5,
      "outputs": []
    },
    {
      "cell_type": "code",
      "metadata": {
        "id": "AmuzM84hy19T"
      },
      "source": [
        ""
      ],
      "execution_count": 5,
      "outputs": []
    },
    {
      "cell_type": "code",
      "metadata": {
        "id": "Ai70Ihwsi8dK"
      },
      "source": [
        ""
      ],
      "execution_count": 5,
      "outputs": []
    },
    {
      "cell_type": "markdown",
      "metadata": {
        "id": "UE50JQS9FSOg"
      },
      "source": [
        "# 1) Load the data and impute missing values Imputation of missing values:"
      ]
    },
    {
      "cell_type": "markdown",
      "metadata": {
        "id": "1LgYLcv5y3J3"
      },
      "source": [
        "           \n",
        "● Replace the null values (NA) of gender column with its mode or median and explain\n",
        "why mode/median used to replace NA values "
      ]
    },
    {
      "cell_type": "code",
      "metadata": {
        "id": "h_l3mMZvgupE",
        "colab": {
          "base_uri": "https://localhost:8080/"
        },
        "outputId": "6a02ca38-6c02-4a40-b54c-fad63e2510e7"
      },
      "source": [
        "data['gender'].isnull().sum()    ## checking the number of null values present"
      ],
      "execution_count": 6,
      "outputs": [
        {
          "output_type": "execute_result",
          "data": {
            "text/plain": [
              "175"
            ]
          },
          "metadata": {
            "tags": []
          },
          "execution_count": 6
        }
      ]
    },
    {
      "cell_type": "code",
      "metadata": {
        "colab": {
          "base_uri": "https://localhost:8080/"
        },
        "id": "YywiRjvNk6d6",
        "outputId": "b3e40e3b-37e8-437c-c0cc-fd63a501786d"
      },
      "source": [
        "data.gender.value_counts()       "
      ],
      "execution_count": 7,
      "outputs": [
        {
          "output_type": "execute_result",
          "data": {
            "text/plain": [
              "male      58574\n",
              "female    40254\n",
              "Name: gender, dtype: int64"
            ]
          },
          "metadata": {
            "tags": []
          },
          "execution_count": 7
        }
      ]
    },
    {
      "cell_type": "code",
      "metadata": {
        "colab": {
          "base_uri": "https://localhost:8080/",
          "height": 470
        },
        "id": "autjk34-uxkR",
        "outputId": "c7e66bf5-6911-4f35-a80b-a987e6ae7dcf"
      },
      "source": [
        "plt.figure(figsize=(7,7))\n",
        "data['gender'].value_counts().plot.bar(label=True)     ##plotting bar chart"
      ],
      "execution_count": 8,
      "outputs": [
        {
          "output_type": "execute_result",
          "data": {
            "text/plain": [
              "<matplotlib.axes._subplots.AxesSubplot at 0x7f739a892250>"
            ]
          },
          "metadata": {
            "tags": []
          },
          "execution_count": 8
        },
        {
          "output_type": "display_data",
          "data": {
            "image/png": "[encoded data removed]",
            "text/plain": [
              "<Figure size 504x504 with 1 Axes>"
            ]
          },
          "metadata": {
            "tags": [],
            "needs_background": "light"
          }
        }
      ]
    },
    {
      "cell_type": "markdown",
      "metadata": {
        "id": "xp36QfiCA1SN"
      },
      "source": [
        "* We have 58,574 (i.e. 59.16%) males and only 40,254 (i.e. 40.66%) females and we don't have any other column (eg: Name) from which we can identify the gender of users.                    \n",
        "\n",
        "* As we have also checked that in gender column, null (missing) values in raw data are only present in 175 rows (i.e. 0.17%) out of total 99003 rows, which will not have significant impact on the Model. \n",
        "\n",
        "* Hence, we can impute the missing values with mode (>50% or highest occuring value) of gender column i.e. \"male\" (59.16%)"
      ]
    },
    {
      "cell_type": "code",
      "metadata": {
        "id": "Cz34hgZnmJ06"
      },
      "source": [
        "data['gender'] = data['gender'].fillna('male')        ##imputing missing values with mode value of gender column"
      ],
      "execution_count": 9,
      "outputs": []
    },
    {
      "cell_type": "code",
      "metadata": {
        "id": "hQMKefKemlbe"
      },
      "source": [
        ""
      ],
      "execution_count": 9,
      "outputs": []
    },
    {
      "cell_type": "markdown",
      "metadata": {
        "id": "RG_6450Ry_0P"
      },
      "source": [
        "● Replace the null values (NA) of tenure column (numerical variable) with its median,\n",
        "and explain why mode/median used to replace NA values"
      ]
    },
    {
      "cell_type": "code",
      "metadata": {
        "colab": {
          "base_uri": "https://localhost:8080/"
        },
        "id": "dTjx-sFC7Zgh",
        "outputId": "12b83187-6dc3-4936-8397-913e406d6084"
      },
      "source": [
        "data['tenure'].isnull().sum()"
      ],
      "execution_count": 10,
      "outputs": [
        {
          "output_type": "execute_result",
          "data": {
            "text/plain": [
              "2"
            ]
          },
          "metadata": {
            "tags": []
          },
          "execution_count": 10
        }
      ]
    },
    {
      "cell_type": "code",
      "metadata": {
        "colab": {
          "base_uri": "https://localhost:8080/"
        },
        "id": "DVCdcXHTqoDg",
        "outputId": "acf7e59b-a5f0-47a6-d760-935548af8362"
      },
      "source": [
        "data['tenure'].mean(), data['tenure'].median()       ## checking the skewness with the help of median and mean value of tenure column"
      ],
      "execution_count": 11,
      "outputs": [
        {
          "output_type": "execute_result",
          "data": {
            "text/plain": [
              "(537.8873748750012, 412.0)"
            ]
          },
          "metadata": {
            "tags": []
          },
          "execution_count": 11
        }
      ]
    },
    {
      "cell_type": "code",
      "metadata": {
        "colab": {
          "base_uri": "https://localhost:8080/",
          "height": 445
        },
        "id": "d1JW1XZ0vR6h",
        "outputId": "b9328c75-b0d8-400a-f8f5-b06cdf6502e1"
      },
      "source": [
        "plt.figure(figsize=(7,7))\n",
        "data['tenure'].value_counts().sort_index().plot.area()    ## plotting "
      ],
      "execution_count": 12,
      "outputs": [
        {
          "output_type": "execute_result",
          "data": {
            "text/plain": [
              "<matplotlib.axes._subplots.AxesSubplot at 0x7f7399faf0d0>"
            ]
          },
          "metadata": {
            "tags": []
          },
          "execution_count": 12
        },
        {
          "output_type": "display_data",
          "data": {
            "image/png": "[encoded data removed]",
            "text/plain": [
              "<Figure size 504x504 with 1 Axes>"
            ]
          },
          "metadata": {
            "tags": [],
            "needs_background": "light"
          }
        }
      ]
    },
    {
      "cell_type": "markdown",
      "metadata": {
        "id": "wpJnyouzFXaJ"
      },
      "source": [
        "* To identify the distribution of the tenure column, I calculated mean (537.89) and median (412) which shows that mean > median. It means that the distribution is a positively skewed. And which is shown with the help of plotting above. \n",
        "* If we impute missing values of positively skewed data with mean, then outliers will increase the biasness of mean which will have the bad impact on model.\n",
        "* As we have also checked that in tenure column, null (missing) values in raw data are only present in 2 rows (i.e. 0.002%) out of total 99003 rows, which will not have significant impact on the Model.\n",
        "* That's why, I have imputed the missing values with median of gender column i.e. 412."
      ]
    },
    {
      "cell_type": "code",
      "metadata": {
        "id": "snzy79l8ve5-"
      },
      "source": [
        "data['tenure'] = data['tenure'].fillna(data['tenure'].median())     ## imputing missing values with meidan of tenure column"
      ],
      "execution_count": 13,
      "outputs": []
    },
    {
      "cell_type": "code",
      "metadata": {
        "id": "bph9PiK-w-7U"
      },
      "source": [
        ""
      ],
      "execution_count": 13,
      "outputs": []
    },
    {
      "cell_type": "markdown",
      "metadata": {
        "id": "Fi87Gt4MFevF"
      },
      "source": [
        "# 2) Plot heatmap / correlation matrix on all the columns."
      ]
    },
    {
      "cell_type": "code",
      "metadata": {
        "id": "YEDjrWYzw-4t"
      },
      "source": [
        "dm1 = pd.get_dummies(data['gender'], prefix='gender')\n",
        "data.drop(columns='gender', axis=1, inplace=True)\n",
        "data = pd.concat([data,dm1], axis=1) "
      ],
      "execution_count": 14,
      "outputs": []
    },
    {
      "cell_type": "code",
      "metadata": {
        "colab": {
          "base_uri": "https://localhost:8080/",
          "height": 712
        },
        "id": "OV3IG0sDw-1q",
        "outputId": "aabe2e4e-dea4-4eec-91b5-c1e9ab359920"
      },
      "source": [
        "plt.figure(figsize=(15,10))\n",
        "sns.heatmap(data.corr())"
      ],
      "execution_count": 15,
      "outputs": [
        {
          "output_type": "execute_result",
          "data": {
            "text/plain": [
              "<matplotlib.axes._subplots.AxesSubplot at 0x7f7399822850>"
            ]
          },
          "metadata": {
            "tags": []
          },
          "execution_count": 15
        },
        {
          "output_type": "display_data",
          "data": {
            "image/png": "[encoded data removed]",
            "text/plain": [
              "<Figure size 1080x720 with 2 Axes>"
            ]
          },
          "metadata": {
            "tags": [],
            "needs_background": "light"
          }
        }
      ]
    },
    {
      "cell_type": "code",
      "metadata": {
        "id": "g-e7zKkiw-yr"
      },
      "source": [
        ""
      ],
      "execution_count": 15,
      "outputs": []
    },
    {
      "cell_type": "code",
      "metadata": {
        "id": "SgRPPBdFyfDh"
      },
      "source": [
        ""
      ],
      "execution_count": 15,
      "outputs": []
    },
    {
      "cell_type": "code",
      "metadata": {
        "id": "uUabAgeHyfAe"
      },
      "source": [
        ""
      ],
      "execution_count": 15,
      "outputs": []
    },
    {
      "cell_type": "markdown",
      "metadata": {
        "id": "72qYGyCEFlhs"
      },
      "source": [
        "# 3) Analysis based on gender of the users."
      ]
    },
    {
      "cell_type": "markdown",
      "metadata": {
        "id": "E1uRFRLr2Cwn"
      },
      "source": [
        "● What is composition of male and female users?"
      ]
    },
    {
      "cell_type": "markdown",
      "metadata": {
        "id": "5cdvx9Oq7d6d"
      },
      "source": [
        "There are 146 males on every 100 females i.e. 15 males (approx): 10 females = 3:2 . "
      ]
    },
    {
      "cell_type": "code",
      "metadata": {
        "id": "IOHbLKfH77J2"
      },
      "source": [
        "data = pd.read_csv('facebook_user_data.csv')    ## reading csv file again we want to do analysis on raw data "
      ],
      "execution_count": 16,
      "outputs": []
    },
    {
      "cell_type": "code",
      "metadata": {
        "colab": {
          "base_uri": "https://localhost:8080/"
        },
        "id": "sH2Mv2l3kyWk",
        "outputId": "b1f3f123-9cc8-44a7-ec8e-b89e89644343"
      },
      "source": [
        "round((data['gender'].value_counts()[0]/data['gender'].value_counts()[1])*100)   ## calculating no. of males on 100 females"
      ],
      "execution_count": 17,
      "outputs": [
        {
          "output_type": "execute_result",
          "data": {
            "text/plain": [
              "146"
            ]
          },
          "metadata": {
            "tags": []
          },
          "execution_count": 17
        }
      ]
    },
    {
      "cell_type": "code",
      "metadata": {
        "id": "gzuKJe6h765H"
      },
      "source": [
        ""
      ],
      "execution_count": 17,
      "outputs": []
    },
    {
      "cell_type": "markdown",
      "metadata": {
        "id": "ox7uyCidzrUu"
      },
      "source": [
        "● Which category of gender has more friends ?            \n"
      ]
    },
    {
      "cell_type": "markdown",
      "metadata": {
        "id": "EnvNTiGz4c-m"
      },
      "source": [
        "Ans: Female cateogory has more friends"
      ]
    },
    {
      "cell_type": "code",
      "metadata": {
        "colab": {
          "base_uri": "https://localhost:8080/",
          "height": 459
        },
        "id": "h_xhVVRH18W9",
        "outputId": "424e1c09-4676-42f2-bf99-35dae8fda238"
      },
      "source": [
        "plt.figure(figsize=(7,7))                                       ## increasing th figure size for good visibility\n",
        "sns.set_style('whitegrid')\n",
        "sns.barplot(x=data['gender'], y=data['friend_count'])           ## plotting bar chart"
      ],
      "execution_count": 18,
      "outputs": [
        {
          "output_type": "execute_result",
          "data": {
            "text/plain": [
              "<matplotlib.axes._subplots.AxesSubplot at 0x7f7399f95110>"
            ]
          },
          "metadata": {
            "tags": []
          },
          "execution_count": 18
        },
        {
          "output_type": "display_data",
          "data": {
            "image/png": "[encoded data removed]",
            "text/plain": [
              "<Figure size 504x504 with 1 Axes>"
            ]
          },
          "metadata": {
            "tags": [],
            "needs_background": "light"
          }
        }
      ]
    },
    {
      "cell_type": "code",
      "metadata": {
        "id": "fOIGC8vA4bWW"
      },
      "source": [
        ""
      ],
      "execution_count": 18,
      "outputs": []
    },
    {
      "cell_type": "markdown",
      "metadata": {
        "id": "EmB95EJB19EZ"
      },
      "source": [
        "● Which category of gender initiated more friendships?\n"
      ]
    },
    {
      "cell_type": "markdown",
      "metadata": {
        "id": "vk13CkWK5Tvu"
      },
      "source": [
        "Ans: More frienships are initiated by ***Female*** category as compared to male category."
      ]
    },
    {
      "cell_type": "code",
      "metadata": {
        "colab": {
          "base_uri": "https://localhost:8080/",
          "height": 459
        },
        "id": "F82KIm8X1_sh",
        "outputId": "32c046c5-1d38-4cff-c369-52a5037b8e9b"
      },
      "source": [
        "plt.figure(figsize=(7,7))                                             ## increasing th figure size for good visibility\n",
        "sns.set_style('whitegrid')\n",
        "sns.barplot(x=data['gender'], y=data['friendships_initiated'], palette='dark')        ## plotting bar chart"
      ],
      "execution_count": 19,
      "outputs": [
        {
          "output_type": "execute_result",
          "data": {
            "text/plain": [
              "<matplotlib.axes._subplots.AxesSubplot at 0x7f73906e5b50>"
            ]
          },
          "metadata": {
            "tags": []
          },
          "execution_count": 19
        },
        {
          "output_type": "display_data",
          "data": {
            "image/png": "[encoded data removed]",
            "text/plain": [
              "<Figure size 504x504 with 1 Axes>"
            ]
          },
          "metadata": {
            "tags": []
          }
        }
      ]
    },
    {
      "cell_type": "code",
      "metadata": {
        "id": "TMsdANL_5ZQZ"
      },
      "source": [
        ""
      ],
      "execution_count": 19,
      "outputs": []
    },
    {
      "cell_type": "markdown",
      "metadata": {
        "id": "Hi3iWC222AOC"
      },
      "source": [
        "● What is the distribution of tenure across different categories of gender?"
      ]
    },
    {
      "cell_type": "code",
      "metadata": {
        "colab": {
          "base_uri": "https://localhost:8080/",
          "height": 618
        },
        "id": "3x-u08dP2BE-",
        "outputId": "d56d7691-2da4-4ecb-b141-a7364709ae11"
      },
      "source": [
        "plt.figure(figsize=(7,7))                                                          ## increasing th figure size for good visibility\n",
        "sns.set_style('whitegrid')\n",
        "sns.displot( data, x='tenure', hue='gender', kind=\"kde\", multiple=\"stack\", palette='dark', height=8)         ## plotting the distribution of tenure column"
      ],
      "execution_count": 20,
      "outputs": [
        {
          "output_type": "execute_result",
          "data": {
            "text/plain": [
              "<seaborn.axisgrid.FacetGrid at 0x7f7390622f50>"
            ]
          },
          "metadata": {
            "tags": []
          },
          "execution_count": 20
        },
        {
          "output_type": "display_data",
          "data": {
            "text/plain": [
              "<Figure size 504x504 with 0 Axes>"
            ]
          },
          "metadata": {
            "tags": []
          }
        },
        {
          "output_type": "display_data",
          "data": {
            "image/png": "[encoded data removed]",
            "text/plain": [
              "<Figure size 646.5x576 with 1 Axes>"
            ]
          },
          "metadata": {
            "tags": []
          }
        }
      ]
    },
    {
      "cell_type": "code",
      "metadata": {
        "colab": {
          "base_uri": "https://localhost:8080/",
          "height": 459
        },
        "id": "2heWu7iy8dx1",
        "outputId": "d55bb5ba-db5b-4f74-983c-cfb71709ec55"
      },
      "source": [
        "plt.figure(figsize=(7,7))\n",
        "sns.set_style('whitegrid')\n",
        "sns.barplot(data=data, x=\"gender\", y=\"tenure\", palette='rainbow')"
      ],
      "execution_count": 21,
      "outputs": [
        {
          "output_type": "execute_result",
          "data": {
            "text/plain": [
              "<matplotlib.axes._subplots.AxesSubplot at 0x7f73906d5950>"
            ]
          },
          "metadata": {
            "tags": []
          },
          "execution_count": 21
        },
        {
          "output_type": "display_data",
          "data": {
            "image/png": "[encoded data removed]",
            "text/plain": [
              "<Figure size 504x504 with 1 Axes>"
            ]
          },
          "metadata": {
            "tags": []
          }
        }
      ]
    },
    {
      "cell_type": "code",
      "metadata": {
        "id": "zpk9dnZg_LUL"
      },
      "source": [
        ""
      ],
      "execution_count": 21,
      "outputs": []
    },
    {
      "cell_type": "code",
      "metadata": {
        "id": "MSNVqBLPBYTd"
      },
      "source": [
        ""
      ],
      "execution_count": 21,
      "outputs": []
    },
    {
      "cell_type": "code",
      "metadata": {
        "id": "vpxF_aJHBYQo"
      },
      "source": [
        ""
      ],
      "execution_count": 21,
      "outputs": []
    },
    {
      "cell_type": "markdown",
      "metadata": {
        "id": "CPwXAJFjFxj1"
      },
      "source": [
        "#4) Analysis based on the least active users on Facebook  "
      ]
    },
    {
      "cell_type": "markdown",
      "metadata": {
        "id": "HSd4RTWuBY-b"
      },
      "source": [
        "        \n",
        "● How many users have no friends?                        \n",
        "\n"
      ]
    },
    {
      "cell_type": "markdown",
      "metadata": {
        "id": "YlazMvGQCC8v"
      },
      "source": [
        "Ans: 1962 (i.e.only 1.98 %) users out of 99,003 users have no friends."
      ]
    },
    {
      "cell_type": "code",
      "metadata": {
        "colab": {
          "base_uri": "https://localhost:8080/"
        },
        "id": "QBRefuKoBflp",
        "outputId": "9067ea80-765a-4510-a0c0-4569debc2b7b"
      },
      "source": [
        "print(sum(data['friend_count']==0))        ## users having zero friends\n",
        "(sum(data['friend_count']==0)/99003)*100   ## calculate percent of users having zero friends"
      ],
      "execution_count": 22,
      "outputs": [
        {
          "output_type": "stream",
          "text": [
            "1962\n"
          ],
          "name": "stdout"
        },
        {
          "output_type": "execute_result",
          "data": {
            "text/plain": [
              "1.9817581285415595"
            ]
          },
          "metadata": {
            "tags": []
          },
          "execution_count": 22
        }
      ]
    },
    {
      "cell_type": "code",
      "metadata": {
        "id": "qSukbQ-MBwhn"
      },
      "source": [
        ""
      ],
      "execution_count": 22,
      "outputs": []
    },
    {
      "cell_type": "markdown",
      "metadata": {
        "id": "sZZW3mxiCKxD"
      },
      "source": [
        "● How many users did not like any posts?                      \n"
      ]
    },
    {
      "cell_type": "markdown",
      "metadata": {
        "id": "QlBJSx8SC_DB"
      },
      "source": [
        "Ans: 22,308  (i.e. 22.53 %) users out of 99,003 users did not like any posts"
      ]
    },
    {
      "cell_type": "code",
      "metadata": {
        "colab": {
          "base_uri": "https://localhost:8080/"
        },
        "id": "ya7WmMvZCLdy",
        "outputId": "0fd254b1-a605-4c38-a034-bfa6aa73ef47"
      },
      "source": [
        "print(sum(data['likes']==0))          ## users did not like any posts\n",
        "(sum(data['likes']==0)/99003)*100     ## percent of users did not like any posts"
      ],
      "execution_count": 23,
      "outputs": [
        {
          "output_type": "stream",
          "text": [
            "22308\n"
          ],
          "name": "stdout"
        },
        {
          "output_type": "execute_result",
          "data": {
            "text/plain": [
              "22.532650525741644"
            ]
          },
          "metadata": {
            "tags": []
          },
          "execution_count": 23
        }
      ]
    },
    {
      "cell_type": "code",
      "metadata": {
        "id": "7Oow5x0wC95F"
      },
      "source": [
        ""
      ],
      "execution_count": 23,
      "outputs": []
    },
    {
      "cell_type": "markdown",
      "metadata": {
        "id": "D0aLN34gDLRN"
      },
      "source": [
        "● How many users did not receive any likes?"
      ]
    },
    {
      "cell_type": "markdown",
      "metadata": {
        "id": "CWLrAYh5DfIv"
      },
      "source": [
        "Ans: 24,428 (i.e. 24.67 %) users out of 99,003 users did not receive any likes."
      ]
    },
    {
      "cell_type": "code",
      "metadata": {
        "colab": {
          "base_uri": "https://localhost:8080/"
        },
        "id": "1cMcspb0DMDN",
        "outputId": "82377a4d-a7b6-4954-ec83-f08aef950372"
      },
      "source": [
        "print(sum(data['likes_received']==0))          ## users that did not recieve any likes\n",
        "(sum(data['likes_received']==0)/99003)*100     ## percent of users did not receive any likes"
      ],
      "execution_count": 24,
      "outputs": [
        {
          "output_type": "stream",
          "text": [
            "24428\n"
          ],
          "name": "stdout"
        },
        {
          "output_type": "execute_result",
          "data": {
            "text/plain": [
              "24.673999777784513"
            ]
          },
          "metadata": {
            "tags": []
          },
          "execution_count": 24
        }
      ]
    },
    {
      "cell_type": "code",
      "metadata": {
        "id": "0T5AaTTWDdku"
      },
      "source": [
        ""
      ],
      "execution_count": 24,
      "outputs": []
    },
    {
      "cell_type": "code",
      "metadata": {
        "id": "IpOasfLkEqDK"
      },
      "source": [
        ""
      ],
      "execution_count": 24,
      "outputs": []
    },
    {
      "cell_type": "code",
      "metadata": {
        "id": "7-c8XM4IEw2H"
      },
      "source": [
        ""
      ],
      "execution_count": 24,
      "outputs": []
    },
    {
      "cell_type": "markdown",
      "metadata": {
        "id": "QvMLh5D5FCOX"
      },
      "source": [
        "# 5) Analysis based on the user accessibility (Mobile Devices vs. Web Devices)"
      ]
    },
    {
      "cell_type": "markdown",
      "metadata": {
        "id": "QsQnWGfnFKsR"
      },
      "source": [
        "● What is the average number of posts liked by users (based on gender) through web vs mobile devices?\n"
      ]
    },
    {
      "cell_type": "markdown",
      "metadata": {
        "id": "Slrl4XercbQF"
      },
      "source": [
        "Ans: On an average, \n",
        "* Through Web: a) A male liked 24 (i.e. 24.42) posts.                       \n",
        " b) A female liked 87 (i.e. 87.13) posts.\n",
        "\n",
        "\n",
        "\n",
        "* Through Mobile:  a) A male liked 60 (i.e. 60.26) posts.                   \n",
        " b) A female liked 173 (i.e. 172.91 ) posts.\n",
        "\n"
      ]
    },
    {
      "cell_type": "code",
      "metadata": {
        "colab": {
          "base_uri": "https://localhost:8080/",
          "height": 80
        },
        "id": "ylOV9xgnFOvX",
        "outputId": "3cd40e3f-a44b-4eef-a79b-6b487c7e9067"
      },
      "source": [
        "pd.DataFrame(data.groupby(['gender']).agg({'www_likes':'mean'}).iloc[1,:])     ## calculating avg no. of posts liked by males thorugh web"
      ],
      "execution_count": 25,
      "outputs": [
        {
          "output_type": "execute_result",
          "data": {
            "text/html": [
              "<div>\n",
              "<style scoped>\n",
              "    .dataframe tbody tr th:only-of-type {\n",
              "        vertical-align: middle;\n",
              "    }\n",
              "\n",
              "    .dataframe tbody tr th {\n",
              "        vertical-align: top;\n",
              "    }\n",
              "\n",
              "    .dataframe thead th {\n",
              "        text-align: right;\n",
              "    }\n",
              "</style>\n",
              "<table border=\"1\" class=\"dataframe\">\n",
              "  <thead>\n",
              "    <tr style=\"text-align: right;\">\n",
              "      <th></th>\n",
              "      <th>male</th>\n",
              "    </tr>\n",
              "  </thead>\n",
              "  <tbody>\n",
              "    <tr>\n",
              "      <th>www_likes</th>\n",
              "      <td>24.41655</td>\n",
              "    </tr>\n",
              "  </tbody>\n",
              "</table>\n",
              "</div>"
            ],
            "text/plain": [
              "               male\n",
              "www_likes  24.41655"
            ]
          },
          "metadata": {
            "tags": []
          },
          "execution_count": 25
        }
      ]
    },
    {
      "cell_type": "code",
      "metadata": {
        "colab": {
          "base_uri": "https://localhost:8080/",
          "height": 80
        },
        "id": "TUTqJX-lFGfG",
        "outputId": "e8605a6d-2afa-475d-ec61-b32a13fc6b95"
      },
      "source": [
        "pd.DataFrame(data.groupby(['gender']).agg({'mobile_likes':'mean'}).iloc[1,:])   ## calculating avg no. of posts liked by males through mobile"
      ],
      "execution_count": 26,
      "outputs": [
        {
          "output_type": "execute_result",
          "data": {
            "text/html": [
              "<div>\n",
              "<style scoped>\n",
              "    .dataframe tbody tr th:only-of-type {\n",
              "        vertical-align: middle;\n",
              "    }\n",
              "\n",
              "    .dataframe tbody tr th {\n",
              "        vertical-align: top;\n",
              "    }\n",
              "\n",
              "    .dataframe thead th {\n",
              "        text-align: right;\n",
              "    }\n",
              "</style>\n",
              "<table border=\"1\" class=\"dataframe\">\n",
              "  <thead>\n",
              "    <tr style=\"text-align: right;\">\n",
              "      <th></th>\n",
              "      <th>male</th>\n",
              "    </tr>\n",
              "  </thead>\n",
              "  <tbody>\n",
              "    <tr>\n",
              "      <th>mobile_likes</th>\n",
              "      <td>60.261328</td>\n",
              "    </tr>\n",
              "  </tbody>\n",
              "</table>\n",
              "</div>"
            ],
            "text/plain": [
              "                   male\n",
              "mobile_likes  60.261328"
            ]
          },
          "metadata": {
            "tags": []
          },
          "execution_count": 26
        }
      ]
    },
    {
      "cell_type": "markdown",
      "metadata": {
        "id": "GRmXM6kzcQiI"
      },
      "source": [
        "**********************************************************************************************"
      ]
    },
    {
      "cell_type": "code",
      "metadata": {
        "colab": {
          "base_uri": "https://localhost:8080/",
          "height": 80
        },
        "id": "ge9Xx9q9XqAC",
        "outputId": "0e59f0d0-611a-4dcc-b4a5-ab10c8d241ef"
      },
      "source": [
        "pd.DataFrame(data.groupby(['gender']).agg({'www_likes':'mean'}).iloc[0,:])       ## calculating avg no. of posts liked by females through web"
      ],
      "execution_count": 27,
      "outputs": [
        {
          "output_type": "execute_result",
          "data": {
            "text/html": [
              "<div>\n",
              "<style scoped>\n",
              "    .dataframe tbody tr th:only-of-type {\n",
              "        vertical-align: middle;\n",
              "    }\n",
              "\n",
              "    .dataframe tbody tr th {\n",
              "        vertical-align: top;\n",
              "    }\n",
              "\n",
              "    .dataframe thead th {\n",
              "        text-align: right;\n",
              "    }\n",
              "</style>\n",
              "<table border=\"1\" class=\"dataframe\">\n",
              "  <thead>\n",
              "    <tr style=\"text-align: right;\">\n",
              "      <th></th>\n",
              "      <th>female</th>\n",
              "    </tr>\n",
              "  </thead>\n",
              "  <tbody>\n",
              "    <tr>\n",
              "      <th>www_likes</th>\n",
              "      <td>87.138297</td>\n",
              "    </tr>\n",
              "  </tbody>\n",
              "</table>\n",
              "</div>"
            ],
            "text/plain": [
              "              female\n",
              "www_likes  87.138297"
            ]
          },
          "metadata": {
            "tags": []
          },
          "execution_count": 27
        }
      ]
    },
    {
      "cell_type": "code",
      "metadata": {
        "colab": {
          "base_uri": "https://localhost:8080/",
          "height": 80
        },
        "id": "6MnEiKi_FOyZ",
        "outputId": "60d519c3-d7f0-4103-aaf3-93ffa1c91b11"
      },
      "source": [
        "pd.DataFrame(data.groupby(['gender']).agg({'mobile_likes':'mean'}).iloc[0,:])    ## calculating avg no. of posts liked by females through mobile"
      ],
      "execution_count": 28,
      "outputs": [
        {
          "output_type": "execute_result",
          "data": {
            "text/html": [
              "<div>\n",
              "<style scoped>\n",
              "    .dataframe tbody tr th:only-of-type {\n",
              "        vertical-align: middle;\n",
              "    }\n",
              "\n",
              "    .dataframe tbody tr th {\n",
              "        vertical-align: top;\n",
              "    }\n",
              "\n",
              "    .dataframe thead th {\n",
              "        text-align: right;\n",
              "    }\n",
              "</style>\n",
              "<table border=\"1\" class=\"dataframe\">\n",
              "  <thead>\n",
              "    <tr style=\"text-align: right;\">\n",
              "      <th></th>\n",
              "      <th>female</th>\n",
              "    </tr>\n",
              "  </thead>\n",
              "  <tbody>\n",
              "    <tr>\n",
              "      <th>mobile_likes</th>\n",
              "      <td>172.912928</td>\n",
              "    </tr>\n",
              "  </tbody>\n",
              "</table>\n",
              "</div>"
            ],
            "text/plain": [
              "                  female\n",
              "mobile_likes  172.912928"
            ]
          },
          "metadata": {
            "tags": []
          },
          "execution_count": 28
        }
      ]
    },
    {
      "cell_type": "code",
      "metadata": {
        "id": "S1_ILxnUXp04"
      },
      "source": [
        ""
      ],
      "execution_count": 28,
      "outputs": []
    },
    {
      "cell_type": "markdown",
      "metadata": {
        "id": "UMjGI044FNbi"
      },
      "source": [
        "● What is the average number of likes received by users (based on gender) through web vs mobile devices?"
      ]
    },
    {
      "cell_type": "markdown",
      "metadata": {
        "id": "iovSCQbpexsr"
      },
      "source": [
        "Ans:  On an average, \n",
        "* Through Web: a) A male received 27 (i.e. 27.07) likes.                       \n",
        " b) A female received 104 (i.e. 104.33) likes.\n",
        "\n",
        "\n",
        "\n",
        "* Through Mobile:  a) A male received 41 (i.e. 40.83) likes.                   \n",
        " b) A female received 147 (i.e. 147.10 ) likes.\n"
      ]
    },
    {
      "cell_type": "code",
      "metadata": {
        "colab": {
          "base_uri": "https://localhost:8080/",
          "height": 80
        },
        "id": "jHNnGdpNYekv",
        "outputId": "197c564d-e4e8-46d6-9bb7-63fa4272720d"
      },
      "source": [
        "pd.DataFrame(data.groupby(['gender']).agg({'www_likes_received':'mean'}).iloc[1,:])        ## calculating avg no. of likes received by males through web"
      ],
      "execution_count": 29,
      "outputs": [
        {
          "output_type": "execute_result",
          "data": {
            "text/html": [
              "<div>\n",
              "<style scoped>\n",
              "    .dataframe tbody tr th:only-of-type {\n",
              "        vertical-align: middle;\n",
              "    }\n",
              "\n",
              "    .dataframe tbody tr th {\n",
              "        vertical-align: top;\n",
              "    }\n",
              "\n",
              "    .dataframe thead th {\n",
              "        text-align: right;\n",
              "    }\n",
              "</style>\n",
              "<table border=\"1\" class=\"dataframe\">\n",
              "  <thead>\n",
              "    <tr style=\"text-align: right;\">\n",
              "      <th></th>\n",
              "      <th>male</th>\n",
              "    </tr>\n",
              "  </thead>\n",
              "  <tbody>\n",
              "    <tr>\n",
              "      <th>www_likes_received</th>\n",
              "      <td>27.078533</td>\n",
              "    </tr>\n",
              "  </tbody>\n",
              "</table>\n",
              "</div>"
            ],
            "text/plain": [
              "                         male\n",
              "www_likes_received  27.078533"
            ]
          },
          "metadata": {
            "tags": []
          },
          "execution_count": 29
        }
      ]
    },
    {
      "cell_type": "code",
      "metadata": {
        "colab": {
          "base_uri": "https://localhost:8080/",
          "height": 80
        },
        "id": "QGU86sBzFOJL",
        "outputId": "93a3c030-feca-4424-b48f-cae38f52a50f"
      },
      "source": [
        "pd.DataFrame(data.groupby(['gender']).agg({'mobile_likes_received':'mean'}).iloc[1,:])     ## calculating avg no. of likes received by males through mobile"
      ],
      "execution_count": 30,
      "outputs": [
        {
          "output_type": "execute_result",
          "data": {
            "text/html": [
              "<div>\n",
              "<style scoped>\n",
              "    .dataframe tbody tr th:only-of-type {\n",
              "        vertical-align: middle;\n",
              "    }\n",
              "\n",
              "    .dataframe tbody tr th {\n",
              "        vertical-align: top;\n",
              "    }\n",
              "\n",
              "    .dataframe thead th {\n",
              "        text-align: right;\n",
              "    }\n",
              "</style>\n",
              "<table border=\"1\" class=\"dataframe\">\n",
              "  <thead>\n",
              "    <tr style=\"text-align: right;\">\n",
              "      <th></th>\n",
              "      <th>male</th>\n",
              "    </tr>\n",
              "  </thead>\n",
              "  <tbody>\n",
              "    <tr>\n",
              "      <th>mobile_likes_received</th>\n",
              "      <td>40.833015</td>\n",
              "    </tr>\n",
              "  </tbody>\n",
              "</table>\n",
              "</div>"
            ],
            "text/plain": [
              "                            male\n",
              "mobile_likes_received  40.833015"
            ]
          },
          "metadata": {
            "tags": []
          },
          "execution_count": 30
        }
      ]
    },
    {
      "cell_type": "markdown",
      "metadata": {
        "id": "IMipBUI7cIcP"
      },
      "source": [
        "**************************************************************************************"
      ]
    },
    {
      "cell_type": "code",
      "metadata": {
        "colab": {
          "base_uri": "https://localhost:8080/",
          "height": 80
        },
        "id": "m_3P9LQHYoxT",
        "outputId": "dbdbb2a9-63f1-4c63-c1d6-01db95670dbc"
      },
      "source": [
        "pd.DataFrame(data.groupby(['gender']).agg({'www_likes_received':'mean'}).iloc[0,:])        ## calculating avg no. of likes received by females through web"
      ],
      "execution_count": 31,
      "outputs": [
        {
          "output_type": "execute_result",
          "data": {
            "text/html": [
              "<div>\n",
              "<style scoped>\n",
              "    .dataframe tbody tr th:only-of-type {\n",
              "        vertical-align: middle;\n",
              "    }\n",
              "\n",
              "    .dataframe tbody tr th {\n",
              "        vertical-align: top;\n",
              "    }\n",
              "\n",
              "    .dataframe thead th {\n",
              "        text-align: right;\n",
              "    }\n",
              "</style>\n",
              "<table border=\"1\" class=\"dataframe\">\n",
              "  <thead>\n",
              "    <tr style=\"text-align: right;\">\n",
              "      <th></th>\n",
              "      <th>female</th>\n",
              "    </tr>\n",
              "  </thead>\n",
              "  <tbody>\n",
              "    <tr>\n",
              "      <th>www_likes_received</th>\n",
              "      <td>104.334451</td>\n",
              "    </tr>\n",
              "  </tbody>\n",
              "</table>\n",
              "</div>"
            ],
            "text/plain": [
              "                        female\n",
              "www_likes_received  104.334451"
            ]
          },
          "metadata": {
            "tags": []
          },
          "execution_count": 31
        }
      ]
    },
    {
      "cell_type": "code",
      "metadata": {
        "colab": {
          "base_uri": "https://localhost:8080/",
          "height": 80
        },
        "id": "14mGBb90YVkp",
        "outputId": "aff391ab-5cc7-4ef1-9bee-ec494bf752cd"
      },
      "source": [
        "pd.DataFrame(data.groupby(['gender']).agg({'mobile_likes_received':'mean'}).iloc[0,:])     ## calculating avg no. of likes received by females through mobile"
      ],
      "execution_count": 32,
      "outputs": [
        {
          "output_type": "execute_result",
          "data": {
            "text/html": [
              "<div>\n",
              "<style scoped>\n",
              "    .dataframe tbody tr th:only-of-type {\n",
              "        vertical-align: middle;\n",
              "    }\n",
              "\n",
              "    .dataframe tbody tr th {\n",
              "        vertical-align: top;\n",
              "    }\n",
              "\n",
              "    .dataframe thead th {\n",
              "        text-align: right;\n",
              "    }\n",
              "</style>\n",
              "<table border=\"1\" class=\"dataframe\">\n",
              "  <thead>\n",
              "    <tr style=\"text-align: right;\">\n",
              "      <th></th>\n",
              "      <th>female</th>\n",
              "    </tr>\n",
              "  </thead>\n",
              "  <tbody>\n",
              "    <tr>\n",
              "      <th>mobile_likes_received</th>\n",
              "      <td>147.100884</td>\n",
              "    </tr>\n",
              "  </tbody>\n",
              "</table>\n",
              "</div>"
            ],
            "text/plain": [
              "                           female\n",
              "mobile_likes_received  147.100884"
            ]
          },
          "metadata": {
            "tags": []
          },
          "execution_count": 32
        }
      ]
    },
    {
      "cell_type": "code",
      "metadata": {
        "id": "ZCeKfP0HaLnc"
      },
      "source": [
        ""
      ],
      "execution_count": 32,
      "outputs": []
    }
  ]
}