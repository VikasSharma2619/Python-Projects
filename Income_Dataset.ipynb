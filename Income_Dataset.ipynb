{
  "nbformat": 4,
  "nbformat_minor": 0,
  "metadata": {
    "colab": {
      "name": "Homework Income Dataset.ipynb",
      "provenance": [],
      "collapsed_sections": []
    },
    "kernelspec": {
      "name": "python3",
      "display_name": "Python 3"
    },
    "language_info": {
      "name": "python"
    }
  },
  "cells": [
    {
      "cell_type": "code",
      "metadata": {
        "id": "cBvhEzsUKqA2"
      },
      "source": [
        "##  Importing libraries for various operations\n",
        "\n",
        "import numpy as np                    # for numpy matrices\n",
        "import pandas as pd                   # for dataframe operations\n",
        "import matplotlib.pyplot as plt       #for plotting\n",
        "import seaborn as sns                 ##for plotting"
      ],
      "execution_count": 1,
      "outputs": []
    },
    {
      "cell_type": "code",
      "metadata": {
        "id": "tj40-bX2LCLJ"
      },
      "source": [
        "%matplotlib inline   "
      ],
      "execution_count": 2,
      "outputs": []
    },
    {
      "cell_type": "markdown",
      "metadata": {
        "id": "rzxKbtbeb7Oo"
      },
      "source": [
        "# Data Preparation"
      ]
    },
    {
      "cell_type": "code",
      "metadata": {
        "id": "a2sGXRFJLF-A"
      },
      "source": [
        "## Reading the dataset i.e. train and test\n",
        " \n",
        "trn=pd.read_csv(\"Training_data.csv\")\n",
        "tst=pd.read_csv(\"Testing_data.csv\")"
      ],
      "execution_count": 3,
      "outputs": []
    },
    {
      "cell_type": "code",
      "metadata": {
        "colab": {
          "base_uri": "https://localhost:8080/",
          "height": 324
        },
        "id": "OjDvcldrLP1J",
        "outputId": "9a105e96-805e-4564-d38d-9d019c2e022a"
      },
      "source": [
        "trn.head()"
      ],
      "execution_count": 4,
      "outputs": [
        {
          "output_type": "execute_result",
          "data": {
            "text/html": [
              "<div>\n",
              "<style scoped>\n",
              "    .dataframe tbody tr th:only-of-type {\n",
              "        vertical-align: middle;\n",
              "    }\n",
              "\n",
              "    .dataframe tbody tr th {\n",
              "        vertical-align: top;\n",
              "    }\n",
              "\n",
              "    .dataframe thead th {\n",
              "        text-align: right;\n",
              "    }\n",
              "</style>\n",
              "<table border=\"1\" class=\"dataframe\">\n",
              "  <thead>\n",
              "    <tr style=\"text-align: right;\">\n",
              "      <th></th>\n",
              "      <th>age</th>\n",
              "      <th>workclass</th>\n",
              "      <th>fnlwgt</th>\n",
              "      <th>education</th>\n",
              "      <th>education.num</th>\n",
              "      <th>marital.status</th>\n",
              "      <th>occupation</th>\n",
              "      <th>relationship</th>\n",
              "      <th>race</th>\n",
              "      <th>sex</th>\n",
              "      <th>capital.gain</th>\n",
              "      <th>capital.loss</th>\n",
              "      <th>hours.per.week</th>\n",
              "      <th>native.country</th>\n",
              "      <th>Y</th>\n",
              "    </tr>\n",
              "  </thead>\n",
              "  <tbody>\n",
              "    <tr>\n",
              "      <th>0</th>\n",
              "      <td>45</td>\n",
              "      <td>Private</td>\n",
              "      <td>234652</td>\n",
              "      <td>5th-6th</td>\n",
              "      <td>3</td>\n",
              "      <td>Married-civ-spouse</td>\n",
              "      <td>Machine-op-inspct</td>\n",
              "      <td>Husband</td>\n",
              "      <td>White</td>\n",
              "      <td>Male</td>\n",
              "      <td>0</td>\n",
              "      <td>0</td>\n",
              "      <td>40</td>\n",
              "      <td>Mexico</td>\n",
              "      <td>&lt;=50K</td>\n",
              "    </tr>\n",
              "    <tr>\n",
              "      <th>1</th>\n",
              "      <td>43</td>\n",
              "      <td>State-gov</td>\n",
              "      <td>33331</td>\n",
              "      <td>Prof-school</td>\n",
              "      <td>15</td>\n",
              "      <td>Married-civ-spouse</td>\n",
              "      <td>Prof-specialty</td>\n",
              "      <td>Husband</td>\n",
              "      <td>White</td>\n",
              "      <td>Male</td>\n",
              "      <td>0</td>\n",
              "      <td>1977</td>\n",
              "      <td>70</td>\n",
              "      <td>United-States</td>\n",
              "      <td>&gt;50K</td>\n",
              "    </tr>\n",
              "    <tr>\n",
              "      <th>2</th>\n",
              "      <td>26</td>\n",
              "      <td>State-gov</td>\n",
              "      <td>252284</td>\n",
              "      <td>Some-college</td>\n",
              "      <td>10</td>\n",
              "      <td>Married-civ-spouse</td>\n",
              "      <td>Protective-serv</td>\n",
              "      <td>Husband</td>\n",
              "      <td>White</td>\n",
              "      <td>Male</td>\n",
              "      <td>0</td>\n",
              "      <td>0</td>\n",
              "      <td>40</td>\n",
              "      <td>United-States</td>\n",
              "      <td>&lt;=50K</td>\n",
              "    </tr>\n",
              "    <tr>\n",
              "      <th>3</th>\n",
              "      <td>24</td>\n",
              "      <td>Private</td>\n",
              "      <td>303296</td>\n",
              "      <td>Some-college</td>\n",
              "      <td>10</td>\n",
              "      <td>Married-civ-spouse</td>\n",
              "      <td>Adm-clerical</td>\n",
              "      <td>Wife</td>\n",
              "      <td>Asian-Pac-Islander</td>\n",
              "      <td>Female</td>\n",
              "      <td>0</td>\n",
              "      <td>0</td>\n",
              "      <td>40</td>\n",
              "      <td>Laos</td>\n",
              "      <td>&lt;=50K</td>\n",
              "    </tr>\n",
              "    <tr>\n",
              "      <th>4</th>\n",
              "      <td>45</td>\n",
              "      <td>Private</td>\n",
              "      <td>155093</td>\n",
              "      <td>10th</td>\n",
              "      <td>6</td>\n",
              "      <td>Divorced</td>\n",
              "      <td>Other-service</td>\n",
              "      <td>Not-in-family</td>\n",
              "      <td>Black</td>\n",
              "      <td>Female</td>\n",
              "      <td>0</td>\n",
              "      <td>0</td>\n",
              "      <td>38</td>\n",
              "      <td>Dominican-Republic</td>\n",
              "      <td>&lt;=50K</td>\n",
              "    </tr>\n",
              "  </tbody>\n",
              "</table>\n",
              "</div>"
            ],
            "text/plain": [
              "   age   workclass  fnlwgt  ... hours.per.week       native.country       Y\n",
              "0   45     Private  234652  ...             40               Mexico   <=50K\n",
              "1   43   State-gov   33331  ...             70        United-States    >50K\n",
              "2   26   State-gov  252284  ...             40        United-States   <=50K\n",
              "3   24     Private  303296  ...             40                 Laos   <=50K\n",
              "4   45     Private  155093  ...             38   Dominican-Republic   <=50K\n",
              "\n",
              "[5 rows x 15 columns]"
            ]
          },
          "metadata": {
            "tags": []
          },
          "execution_count": 4
        }
      ]
    },
    {
      "cell_type": "code",
      "metadata": {
        "colab": {
          "base_uri": "https://localhost:8080/"
        },
        "id": "7yCk4yjkLW1P",
        "outputId": "5ab525d1-5c88-47da-ea83-a40cec8b870e"
      },
      "source": [
        "trn.dtypes    ## check datatypes"
      ],
      "execution_count": 5,
      "outputs": [
        {
          "output_type": "execute_result",
          "data": {
            "text/plain": [
              "age                int64\n",
              "workclass         object\n",
              "fnlwgt             int64\n",
              "education         object\n",
              "education.num      int64\n",
              "marital.status    object\n",
              "occupation        object\n",
              "relationship      object\n",
              "race              object\n",
              "sex               object\n",
              "capital.gain       int64\n",
              "capital.loss       int64\n",
              "hours.per.week     int64\n",
              "native.country    object\n",
              "Y                 object\n",
              "dtype: object"
            ]
          },
          "metadata": {
            "tags": []
          },
          "execution_count": 5
        }
      ]
    },
    {
      "cell_type": "code",
      "metadata": {
        "colab": {
          "base_uri": "https://localhost:8080/"
        },
        "id": "s6cvn-cvLmX2",
        "outputId": "a0b41b39-7f2f-4616-a86c-7157929504ae"
      },
      "source": [
        "## checking null values in numeric columns\n",
        "\n",
        "print(trn[\"age\"].isnull().sum())\n",
        "print(trn[\"fnlwgt\"].isnull().sum())\n",
        "print(trn[\"education.num\"].isnull().sum())\n",
        "print(trn[\"capital.gain\"].isnull().sum())\n",
        "print(trn[\"capital.loss\"].isnull().sum())\n",
        "print(trn[\"hours.per.week\"].isnull().sum())"
      ],
      "execution_count": 6,
      "outputs": [
        {
          "output_type": "stream",
          "text": [
            "0\n",
            "0\n",
            "0\n",
            "0\n",
            "0\n",
            "0\n"
          ],
          "name": "stdout"
        }
      ]
    },
    {
      "cell_type": "code",
      "metadata": {
        "id": "NK1M51VmL3XN",
        "colab": {
          "base_uri": "https://localhost:8080/"
        },
        "outputId": "51867ecc-598c-4986-c9b4-35009a3b88a3"
      },
      "source": [
        "## checking the shape\n",
        "\n",
        "trn.shape,tst.shape"
      ],
      "execution_count": 7,
      "outputs": [
        {
          "output_type": "execute_result",
          "data": {
            "text/plain": [
              "((26048, 15), (6513, 15))"
            ]
          },
          "metadata": {
            "tags": []
          },
          "execution_count": 7
        }
      ]
    },
    {
      "cell_type": "code",
      "metadata": {
        "id": "WaoW8UlaMq9Z",
        "colab": {
          "base_uri": "https://localhost:8080/"
        },
        "outputId": "57e61088-a2d8-4383-db72-ea54a23a2c16"
      },
      "source": [
        "trn.columns, tst.columns"
      ],
      "execution_count": 8,
      "outputs": [
        {
          "output_type": "execute_result",
          "data": {
            "text/plain": [
              "(Index(['age', 'workclass', 'fnlwgt', 'education', 'education.num',\n",
              "        'marital.status', 'occupation', 'relationship', 'race', 'sex',\n",
              "        'capital.gain', 'capital.loss', 'hours.per.week', 'native.country',\n",
              "        'Y'],\n",
              "       dtype='object'),\n",
              " Index(['Row_id', 'age', 'workclass', 'fnlwgt', 'education', 'education.num',\n",
              "        'marital.status', 'occupation', 'relationship', 'race', 'sex',\n",
              "        'capital.gain', 'capital.loss', 'hours.per.week', 'native.country'],\n",
              "       dtype='object'))"
            ]
          },
          "metadata": {
            "tags": []
          },
          "execution_count": 8
        }
      ]
    },
    {
      "cell_type": "code",
      "metadata": {
        "id": "Wx05b7GRVz9e"
      },
      "source": [
        "## ROW ID COLUMN\n",
        "\n",
        "del tst['Row_id'] ## deleting row id col coz its useless and has no significance on dependent variable"
      ],
      "execution_count": 9,
      "outputs": []
    },
    {
      "cell_type": "code",
      "metadata": {
        "colab": {
          "base_uri": "https://localhost:8080/"
        },
        "id": "xEmsuJNg26Wk",
        "outputId": "0dfe2a46-3534-44e7-eaf1-82a6a9b95bb9"
      },
      "source": [
        "#WORKCLASS COLUMN\n",
        "\n",
        "## checking the unique values present \n",
        "\n",
        "trn['workclass'].value_counts()"
      ],
      "execution_count": 10,
      "outputs": [
        {
          "output_type": "execute_result",
          "data": {
            "text/plain": [
              " Private             18156\n",
              " Self-emp-not-inc     2009\n",
              " Local-gov            1658\n",
              " ?                    1470\n",
              " State-gov            1048\n",
              " Self-emp-inc          908\n",
              " Federal-gov           784\n",
              " Without-pay             9\n",
              " Never-worked            6\n",
              "Name: workclass, dtype: int64"
            ]
          },
          "metadata": {
            "tags": []
          },
          "execution_count": 10
        }
      ]
    },
    {
      "cell_type": "code",
      "metadata": {
        "id": "TUk25hPOQUNl"
      },
      "source": [
        "##WORKCLASS COLUMN ON TRAIN AND TEST BOTH\n",
        "\n",
        "trn['workclass']=trn['workclass'].str.strip()  ## removing the spaces from both the sides of unique values"
      ],
      "execution_count": 11,
      "outputs": []
    },
    {
      "cell_type": "code",
      "metadata": {
        "id": "jW7GBadIW2Bx"
      },
      "source": [
        "trn.loc[trn['workclass']=='Never-worked','workclass']='Without-pay'   ## coz frequency of never worked is very low, so we can combine never worked with without pay"
      ],
      "execution_count": 12,
      "outputs": []
    },
    {
      "cell_type": "code",
      "metadata": {
        "id": "Yt0cs9VjXvJ5"
      },
      "source": [
        "abc=pd.get_dummies(trn['workclass'],prefix='workclass',drop_first=True)      ## getting dummies of unique values\n",
        "del trn['workclass']              \n",
        "trn=pd.concat([trn,abc],axis=1)                                               ## adding dummies dataframe to main data"
      ],
      "execution_count": 13,
      "outputs": []
    },
    {
      "cell_type": "code",
      "metadata": {
        "id": "5Qn3G5ygXyze"
      },
      "source": [
        "## same operations with test data\n",
        "\n",
        "tst['workclass']=tst['workclass'].str.strip()"
      ],
      "execution_count": 14,
      "outputs": []
    },
    {
      "cell_type": "code",
      "metadata": {
        "id": "6aOSFWrW4fxo"
      },
      "source": [
        "tst.loc[tst['workclass']=='Never-worked','workclass']='Without-pay'"
      ],
      "execution_count": 15,
      "outputs": []
    },
    {
      "cell_type": "code",
      "metadata": {
        "id": "7keJ6B1I4AIa"
      },
      "source": [
        "tabc=pd.get_dummies(tst['workclass'],prefix='workclass',drop_first=True)\n",
        "del tst['workclass']\n",
        "tst=pd.concat([tst,tabc],axis=1)"
      ],
      "execution_count": 16,
      "outputs": []
    },
    {
      "cell_type": "code",
      "metadata": {
        "colab": {
          "base_uri": "https://localhost:8080/"
        },
        "id": "cQ1Px62v4kkb",
        "outputId": "5fd6c6db-a44c-4262-889a-58f902812b82"
      },
      "source": [
        "### Cheking EDUCATION AND EDUCATION NUM column\n",
        "\n",
        "print(trn['education'].value_counts())\n",
        "#tst['education'].value_counts()\n"
      ],
      "execution_count": 17,
      "outputs": [
        {
          "output_type": "stream",
          "text": [
            " HS-grad         8409\n",
            " Some-college    5810\n",
            " Bachelors       4284\n",
            " Masters         1396\n",
            " Assoc-voc       1114\n",
            " 11th             958\n",
            " Assoc-acdm       823\n",
            " 10th             752\n",
            " 7th-8th          518\n",
            " Prof-school      465\n",
            " 9th              410\n",
            " 12th             344\n",
            " Doctorate        334\n",
            " 5th-6th          261\n",
            " 1st-4th          135\n",
            " Preschool         35\n",
            "Name: education, dtype: int64\n"
          ],
          "name": "stdout"
        }
      ]
    },
    {
      "cell_type": "code",
      "metadata": {
        "colab": {
          "base_uri": "https://localhost:8080/"
        },
        "id": "vdZgVw6V6N4N",
        "outputId": "e4671a19-11f6-4b69-b8db-a80260404930"
      },
      "source": [
        "trn['education.num'].value_counts()"
      ],
      "execution_count": 18,
      "outputs": [
        {
          "output_type": "execute_result",
          "data": {
            "text/plain": [
              "9     8409\n",
              "10    5810\n",
              "13    4284\n",
              "14    1396\n",
              "11    1114\n",
              "7      958\n",
              "12     823\n",
              "6      752\n",
              "4      518\n",
              "15     465\n",
              "5      410\n",
              "8      344\n",
              "16     334\n",
              "3      261\n",
              "2      135\n",
              "1       35\n",
              "Name: education.num, dtype: int64"
            ]
          },
          "metadata": {
            "tags": []
          },
          "execution_count": 18
        }
      ]
    },
    {
      "cell_type": "code",
      "metadata": {
        "id": "0m9X_d_V6mke"
      },
      "source": [
        "del trn['education.num']   ## coz both education and education are same so we can delete anyone column"
      ],
      "execution_count": 19,
      "outputs": []
    },
    {
      "cell_type": "code",
      "metadata": {
        "id": "ifZlYo-l6xgt"
      },
      "source": [
        "del tst['education.num']   ## deleting in test data"
      ],
      "execution_count": 20,
      "outputs": []
    },
    {
      "cell_type": "code",
      "metadata": {
        "id": "xEQaztuc5eM0"
      },
      "source": [
        "## getting dummies and merging dataframe with main dataframe. same opeartion on both train and test data\n",
        "\n",
        "ab=pd.get_dummies(trn['education'],prefix='education',drop_first=True)\n",
        "trn=pd.concat([trn,ab],axis=1)\n",
        "del trn['education']\n",
        "\n",
        "tab=pd.get_dummies(tst['education'],prefix='education',drop_first=True)\n",
        "tst=pd.concat([tst,tab],axis=1)\n",
        "del tst['education']"
      ],
      "execution_count": 21,
      "outputs": []
    },
    {
      "cell_type": "code",
      "metadata": {
        "colab": {
          "base_uri": "https://localhost:8080/"
        },
        "id": "j34nC8kg7V7v",
        "outputId": "129d4982-b753-462e-817c-6a4f60ab59bb"
      },
      "source": [
        "trn.shape,tst.shape"
      ],
      "execution_count": 22,
      "outputs": [
        {
          "output_type": "execute_result",
          "data": {
            "text/plain": [
              "((26048, 34), (6513, 33))"
            ]
          },
          "metadata": {
            "tags": []
          },
          "execution_count": 22
        }
      ]
    },
    {
      "cell_type": "code",
      "metadata": {
        "colab": {
          "base_uri": "https://localhost:8080/"
        },
        "id": "wbMMjJZD7aPS",
        "outputId": "fd494a81-b3a6-4ed5-e154-9bb440edc809"
      },
      "source": [
        "trn.dtypes"
      ],
      "execution_count": 23,
      "outputs": [
        {
          "output_type": "execute_result",
          "data": {
            "text/plain": [
              "age                            int64\n",
              "fnlwgt                         int64\n",
              "marital.status                object\n",
              "occupation                    object\n",
              "relationship                  object\n",
              "race                          object\n",
              "sex                           object\n",
              "capital.gain                   int64\n",
              "capital.loss                   int64\n",
              "hours.per.week                 int64\n",
              "native.country                object\n",
              "Y                             object\n",
              "workclass_Federal-gov          uint8\n",
              "workclass_Local-gov            uint8\n",
              "workclass_Private              uint8\n",
              "workclass_Self-emp-inc         uint8\n",
              "workclass_Self-emp-not-inc     uint8\n",
              "workclass_State-gov            uint8\n",
              "workclass_Without-pay          uint8\n",
              "education_ 11th                uint8\n",
              "education_ 12th                uint8\n",
              "education_ 1st-4th             uint8\n",
              "education_ 5th-6th             uint8\n",
              "education_ 7th-8th             uint8\n",
              "education_ 9th                 uint8\n",
              "education_ Assoc-acdm          uint8\n",
              "education_ Assoc-voc           uint8\n",
              "education_ Bachelors           uint8\n",
              "education_ Doctorate           uint8\n",
              "education_ HS-grad             uint8\n",
              "education_ Masters             uint8\n",
              "education_ Preschool           uint8\n",
              "education_ Prof-school         uint8\n",
              "education_ Some-college        uint8\n",
              "dtype: object"
            ]
          },
          "metadata": {
            "tags": []
          },
          "execution_count": 23
        }
      ]
    },
    {
      "cell_type": "code",
      "metadata": {
        "id": "eX9n_Z0t7d-R"
      },
      "source": [
        "## since relationship and race has no correlation with dependent variable so we can delete those columns\n",
        "\n",
        "del trn['relationship']\n",
        "del trn['race']\n",
        "del tst['relationship']\n",
        "del tst['race']"
      ],
      "execution_count": 24,
      "outputs": []
    },
    {
      "cell_type": "code",
      "metadata": {
        "colab": {
          "base_uri": "https://localhost:8080/"
        },
        "id": "BOpKXwLh8DQk",
        "outputId": "e5129498-6b8f-4d69-c307-8a5d2185d6dd"
      },
      "source": [
        "trn['native.country'].value_counts()"
      ],
      "execution_count": 25,
      "outputs": [
        {
          "output_type": "execute_result",
          "data": {
            "text/plain": [
              " United-States                 23315\n",
              " Mexico                          511\n",
              " ?                               468\n",
              " Philippines                     154\n",
              " Germany                         112\n",
              " Canada                           95\n",
              " Puerto-Rico                      93\n",
              " El-Salvador                      86\n",
              " Cuba                             82\n",
              " India                            80\n",
              " England                          71\n",
              " China                            66\n",
              " South                            65\n",
              " Jamaica                          64\n",
              " Italy                            59\n",
              " Dominican-Republic               58\n",
              " Vietnam                          56\n",
              " Columbia                         51\n",
              " Guatemala                        49\n",
              " Japan                            48\n",
              " Taiwan                           46\n",
              " Poland                           44\n",
              " Haiti                            38\n",
              " Portugal                         33\n",
              " Iran                             33\n",
              " Peru                             27\n",
              " France                           26\n",
              " Nicaragua                        26\n",
              " Ecuador                          23\n",
              " Greece                           22\n",
              " Ireland                          17\n",
              " Hong                             17\n",
              " Thailand                         15\n",
              " Trinadad&Tobago                  15\n",
              " Yugoslavia                       15\n",
              " Outlying-US(Guam-USVI-etc)       14\n",
              " Laos                             14\n",
              " Cambodia                         13\n",
              " Hungary                          10\n",
              " Scotland                          9\n",
              " Honduras                          8\n",
              "Name: native.country, dtype: int64"
            ]
          },
          "metadata": {
            "tags": []
          },
          "execution_count": 25
        }
      ]
    },
    {
      "cell_type": "code",
      "metadata": {
        "id": "gyyiAE238d2Y"
      },
      "source": [
        "## native country of an individual doesnt affect on income of a person so dropping that column as well\n",
        "\n",
        "del trn['native.country']\n",
        "del tst['native.country']"
      ],
      "execution_count": 26,
      "outputs": []
    },
    {
      "cell_type": "code",
      "metadata": {
        "colab": {
          "base_uri": "https://localhost:8080/"
        },
        "id": "XLVDxU1p8sxs",
        "outputId": "a67237f4-7ae0-46fd-8b80-3f30e8b64f41"
      },
      "source": [
        "## SEX COLUMN\n",
        "\n",
        "trn['sex'].value_counts()"
      ],
      "execution_count": 27,
      "outputs": [
        {
          "output_type": "execute_result",
          "data": {
            "text/plain": [
              " Male      17363\n",
              " Female     8685\n",
              "Name: sex, dtype: int64"
            ]
          },
          "metadata": {
            "tags": []
          },
          "execution_count": 27
        }
      ]
    },
    {
      "cell_type": "code",
      "metadata": {
        "id": "Kj9sQgQX85f6"
      },
      "source": [
        "## sex col has two unique values so taking dummies and adding the dummies dataframe with main dataframe and same ops is done on train and test both\n",
        "\n",
        "mf=pd.get_dummies(trn['sex'],prefix='sex')\n",
        "trn=pd.concat([trn,mf],axis=1)\n",
        "del trn['sex']\n",
        "\n",
        "tmf=pd.get_dummies(tst['sex'],prefix='sex')\n",
        "tst=pd.concat([tst,tmf],axis=1)\n",
        "del tst['sex']"
      ],
      "execution_count": 28,
      "outputs": []
    },
    {
      "cell_type": "code",
      "metadata": {
        "colab": {
          "base_uri": "https://localhost:8080/"
        },
        "id": "P18rzf5b9TyR",
        "outputId": "6a569c77-034e-4dea-f060-2973f6721ee8"
      },
      "source": [
        "## MARITAL STATUS COLUMN\n",
        "\n",
        "trn['marital.status'].value_counts()  ## checking unique values and their counts"
      ],
      "execution_count": 29,
      "outputs": [
        {
          "output_type": "execute_result",
          "data": {
            "text/plain": [
              " Married-civ-spouse       11899\n",
              " Never-married             8651\n",
              " Divorced                  3544\n",
              " Separated                  825\n",
              " Widowed                    779\n",
              " Married-spouse-absent      333\n",
              " Married-AF-spouse           17\n",
              "Name: marital.status, dtype: int64"
            ]
          },
          "metadata": {
            "tags": []
          },
          "execution_count": 29
        }
      ]
    },
    {
      "cell_type": "code",
      "metadata": {
        "id": "ILY76YjMYczN"
      },
      "source": [
        "trn['marital.status']=trn['marital.status'].str.strip()  ##since there is spaces between uniwue values so we have to strip it means remove those spaces"
      ],
      "execution_count": 30,
      "outputs": []
    },
    {
      "cell_type": "code",
      "metadata": {
        "id": "GJWVDIlA9nc4"
      },
      "source": [
        "## never married, divorced , separated and widowed can be combined together and consider as single\n",
        "\n",
        "trn.loc[trn['marital.status']=='Never-married','marital.status']= 'Single'\n",
        "trn.loc[trn['marital.status']=='Divorced','marital.status']= 'Single'\n",
        "trn.loc[trn['marital.status']=='Separated','marital.status']= 'Single'\n",
        "trn.loc[trn['marital.status']=='Widowed','marital.status']= 'Single'"
      ],
      "execution_count": 31,
      "outputs": []
    },
    {
      "cell_type": "code",
      "metadata": {
        "id": "XTbBksCCaVN-"
      },
      "source": [
        "## same ops with test data as well\n",
        "\n",
        "tst['marital.status']=tst['marital.status'].str.strip()"
      ],
      "execution_count": 32,
      "outputs": []
    },
    {
      "cell_type": "code",
      "metadata": {
        "id": "cKGIN-chaZ_M"
      },
      "source": [
        "tst.loc[tst['marital.status']=='Never-married','marital.status']= 'Single'\n",
        "tst.loc[tst['marital.status']=='Divorced','marital.status']= 'Single'\n",
        "tst.loc[tst['marital.status']=='Separated','marital.status']= 'Single'\n",
        "tst.loc[tst['marital.status']=='Widowed','marital.status']= 'Single'"
      ],
      "execution_count": 33,
      "outputs": []
    },
    {
      "cell_type": "code",
      "metadata": {
        "id": "WvZHsHyz-sFT"
      },
      "source": [
        "vs=pd.get_dummies(trn['marital.status'],prefix='marital.status',drop_first=True)\n",
        "trn=pd.concat([trn,vs],axis=1)\n",
        "del trn['marital.status']\n",
        "\n",
        "tvs=pd.get_dummies(tst['marital.status'],prefix='marital.status',drop_first=True)\n",
        "tst=pd.concat([tst,tvs],axis=1)\n",
        "del tst['marital.status']"
      ],
      "execution_count": 34,
      "outputs": []
    },
    {
      "cell_type": "code",
      "metadata": {
        "colab": {
          "base_uri": "https://localhost:8080/"
        },
        "id": "vk4hgLZcarSa",
        "outputId": "6d5da5d7-0d23-4aaf-9cd1-b2592842b89b"
      },
      "source": [
        "trn.shape,tst.shape"
      ],
      "execution_count": 35,
      "outputs": [
        {
          "output_type": "execute_result",
          "data": {
            "text/plain": [
              "((26048, 34), (6513, 33))"
            ]
          },
          "metadata": {
            "tags": []
          },
          "execution_count": 35
        }
      ]
    },
    {
      "cell_type": "code",
      "metadata": {
        "colab": {
          "base_uri": "https://localhost:8080/"
        },
        "id": "4rcDj8dmat1m",
        "outputId": "679fb5bf-74e6-48f6-a746-11beda780423"
      },
      "source": [
        "trn.dtypes"
      ],
      "execution_count": 36,
      "outputs": [
        {
          "output_type": "execute_result",
          "data": {
            "text/plain": [
              "age                                      int64\n",
              "fnlwgt                                   int64\n",
              "occupation                              object\n",
              "capital.gain                             int64\n",
              "capital.loss                             int64\n",
              "hours.per.week                           int64\n",
              "Y                                       object\n",
              "workclass_Federal-gov                    uint8\n",
              "workclass_Local-gov                      uint8\n",
              "workclass_Private                        uint8\n",
              "workclass_Self-emp-inc                   uint8\n",
              "workclass_Self-emp-not-inc               uint8\n",
              "workclass_State-gov                      uint8\n",
              "workclass_Without-pay                    uint8\n",
              "education_ 11th                          uint8\n",
              "education_ 12th                          uint8\n",
              "education_ 1st-4th                       uint8\n",
              "education_ 5th-6th                       uint8\n",
              "education_ 7th-8th                       uint8\n",
              "education_ 9th                           uint8\n",
              "education_ Assoc-acdm                    uint8\n",
              "education_ Assoc-voc                     uint8\n",
              "education_ Bachelors                     uint8\n",
              "education_ Doctorate                     uint8\n",
              "education_ HS-grad                       uint8\n",
              "education_ Masters                       uint8\n",
              "education_ Preschool                     uint8\n",
              "education_ Prof-school                   uint8\n",
              "education_ Some-college                  uint8\n",
              "sex_ Female                              uint8\n",
              "sex_ Male                                uint8\n",
              "marital.status_Married-civ-spouse        uint8\n",
              "marital.status_Married-spouse-absent     uint8\n",
              "marital.status_Single                    uint8\n",
              "dtype: object"
            ]
          },
          "metadata": {
            "tags": []
          },
          "execution_count": 36
        }
      ]
    },
    {
      "cell_type": "code",
      "metadata": {
        "colab": {
          "base_uri": "https://localhost:8080/"
        },
        "id": "CcgW5MFQa616",
        "outputId": "3903bfac-be22-43f6-8db0-a5f1b12fbc70"
      },
      "source": [
        "##OCCUPATION COLUMN\n",
        "\n",
        "trn['occupation'].value_counts()"
      ],
      "execution_count": 37,
      "outputs": [
        {
          "output_type": "execute_result",
          "data": {
            "text/plain": [
              " Prof-specialty       3316\n",
              " Exec-managerial      3274\n",
              " Craft-repair         3248\n",
              " Adm-clerical         3036\n",
              " Sales                2898\n",
              " Other-service        2629\n",
              " Machine-op-inspct    1584\n",
              " ?                    1476\n",
              " Transport-moving     1297\n",
              " Handlers-cleaners    1119\n",
              " Farming-fishing       785\n",
              " Tech-support          742\n",
              " Protective-serv       518\n",
              " Priv-house-serv       119\n",
              " Armed-Forces            7\n",
              "Name: occupation, dtype: int64"
            ]
          },
          "metadata": {
            "tags": []
          },
          "execution_count": 37
        }
      ]
    },
    {
      "cell_type": "code",
      "metadata": {
        "id": "cxjbeJtxbHbg"
      },
      "source": [
        "## removing spaces, combining low frequency values to a single frequency, getting dummies and add that dataframe with main dataframe\n",
        "\n",
        "trn['occupation']=trn['occupation'].str.strip()\n",
        "tst['occupation']=tst['occupation'].str.strip()"
      ],
      "execution_count": 38,
      "outputs": []
    },
    {
      "cell_type": "code",
      "metadata": {
        "id": "RhLCFxlpdyye"
      },
      "source": [
        "trn.loc[trn['occupation']=='Armed-Forces','occupation']='Other-service'\n",
        "tst.loc[tst['occupation']=='Armed-Forces','occupation']='Other-service'"
      ],
      "execution_count": 39,
      "outputs": []
    },
    {
      "cell_type": "code",
      "metadata": {
        "id": "ZEa8J95TeP-b"
      },
      "source": [
        "vss=pd.get_dummies(trn['occupation'],prefix='occupation',drop_first=True)\n",
        "trn=pd.concat([trn,vss],axis=1)\n",
        "del trn['occupation']\n",
        "\n",
        "tvss=pd.get_dummies(tst['occupation'],prefix='occupation',drop_first=True)\n",
        "tst=pd.concat([tst,tvss],axis=1)\n",
        "del tst['occupation']"
      ],
      "execution_count": 40,
      "outputs": []
    },
    {
      "cell_type": "code",
      "metadata": {
        "colab": {
          "base_uri": "https://localhost:8080/"
        },
        "id": "F6c7eigRgOPx",
        "outputId": "409ea5a0-9202-45a6-8303-bb5ed54d4b8f"
      },
      "source": [
        "##TARGET COLUMN Y\n",
        "\n",
        "trn['Y'].value_counts()"
      ],
      "execution_count": 41,
      "outputs": [
        {
          "output_type": "execute_result",
          "data": {
            "text/plain": [
              " <=50K    19775\n",
              " >50K      6273\n",
              "Name: Y, dtype: int64"
            ]
          },
          "metadata": {
            "tags": []
          },
          "execution_count": 41
        }
      ]
    },
    {
      "cell_type": "code",
      "metadata": {
        "colab": {
          "base_uri": "https://localhost:8080/"
        },
        "id": "IeO6entbkChE",
        "outputId": "4e1d0a93-4a83-4ac0-b56d-344993be3ad7"
      },
      "source": [
        "trn['Y'].isnull().sum()   ## checking null values"
      ],
      "execution_count": 42,
      "outputs": [
        {
          "output_type": "execute_result",
          "data": {
            "text/plain": [
              "0"
            ]
          },
          "metadata": {
            "tags": []
          },
          "execution_count": 42
        }
      ]
    },
    {
      "cell_type": "code",
      "metadata": {
        "id": "S9luuM9MYBeO"
      },
      "source": [
        "trn['Y']=trn['Y'].str.strip()"
      ],
      "execution_count": 43,
      "outputs": []
    },
    {
      "cell_type": "code",
      "metadata": {
        "id": "v45VYSNFWWle"
      },
      "source": [
        "##1st method for replacing values\n",
        "\n",
        "salary={'<=50K':0,'>50K':1}\n",
        "trn.Y=[salary[item] for item in trn.Y]"
      ],
      "execution_count": 44,
      "outputs": []
    },
    {
      "cell_type": "code",
      "metadata": {
        "id": "ZNtlbzaNgXeI"
      },
      "source": [
        "## 2nd method for replacing values\n",
        "trn.loc[trn['Y']=='<=50K','Y']= 0\n",
        "trn.loc[trn['Y']=='>50K','Y']='1'"
      ],
      "execution_count": 45,
      "outputs": []
    },
    {
      "cell_type": "code",
      "metadata": {
        "id": "8tYUpJhskIHf"
      },
      "source": [
        "trn['Y']=pd.to_numeric(trn['Y'])  ## converting into numeric values since y column has string values"
      ],
      "execution_count": 46,
      "outputs": []
    },
    {
      "cell_type": "code",
      "metadata": {
        "id": "G7la12K6kcGe",
        "colab": {
          "base_uri": "https://localhost:8080/",
          "height": 1000
        },
        "outputId": "01db518e-508e-4d35-e0d8-6227a06e7ae5"
      },
      "source": [
        "## seeing the correlation between main columns using matplotlib and seaborn libraries\n",
        "\n",
        "plt.figure(figsize=(20,10))\n",
        "sns.pairplot(data=trn[['age','fnlwgt','capital.gain','capital.loss','hours.per.week','Y']])"
      ],
      "execution_count": 47,
      "outputs": [
        {
          "output_type": "execute_result",
          "data": {
            "text/plain": [
              "<seaborn.axisgrid.PairGrid at 0x7fb3c548a9d0>"
            ]
          },
          "metadata": {
            "tags": []
          },
          "execution_count": 47
        },
        {
          "output_type": "display_data",
          "data": {
            "text/plain": [
              "<Figure size 1440x720 with 0 Axes>"
            ]
          },
          "metadata": {
            "tags": []
          }
        },
        {
          "output_type": "display_data",
          "data": {
            "image/png": "[encoded data removed]",
            "text/plain": [
              "<Figure size 1080x1080 with 42 Axes>"
            ]
          },
          "metadata": {
            "tags": [],
            "needs_background": "light"
          }
        }
      ]
    },
    {
      "cell_type": "code",
      "metadata": {
        "colab": {
          "base_uri": "https://localhost:8080/",
          "height": 234
        },
        "id": "p5kRPZJgZVAc",
        "outputId": "67fb6bcf-8a73-479b-9338-1480930fb5ca"
      },
      "source": [
        "trn[['age','fnlwgt','capital.gain','capital.loss','hours.per.week','Y']].corr()"
      ],
      "execution_count": 48,
      "outputs": [
        {
          "output_type": "execute_result",
          "data": {
            "text/html": [
              "<div>\n",
              "<style scoped>\n",
              "    .dataframe tbody tr th:only-of-type {\n",
              "        vertical-align: middle;\n",
              "    }\n",
              "\n",
              "    .dataframe tbody tr th {\n",
              "        vertical-align: top;\n",
              "    }\n",
              "\n",
              "    .dataframe thead th {\n",
              "        text-align: right;\n",
              "    }\n",
              "</style>\n",
              "<table border=\"1\" class=\"dataframe\">\n",
              "  <thead>\n",
              "    <tr style=\"text-align: right;\">\n",
              "      <th></th>\n",
              "      <th>age</th>\n",
              "      <th>fnlwgt</th>\n",
              "      <th>capital.gain</th>\n",
              "      <th>capital.loss</th>\n",
              "      <th>hours.per.week</th>\n",
              "      <th>Y</th>\n",
              "    </tr>\n",
              "  </thead>\n",
              "  <tbody>\n",
              "    <tr>\n",
              "      <th>age</th>\n",
              "      <td>1.000000</td>\n",
              "      <td>-0.082397</td>\n",
              "      <td>0.084105</td>\n",
              "      <td>0.059287</td>\n",
              "      <td>0.072872</td>\n",
              "      <td>0.237956</td>\n",
              "    </tr>\n",
              "    <tr>\n",
              "      <th>fnlwgt</th>\n",
              "      <td>-0.082397</td>\n",
              "      <td>1.000000</td>\n",
              "      <td>0.001296</td>\n",
              "      <td>-0.007527</td>\n",
              "      <td>-0.019564</td>\n",
              "      <td>-0.017945</td>\n",
              "    </tr>\n",
              "    <tr>\n",
              "      <th>capital.gain</th>\n",
              "      <td>0.084105</td>\n",
              "      <td>0.001296</td>\n",
              "      <td>1.000000</td>\n",
              "      <td>-0.031684</td>\n",
              "      <td>0.083619</td>\n",
              "      <td>0.226074</td>\n",
              "    </tr>\n",
              "    <tr>\n",
              "      <th>capital.loss</th>\n",
              "      <td>0.059287</td>\n",
              "      <td>-0.007527</td>\n",
              "      <td>-0.031684</td>\n",
              "      <td>1.000000</td>\n",
              "      <td>0.061976</td>\n",
              "      <td>0.144632</td>\n",
              "    </tr>\n",
              "    <tr>\n",
              "      <th>hours.per.week</th>\n",
              "      <td>0.072872</td>\n",
              "      <td>-0.019564</td>\n",
              "      <td>0.083619</td>\n",
              "      <td>0.061976</td>\n",
              "      <td>1.000000</td>\n",
              "      <td>0.233560</td>\n",
              "    </tr>\n",
              "    <tr>\n",
              "      <th>Y</th>\n",
              "      <td>0.237956</td>\n",
              "      <td>-0.017945</td>\n",
              "      <td>0.226074</td>\n",
              "      <td>0.144632</td>\n",
              "      <td>0.233560</td>\n",
              "      <td>1.000000</td>\n",
              "    </tr>\n",
              "  </tbody>\n",
              "</table>\n",
              "</div>"
            ],
            "text/plain": [
              "                     age    fnlwgt  ...  hours.per.week         Y\n",
              "age             1.000000 -0.082397  ...        0.072872  0.237956\n",
              "fnlwgt         -0.082397  1.000000  ...       -0.019564 -0.017945\n",
              "capital.gain    0.084105  0.001296  ...        0.083619  0.226074\n",
              "capital.loss    0.059287 -0.007527  ...        0.061976  0.144632\n",
              "hours.per.week  0.072872 -0.019564  ...        1.000000  0.233560\n",
              "Y               0.237956 -0.017945  ...        0.233560  1.000000\n",
              "\n",
              "[6 rows x 6 columns]"
            ]
          },
          "metadata": {
            "tags": []
          },
          "execution_count": 48
        }
      ]
    },
    {
      "cell_type": "code",
      "metadata": {
        "id": "2Bdnj0OQvRzW"
      },
      "source": [
        "##FNLWGT COLUMN\n",
        "\n",
        "##since correlation between fnlwgt and target column Y and fnlwgt with other independent features is very low , we can delete that column\n",
        "\n",
        "del trn['fnlwgt']"
      ],
      "execution_count": 49,
      "outputs": []
    },
    {
      "cell_type": "code",
      "metadata": {
        "id": "Cu3eVR2exDXE"
      },
      "source": [
        "del tst['fnlwgt']"
      ],
      "execution_count": 50,
      "outputs": []
    },
    {
      "cell_type": "code",
      "metadata": {
        "colab": {
          "base_uri": "https://localhost:8080/",
          "height": 257
        },
        "id": "kZtzavkAvdVg",
        "outputId": "8210f7ef-e52e-4575-e6b1-0db4c2675679"
      },
      "source": [
        "trn.head()"
      ],
      "execution_count": 51,
      "outputs": [
        {
          "output_type": "execute_result",
          "data": {
            "text/html": [
              "<div>\n",
              "<style scoped>\n",
              "    .dataframe tbody tr th:only-of-type {\n",
              "        vertical-align: middle;\n",
              "    }\n",
              "\n",
              "    .dataframe tbody tr th {\n",
              "        vertical-align: top;\n",
              "    }\n",
              "\n",
              "    .dataframe thead th {\n",
              "        text-align: right;\n",
              "    }\n",
              "</style>\n",
              "<table border=\"1\" class=\"dataframe\">\n",
              "  <thead>\n",
              "    <tr style=\"text-align: right;\">\n",
              "      <th></th>\n",
              "      <th>age</th>\n",
              "      <th>capital.gain</th>\n",
              "      <th>capital.loss</th>\n",
              "      <th>hours.per.week</th>\n",
              "      <th>Y</th>\n",
              "      <th>workclass_Federal-gov</th>\n",
              "      <th>workclass_Local-gov</th>\n",
              "      <th>workclass_Private</th>\n",
              "      <th>workclass_Self-emp-inc</th>\n",
              "      <th>workclass_Self-emp-not-inc</th>\n",
              "      <th>workclass_State-gov</th>\n",
              "      <th>workclass_Without-pay</th>\n",
              "      <th>education_ 11th</th>\n",
              "      <th>education_ 12th</th>\n",
              "      <th>education_ 1st-4th</th>\n",
              "      <th>education_ 5th-6th</th>\n",
              "      <th>education_ 7th-8th</th>\n",
              "      <th>education_ 9th</th>\n",
              "      <th>education_ Assoc-acdm</th>\n",
              "      <th>education_ Assoc-voc</th>\n",
              "      <th>education_ Bachelors</th>\n",
              "      <th>education_ Doctorate</th>\n",
              "      <th>education_ HS-grad</th>\n",
              "      <th>education_ Masters</th>\n",
              "      <th>education_ Preschool</th>\n",
              "      <th>education_ Prof-school</th>\n",
              "      <th>education_ Some-college</th>\n",
              "      <th>sex_ Female</th>\n",
              "      <th>sex_ Male</th>\n",
              "      <th>marital.status_Married-civ-spouse</th>\n",
              "      <th>marital.status_Married-spouse-absent</th>\n",
              "      <th>marital.status_Single</th>\n",
              "      <th>occupation_Adm-clerical</th>\n",
              "      <th>occupation_Craft-repair</th>\n",
              "      <th>occupation_Exec-managerial</th>\n",
              "      <th>occupation_Farming-fishing</th>\n",
              "      <th>occupation_Handlers-cleaners</th>\n",
              "      <th>occupation_Machine-op-inspct</th>\n",
              "      <th>occupation_Other-service</th>\n",
              "      <th>occupation_Priv-house-serv</th>\n",
              "      <th>occupation_Prof-specialty</th>\n",
              "      <th>occupation_Protective-serv</th>\n",
              "      <th>occupation_Sales</th>\n",
              "      <th>occupation_Tech-support</th>\n",
              "      <th>occupation_Transport-moving</th>\n",
              "    </tr>\n",
              "  </thead>\n",
              "  <tbody>\n",
              "    <tr>\n",
              "      <th>0</th>\n",
              "      <td>45</td>\n",
              "      <td>0</td>\n",
              "      <td>0</td>\n",
              "      <td>40</td>\n",
              "      <td>0</td>\n",
              "      <td>0</td>\n",
              "      <td>0</td>\n",
              "      <td>1</td>\n",
              "      <td>0</td>\n",
              "      <td>0</td>\n",
              "      <td>0</td>\n",
              "      <td>0</td>\n",
              "      <td>0</td>\n",
              "      <td>0</td>\n",
              "      <td>0</td>\n",
              "      <td>1</td>\n",
              "      <td>0</td>\n",
              "      <td>0</td>\n",
              "      <td>0</td>\n",
              "      <td>0</td>\n",
              "      <td>0</td>\n",
              "      <td>0</td>\n",
              "      <td>0</td>\n",
              "      <td>0</td>\n",
              "      <td>0</td>\n",
              "      <td>0</td>\n",
              "      <td>0</td>\n",
              "      <td>0</td>\n",
              "      <td>1</td>\n",
              "      <td>1</td>\n",
              "      <td>0</td>\n",
              "      <td>0</td>\n",
              "      <td>0</td>\n",
              "      <td>0</td>\n",
              "      <td>0</td>\n",
              "      <td>0</td>\n",
              "      <td>0</td>\n",
              "      <td>1</td>\n",
              "      <td>0</td>\n",
              "      <td>0</td>\n",
              "      <td>0</td>\n",
              "      <td>0</td>\n",
              "      <td>0</td>\n",
              "      <td>0</td>\n",
              "      <td>0</td>\n",
              "    </tr>\n",
              "    <tr>\n",
              "      <th>1</th>\n",
              "      <td>43</td>\n",
              "      <td>0</td>\n",
              "      <td>1977</td>\n",
              "      <td>70</td>\n",
              "      <td>1</td>\n",
              "      <td>0</td>\n",
              "      <td>0</td>\n",
              "      <td>0</td>\n",
              "      <td>0</td>\n",
              "      <td>0</td>\n",
              "      <td>1</td>\n",
              "      <td>0</td>\n",
              "      <td>0</td>\n",
              "      <td>0</td>\n",
              "      <td>0</td>\n",
              "      <td>0</td>\n",
              "      <td>0</td>\n",
              "      <td>0</td>\n",
              "      <td>0</td>\n",
              "      <td>0</td>\n",
              "      <td>0</td>\n",
              "      <td>0</td>\n",
              "      <td>0</td>\n",
              "      <td>0</td>\n",
              "      <td>0</td>\n",
              "      <td>1</td>\n",
              "      <td>0</td>\n",
              "      <td>0</td>\n",
              "      <td>1</td>\n",
              "      <td>1</td>\n",
              "      <td>0</td>\n",
              "      <td>0</td>\n",
              "      <td>0</td>\n",
              "      <td>0</td>\n",
              "      <td>0</td>\n",
              "      <td>0</td>\n",
              "      <td>0</td>\n",
              "      <td>0</td>\n",
              "      <td>0</td>\n",
              "      <td>0</td>\n",
              "      <td>1</td>\n",
              "      <td>0</td>\n",
              "      <td>0</td>\n",
              "      <td>0</td>\n",
              "      <td>0</td>\n",
              "    </tr>\n",
              "    <tr>\n",
              "      <th>2</th>\n",
              "      <td>26</td>\n",
              "      <td>0</td>\n",
              "      <td>0</td>\n",
              "      <td>40</td>\n",
              "      <td>0</td>\n",
              "      <td>0</td>\n",
              "      <td>0</td>\n",
              "      <td>0</td>\n",
              "      <td>0</td>\n",
              "      <td>0</td>\n",
              "      <td>1</td>\n",
              "      <td>0</td>\n",
              "      <td>0</td>\n",
              "      <td>0</td>\n",
              "      <td>0</td>\n",
              "      <td>0</td>\n",
              "      <td>0</td>\n",
              "      <td>0</td>\n",
              "      <td>0</td>\n",
              "      <td>0</td>\n",
              "      <td>0</td>\n",
              "      <td>0</td>\n",
              "      <td>0</td>\n",
              "      <td>0</td>\n",
              "      <td>0</td>\n",
              "      <td>0</td>\n",
              "      <td>1</td>\n",
              "      <td>0</td>\n",
              "      <td>1</td>\n",
              "      <td>1</td>\n",
              "      <td>0</td>\n",
              "      <td>0</td>\n",
              "      <td>0</td>\n",
              "      <td>0</td>\n",
              "      <td>0</td>\n",
              "      <td>0</td>\n",
              "      <td>0</td>\n",
              "      <td>0</td>\n",
              "      <td>0</td>\n",
              "      <td>0</td>\n",
              "      <td>0</td>\n",
              "      <td>1</td>\n",
              "      <td>0</td>\n",
              "      <td>0</td>\n",
              "      <td>0</td>\n",
              "    </tr>\n",
              "    <tr>\n",
              "      <th>3</th>\n",
              "      <td>24</td>\n",
              "      <td>0</td>\n",
              "      <td>0</td>\n",
              "      <td>40</td>\n",
              "      <td>0</td>\n",
              "      <td>0</td>\n",
              "      <td>0</td>\n",
              "      <td>1</td>\n",
              "      <td>0</td>\n",
              "      <td>0</td>\n",
              "      <td>0</td>\n",
              "      <td>0</td>\n",
              "      <td>0</td>\n",
              "      <td>0</td>\n",
              "      <td>0</td>\n",
              "      <td>0</td>\n",
              "      <td>0</td>\n",
              "      <td>0</td>\n",
              "      <td>0</td>\n",
              "      <td>0</td>\n",
              "      <td>0</td>\n",
              "      <td>0</td>\n",
              "      <td>0</td>\n",
              "      <td>0</td>\n",
              "      <td>0</td>\n",
              "      <td>0</td>\n",
              "      <td>1</td>\n",
              "      <td>1</td>\n",
              "      <td>0</td>\n",
              "      <td>1</td>\n",
              "      <td>0</td>\n",
              "      <td>0</td>\n",
              "      <td>1</td>\n",
              "      <td>0</td>\n",
              "      <td>0</td>\n",
              "      <td>0</td>\n",
              "      <td>0</td>\n",
              "      <td>0</td>\n",
              "      <td>0</td>\n",
              "      <td>0</td>\n",
              "      <td>0</td>\n",
              "      <td>0</td>\n",
              "      <td>0</td>\n",
              "      <td>0</td>\n",
              "      <td>0</td>\n",
              "    </tr>\n",
              "    <tr>\n",
              "      <th>4</th>\n",
              "      <td>45</td>\n",
              "      <td>0</td>\n",
              "      <td>0</td>\n",
              "      <td>38</td>\n",
              "      <td>0</td>\n",
              "      <td>0</td>\n",
              "      <td>0</td>\n",
              "      <td>1</td>\n",
              "      <td>0</td>\n",
              "      <td>0</td>\n",
              "      <td>0</td>\n",
              "      <td>0</td>\n",
              "      <td>0</td>\n",
              "      <td>0</td>\n",
              "      <td>0</td>\n",
              "      <td>0</td>\n",
              "      <td>0</td>\n",
              "      <td>0</td>\n",
              "      <td>0</td>\n",
              "      <td>0</td>\n",
              "      <td>0</td>\n",
              "      <td>0</td>\n",
              "      <td>0</td>\n",
              "      <td>0</td>\n",
              "      <td>0</td>\n",
              "      <td>0</td>\n",
              "      <td>0</td>\n",
              "      <td>1</td>\n",
              "      <td>0</td>\n",
              "      <td>0</td>\n",
              "      <td>0</td>\n",
              "      <td>1</td>\n",
              "      <td>0</td>\n",
              "      <td>0</td>\n",
              "      <td>0</td>\n",
              "      <td>0</td>\n",
              "      <td>0</td>\n",
              "      <td>0</td>\n",
              "      <td>1</td>\n",
              "      <td>0</td>\n",
              "      <td>0</td>\n",
              "      <td>0</td>\n",
              "      <td>0</td>\n",
              "      <td>0</td>\n",
              "      <td>0</td>\n",
              "    </tr>\n",
              "  </tbody>\n",
              "</table>\n",
              "</div>"
            ],
            "text/plain": [
              "   age  capital.gain  ...  occupation_Tech-support  occupation_Transport-moving\n",
              "0   45             0  ...                        0                            0\n",
              "1   43             0  ...                        0                            0\n",
              "2   26             0  ...                        0                            0\n",
              "3   24             0  ...                        0                            0\n",
              "4   45             0  ...                        0                            0\n",
              "\n",
              "[5 rows x 45 columns]"
            ]
          },
          "metadata": {
            "tags": []
          },
          "execution_count": 51
        }
      ]
    },
    {
      "cell_type": "code",
      "metadata": {
        "colab": {
          "base_uri": "https://localhost:8080/"
        },
        "id": "FlvhoXVtvoMO",
        "outputId": "89bacef8-8dd1-4923-9757-087239ffb441"
      },
      "source": [
        "## CAPITAL.GAIN COLUMN\n",
        "\n",
        "trn['capital.gain'].value_counts()"
      ],
      "execution_count": 52,
      "outputs": [
        {
          "output_type": "execute_result",
          "data": {
            "text/plain": [
              "0        23870\n",
              "15024      295\n",
              "7688       216\n",
              "7298       193\n",
              "99999      133\n",
              "         ...  \n",
              "2993         1\n",
              "7978         1\n",
              "2387         1\n",
              "5060         1\n",
              "41310        1\n",
              "Name: capital.gain, Length: 117, dtype: int64"
            ]
          },
          "metadata": {
            "tags": []
          },
          "execution_count": 52
        }
      ]
    },
    {
      "cell_type": "code",
      "metadata": {
        "colab": {
          "base_uri": "https://localhost:8080/"
        },
        "id": "vheRyBNUvoRE",
        "outputId": "a6e7f474-5c4e-4cc9-ce39-e017d4e9e57b"
      },
      "source": [
        "## CAPITAL.LOSS COLUMN\n",
        "\n",
        "trn['capital.loss'].value_counts()"
      ],
      "execution_count": 53,
      "outputs": [
        {
          "output_type": "execute_result",
          "data": {
            "text/plain": [
              "0       24841\n",
              "1902      159\n",
              "1887      130\n",
              "1977      127\n",
              "1485       41\n",
              "        ...  \n",
              "155         1\n",
              "2238        1\n",
              "1735        1\n",
              "1411        1\n",
              "3900        1\n",
              "Name: capital.loss, Length: 87, dtype: int64"
            ]
          },
          "metadata": {
            "tags": []
          },
          "execution_count": 53
        }
      ]
    },
    {
      "cell_type": "code",
      "metadata": {
        "colab": {
          "base_uri": "https://localhost:8080/"
        },
        "id": "boqsM_-NvoWk",
        "outputId": "fa9494f6-ff36-49c4-b22a-7965f600eead"
      },
      "source": [
        "## HOURS.PER.WEEK COLUMN\n",
        "\n",
        "trn['hours.per.week'].value_counts()"
      ],
      "execution_count": 54,
      "outputs": [
        {
          "output_type": "execute_result",
          "data": {
            "text/plain": [
              "40    12188\n",
              "50     2218\n",
              "45     1461\n",
              "60     1180\n",
              "35     1022\n",
              "      ...  \n",
              "97        1\n",
              "61        1\n",
              "87        1\n",
              "92        1\n",
              "74        1\n",
              "Name: hours.per.week, Length: 92, dtype: int64"
            ]
          },
          "metadata": {
            "tags": []
          },
          "execution_count": 54
        }
      ]
    },
    {
      "cell_type": "markdown",
      "metadata": {
        "id": "hk2MsIoXxZ8C"
      },
      "source": [
        "# Model Fitting "
      ]
    },
    {
      "cell_type": "code",
      "metadata": {
        "colab": {
          "base_uri": "https://localhost:8080/"
        },
        "id": "kStmn4Q0cLBy",
        "outputId": "3da4054d-ba42-4fc1-9f08-76f7959a4be9"
      },
      "source": [
        "### MODEL FITTING\n",
        "\n",
        "trn['Y'].value_counts()"
      ],
      "execution_count": 55,
      "outputs": [
        {
          "output_type": "execute_result",
          "data": {
            "text/plain": [
              "0    19775\n",
              "1     6273\n",
              "Name: Y, dtype: int64"
            ]
          },
          "metadata": {
            "tags": []
          },
          "execution_count": 55
        }
      ]
    },
    {
      "cell_type": "code",
      "metadata": {
        "colab": {
          "base_uri": "https://localhost:8080/"
        },
        "id": "j49mQmGjeAtJ",
        "outputId": "be6c9ba7-9d7b-4812-f2e7-31ac31d568d4"
      },
      "source": [
        "6273/(19775+6273)"
      ],
      "execution_count": 56,
      "outputs": [
        {
          "output_type": "execute_result",
          "data": {
            "text/plain": [
              "0.24082463144963145"
            ]
          },
          "metadata": {
            "tags": []
          },
          "execution_count": 56
        }
      ]
    },
    {
      "cell_type": "code",
      "metadata": {
        "id": "CrM7tYKUeGOx"
      },
      "source": [
        "## using stratified shuffle split because the dataset is imbalanced \n",
        "\n",
        "\n",
        "from sklearn.model_selection import StratifiedShuffleSplit   ##importing from sklearn library\n",
        "stdsfl=StratifiedShuffleSplit()                              ##storing in stdsfl object"
      ],
      "execution_count": 57,
      "outputs": []
    },
    {
      "cell_type": "code",
      "metadata": {
        "id": "BHLvYfqJfBt0"
      },
      "source": [
        "features=trn.drop(['Y'],axis=1)          ## droping target column from train data\n",
        "target=trn['Y']                          ## storing target column in target object"
      ],
      "execution_count": 58,
      "outputs": []
    },
    {
      "cell_type": "code",
      "metadata": {
        "id": "vrsqBlkDehWn",
        "colab": {
          "base_uri": "https://localhost:8080/"
        },
        "outputId": "325df5d4-81f2-4a1a-84f1-ca157c99659f"
      },
      "source": [
        "features.shape,target.shape"
      ],
      "execution_count": 59,
      "outputs": [
        {
          "output_type": "execute_result",
          "data": {
            "text/plain": [
              "((26048, 44), (26048,))"
            ]
          },
          "metadata": {
            "tags": []
          },
          "execution_count": 59
        }
      ]
    },
    {
      "cell_type": "code",
      "metadata": {
        "id": "PH9h1JrbtfLm"
      },
      "source": [
        "##### Creating a test set to validate the model on ######\n",
        "\n",
        "split_size = 0.2\n",
        "\n",
        "split_ins = StratifiedShuffleSplit(n_splits=1, test_size=split_size, random_state=1000)\n",
        "\n",
        "splits = split_ins.split(features,target)\n",
        "\n",
        "for train_index, test_index in splits:\n",
        "    xtrain = features.iloc[train_index,:]   ## features for the training set\n",
        "    ytrain = target[train_index]    ##### target values for the training set\n",
        "    xval = features.iloc[test_index,:]   #### features for the validation set\n",
        "    yval = target[test_index]            #### targets for the validation set"
      ],
      "execution_count": 60,
      "outputs": []
    },
    {
      "cell_type": "code",
      "metadata": {
        "colab": {
          "base_uri": "https://localhost:8080/"
        },
        "id": "1om8_97Qlc2c",
        "outputId": "3d0a7e62-950a-4f95-98ef-ba0a1297fe14"
      },
      "source": [
        "xtrain.shape,ytrain.shape, xval.shape,yval.shape"
      ],
      "execution_count": 61,
      "outputs": [
        {
          "output_type": "execute_result",
          "data": {
            "text/plain": [
              "((20838, 44), (20838,), (5210, 44), (5210,))"
            ]
          },
          "metadata": {
            "tags": []
          },
          "execution_count": 61
        }
      ]
    },
    {
      "cell_type": "code",
      "metadata": {
        "id": "7cghLX-TmOxJ"
      },
      "source": [
        "from sklearn.linear_model import LogisticRegression    ## importing Logistic Regression from sklearn library\n",
        "from sklearn.metrics import roc_auc_score, plot_roc_curve, confusion_matrix,f1_score   # importing various metrics to check the quality of model"
      ],
      "execution_count": 62,
      "outputs": []
    },
    {
      "cell_type": "code",
      "metadata": {
        "id": "dRRsDoXylobs"
      },
      "source": [
        "LR_model = LogisticRegression(class_weight = 'balanced',max_iter=200,random_state=1000)"
      ],
      "execution_count": 63,
      "outputs": []
    },
    {
      "cell_type": "code",
      "metadata": {
        "colab": {
          "base_uri": "https://localhost:8080/"
        },
        "id": "8DSiXWZHmdJO",
        "outputId": "e7baf4c5-1822-4627-a31d-22c1e0c73588"
      },
      "source": [
        "## fitting the model i.e. training the model to learn the patterns from given data\n",
        "\n",
        "LR_model.fit(xtrain,ytrain)"
      ],
      "execution_count": 64,
      "outputs": [
        {
          "output_type": "stream",
          "text": [
            "/usr/local/lib/python3.7/dist-packages/sklearn/linear_model/_logistic.py:940: ConvergenceWarning: lbfgs failed to converge (status=1):\n",
            "STOP: TOTAL NO. of ITERATIONS REACHED LIMIT.\n",
            "\n",
            "Increase the number of iterations (max_iter) or scale the data as shown in:\n",
            "    https://scikit-learn.org/stable/modules/preprocessing.html\n",
            "Please also refer to the documentation for alternative solver options:\n",
            "    https://scikit-learn.org/stable/modules/linear_model.html#logistic-regression\n",
            "  extra_warning_msg=_LOGISTIC_SOLVER_CONVERGENCE_MSG)\n"
          ],
          "name": "stderr"
        },
        {
          "output_type": "execute_result",
          "data": {
            "text/plain": [
              "LogisticRegression(C=1.0, class_weight='balanced', dual=False,\n",
              "                   fit_intercept=True, intercept_scaling=1, l1_ratio=None,\n",
              "                   max_iter=200, multi_class='auto', n_jobs=None, penalty='l2',\n",
              "                   random_state=1000, solver='lbfgs', tol=0.0001, verbose=0,\n",
              "                   warm_start=False)"
            ]
          },
          "metadata": {
            "tags": []
          },
          "execution_count": 64
        }
      ]
    },
    {
      "cell_type": "code",
      "metadata": {
        "id": "NsNS3F5dmkeM"
      },
      "source": [
        "#prediction on train data\n",
        "\n",
        "predictrain=LR_model.predict_proba(xtrain)"
      ],
      "execution_count": 65,
      "outputs": []
    },
    {
      "cell_type": "code",
      "metadata": {
        "colab": {
          "base_uri": "https://localhost:8080/",
          "height": 417
        },
        "id": "Buawy830m7Bu",
        "outputId": "a260348e-be64-47d8-c885-de5058203495"
      },
      "source": [
        "pd.DataFrame(predictrain)"
      ],
      "execution_count": 66,
      "outputs": [
        {
          "output_type": "execute_result",
          "data": {
            "text/html": [
              "<div>\n",
              "<style scoped>\n",
              "    .dataframe tbody tr th:only-of-type {\n",
              "        vertical-align: middle;\n",
              "    }\n",
              "\n",
              "    .dataframe tbody tr th {\n",
              "        vertical-align: top;\n",
              "    }\n",
              "\n",
              "    .dataframe thead th {\n",
              "        text-align: right;\n",
              "    }\n",
              "</style>\n",
              "<table border=\"1\" class=\"dataframe\">\n",
              "  <thead>\n",
              "    <tr style=\"text-align: right;\">\n",
              "      <th></th>\n",
              "      <th>0</th>\n",
              "      <th>1</th>\n",
              "    </tr>\n",
              "  </thead>\n",
              "  <tbody>\n",
              "    <tr>\n",
              "      <th>0</th>\n",
              "      <td>0.574430</td>\n",
              "      <td>0.425570</td>\n",
              "    </tr>\n",
              "    <tr>\n",
              "      <th>1</th>\n",
              "      <td>0.839239</td>\n",
              "      <td>0.160761</td>\n",
              "    </tr>\n",
              "    <tr>\n",
              "      <th>2</th>\n",
              "      <td>0.756011</td>\n",
              "      <td>0.243989</td>\n",
              "    </tr>\n",
              "    <tr>\n",
              "      <th>3</th>\n",
              "      <td>0.964677</td>\n",
              "      <td>0.035323</td>\n",
              "    </tr>\n",
              "    <tr>\n",
              "      <th>4</th>\n",
              "      <td>0.130090</td>\n",
              "      <td>0.869910</td>\n",
              "    </tr>\n",
              "    <tr>\n",
              "      <th>...</th>\n",
              "      <td>...</td>\n",
              "      <td>...</td>\n",
              "    </tr>\n",
              "    <tr>\n",
              "      <th>20833</th>\n",
              "      <td>0.983013</td>\n",
              "      <td>0.016987</td>\n",
              "    </tr>\n",
              "    <tr>\n",
              "      <th>20834</th>\n",
              "      <td>0.970268</td>\n",
              "      <td>0.029732</td>\n",
              "    </tr>\n",
              "    <tr>\n",
              "      <th>20835</th>\n",
              "      <td>0.598757</td>\n",
              "      <td>0.401243</td>\n",
              "    </tr>\n",
              "    <tr>\n",
              "      <th>20836</th>\n",
              "      <td>0.363059</td>\n",
              "      <td>0.636941</td>\n",
              "    </tr>\n",
              "    <tr>\n",
              "      <th>20837</th>\n",
              "      <td>0.071626</td>\n",
              "      <td>0.928374</td>\n",
              "    </tr>\n",
              "  </tbody>\n",
              "</table>\n",
              "<p>20838 rows × 2 columns</p>\n",
              "</div>"
            ],
            "text/plain": [
              "              0         1\n",
              "0      0.574430  0.425570\n",
              "1      0.839239  0.160761\n",
              "2      0.756011  0.243989\n",
              "3      0.964677  0.035323\n",
              "4      0.130090  0.869910\n",
              "...         ...       ...\n",
              "20833  0.983013  0.016987\n",
              "20834  0.970268  0.029732\n",
              "20835  0.598757  0.401243\n",
              "20836  0.363059  0.636941\n",
              "20837  0.071626  0.928374\n",
              "\n",
              "[20838 rows x 2 columns]"
            ]
          },
          "metadata": {
            "tags": []
          },
          "execution_count": 66
        }
      ]
    },
    {
      "cell_type": "code",
      "metadata": {
        "colab": {
          "base_uri": "https://localhost:8080/",
          "height": 296
        },
        "id": "LSFM_BjinH7F",
        "outputId": "c74e3556-0622-45c0-da74-9dd5f80d5f6c"
      },
      "source": [
        "## plotting roc auc curve to check how much variance is explained by the model\n",
        "\n",
        "plot_roc_curve(LR_model,X=xtrain,y=ytrain)"
      ],
      "execution_count": 67,
      "outputs": [
        {
          "output_type": "execute_result",
          "data": {
            "text/plain": [
              "<sklearn.metrics._plot.roc_curve.RocCurveDisplay at 0x7fb3b5f56a50>"
            ]
          },
          "metadata": {
            "tags": []
          },
          "execution_count": 67
        },
        {
          "output_type": "display_data",
          "data": {
            "image/png": "[encoded data removed]",
            "text/plain": [
              "<Figure size 432x288 with 1 Axes>"
            ]
          },
          "metadata": {
            "tags": [],
            "needs_background": "light"
          }
        }
      ]
    },
    {
      "cell_type": "code",
      "metadata": {
        "colab": {
          "base_uri": "https://localhost:8080/"
        },
        "id": "v8wlitG7tfLo",
        "outputId": "7c99a406-eb1b-4b97-980f-696bb8a4cbf7"
      },
      "source": [
        "### Getting confusion matrix, F-score on the train data #####\n",
        "\n",
        "print(confusion_matrix(y_true = ytrain, y_pred = LR_model.predict(xtrain))) ### confusion matrix for pred on train set\n",
        "\n",
        "print ('The F1-SCORE on the train set prediction ',f1_score(y_true=ytrain,y_pred = LR_model.predict(xtrain),sample_weight = ytrain))"
      ],
      "execution_count": 68,
      "outputs": [
        {
          "output_type": "stream",
          "text": [
            "[[12690  3130]\n",
            " [  858  4160]]\n",
            "The F1-SCORE on the train set prediction  0.9065155807365439\n"
          ],
          "name": "stdout"
        }
      ]
    },
    {
      "cell_type": "code",
      "metadata": {
        "colab": {
          "base_uri": "https://localhost:8080/"
        },
        "id": "OO1yNKwCtfLo",
        "outputId": "9679a569-8cef-4603-ec9b-0653654c02df"
      },
      "source": [
        "##### Lets evaluate the performace on the validation set #####\n",
        "print(yval.value_counts())\n",
        "\n",
        "predicted_test = LR_model.predict(xval)\n",
        "\n",
        "print (confusion_matrix(y_true = yval, y_pred = predicted_test))\n",
        "\n",
        "print ('The F1-SCORE on the test set prediction ',f1_score(y_true=yval,y_pred = predicted_test,sample_weight = yval))"
      ],
      "execution_count": 69,
      "outputs": [
        {
          "output_type": "stream",
          "text": [
            "0    3955\n",
            "1    1255\n",
            "Name: Y, dtype: int64\n",
            "[[3191  764]\n",
            " [ 230 1025]]\n",
            "The F1-SCORE on the test set prediction  0.8991228070175439\n"
          ],
          "name": "stdout"
        }
      ]
    },
    {
      "cell_type": "code",
      "metadata": {
        "colab": {
          "base_uri": "https://localhost:8080/",
          "height": 296
        },
        "id": "ZE7WZG1oonFr",
        "outputId": "27561ada-2970-4d0c-95c0-93cf1e5dee80"
      },
      "source": [
        "## plotting the roc and auc curve for validation set\n",
        "\n",
        "plot_roc_curve(LR_model,X =xval, y= yval)"
      ],
      "execution_count": 70,
      "outputs": [
        {
          "output_type": "execute_result",
          "data": {
            "text/plain": [
              "<sklearn.metrics._plot.roc_curve.RocCurveDisplay at 0x7fb3b5f3d690>"
            ]
          },
          "metadata": {
            "tags": []
          },
          "execution_count": 70
        },
        {
          "output_type": "display_data",
          "data": {
            "image/png": "[encoded data removed]",
            "text/plain": [
              "<Figure size 432x288 with 1 Axes>"
            ]
          },
          "metadata": {
            "tags": [],
            "needs_background": "light"
          }
        }
      ]
    },
    {
      "cell_type": "code",
      "metadata": {
        "id": "fSIMFYVzZt9B"
      },
      "source": [
        "## SINCE OUR VALIDATION PREDICTION IS HAVING A GOOD SCORE , WE CAN GO WITH THIS MODEL AND DO PREDICTION ON TEST DATA  ####"
      ],
      "execution_count": 71,
      "outputs": []
    },
    {
      "cell_type": "code",
      "metadata": {
        "id": "oyFRRkB3ooM2"
      },
      "source": [
        "####TEST prediction\n",
        "\n",
        "testpredict= LR_model.predict_proba(tst)"
      ],
      "execution_count": 72,
      "outputs": []
    },
    {
      "cell_type": "code",
      "metadata": {
        "id": "qe4EKCIiw3Gx"
      },
      "source": [
        "testdf=pd.DataFrame(testpredict)"
      ],
      "execution_count": 73,
      "outputs": []
    },
    {
      "cell_type": "code",
      "metadata": {
        "id": "NLyNQlZfzjZ9"
      },
      "source": [
        "testdf['Row_ID']=testdf.index"
      ],
      "execution_count": 74,
      "outputs": []
    },
    {
      "cell_type": "code",
      "metadata": {
        "colab": {
          "base_uri": "https://localhost:8080/",
          "height": 417
        },
        "id": "WZxiodugzjh8",
        "outputId": "d4ee06ee-d990-4941-baee-83fc69f7af70"
      },
      "source": [
        "testdf"
      ],
      "execution_count": 75,
      "outputs": [
        {
          "output_type": "execute_result",
          "data": {
            "text/html": [
              "<div>\n",
              "<style scoped>\n",
              "    .dataframe tbody tr th:only-of-type {\n",
              "        vertical-align: middle;\n",
              "    }\n",
              "\n",
              "    .dataframe tbody tr th {\n",
              "        vertical-align: top;\n",
              "    }\n",
              "\n",
              "    .dataframe thead th {\n",
              "        text-align: right;\n",
              "    }\n",
              "</style>\n",
              "<table border=\"1\" class=\"dataframe\">\n",
              "  <thead>\n",
              "    <tr style=\"text-align: right;\">\n",
              "      <th></th>\n",
              "      <th>0</th>\n",
              "      <th>1</th>\n",
              "      <th>Row_ID</th>\n",
              "    </tr>\n",
              "  </thead>\n",
              "  <tbody>\n",
              "    <tr>\n",
              "      <th>0</th>\n",
              "      <td>0.910870</td>\n",
              "      <td>0.089130</td>\n",
              "      <td>0</td>\n",
              "    </tr>\n",
              "    <tr>\n",
              "      <th>1</th>\n",
              "      <td>0.001022</td>\n",
              "      <td>0.998978</td>\n",
              "      <td>1</td>\n",
              "    </tr>\n",
              "    <tr>\n",
              "      <th>2</th>\n",
              "      <td>0.577583</td>\n",
              "      <td>0.422417</td>\n",
              "      <td>2</td>\n",
              "    </tr>\n",
              "    <tr>\n",
              "      <th>3</th>\n",
              "      <td>0.911337</td>\n",
              "      <td>0.088663</td>\n",
              "      <td>3</td>\n",
              "    </tr>\n",
              "    <tr>\n",
              "      <th>4</th>\n",
              "      <td>0.103106</td>\n",
              "      <td>0.896894</td>\n",
              "      <td>4</td>\n",
              "    </tr>\n",
              "    <tr>\n",
              "      <th>...</th>\n",
              "      <td>...</td>\n",
              "      <td>...</td>\n",
              "      <td>...</td>\n",
              "    </tr>\n",
              "    <tr>\n",
              "      <th>6508</th>\n",
              "      <td>0.684950</td>\n",
              "      <td>0.315050</td>\n",
              "      <td>6508</td>\n",
              "    </tr>\n",
              "    <tr>\n",
              "      <th>6509</th>\n",
              "      <td>0.109779</td>\n",
              "      <td>0.890221</td>\n",
              "      <td>6509</td>\n",
              "    </tr>\n",
              "    <tr>\n",
              "      <th>6510</th>\n",
              "      <td>0.522526</td>\n",
              "      <td>0.477474</td>\n",
              "      <td>6510</td>\n",
              "    </tr>\n",
              "    <tr>\n",
              "      <th>6511</th>\n",
              "      <td>0.964199</td>\n",
              "      <td>0.035801</td>\n",
              "      <td>6511</td>\n",
              "    </tr>\n",
              "    <tr>\n",
              "      <th>6512</th>\n",
              "      <td>0.960983</td>\n",
              "      <td>0.039017</td>\n",
              "      <td>6512</td>\n",
              "    </tr>\n",
              "  </tbody>\n",
              "</table>\n",
              "<p>6513 rows × 3 columns</p>\n",
              "</div>"
            ],
            "text/plain": [
              "             0         1  Row_ID\n",
              "0     0.910870  0.089130       0\n",
              "1     0.001022  0.998978       1\n",
              "2     0.577583  0.422417       2\n",
              "3     0.911337  0.088663       3\n",
              "4     0.103106  0.896894       4\n",
              "...        ...       ...     ...\n",
              "6508  0.684950  0.315050    6508\n",
              "6509  0.109779  0.890221    6509\n",
              "6510  0.522526  0.477474    6510\n",
              "6511  0.964199  0.035801    6511\n",
              "6512  0.960983  0.039017    6512\n",
              "\n",
              "[6513 rows x 3 columns]"
            ]
          },
          "metadata": {
            "tags": []
          },
          "execution_count": 75
        }
      ]
    },
    {
      "cell_type": "code",
      "metadata": {
        "id": "64uD5b63zjkr"
      },
      "source": [
        "testdf.to_csv('testing_predictions.csv')  ## CONVERTING dataframe into csv file"
      ],
      "execution_count": 76,
      "outputs": []
    },
    {
      "cell_type": "code",
      "metadata": {
        "id": "9gtZuzGjxM6i"
      },
      "source": [
        "testhardclass=LR_model.predict(tst)  ## checking hard classes"
      ],
      "execution_count": 77,
      "outputs": []
    },
    {
      "cell_type": "code",
      "metadata": {
        "colab": {
          "base_uri": "https://localhost:8080/",
          "height": 417
        },
        "id": "vwyZM8oqyQTq",
        "outputId": "bc2f4381-a277-461a-d02c-c6aa2fe4e7e0"
      },
      "source": [
        "pd.DataFrame(testhardclass)"
      ],
      "execution_count": 78,
      "outputs": [
        {
          "output_type": "execute_result",
          "data": {
            "text/html": [
              "<div>\n",
              "<style scoped>\n",
              "    .dataframe tbody tr th:only-of-type {\n",
              "        vertical-align: middle;\n",
              "    }\n",
              "\n",
              "    .dataframe tbody tr th {\n",
              "        vertical-align: top;\n",
              "    }\n",
              "\n",
              "    .dataframe thead th {\n",
              "        text-align: right;\n",
              "    }\n",
              "</style>\n",
              "<table border=\"1\" class=\"dataframe\">\n",
              "  <thead>\n",
              "    <tr style=\"text-align: right;\">\n",
              "      <th></th>\n",
              "      <th>0</th>\n",
              "    </tr>\n",
              "  </thead>\n",
              "  <tbody>\n",
              "    <tr>\n",
              "      <th>0</th>\n",
              "      <td>0</td>\n",
              "    </tr>\n",
              "    <tr>\n",
              "      <th>1</th>\n",
              "      <td>1</td>\n",
              "    </tr>\n",
              "    <tr>\n",
              "      <th>2</th>\n",
              "      <td>0</td>\n",
              "    </tr>\n",
              "    <tr>\n",
              "      <th>3</th>\n",
              "      <td>0</td>\n",
              "    </tr>\n",
              "    <tr>\n",
              "      <th>4</th>\n",
              "      <td>1</td>\n",
              "    </tr>\n",
              "    <tr>\n",
              "      <th>...</th>\n",
              "      <td>...</td>\n",
              "    </tr>\n",
              "    <tr>\n",
              "      <th>6508</th>\n",
              "      <td>0</td>\n",
              "    </tr>\n",
              "    <tr>\n",
              "      <th>6509</th>\n",
              "      <td>1</td>\n",
              "    </tr>\n",
              "    <tr>\n",
              "      <th>6510</th>\n",
              "      <td>0</td>\n",
              "    </tr>\n",
              "    <tr>\n",
              "      <th>6511</th>\n",
              "      <td>0</td>\n",
              "    </tr>\n",
              "    <tr>\n",
              "      <th>6512</th>\n",
              "      <td>0</td>\n",
              "    </tr>\n",
              "  </tbody>\n",
              "</table>\n",
              "<p>6513 rows × 1 columns</p>\n",
              "</div>"
            ],
            "text/plain": [
              "      0\n",
              "0     0\n",
              "1     1\n",
              "2     0\n",
              "3     0\n",
              "4     1\n",
              "...  ..\n",
              "6508  0\n",
              "6509  1\n",
              "6510  0\n",
              "6511  0\n",
              "6512  0\n",
              "\n",
              "[6513 rows x 1 columns]"
            ]
          },
          "metadata": {
            "tags": []
          },
          "execution_count": 78
        }
      ]
    },
    {
      "cell_type": "code",
      "metadata": {
        "id": "sG13tdShySS6"
      },
      "source": [
        "## as per the format of submission file, doing changes\n",
        "\n",
        "tsting=pd.read_excel('testing_predictions_new.xlsx')"
      ],
      "execution_count": 79,
      "outputs": []
    },
    {
      "cell_type": "code",
      "metadata": {
        "id": "ooOi1pThIwwx"
      },
      "source": [
        "tsting"
      ],
      "execution_count": 80,
      "outputs": []
    },
    {
      "cell_type": "code",
      "metadata": {
        "id": "xYRVP6pH7v3i"
      },
      "source": [
        "tsting['Class']= np.where(tsting['Probability']>0.5,'>50K','<=50K')  # imputing values in class column whether preddiction is '>50K','<=50K' on basic of prob."
      ],
      "execution_count": 81,
      "outputs": []
    },
    {
      "cell_type": "code",
      "metadata": {
        "id": "oVK6fxiEN2uw"
      },
      "source": [
        "tsting.to_csv('Vikas_submission_0.csv')  ## final submission and converting to csv"
      ],
      "execution_count": 82,
      "outputs": []
    },
    {
      "cell_type": "code",
      "metadata": {
        "id": "nWySFp3yOYSv"
      },
      "source": [
        "#############************** WILL CHECK ON DECISION TREES AND RANDOM FOREST AND THEN ON NN AND XGBOOST *************########################\n",
        "#                                                     THANK YOU"
      ],
      "execution_count": 83,
      "outputs": []
    }
  ]
}