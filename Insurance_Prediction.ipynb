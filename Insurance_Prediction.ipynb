{
  "nbformat": 4,
  "nbformat_minor": 0,
  "metadata": {
    "colab": {
      "name": "Car Insurance Prediction",
      "provenance": [],
      "collapsed_sections": [
        "Cg3VKhtM-_rm",
        "WwCk5wSD66Wo",
        "vU2_WaUyjxEz",
        "utiaY5fzog2e",
        "YkrU4ghp1Pjc",
        "mZqe6dSN_IYa",
        "pq98OH18xDmU",
        "zOMI7uyAzS2l",
        "eNZzSCRw6Cth"
      ],
      "toc_visible": true
    },
    "kernelspec": {
      "name": "python3",
      "display_name": "Python 3"
    },
    "language_info": {
      "name": "python"
    }
  },
  "cells": [
    {
      "cell_type": "code",
      "metadata": {
        "id": "ZQK7R3owjb_q"
      },
      "source": [
        "##### Importing Relevant Libraries ######\n",
        "#########################################\n",
        "\n",
        "import pandas as pd\n",
        "import numpy as np\n",
        "from matplotlib import pyplot as plt\n",
        "import seaborn as sns\n",
        "\n",
        "from sklearn.preprocessing import StandardScaler              ## (x-mean(variable))/standard_deviation(variable)\n",
        "from sklearn.model_selection import StratifiedShuffleSplit    ## for datasplitting\n",
        " \n",
        "from sklearn.model_selection import GridSearchCV              ## for hyperparameter finding\n",
        "from sklearn.linear_model import LogisticRegression\n",
        "from sklearn.metrics import roc_auc_score, plot_roc_curve, confusion_matrix,f1_score         ## model evaluation metrics\n",
        "from sklearn.tree import DecisionTreeClassifier          ## helps fitting a decision tree"
      ],
      "execution_count": 4,
      "outputs": []
    },
    {
      "cell_type": "code",
      "metadata": {
        "id": "IjdaV3N-j7h_"
      },
      "source": [
        "data = pd.read_csv('customer-data.csv')"
      ],
      "execution_count": 5,
      "outputs": []
    },
    {
      "cell_type": "code",
      "metadata": {
        "colab": {
          "base_uri": "https://localhost:8080/",
          "height": 307
        },
        "id": "UYeVCO0ykbuH",
        "outputId": "2be04dad-37fc-4d16-84a9-89264437b53b"
      },
      "source": [
        "data.head()"
      ],
      "execution_count": 6,
      "outputs": [
        {
          "output_type": "execute_result",
          "data": {
            "text/html": [
              "<div>\n",
              "<style scoped>\n",
              "    .dataframe tbody tr th:only-of-type {\n",
              "        vertical-align: middle;\n",
              "    }\n",
              "\n",
              "    .dataframe tbody tr th {\n",
              "        vertical-align: top;\n",
              "    }\n",
              "\n",
              "    .dataframe thead th {\n",
              "        text-align: right;\n",
              "    }\n",
              "</style>\n",
              "<table border=\"1\" class=\"dataframe\">\n",
              "  <thead>\n",
              "    <tr style=\"text-align: right;\">\n",
              "      <th></th>\n",
              "      <th>id</th>\n",
              "      <th>age</th>\n",
              "      <th>gender</th>\n",
              "      <th>race</th>\n",
              "      <th>driving_experience</th>\n",
              "      <th>education</th>\n",
              "      <th>income</th>\n",
              "      <th>credit_score</th>\n",
              "      <th>vehicle_ownership</th>\n",
              "      <th>vehicle_year</th>\n",
              "      <th>married</th>\n",
              "      <th>children</th>\n",
              "      <th>postal_code</th>\n",
              "      <th>annual_mileage</th>\n",
              "      <th>vehicle_type</th>\n",
              "      <th>speeding_violations</th>\n",
              "      <th>DUIs</th>\n",
              "      <th>past_accidents</th>\n",
              "      <th>outcome</th>\n",
              "    </tr>\n",
              "  </thead>\n",
              "  <tbody>\n",
              "    <tr>\n",
              "      <th>0</th>\n",
              "      <td>569520</td>\n",
              "      <td>65+</td>\n",
              "      <td>female</td>\n",
              "      <td>majority</td>\n",
              "      <td>0-9y</td>\n",
              "      <td>high school</td>\n",
              "      <td>upper class</td>\n",
              "      <td>0.629027</td>\n",
              "      <td>True</td>\n",
              "      <td>after 2015</td>\n",
              "      <td>False</td>\n",
              "      <td>True</td>\n",
              "      <td>10238</td>\n",
              "      <td>12000.0</td>\n",
              "      <td>sedan</td>\n",
              "      <td>0</td>\n",
              "      <td>0</td>\n",
              "      <td>0</td>\n",
              "      <td>False</td>\n",
              "    </tr>\n",
              "    <tr>\n",
              "      <th>1</th>\n",
              "      <td>750365</td>\n",
              "      <td>16-25</td>\n",
              "      <td>male</td>\n",
              "      <td>majority</td>\n",
              "      <td>0-9y</td>\n",
              "      <td>none</td>\n",
              "      <td>poverty</td>\n",
              "      <td>0.357757</td>\n",
              "      <td>False</td>\n",
              "      <td>before 2015</td>\n",
              "      <td>False</td>\n",
              "      <td>False</td>\n",
              "      <td>10238</td>\n",
              "      <td>16000.0</td>\n",
              "      <td>sedan</td>\n",
              "      <td>0</td>\n",
              "      <td>0</td>\n",
              "      <td>0</td>\n",
              "      <td>True</td>\n",
              "    </tr>\n",
              "    <tr>\n",
              "      <th>2</th>\n",
              "      <td>199901</td>\n",
              "      <td>16-25</td>\n",
              "      <td>female</td>\n",
              "      <td>majority</td>\n",
              "      <td>0-9y</td>\n",
              "      <td>high school</td>\n",
              "      <td>working class</td>\n",
              "      <td>0.493146</td>\n",
              "      <td>True</td>\n",
              "      <td>before 2015</td>\n",
              "      <td>False</td>\n",
              "      <td>False</td>\n",
              "      <td>10238</td>\n",
              "      <td>11000.0</td>\n",
              "      <td>sedan</td>\n",
              "      <td>0</td>\n",
              "      <td>0</td>\n",
              "      <td>0</td>\n",
              "      <td>False</td>\n",
              "    </tr>\n",
              "    <tr>\n",
              "      <th>3</th>\n",
              "      <td>478866</td>\n",
              "      <td>16-25</td>\n",
              "      <td>male</td>\n",
              "      <td>majority</td>\n",
              "      <td>0-9y</td>\n",
              "      <td>university</td>\n",
              "      <td>working class</td>\n",
              "      <td>0.206013</td>\n",
              "      <td>True</td>\n",
              "      <td>before 2015</td>\n",
              "      <td>False</td>\n",
              "      <td>True</td>\n",
              "      <td>32765</td>\n",
              "      <td>11000.0</td>\n",
              "      <td>sedan</td>\n",
              "      <td>0</td>\n",
              "      <td>0</td>\n",
              "      <td>0</td>\n",
              "      <td>False</td>\n",
              "    </tr>\n",
              "    <tr>\n",
              "      <th>4</th>\n",
              "      <td>731664</td>\n",
              "      <td>26-39</td>\n",
              "      <td>male</td>\n",
              "      <td>majority</td>\n",
              "      <td>10-19y</td>\n",
              "      <td>none</td>\n",
              "      <td>working class</td>\n",
              "      <td>0.388366</td>\n",
              "      <td>True</td>\n",
              "      <td>before 2015</td>\n",
              "      <td>False</td>\n",
              "      <td>False</td>\n",
              "      <td>32765</td>\n",
              "      <td>12000.0</td>\n",
              "      <td>sedan</td>\n",
              "      <td>2</td>\n",
              "      <td>0</td>\n",
              "      <td>1</td>\n",
              "      <td>True</td>\n",
              "    </tr>\n",
              "  </tbody>\n",
              "</table>\n",
              "</div>"
            ],
            "text/plain": [
              "       id    age  gender  ... DUIs past_accidents outcome\n",
              "0  569520    65+  female  ...    0              0   False\n",
              "1  750365  16-25    male  ...    0              0    True\n",
              "2  199901  16-25  female  ...    0              0   False\n",
              "3  478866  16-25    male  ...    0              0   False\n",
              "4  731664  26-39    male  ...    0              1    True\n",
              "\n",
              "[5 rows x 19 columns]"
            ]
          },
          "metadata": {
            "tags": []
          },
          "execution_count": 6
        }
      ]
    },
    {
      "cell_type": "markdown",
      "metadata": {
        "id": "Cg3VKhtM-_rm"
      },
      "source": [
        "# Data Preparation"
      ]
    },
    {
      "cell_type": "code",
      "metadata": {
        "colab": {
          "base_uri": "https://localhost:8080/"
        },
        "id": "xAjsGQ5YkDi0",
        "outputId": "35f5248d-5ebe-4df6-9893-a3b46a5f47cb"
      },
      "source": [
        "pd.set_option('display.max_rows', 11000)\n",
        "data.nunique()    ## checking number of unique values of all columns"
      ],
      "execution_count": 7,
      "outputs": [
        {
          "output_type": "execute_result",
          "data": {
            "text/plain": [
              "id                     10000\n",
              "age                        4\n",
              "gender                     2\n",
              "race                       2\n",
              "driving_experience         4\n",
              "education                  3\n",
              "income                     4\n",
              "credit_score            9018\n",
              "vehicle_ownership          2\n",
              "vehicle_year               2\n",
              "married                    2\n",
              "children                   2\n",
              "postal_code                4\n",
              "annual_mileage            21\n",
              "vehicle_type               2\n",
              "speeding_violations       21\n",
              "DUIs                       7\n",
              "past_accidents            15\n",
              "outcome                    2\n",
              "dtype: int64"
            ]
          },
          "metadata": {
            "tags": []
          },
          "execution_count": 7
        }
      ]
    },
    {
      "cell_type": "code",
      "metadata": {
        "colab": {
          "base_uri": "https://localhost:8080/"
        },
        "id": "MhiTJbSOsvdO",
        "outputId": "15ca2c4e-e2f0-483c-fc03-769b5a05619b"
      },
      "source": [
        "data['id'].duplicated().sum()  ## cheking for duplicate records"
      ],
      "execution_count": 8,
      "outputs": [
        {
          "output_type": "execute_result",
          "data": {
            "text/plain": [
              "0"
            ]
          },
          "metadata": {
            "tags": []
          },
          "execution_count": 8
        }
      ]
    },
    {
      "cell_type": "code",
      "metadata": {
        "id": "HdietbH2kGtk"
      },
      "source": [
        "data = data.drop(data[['id']], axis=1)             ## id is  a nominal column and has no duplicate values so we can drop it"
      ],
      "execution_count": 9,
      "outputs": []
    },
    {
      "cell_type": "code",
      "metadata": {
        "colab": {
          "base_uri": "https://localhost:8080/",
          "height": 307
        },
        "id": "ABeapeaLk1aE",
        "outputId": "199b77cf-13d2-4ac6-82ba-fbf456b3ff11"
      },
      "source": [
        "data.head()"
      ],
      "execution_count": 10,
      "outputs": [
        {
          "output_type": "execute_result",
          "data": {
            "text/html": [
              "<div>\n",
              "<style scoped>\n",
              "    .dataframe tbody tr th:only-of-type {\n",
              "        vertical-align: middle;\n",
              "    }\n",
              "\n",
              "    .dataframe tbody tr th {\n",
              "        vertical-align: top;\n",
              "    }\n",
              "\n",
              "    .dataframe thead th {\n",
              "        text-align: right;\n",
              "    }\n",
              "</style>\n",
              "<table border=\"1\" class=\"dataframe\">\n",
              "  <thead>\n",
              "    <tr style=\"text-align: right;\">\n",
              "      <th></th>\n",
              "      <th>age</th>\n",
              "      <th>gender</th>\n",
              "      <th>race</th>\n",
              "      <th>driving_experience</th>\n",
              "      <th>education</th>\n",
              "      <th>income</th>\n",
              "      <th>credit_score</th>\n",
              "      <th>vehicle_ownership</th>\n",
              "      <th>vehicle_year</th>\n",
              "      <th>married</th>\n",
              "      <th>children</th>\n",
              "      <th>postal_code</th>\n",
              "      <th>annual_mileage</th>\n",
              "      <th>vehicle_type</th>\n",
              "      <th>speeding_violations</th>\n",
              "      <th>DUIs</th>\n",
              "      <th>past_accidents</th>\n",
              "      <th>outcome</th>\n",
              "    </tr>\n",
              "  </thead>\n",
              "  <tbody>\n",
              "    <tr>\n",
              "      <th>0</th>\n",
              "      <td>65+</td>\n",
              "      <td>female</td>\n",
              "      <td>majority</td>\n",
              "      <td>0-9y</td>\n",
              "      <td>high school</td>\n",
              "      <td>upper class</td>\n",
              "      <td>0.629027</td>\n",
              "      <td>True</td>\n",
              "      <td>after 2015</td>\n",
              "      <td>False</td>\n",
              "      <td>True</td>\n",
              "      <td>10238</td>\n",
              "      <td>12000.0</td>\n",
              "      <td>sedan</td>\n",
              "      <td>0</td>\n",
              "      <td>0</td>\n",
              "      <td>0</td>\n",
              "      <td>False</td>\n",
              "    </tr>\n",
              "    <tr>\n",
              "      <th>1</th>\n",
              "      <td>16-25</td>\n",
              "      <td>male</td>\n",
              "      <td>majority</td>\n",
              "      <td>0-9y</td>\n",
              "      <td>none</td>\n",
              "      <td>poverty</td>\n",
              "      <td>0.357757</td>\n",
              "      <td>False</td>\n",
              "      <td>before 2015</td>\n",
              "      <td>False</td>\n",
              "      <td>False</td>\n",
              "      <td>10238</td>\n",
              "      <td>16000.0</td>\n",
              "      <td>sedan</td>\n",
              "      <td>0</td>\n",
              "      <td>0</td>\n",
              "      <td>0</td>\n",
              "      <td>True</td>\n",
              "    </tr>\n",
              "    <tr>\n",
              "      <th>2</th>\n",
              "      <td>16-25</td>\n",
              "      <td>female</td>\n",
              "      <td>majority</td>\n",
              "      <td>0-9y</td>\n",
              "      <td>high school</td>\n",
              "      <td>working class</td>\n",
              "      <td>0.493146</td>\n",
              "      <td>True</td>\n",
              "      <td>before 2015</td>\n",
              "      <td>False</td>\n",
              "      <td>False</td>\n",
              "      <td>10238</td>\n",
              "      <td>11000.0</td>\n",
              "      <td>sedan</td>\n",
              "      <td>0</td>\n",
              "      <td>0</td>\n",
              "      <td>0</td>\n",
              "      <td>False</td>\n",
              "    </tr>\n",
              "    <tr>\n",
              "      <th>3</th>\n",
              "      <td>16-25</td>\n",
              "      <td>male</td>\n",
              "      <td>majority</td>\n",
              "      <td>0-9y</td>\n",
              "      <td>university</td>\n",
              "      <td>working class</td>\n",
              "      <td>0.206013</td>\n",
              "      <td>True</td>\n",
              "      <td>before 2015</td>\n",
              "      <td>False</td>\n",
              "      <td>True</td>\n",
              "      <td>32765</td>\n",
              "      <td>11000.0</td>\n",
              "      <td>sedan</td>\n",
              "      <td>0</td>\n",
              "      <td>0</td>\n",
              "      <td>0</td>\n",
              "      <td>False</td>\n",
              "    </tr>\n",
              "    <tr>\n",
              "      <th>4</th>\n",
              "      <td>26-39</td>\n",
              "      <td>male</td>\n",
              "      <td>majority</td>\n",
              "      <td>10-19y</td>\n",
              "      <td>none</td>\n",
              "      <td>working class</td>\n",
              "      <td>0.388366</td>\n",
              "      <td>True</td>\n",
              "      <td>before 2015</td>\n",
              "      <td>False</td>\n",
              "      <td>False</td>\n",
              "      <td>32765</td>\n",
              "      <td>12000.0</td>\n",
              "      <td>sedan</td>\n",
              "      <td>2</td>\n",
              "      <td>0</td>\n",
              "      <td>1</td>\n",
              "      <td>True</td>\n",
              "    </tr>\n",
              "  </tbody>\n",
              "</table>\n",
              "</div>"
            ],
            "text/plain": [
              "     age  gender      race  ... DUIs past_accidents outcome\n",
              "0    65+  female  majority  ...    0              0   False\n",
              "1  16-25    male  majority  ...    0              0    True\n",
              "2  16-25  female  majority  ...    0              0   False\n",
              "3  16-25    male  majority  ...    0              0   False\n",
              "4  26-39    male  majority  ...    0              1    True\n",
              "\n",
              "[5 rows x 18 columns]"
            ]
          },
          "metadata": {
            "tags": []
          },
          "execution_count": 10
        }
      ]
    },
    {
      "cell_type": "code",
      "metadata": {
        "colab": {
          "base_uri": "https://localhost:8080/"
        },
        "id": "wp6DMq18k7jU",
        "outputId": "00df0cdd-15c9-4892-83b3-b643e2156eb6"
      },
      "source": [
        "data.isnull().sum()    ## checking for null values in all columns"
      ],
      "execution_count": 11,
      "outputs": [
        {
          "output_type": "execute_result",
          "data": {
            "text/plain": [
              "age                      0\n",
              "gender                   0\n",
              "race                     0\n",
              "driving_experience       0\n",
              "education                0\n",
              "income                   0\n",
              "credit_score           982\n",
              "vehicle_ownership        0\n",
              "vehicle_year             0\n",
              "married                  0\n",
              "children                 0\n",
              "postal_code              0\n",
              "annual_mileage         957\n",
              "vehicle_type             0\n",
              "speeding_violations      0\n",
              "DUIs                     0\n",
              "past_accidents           0\n",
              "outcome                  0\n",
              "dtype: int64"
            ]
          },
          "metadata": {
            "tags": []
          },
          "execution_count": 11
        }
      ]
    },
    {
      "cell_type": "code",
      "metadata": {
        "colab": {
          "base_uri": "https://localhost:8080/"
        },
        "id": "xcxoSbvelOOm",
        "outputId": "a1449555-d469-4b0a-89b0-95c3cb43a56a"
      },
      "source": [
        "## ************ age column *******************\n",
        "\n",
        "data['age'].value_counts()"
      ],
      "execution_count": 12,
      "outputs": [
        {
          "output_type": "execute_result",
          "data": {
            "text/plain": [
              "26-39    3063\n",
              "40-64    2931\n",
              "16-25    2016\n",
              "65+      1990\n",
              "Name: age, dtype: int64"
            ]
          },
          "metadata": {
            "tags": []
          },
          "execution_count": 12
        }
      ]
    },
    {
      "cell_type": "code",
      "metadata": {
        "id": "1mTto5qFl82i"
      },
      "source": [
        "## creating dummies ,deleting the column and merging dummies dataframe with main (data) dataframe\n",
        "\n",
        "dummiesage = pd.get_dummies(data['age'], prefix='age',drop_first=True)\n",
        "del data['age']\n",
        "data = pd.concat([data,dummiesage],axis=1)"
      ],
      "execution_count": 13,
      "outputs": []
    },
    {
      "cell_type": "code",
      "metadata": {
        "colab": {
          "base_uri": "https://localhost:8080/"
        },
        "id": "DZc_Dy-ZmxZU",
        "outputId": "e8c5e102-2dd1-4439-8e15-719b29f8d008"
      },
      "source": [
        "## ***************** driving_experience ********************\n",
        "\n",
        "data['driving_experience'].value_counts()"
      ],
      "execution_count": 14,
      "outputs": [
        {
          "output_type": "execute_result",
          "data": {
            "text/plain": [
              "0-9y      3530\n",
              "10-19y    3299\n",
              "20-29y    2119\n",
              "30y+      1052\n",
              "Name: driving_experience, dtype: int64"
            ]
          },
          "metadata": {
            "tags": []
          },
          "execution_count": 14
        }
      ]
    },
    {
      "cell_type": "code",
      "metadata": {
        "id": "RBVdm64VnHAT"
      },
      "source": [
        "## creating dummies ,deleting the column and merging dummies dataframe with main (data) dataframe\n",
        "\n",
        "dummiesde = pd.get_dummies(data['driving_experience'], prefix='driving_experience',drop_first=True)\n",
        "del data['driving_experience']\n",
        "data = pd.concat([data,dummiesde],axis=1)"
      ],
      "execution_count": 15,
      "outputs": []
    },
    {
      "cell_type": "code",
      "metadata": {
        "colab": {
          "base_uri": "https://localhost:8080/"
        },
        "id": "Z5K6N-uroUDX",
        "outputId": "b26e5dc1-aab6-4cf2-8157-07a0cd5c39f4"
      },
      "source": [
        "## ****************** education column *****************\n",
        "\n",
        "data['education'].value_counts()  ## none is equivavelent to null values"
      ],
      "execution_count": 16,
      "outputs": [
        {
          "output_type": "execute_result",
          "data": {
            "text/plain": [
              "high school    4157\n",
              "university     3928\n",
              "none           1915\n",
              "Name: education, dtype: int64"
            ]
          },
          "metadata": {
            "tags": []
          },
          "execution_count": 16
        }
      ]
    },
    {
      "cell_type": "code",
      "metadata": {
        "id": "K891sM_somuE"
      },
      "source": [
        "## creating dummies ,deleting the column and merging dummies dataframe with main (data) dataframe\n",
        "\n",
        "dummiesedu = pd.get_dummies(data['education'], prefix='education',drop_first=True)\n",
        "del data['education']\n",
        "data = pd.concat([data,dummiesedu],axis=1)"
      ],
      "execution_count": 17,
      "outputs": []
    },
    {
      "cell_type": "code",
      "metadata": {
        "colab": {
          "base_uri": "https://localhost:8080/"
        },
        "id": "HaRbZC5Zo-0F",
        "outputId": "4ab5e6b6-20f3-4fe3-b59a-8b7c55313414"
      },
      "source": [
        "##******************** credit_score column************************\n",
        "\n",
        "data['credit_score'].mean(), data['credit_score'].median(), data['credit_score'].isnull().sum()"
      ],
      "execution_count": 18,
      "outputs": [
        {
          "output_type": "execute_result",
          "data": {
            "text/plain": [
              "(0.5158128096027941, 0.5250327586154788, 982)"
            ]
          },
          "metadata": {
            "tags": []
          },
          "execution_count": 18
        }
      ]
    },
    {
      "cell_type": "code",
      "metadata": {
        "id": "JC8Bq6UzpW-r"
      },
      "source": [
        "data['credit_score'] = data['credit_score'].fillna(data['credit_score'].mean())    ## imputing with mean because it doesnt have outliers"
      ],
      "execution_count": 19,
      "outputs": []
    },
    {
      "cell_type": "code",
      "metadata": {
        "colab": {
          "base_uri": "https://localhost:8080/"
        },
        "id": "fFSZrOM2rvjT",
        "outputId": "c7a2e38c-366a-49aa-81eb-654dcc4d2a59"
      },
      "source": [
        "##*********** annual_mileage column *********************\n",
        "\n",
        "data['annual_mileage'].mean(), data['annual_mileage'].median(), data['annual_mileage'].isnull().sum()"
      ],
      "execution_count": 20,
      "outputs": [
        {
          "output_type": "execute_result",
          "data": {
            "text/plain": [
              "(11697.003206900365, 12000.0, 957)"
            ]
          },
          "metadata": {
            "tags": []
          },
          "execution_count": 20
        }
      ]
    },
    {
      "cell_type": "code",
      "metadata": {
        "id": "jNe0E2tksQJ1"
      },
      "source": [
        "data['annual_mileage'] = data['annual_mileage'].fillna(data['annual_mileage'].mean())   ## imputing with mean because it doesnt have outliers"
      ],
      "execution_count": 21,
      "outputs": []
    },
    {
      "cell_type": "code",
      "metadata": {
        "colab": {
          "base_uri": "https://localhost:8080/"
        },
        "id": "IJx3XTKJtAzh",
        "outputId": "b6f87204-cb85-495e-d3f6-9022f32e3fdf"
      },
      "source": [
        "data.dtypes    ## checking data types"
      ],
      "execution_count": 22,
      "outputs": [
        {
          "output_type": "execute_result",
          "data": {
            "text/plain": [
              "gender                        object\n",
              "race                          object\n",
              "income                        object\n",
              "credit_score                 float64\n",
              "vehicle_ownership               bool\n",
              "vehicle_year                  object\n",
              "married                         bool\n",
              "children                        bool\n",
              "postal_code                    int64\n",
              "annual_mileage               float64\n",
              "vehicle_type                  object\n",
              "speeding_violations            int64\n",
              "DUIs                           int64\n",
              "past_accidents                 int64\n",
              "outcome                         bool\n",
              "age_26-39                      uint8\n",
              "age_40-64                      uint8\n",
              "age_65+                        uint8\n",
              "driving_experience_10-19y      uint8\n",
              "driving_experience_20-29y      uint8\n",
              "driving_experience_30y+        uint8\n",
              "education_none                 uint8\n",
              "education_university           uint8\n",
              "dtype: object"
            ]
          },
          "metadata": {
            "tags": []
          },
          "execution_count": 22
        }
      ]
    },
    {
      "cell_type": "code",
      "metadata": {
        "colab": {
          "base_uri": "https://localhost:8080/"
        },
        "id": "ZcS1ouvJtFK3",
        "outputId": "41781534-ef1f-44de-e2ff-b21ec93e1ff7"
      },
      "source": [
        "##***********************vehicle_year  *********************\n",
        "\n",
        "data['vehicle_year'].value_counts() "
      ],
      "execution_count": 23,
      "outputs": [
        {
          "output_type": "execute_result",
          "data": {
            "text/plain": [
              "before 2015    6967\n",
              "after 2015     3033\n",
              "Name: vehicle_year, dtype: int64"
            ]
          },
          "metadata": {
            "tags": []
          },
          "execution_count": 23
        }
      ]
    },
    {
      "cell_type": "code",
      "metadata": {
        "id": "Hip3wznOteic"
      },
      "source": [
        "## creating dummies ,deleting the column and merging dummies dataframe with main (data) dataframe\n",
        "\n",
        "dummiesvy = pd.get_dummies(data['vehicle_year'], prefix='vehicle_year')\n",
        "del data['vehicle_year']\n",
        "data = pd.concat([data,dummiesvy],axis=1)"
      ],
      "execution_count": 24,
      "outputs": []
    },
    {
      "cell_type": "code",
      "metadata": {
        "colab": {
          "base_uri": "https://localhost:8080/"
        },
        "id": "RJhStkdrtnZD",
        "outputId": "afa93c32-f834-4e39-f728-c1b0f7038785"
      },
      "source": [
        "##************************* vehicle_type ***********************\n",
        "\n",
        "data['vehicle_type'].value_counts() "
      ],
      "execution_count": 25,
      "outputs": [
        {
          "output_type": "execute_result",
          "data": {
            "text/plain": [
              "sedan         9523\n",
              "sports car     477\n",
              "Name: vehicle_type, dtype: int64"
            ]
          },
          "metadata": {
            "tags": []
          },
          "execution_count": 25
        }
      ]
    },
    {
      "cell_type": "code",
      "metadata": {
        "id": "aZHskmUYtu0p"
      },
      "source": [
        "## creating dummies ,deleting the column and merging dummies dataframe with main (data) dataframe\n",
        "\n",
        "dummiesvt = pd.get_dummies(data['vehicle_type'], prefix='vehicle_type')\n",
        "del data['vehicle_type']\n",
        "data = pd.concat([data,dummiesvt],axis=1)"
      ],
      "execution_count": 26,
      "outputs": []
    },
    {
      "cell_type": "code",
      "metadata": {
        "colab": {
          "base_uri": "https://localhost:8080/"
        },
        "id": "P8Yr7vPot3vf",
        "outputId": "b3ffb97a-89f5-4f94-f0b8-6532da2792bc"
      },
      "source": [
        "data.dtypes"
      ],
      "execution_count": 27,
      "outputs": [
        {
          "output_type": "execute_result",
          "data": {
            "text/plain": [
              "gender                        object\n",
              "race                          object\n",
              "income                        object\n",
              "credit_score                 float64\n",
              "vehicle_ownership               bool\n",
              "married                         bool\n",
              "children                        bool\n",
              "postal_code                    int64\n",
              "annual_mileage               float64\n",
              "speeding_violations            int64\n",
              "DUIs                           int64\n",
              "past_accidents                 int64\n",
              "outcome                         bool\n",
              "age_26-39                      uint8\n",
              "age_40-64                      uint8\n",
              "age_65+                        uint8\n",
              "driving_experience_10-19y      uint8\n",
              "driving_experience_20-29y      uint8\n",
              "driving_experience_30y+        uint8\n",
              "education_none                 uint8\n",
              "education_university           uint8\n",
              "vehicle_year_after 2015        uint8\n",
              "vehicle_year_before 2015       uint8\n",
              "vehicle_type_sedan             uint8\n",
              "vehicle_type_sports car        uint8\n",
              "dtype: object"
            ]
          },
          "metadata": {
            "tags": []
          },
          "execution_count": 27
        }
      ]
    },
    {
      "cell_type": "code",
      "metadata": {
        "id": "4lNbriz5t_LU",
        "colab": {
          "base_uri": "https://localhost:8080/"
        },
        "outputId": "3935ad86-4f07-4138-e72c-8692ea1f3614"
      },
      "source": [
        "##***************** gender column *********************\n",
        "\n",
        "data['gender'].value_counts() "
      ],
      "execution_count": 28,
      "outputs": [
        {
          "output_type": "execute_result",
          "data": {
            "text/plain": [
              "female    5010\n",
              "male      4990\n",
              "Name: gender, dtype: int64"
            ]
          },
          "metadata": {
            "tags": []
          },
          "execution_count": 28
        }
      ]
    },
    {
      "cell_type": "code",
      "metadata": {
        "id": "AX6JGxpnzmpJ"
      },
      "source": [
        "## creating dummies ,deleting the column and merging dummies dataframe with main (data) dataframe\n",
        "\n",
        "dummiesgen = pd.get_dummies(data['gender'], prefix='gender')\n",
        "del data['gender']\n",
        "data = pd.concat([data,dummiesgen],axis=1)"
      ],
      "execution_count": 29,
      "outputs": []
    },
    {
      "cell_type": "code",
      "metadata": {
        "colab": {
          "base_uri": "https://localhost:8080/"
        },
        "id": "HRxq6OYEzvfb",
        "outputId": "457e0939-7c28-42cd-b107-0b86bf3e3862"
      },
      "source": [
        "##*********************** race column *************************************\n",
        "\n",
        "data['race'].value_counts() "
      ],
      "execution_count": 30,
      "outputs": [
        {
          "output_type": "execute_result",
          "data": {
            "text/plain": [
              "majority    9012\n",
              "minority     988\n",
              "Name: race, dtype: int64"
            ]
          },
          "metadata": {
            "tags": []
          },
          "execution_count": 30
        }
      ]
    },
    {
      "cell_type": "code",
      "metadata": {
        "id": "DxiiZD6Mz1iU"
      },
      "source": [
        "## creating dummies ,deleting the column and merging dummies dataframe with main (data) dataframe\n",
        "\n",
        "dummiesrace = pd.get_dummies(data['race'], prefix='race')\n",
        "del data['race']\n",
        "data = pd.concat([data,dummiesrace],axis=1)"
      ],
      "execution_count": 31,
      "outputs": []
    },
    {
      "cell_type": "code",
      "metadata": {
        "colab": {
          "base_uri": "https://localhost:8080/"
        },
        "id": "Sl49TVMA127P",
        "outputId": "9350ac41-5bf5-40c5-9839-e05919c22e6e"
      },
      "source": [
        "##******************* income column ***********************\n",
        "\n",
        "data['income'].value_counts() "
      ],
      "execution_count": 32,
      "outputs": [
        {
          "output_type": "execute_result",
          "data": {
            "text/plain": [
              "upper class      4336\n",
              "middle class     2138\n",
              "poverty          1814\n",
              "working class    1712\n",
              "Name: income, dtype: int64"
            ]
          },
          "metadata": {
            "tags": []
          },
          "execution_count": 32
        }
      ]
    },
    {
      "cell_type": "code",
      "metadata": {
        "id": "F-bGTQEf122n"
      },
      "source": [
        "## creating dummies ,deleting the column and merging dummies dataframe with main (data) dataframe\n",
        "\n",
        "dummiesinc = pd.get_dummies(data['income'], prefix='income',drop_first=True)\n",
        "del data['income']\n",
        "data = pd.concat([data,dummiesinc],axis=1)"
      ],
      "execution_count": 33,
      "outputs": []
    },
    {
      "cell_type": "code",
      "metadata": {
        "colab": {
          "base_uri": "https://localhost:8080/"
        },
        "id": "PdCZdVhi0C-9",
        "outputId": "0316bf05-c299-40a9-a311-aa5d22a7ba0d"
      },
      "source": [
        "data.shape"
      ],
      "execution_count": 34,
      "outputs": [
        {
          "output_type": "execute_result",
          "data": {
            "text/plain": [
              "(10000, 29)"
            ]
          },
          "metadata": {
            "tags": []
          },
          "execution_count": 34
        }
      ]
    },
    {
      "cell_type": "code",
      "metadata": {
        "id": "fY1fOK4N0lHa"
      },
      "source": [
        "## *************** married, vehicle_ownership, children, outcome colmns ******************************\n",
        "## importing labelencoder from sklearn library\n",
        "\n",
        "from sklearn.preprocessing import LabelEncoder\n",
        "le = LabelEncoder()"
      ],
      "execution_count": 35,
      "outputs": []
    },
    {
      "cell_type": "code",
      "metadata": {
        "id": "nHVFDvSD3HR6"
      },
      "source": [
        "## encoding boolean values as True as 1 and False as 0\n",
        "\n",
        "data['married'] = le.fit_transform(data['married'])  \n",
        "data['vehicle_ownership'] = le.fit_transform(data['vehicle_ownership'])\n",
        "data['children'] = le.fit_transform(data['children'])\n",
        "data['outcome'] = le.fit_transform(data['outcome'])"
      ],
      "execution_count": 36,
      "outputs": []
    },
    {
      "cell_type": "code",
      "metadata": {
        "colab": {
          "base_uri": "https://localhost:8080/"
        },
        "id": "-4DP2KnV3goq",
        "outputId": "39eee878-7142-4adc-c2ea-f5d2caec0748"
      },
      "source": [
        "data.dtypes"
      ],
      "execution_count": 37,
      "outputs": [
        {
          "output_type": "execute_result",
          "data": {
            "text/plain": [
              "credit_score                 float64\n",
              "vehicle_ownership              int64\n",
              "married                        int64\n",
              "children                       int64\n",
              "postal_code                    int64\n",
              "annual_mileage               float64\n",
              "speeding_violations            int64\n",
              "DUIs                           int64\n",
              "past_accidents                 int64\n",
              "outcome                        int64\n",
              "age_26-39                      uint8\n",
              "age_40-64                      uint8\n",
              "age_65+                        uint8\n",
              "driving_experience_10-19y      uint8\n",
              "driving_experience_20-29y      uint8\n",
              "driving_experience_30y+        uint8\n",
              "education_none                 uint8\n",
              "education_university           uint8\n",
              "vehicle_year_after 2015        uint8\n",
              "vehicle_year_before 2015       uint8\n",
              "vehicle_type_sedan             uint8\n",
              "vehicle_type_sports car        uint8\n",
              "gender_female                  uint8\n",
              "gender_male                    uint8\n",
              "race_majority                  uint8\n",
              "race_minority                  uint8\n",
              "income_poverty                 uint8\n",
              "income_upper class             uint8\n",
              "income_working class           uint8\n",
              "dtype: object"
            ]
          },
          "metadata": {
            "tags": []
          },
          "execution_count": 37
        }
      ]
    },
    {
      "cell_type": "code",
      "metadata": {
        "colab": {
          "base_uri": "https://localhost:8080/",
          "height": 1000
        },
        "id": "d1S9EcYqgaBn",
        "outputId": "6d6b1aca-13bb-4ffd-8eed-28915b21dc93"
      },
      "source": [
        "data.corr()  ## checking correlation"
      ],
      "execution_count": 38,
      "outputs": [
        {
          "output_type": "execute_result",
          "data": {
            "text/html": [
              "<div>\n",
              "<style scoped>\n",
              "    .dataframe tbody tr th:only-of-type {\n",
              "        vertical-align: middle;\n",
              "    }\n",
              "\n",
              "    .dataframe tbody tr th {\n",
              "        vertical-align: top;\n",
              "    }\n",
              "\n",
              "    .dataframe thead th {\n",
              "        text-align: right;\n",
              "    }\n",
              "</style>\n",
              "<table border=\"1\" class=\"dataframe\">\n",
              "  <thead>\n",
              "    <tr style=\"text-align: right;\">\n",
              "      <th></th>\n",
              "      <th>credit_score</th>\n",
              "      <th>vehicle_ownership</th>\n",
              "      <th>married</th>\n",
              "      <th>children</th>\n",
              "      <th>postal_code</th>\n",
              "      <th>annual_mileage</th>\n",
              "      <th>speeding_violations</th>\n",
              "      <th>DUIs</th>\n",
              "      <th>past_accidents</th>\n",
              "      <th>outcome</th>\n",
              "      <th>age_26-39</th>\n",
              "      <th>age_40-64</th>\n",
              "      <th>age_65+</th>\n",
              "      <th>driving_experience_10-19y</th>\n",
              "      <th>driving_experience_20-29y</th>\n",
              "      <th>driving_experience_30y+</th>\n",
              "      <th>education_none</th>\n",
              "      <th>education_university</th>\n",
              "      <th>vehicle_year_after 2015</th>\n",
              "      <th>vehicle_year_before 2015</th>\n",
              "      <th>vehicle_type_sedan</th>\n",
              "      <th>vehicle_type_sports car</th>\n",
              "      <th>gender_female</th>\n",
              "      <th>gender_male</th>\n",
              "      <th>race_majority</th>\n",
              "      <th>race_minority</th>\n",
              "      <th>income_poverty</th>\n",
              "      <th>income_upper class</th>\n",
              "      <th>income_working class</th>\n",
              "    </tr>\n",
              "  </thead>\n",
              "  <tbody>\n",
              "    <tr>\n",
              "      <th>credit_score</th>\n",
              "      <td>1.000000</td>\n",
              "      <td>0.295689</td>\n",
              "      <td>0.267074</td>\n",
              "      <td>0.209515</td>\n",
              "      <td>0.008533</td>\n",
              "      <td>-0.157641</td>\n",
              "      <td>0.194645</td>\n",
              "      <td>0.120953</td>\n",
              "      <td>0.172077</td>\n",
              "      <td>-0.309010</td>\n",
              "      <td>-0.128558</td>\n",
              "      <td>0.201123</td>\n",
              "      <td>0.300127</td>\n",
              "      <td>-0.017554</td>\n",
              "      <td>0.181313</td>\n",
              "      <td>0.200549</td>\n",
              "      <td>-0.334260</td>\n",
              "      <td>0.321017</td>\n",
              "      <td>0.254574</td>\n",
              "      <td>-0.254574</td>\n",
              "      <td>0.013141</td>\n",
              "      <td>-0.013141</td>\n",
              "      <td>0.077478</td>\n",
              "      <td>-0.077478</td>\n",
              "      <td>0.037637</td>\n",
              "      <td>-0.037637</td>\n",
              "      <td>-0.542507</td>\n",
              "      <td>0.595553</td>\n",
              "      <td>-0.259231</td>\n",
              "    </tr>\n",
              "    <tr>\n",
              "      <th>vehicle_ownership</th>\n",
              "      <td>0.295689</td>\n",
              "      <td>1.000000</td>\n",
              "      <td>0.175626</td>\n",
              "      <td>0.125990</td>\n",
              "      <td>-0.004866</td>\n",
              "      <td>-0.092701</td>\n",
              "      <td>0.133868</td>\n",
              "      <td>0.086567</td>\n",
              "      <td>0.119521</td>\n",
              "      <td>-0.378921</td>\n",
              "      <td>-0.075489</td>\n",
              "      <td>0.118123</td>\n",
              "      <td>0.172213</td>\n",
              "      <td>-0.003889</td>\n",
              "      <td>0.113982</td>\n",
              "      <td>0.118979</td>\n",
              "      <td>-0.202821</td>\n",
              "      <td>0.193457</td>\n",
              "      <td>0.158579</td>\n",
              "      <td>-0.158579</td>\n",
              "      <td>-0.005647</td>\n",
              "      <td>0.005647</td>\n",
              "      <td>-0.007385</td>\n",
              "      <td>0.007385</td>\n",
              "      <td>0.034738</td>\n",
              "      <td>-0.034738</td>\n",
              "      <td>-0.358214</td>\n",
              "      <td>0.330552</td>\n",
              "      <td>-0.126664</td>\n",
              "    </tr>\n",
              "    <tr>\n",
              "      <th>married</th>\n",
              "      <td>0.267074</td>\n",
              "      <td>0.175626</td>\n",
              "      <td>1.000000</td>\n",
              "      <td>0.287009</td>\n",
              "      <td>0.012045</td>\n",
              "      <td>-0.439520</td>\n",
              "      <td>0.218855</td>\n",
              "      <td>0.120840</td>\n",
              "      <td>0.215269</td>\n",
              "      <td>-0.262104</td>\n",
              "      <td>-0.113672</td>\n",
              "      <td>0.147096</td>\n",
              "      <td>0.261284</td>\n",
              "      <td>-0.023209</td>\n",
              "      <td>0.143063</td>\n",
              "      <td>0.175284</td>\n",
              "      <td>-0.164203</td>\n",
              "      <td>0.163020</td>\n",
              "      <td>0.129638</td>\n",
              "      <td>-0.129638</td>\n",
              "      <td>-0.006905</td>\n",
              "      <td>0.006905</td>\n",
              "      <td>-0.008393</td>\n",
              "      <td>0.008393</td>\n",
              "      <td>0.021597</td>\n",
              "      <td>-0.021597</td>\n",
              "      <td>-0.280648</td>\n",
              "      <td>0.355069</td>\n",
              "      <td>-0.161366</td>\n",
              "    </tr>\n",
              "    <tr>\n",
              "      <th>children</th>\n",
              "      <td>0.209515</td>\n",
              "      <td>0.125990</td>\n",
              "      <td>0.287009</td>\n",
              "      <td>1.000000</td>\n",
              "      <td>0.020911</td>\n",
              "      <td>-0.425813</td>\n",
              "      <td>0.220415</td>\n",
              "      <td>0.115354</td>\n",
              "      <td>0.206295</td>\n",
              "      <td>-0.232835</td>\n",
              "      <td>-0.095023</td>\n",
              "      <td>0.161869</td>\n",
              "      <td>0.241979</td>\n",
              "      <td>-0.013024</td>\n",
              "      <td>0.158791</td>\n",
              "      <td>0.164297</td>\n",
              "      <td>-0.097736</td>\n",
              "      <td>0.108087</td>\n",
              "      <td>0.105189</td>\n",
              "      <td>-0.105189</td>\n",
              "      <td>0.008672</td>\n",
              "      <td>-0.008672</td>\n",
              "      <td>0.002640</td>\n",
              "      <td>-0.002640</td>\n",
              "      <td>-0.007575</td>\n",
              "      <td>0.007575</td>\n",
              "      <td>-0.221110</td>\n",
              "      <td>0.252946</td>\n",
              "      <td>-0.104488</td>\n",
              "    </tr>\n",
              "    <tr>\n",
              "      <th>postal_code</th>\n",
              "      <td>0.008533</td>\n",
              "      <td>-0.004866</td>\n",
              "      <td>0.012045</td>\n",
              "      <td>0.020911</td>\n",
              "      <td>1.000000</td>\n",
              "      <td>-0.127286</td>\n",
              "      <td>0.113686</td>\n",
              "      <td>0.038492</td>\n",
              "      <td>-0.116985</td>\n",
              "      <td>0.095889</td>\n",
              "      <td>-0.016657</td>\n",
              "      <td>0.020632</td>\n",
              "      <td>-0.001951</td>\n",
              "      <td>-0.006292</td>\n",
              "      <td>0.021163</td>\n",
              "      <td>-0.008646</td>\n",
              "      <td>-0.014905</td>\n",
              "      <td>0.019417</td>\n",
              "      <td>0.006958</td>\n",
              "      <td>-0.006958</td>\n",
              "      <td>0.006169</td>\n",
              "      <td>-0.006169</td>\n",
              "      <td>0.001996</td>\n",
              "      <td>-0.001996</td>\n",
              "      <td>-0.004655</td>\n",
              "      <td>0.004655</td>\n",
              "      <td>-0.022488</td>\n",
              "      <td>0.017843</td>\n",
              "      <td>0.005117</td>\n",
              "    </tr>\n",
              "    <tr>\n",
              "      <th>annual_mileage</th>\n",
              "      <td>-0.157641</td>\n",
              "      <td>-0.092701</td>\n",
              "      <td>-0.439520</td>\n",
              "      <td>-0.425813</td>\n",
              "      <td>-0.127286</td>\n",
              "      <td>1.000000</td>\n",
              "      <td>-0.308125</td>\n",
              "      <td>-0.111232</td>\n",
              "      <td>-0.187180</td>\n",
              "      <td>0.177575</td>\n",
              "      <td>0.077125</td>\n",
              "      <td>-0.113851</td>\n",
              "      <td>-0.168984</td>\n",
              "      <td>0.022294</td>\n",
              "      <td>-0.098025</td>\n",
              "      <td>-0.116257</td>\n",
              "      <td>0.095136</td>\n",
              "      <td>-0.108524</td>\n",
              "      <td>-0.073713</td>\n",
              "      <td>0.073713</td>\n",
              "      <td>0.010013</td>\n",
              "      <td>-0.010013</td>\n",
              "      <td>0.015068</td>\n",
              "      <td>-0.015068</td>\n",
              "      <td>0.001898</td>\n",
              "      <td>-0.001898</td>\n",
              "      <td>0.177805</td>\n",
              "      <td>-0.230349</td>\n",
              "      <td>0.095930</td>\n",
              "    </tr>\n",
              "    <tr>\n",
              "      <th>speeding_violations</th>\n",
              "      <td>0.194645</td>\n",
              "      <td>0.133868</td>\n",
              "      <td>0.218855</td>\n",
              "      <td>0.220415</td>\n",
              "      <td>0.113686</td>\n",
              "      <td>-0.308125</td>\n",
              "      <td>1.000000</td>\n",
              "      <td>0.359838</td>\n",
              "      <td>0.443074</td>\n",
              "      <td>-0.291862</td>\n",
              "      <td>-0.140326</td>\n",
              "      <td>0.130591</td>\n",
              "      <td>0.347132</td>\n",
              "      <td>-0.052092</td>\n",
              "      <td>0.289445</td>\n",
              "      <td>0.455347</td>\n",
              "      <td>-0.113901</td>\n",
              "      <td>0.120944</td>\n",
              "      <td>0.102700</td>\n",
              "      <td>-0.102700</td>\n",
              "      <td>-0.001812</td>\n",
              "      <td>0.001812</td>\n",
              "      <td>-0.202095</td>\n",
              "      <td>0.202095</td>\n",
              "      <td>0.014068</td>\n",
              "      <td>-0.014068</td>\n",
              "      <td>-0.220973</td>\n",
              "      <td>0.285162</td>\n",
              "      <td>-0.119806</td>\n",
              "    </tr>\n",
              "    <tr>\n",
              "      <th>DUIs</th>\n",
              "      <td>0.120953</td>\n",
              "      <td>0.086567</td>\n",
              "      <td>0.120840</td>\n",
              "      <td>0.115354</td>\n",
              "      <td>0.038492</td>\n",
              "      <td>-0.111232</td>\n",
              "      <td>0.359838</td>\n",
              "      <td>1.000000</td>\n",
              "      <td>0.259359</td>\n",
              "      <td>-0.189352</td>\n",
              "      <td>-0.079617</td>\n",
              "      <td>0.098929</td>\n",
              "      <td>0.196776</td>\n",
              "      <td>-0.023041</td>\n",
              "      <td>0.202010</td>\n",
              "      <td>0.262151</td>\n",
              "      <td>-0.068723</td>\n",
              "      <td>0.079483</td>\n",
              "      <td>0.049981</td>\n",
              "      <td>-0.049981</td>\n",
              "      <td>0.005156</td>\n",
              "      <td>-0.005156</td>\n",
              "      <td>-0.094202</td>\n",
              "      <td>0.094202</td>\n",
              "      <td>0.015296</td>\n",
              "      <td>-0.015296</td>\n",
              "      <td>-0.145383</td>\n",
              "      <td>0.176650</td>\n",
              "      <td>-0.059083</td>\n",
              "    </tr>\n",
              "    <tr>\n",
              "      <th>past_accidents</th>\n",
              "      <td>0.172077</td>\n",
              "      <td>0.119521</td>\n",
              "      <td>0.215269</td>\n",
              "      <td>0.206295</td>\n",
              "      <td>-0.116985</td>\n",
              "      <td>-0.187180</td>\n",
              "      <td>0.443074</td>\n",
              "      <td>0.259359</td>\n",
              "      <td>1.000000</td>\n",
              "      <td>-0.311495</td>\n",
              "      <td>-0.130299</td>\n",
              "      <td>0.142393</td>\n",
              "      <td>0.310890</td>\n",
              "      <td>-0.041026</td>\n",
              "      <td>0.285480</td>\n",
              "      <td>0.418129</td>\n",
              "      <td>-0.104558</td>\n",
              "      <td>0.104075</td>\n",
              "      <td>0.097587</td>\n",
              "      <td>-0.097587</td>\n",
              "      <td>0.013305</td>\n",
              "      <td>-0.013305</td>\n",
              "      <td>-0.223202</td>\n",
              "      <td>0.223202</td>\n",
              "      <td>0.008848</td>\n",
              "      <td>-0.008848</td>\n",
              "      <td>-0.214550</td>\n",
              "      <td>0.254239</td>\n",
              "      <td>-0.104814</td>\n",
              "    </tr>\n",
              "    <tr>\n",
              "      <th>outcome</th>\n",
              "      <td>-0.309010</td>\n",
              "      <td>-0.378921</td>\n",
              "      <td>-0.262104</td>\n",
              "      <td>-0.232835</td>\n",
              "      <td>0.095889</td>\n",
              "      <td>0.177575</td>\n",
              "      <td>-0.291862</td>\n",
              "      <td>-0.189352</td>\n",
              "      <td>-0.311495</td>\n",
              "      <td>1.000000</td>\n",
              "      <td>0.033844</td>\n",
              "      <td>-0.218482</td>\n",
              "      <td>-0.230832</td>\n",
              "      <td>-0.113065</td>\n",
              "      <td>-0.292739</td>\n",
              "      <td>-0.217548</td>\n",
              "      <td>0.166034</td>\n",
              "      <td>-0.152143</td>\n",
              "      <td>-0.294178</td>\n",
              "      <td>0.294178</td>\n",
              "      <td>-0.005620</td>\n",
              "      <td>0.005620</td>\n",
              "      <td>-0.107208</td>\n",
              "      <td>0.107208</td>\n",
              "      <td>-0.008280</td>\n",
              "      <td>0.008280</td>\n",
              "      <td>0.345574</td>\n",
              "      <td>-0.339101</td>\n",
              "      <td>0.137152</td>\n",
              "    </tr>\n",
              "    <tr>\n",
              "      <th>age_26-39</th>\n",
              "      <td>-0.128558</td>\n",
              "      <td>-0.075489</td>\n",
              "      <td>-0.113672</td>\n",
              "      <td>-0.095023</td>\n",
              "      <td>-0.016657</td>\n",
              "      <td>0.077125</td>\n",
              "      <td>-0.140326</td>\n",
              "      <td>-0.079617</td>\n",
              "      <td>-0.130299</td>\n",
              "      <td>0.033844</td>\n",
              "      <td>1.000000</td>\n",
              "      <td>-0.427875</td>\n",
              "      <td>-0.331206</td>\n",
              "      <td>0.631898</td>\n",
              "      <td>-0.344558</td>\n",
              "      <td>-0.227841</td>\n",
              "      <td>0.058682</td>\n",
              "      <td>-0.057812</td>\n",
              "      <td>-0.079289</td>\n",
              "      <td>0.079289</td>\n",
              "      <td>-0.016179</td>\n",
              "      <td>0.016179</td>\n",
              "      <td>-0.008488</td>\n",
              "      <td>0.008488</td>\n",
              "      <td>-0.003908</td>\n",
              "      <td>0.003908</td>\n",
              "      <td>0.024980</td>\n",
              "      <td>-0.253951</td>\n",
              "      <td>0.153549</td>\n",
              "    </tr>\n",
              "    <tr>\n",
              "      <th>age_40-64</th>\n",
              "      <td>0.201123</td>\n",
              "      <td>0.118123</td>\n",
              "      <td>0.147096</td>\n",
              "      <td>0.161869</td>\n",
              "      <td>0.020632</td>\n",
              "      <td>-0.113851</td>\n",
              "      <td>0.130591</td>\n",
              "      <td>0.098929</td>\n",
              "      <td>0.142393</td>\n",
              "      <td>-0.218482</td>\n",
              "      <td>-0.427875</td>\n",
              "      <td>1.000000</td>\n",
              "      <td>-0.320951</td>\n",
              "      <td>-0.177527</td>\n",
              "      <td>0.639698</td>\n",
              "      <td>-0.220787</td>\n",
              "      <td>-0.066601</td>\n",
              "      <td>0.081738</td>\n",
              "      <td>0.092729</td>\n",
              "      <td>-0.092729</td>\n",
              "      <td>-0.005351</td>\n",
              "      <td>0.005351</td>\n",
              "      <td>-0.001068</td>\n",
              "      <td>0.001068</td>\n",
              "      <td>-0.005461</td>\n",
              "      <td>0.005461</td>\n",
              "      <td>-0.239266</td>\n",
              "      <td>0.212841</td>\n",
              "      <td>-0.087943</td>\n",
              "    </tr>\n",
              "    <tr>\n",
              "      <th>age_65+</th>\n",
              "      <td>0.300127</td>\n",
              "      <td>0.172213</td>\n",
              "      <td>0.261284</td>\n",
              "      <td>0.241979</td>\n",
              "      <td>-0.001951</td>\n",
              "      <td>-0.168984</td>\n",
              "      <td>0.347132</td>\n",
              "      <td>0.196776</td>\n",
              "      <td>0.310890</td>\n",
              "      <td>-0.230832</td>\n",
              "      <td>-0.331206</td>\n",
              "      <td>-0.320951</td>\n",
              "      <td>1.000000</td>\n",
              "      <td>-0.172867</td>\n",
              "      <td>-0.069677</td>\n",
              "      <td>0.687915</td>\n",
              "      <td>-0.150917</td>\n",
              "      <td>0.153003</td>\n",
              "      <td>0.161519</td>\n",
              "      <td>-0.161519</td>\n",
              "      <td>0.017537</td>\n",
              "      <td>-0.017537</td>\n",
              "      <td>-0.000997</td>\n",
              "      <td>0.000997</td>\n",
              "      <td>0.015623</td>\n",
              "      <td>-0.015623</td>\n",
              "      <td>-0.231385</td>\n",
              "      <td>0.452418</td>\n",
              "      <td>-0.196614</td>\n",
              "    </tr>\n",
              "    <tr>\n",
              "      <th>driving_experience_10-19y</th>\n",
              "      <td>-0.017554</td>\n",
              "      <td>-0.003889</td>\n",
              "      <td>-0.023209</td>\n",
              "      <td>-0.013024</td>\n",
              "      <td>-0.006292</td>\n",
              "      <td>0.022294</td>\n",
              "      <td>-0.052092</td>\n",
              "      <td>-0.023041</td>\n",
              "      <td>-0.041026</td>\n",
              "      <td>-0.113065</td>\n",
              "      <td>0.631898</td>\n",
              "      <td>-0.177527</td>\n",
              "      <td>-0.172867</td>\n",
              "      <td>1.000000</td>\n",
              "      <td>-0.363828</td>\n",
              "      <td>-0.240584</td>\n",
              "      <td>0.006617</td>\n",
              "      <td>0.002680</td>\n",
              "      <td>-0.022943</td>\n",
              "      <td>0.022943</td>\n",
              "      <td>-0.019597</td>\n",
              "      <td>0.019597</td>\n",
              "      <td>-0.009698</td>\n",
              "      <td>0.009698</td>\n",
              "      <td>-0.014297</td>\n",
              "      <td>0.014297</td>\n",
              "      <td>-0.057091</td>\n",
              "      <td>-0.092035</td>\n",
              "      <td>0.073521</td>\n",
              "    </tr>\n",
              "    <tr>\n",
              "      <th>driving_experience_20-29y</th>\n",
              "      <td>0.181313</td>\n",
              "      <td>0.113982</td>\n",
              "      <td>0.143063</td>\n",
              "      <td>0.158791</td>\n",
              "      <td>0.021163</td>\n",
              "      <td>-0.098025</td>\n",
              "      <td>0.289445</td>\n",
              "      <td>0.202010</td>\n",
              "      <td>0.285480</td>\n",
              "      <td>-0.292739</td>\n",
              "      <td>-0.344558</td>\n",
              "      <td>0.639698</td>\n",
              "      <td>-0.069677</td>\n",
              "      <td>-0.363828</td>\n",
              "      <td>1.000000</td>\n",
              "      <td>-0.177795</td>\n",
              "      <td>-0.069521</td>\n",
              "      <td>0.058452</td>\n",
              "      <td>0.082143</td>\n",
              "      <td>-0.082143</td>\n",
              "      <td>0.002384</td>\n",
              "      <td>-0.002384</td>\n",
              "      <td>-0.002750</td>\n",
              "      <td>0.002750</td>\n",
              "      <td>0.013414</td>\n",
              "      <td>-0.013414</td>\n",
              "      <td>-0.199643</td>\n",
              "      <td>0.206502</td>\n",
              "      <td>-0.093399</td>\n",
              "    </tr>\n",
              "    <tr>\n",
              "      <th>driving_experience_30y+</th>\n",
              "      <td>0.200549</td>\n",
              "      <td>0.118979</td>\n",
              "      <td>0.175284</td>\n",
              "      <td>0.164297</td>\n",
              "      <td>-0.008646</td>\n",
              "      <td>-0.116257</td>\n",
              "      <td>0.455347</td>\n",
              "      <td>0.262151</td>\n",
              "      <td>0.418129</td>\n",
              "      <td>-0.217548</td>\n",
              "      <td>-0.227841</td>\n",
              "      <td>-0.220787</td>\n",
              "      <td>0.687915</td>\n",
              "      <td>-0.240584</td>\n",
              "      <td>-0.177795</td>\n",
              "      <td>1.000000</td>\n",
              "      <td>-0.107234</td>\n",
              "      <td>0.106631</td>\n",
              "      <td>0.116232</td>\n",
              "      <td>-0.116232</td>\n",
              "      <td>0.017098</td>\n",
              "      <td>-0.017098</td>\n",
              "      <td>-0.000686</td>\n",
              "      <td>0.000686</td>\n",
              "      <td>0.017409</td>\n",
              "      <td>-0.017409</td>\n",
              "      <td>-0.158872</td>\n",
              "      <td>0.305730</td>\n",
              "      <td>-0.135071</td>\n",
              "    </tr>\n",
              "    <tr>\n",
              "      <th>education_none</th>\n",
              "      <td>-0.334260</td>\n",
              "      <td>-0.202821</td>\n",
              "      <td>-0.164203</td>\n",
              "      <td>-0.097736</td>\n",
              "      <td>-0.014905</td>\n",
              "      <td>0.095136</td>\n",
              "      <td>-0.113901</td>\n",
              "      <td>-0.068723</td>\n",
              "      <td>-0.104558</td>\n",
              "      <td>0.166034</td>\n",
              "      <td>0.058682</td>\n",
              "      <td>-0.066601</td>\n",
              "      <td>-0.150917</td>\n",
              "      <td>0.006617</td>\n",
              "      <td>-0.069521</td>\n",
              "      <td>-0.107234</td>\n",
              "      <td>1.000000</td>\n",
              "      <td>-0.391439</td>\n",
              "      <td>-0.167417</td>\n",
              "      <td>0.167417</td>\n",
              "      <td>-0.004358</td>\n",
              "      <td>0.004358</td>\n",
              "      <td>0.036386</td>\n",
              "      <td>-0.036386</td>\n",
              "      <td>-0.110549</td>\n",
              "      <td>0.110549</td>\n",
              "      <td>0.419197</td>\n",
              "      <td>-0.353000</td>\n",
              "      <td>0.118847</td>\n",
              "    </tr>\n",
              "    <tr>\n",
              "      <th>education_university</th>\n",
              "      <td>0.321017</td>\n",
              "      <td>0.193457</td>\n",
              "      <td>0.163020</td>\n",
              "      <td>0.108087</td>\n",
              "      <td>0.019417</td>\n",
              "      <td>-0.108524</td>\n",
              "      <td>0.120944</td>\n",
              "      <td>0.079483</td>\n",
              "      <td>0.104075</td>\n",
              "      <td>-0.152143</td>\n",
              "      <td>-0.057812</td>\n",
              "      <td>0.081738</td>\n",
              "      <td>0.153003</td>\n",
              "      <td>0.002680</td>\n",
              "      <td>0.058452</td>\n",
              "      <td>0.106631</td>\n",
              "      <td>-0.391439</td>\n",
              "      <td>1.000000</td>\n",
              "      <td>0.172224</td>\n",
              "      <td>-0.172224</td>\n",
              "      <td>0.001312</td>\n",
              "      <td>-0.001312</td>\n",
              "      <td>-0.090885</td>\n",
              "      <td>0.090885</td>\n",
              "      <td>0.083091</td>\n",
              "      <td>-0.083091</td>\n",
              "      <td>-0.327077</td>\n",
              "      <td>0.439138</td>\n",
              "      <td>-0.188883</td>\n",
              "    </tr>\n",
              "    <tr>\n",
              "      <th>vehicle_year_after 2015</th>\n",
              "      <td>0.254574</td>\n",
              "      <td>0.158579</td>\n",
              "      <td>0.129638</td>\n",
              "      <td>0.105189</td>\n",
              "      <td>0.006958</td>\n",
              "      <td>-0.073713</td>\n",
              "      <td>0.102700</td>\n",
              "      <td>0.049981</td>\n",
              "      <td>0.097587</td>\n",
              "      <td>-0.294178</td>\n",
              "      <td>-0.079289</td>\n",
              "      <td>0.092729</td>\n",
              "      <td>0.161519</td>\n",
              "      <td>-0.022943</td>\n",
              "      <td>0.082143</td>\n",
              "      <td>0.116232</td>\n",
              "      <td>-0.167417</td>\n",
              "      <td>0.172224</td>\n",
              "      <td>1.000000</td>\n",
              "      <td>-1.000000</td>\n",
              "      <td>0.025185</td>\n",
              "      <td>-0.025185</td>\n",
              "      <td>-0.010674</td>\n",
              "      <td>0.010674</td>\n",
              "      <td>0.020895</td>\n",
              "      <td>-0.020895</td>\n",
              "      <td>-0.243417</td>\n",
              "      <td>0.339276</td>\n",
              "      <td>-0.150876</td>\n",
              "    </tr>\n",
              "    <tr>\n",
              "      <th>vehicle_year_before 2015</th>\n",
              "      <td>-0.254574</td>\n",
              "      <td>-0.158579</td>\n",
              "      <td>-0.129638</td>\n",
              "      <td>-0.105189</td>\n",
              "      <td>-0.006958</td>\n",
              "      <td>0.073713</td>\n",
              "      <td>-0.102700</td>\n",
              "      <td>-0.049981</td>\n",
              "      <td>-0.097587</td>\n",
              "      <td>0.294178</td>\n",
              "      <td>0.079289</td>\n",
              "      <td>-0.092729</td>\n",
              "      <td>-0.161519</td>\n",
              "      <td>0.022943</td>\n",
              "      <td>-0.082143</td>\n",
              "      <td>-0.116232</td>\n",
              "      <td>0.167417</td>\n",
              "      <td>-0.172224</td>\n",
              "      <td>-1.000000</td>\n",
              "      <td>1.000000</td>\n",
              "      <td>-0.025185</td>\n",
              "      <td>0.025185</td>\n",
              "      <td>0.010674</td>\n",
              "      <td>-0.010674</td>\n",
              "      <td>-0.020895</td>\n",
              "      <td>0.020895</td>\n",
              "      <td>0.243417</td>\n",
              "      <td>-0.339276</td>\n",
              "      <td>0.150876</td>\n",
              "    </tr>\n",
              "    <tr>\n",
              "      <th>vehicle_type_sedan</th>\n",
              "      <td>0.013141</td>\n",
              "      <td>-0.005647</td>\n",
              "      <td>-0.006905</td>\n",
              "      <td>0.008672</td>\n",
              "      <td>0.006169</td>\n",
              "      <td>0.010013</td>\n",
              "      <td>-0.001812</td>\n",
              "      <td>0.005156</td>\n",
              "      <td>0.013305</td>\n",
              "      <td>-0.005620</td>\n",
              "      <td>-0.016179</td>\n",
              "      <td>-0.005351</td>\n",
              "      <td>0.017537</td>\n",
              "      <td>-0.019597</td>\n",
              "      <td>0.002384</td>\n",
              "      <td>0.017098</td>\n",
              "      <td>-0.004358</td>\n",
              "      <td>0.001312</td>\n",
              "      <td>0.025185</td>\n",
              "      <td>-0.025185</td>\n",
              "      <td>1.000000</td>\n",
              "      <td>-1.000000</td>\n",
              "      <td>-0.000022</td>\n",
              "      <td>0.000022</td>\n",
              "      <td>0.006089</td>\n",
              "      <td>-0.006089</td>\n",
              "      <td>-0.006663</td>\n",
              "      <td>0.014038</td>\n",
              "      <td>0.000825</td>\n",
              "    </tr>\n",
              "    <tr>\n",
              "      <th>vehicle_type_sports car</th>\n",
              "      <td>-0.013141</td>\n",
              "      <td>0.005647</td>\n",
              "      <td>0.006905</td>\n",
              "      <td>-0.008672</td>\n",
              "      <td>-0.006169</td>\n",
              "      <td>-0.010013</td>\n",
              "      <td>0.001812</td>\n",
              "      <td>-0.005156</td>\n",
              "      <td>-0.013305</td>\n",
              "      <td>0.005620</td>\n",
              "      <td>0.016179</td>\n",
              "      <td>0.005351</td>\n",
              "      <td>-0.017537</td>\n",
              "      <td>0.019597</td>\n",
              "      <td>-0.002384</td>\n",
              "      <td>-0.017098</td>\n",
              "      <td>0.004358</td>\n",
              "      <td>-0.001312</td>\n",
              "      <td>-0.025185</td>\n",
              "      <td>0.025185</td>\n",
              "      <td>-1.000000</td>\n",
              "      <td>1.000000</td>\n",
              "      <td>0.000022</td>\n",
              "      <td>-0.000022</td>\n",
              "      <td>-0.006089</td>\n",
              "      <td>0.006089</td>\n",
              "      <td>0.006663</td>\n",
              "      <td>-0.014038</td>\n",
              "      <td>-0.000825</td>\n",
              "    </tr>\n",
              "    <tr>\n",
              "      <th>gender_female</th>\n",
              "      <td>0.077478</td>\n",
              "      <td>-0.007385</td>\n",
              "      <td>-0.008393</td>\n",
              "      <td>0.002640</td>\n",
              "      <td>0.001996</td>\n",
              "      <td>0.015068</td>\n",
              "      <td>-0.202095</td>\n",
              "      <td>-0.094202</td>\n",
              "      <td>-0.223202</td>\n",
              "      <td>-0.107208</td>\n",
              "      <td>-0.008488</td>\n",
              "      <td>-0.001068</td>\n",
              "      <td>-0.000997</td>\n",
              "      <td>-0.009698</td>\n",
              "      <td>-0.002750</td>\n",
              "      <td>-0.000686</td>\n",
              "      <td>0.036386</td>\n",
              "      <td>-0.090885</td>\n",
              "      <td>-0.010674</td>\n",
              "      <td>0.010674</td>\n",
              "      <td>-0.000022</td>\n",
              "      <td>0.000022</td>\n",
              "      <td>1.000000</td>\n",
              "      <td>-1.000000</td>\n",
              "      <td>-0.006711</td>\n",
              "      <td>0.006711</td>\n",
              "      <td>0.025009</td>\n",
              "      <td>-0.022332</td>\n",
              "      <td>0.000153</td>\n",
              "    </tr>\n",
              "    <tr>\n",
              "      <th>gender_male</th>\n",
              "      <td>-0.077478</td>\n",
              "      <td>0.007385</td>\n",
              "      <td>0.008393</td>\n",
              "      <td>-0.002640</td>\n",
              "      <td>-0.001996</td>\n",
              "      <td>-0.015068</td>\n",
              "      <td>0.202095</td>\n",
              "      <td>0.094202</td>\n",
              "      <td>0.223202</td>\n",
              "      <td>0.107208</td>\n",
              "      <td>0.008488</td>\n",
              "      <td>0.001068</td>\n",
              "      <td>0.000997</td>\n",
              "      <td>0.009698</td>\n",
              "      <td>0.002750</td>\n",
              "      <td>0.000686</td>\n",
              "      <td>-0.036386</td>\n",
              "      <td>0.090885</td>\n",
              "      <td>0.010674</td>\n",
              "      <td>-0.010674</td>\n",
              "      <td>0.000022</td>\n",
              "      <td>-0.000022</td>\n",
              "      <td>-1.000000</td>\n",
              "      <td>1.000000</td>\n",
              "      <td>0.006711</td>\n",
              "      <td>-0.006711</td>\n",
              "      <td>-0.025009</td>\n",
              "      <td>0.022332</td>\n",
              "      <td>-0.000153</td>\n",
              "    </tr>\n",
              "    <tr>\n",
              "      <th>race_majority</th>\n",
              "      <td>0.037637</td>\n",
              "      <td>0.034738</td>\n",
              "      <td>0.021597</td>\n",
              "      <td>-0.007575</td>\n",
              "      <td>-0.004655</td>\n",
              "      <td>0.001898</td>\n",
              "      <td>0.014068</td>\n",
              "      <td>0.015296</td>\n",
              "      <td>0.008848</td>\n",
              "      <td>-0.008280</td>\n",
              "      <td>-0.003908</td>\n",
              "      <td>-0.005461</td>\n",
              "      <td>0.015623</td>\n",
              "      <td>-0.014297</td>\n",
              "      <td>0.013414</td>\n",
              "      <td>0.017409</td>\n",
              "      <td>-0.110549</td>\n",
              "      <td>0.083091</td>\n",
              "      <td>0.020895</td>\n",
              "      <td>-0.020895</td>\n",
              "      <td>0.006089</td>\n",
              "      <td>-0.006089</td>\n",
              "      <td>-0.006711</td>\n",
              "      <td>0.006711</td>\n",
              "      <td>1.000000</td>\n",
              "      <td>-1.000000</td>\n",
              "      <td>-0.046768</td>\n",
              "      <td>0.039491</td>\n",
              "      <td>-0.018554</td>\n",
              "    </tr>\n",
              "    <tr>\n",
              "      <th>race_minority</th>\n",
              "      <td>-0.037637</td>\n",
              "      <td>-0.034738</td>\n",
              "      <td>-0.021597</td>\n",
              "      <td>0.007575</td>\n",
              "      <td>0.004655</td>\n",
              "      <td>-0.001898</td>\n",
              "      <td>-0.014068</td>\n",
              "      <td>-0.015296</td>\n",
              "      <td>-0.008848</td>\n",
              "      <td>0.008280</td>\n",
              "      <td>0.003908</td>\n",
              "      <td>0.005461</td>\n",
              "      <td>-0.015623</td>\n",
              "      <td>0.014297</td>\n",
              "      <td>-0.013414</td>\n",
              "      <td>-0.017409</td>\n",
              "      <td>0.110549</td>\n",
              "      <td>-0.083091</td>\n",
              "      <td>-0.020895</td>\n",
              "      <td>0.020895</td>\n",
              "      <td>-0.006089</td>\n",
              "      <td>0.006089</td>\n",
              "      <td>0.006711</td>\n",
              "      <td>-0.006711</td>\n",
              "      <td>-1.000000</td>\n",
              "      <td>1.000000</td>\n",
              "      <td>0.046768</td>\n",
              "      <td>-0.039491</td>\n",
              "      <td>0.018554</td>\n",
              "    </tr>\n",
              "    <tr>\n",
              "      <th>income_poverty</th>\n",
              "      <td>-0.542507</td>\n",
              "      <td>-0.358214</td>\n",
              "      <td>-0.280648</td>\n",
              "      <td>-0.221110</td>\n",
              "      <td>-0.022488</td>\n",
              "      <td>0.177805</td>\n",
              "      <td>-0.220973</td>\n",
              "      <td>-0.145383</td>\n",
              "      <td>-0.214550</td>\n",
              "      <td>0.345574</td>\n",
              "      <td>0.024980</td>\n",
              "      <td>-0.239266</td>\n",
              "      <td>-0.231385</td>\n",
              "      <td>-0.057091</td>\n",
              "      <td>-0.199643</td>\n",
              "      <td>-0.158872</td>\n",
              "      <td>0.419197</td>\n",
              "      <td>-0.327077</td>\n",
              "      <td>-0.243417</td>\n",
              "      <td>0.243417</td>\n",
              "      <td>-0.006663</td>\n",
              "      <td>0.006663</td>\n",
              "      <td>0.025009</td>\n",
              "      <td>-0.025009</td>\n",
              "      <td>-0.046768</td>\n",
              "      <td>0.046768</td>\n",
              "      <td>1.000000</td>\n",
              "      <td>-0.411875</td>\n",
              "      <td>-0.213949</td>\n",
              "    </tr>\n",
              "    <tr>\n",
              "      <th>income_upper class</th>\n",
              "      <td>0.595553</td>\n",
              "      <td>0.330552</td>\n",
              "      <td>0.355069</td>\n",
              "      <td>0.252946</td>\n",
              "      <td>0.017843</td>\n",
              "      <td>-0.230349</td>\n",
              "      <td>0.285162</td>\n",
              "      <td>0.176650</td>\n",
              "      <td>0.254239</td>\n",
              "      <td>-0.339101</td>\n",
              "      <td>-0.253951</td>\n",
              "      <td>0.212841</td>\n",
              "      <td>0.452418</td>\n",
              "      <td>-0.092035</td>\n",
              "      <td>0.206502</td>\n",
              "      <td>0.305730</td>\n",
              "      <td>-0.353000</td>\n",
              "      <td>0.439138</td>\n",
              "      <td>0.339276</td>\n",
              "      <td>-0.339276</td>\n",
              "      <td>0.014038</td>\n",
              "      <td>-0.014038</td>\n",
              "      <td>-0.022332</td>\n",
              "      <td>0.022332</td>\n",
              "      <td>0.039491</td>\n",
              "      <td>-0.039491</td>\n",
              "      <td>-0.411875</td>\n",
              "      <td>1.000000</td>\n",
              "      <td>-0.397658</td>\n",
              "    </tr>\n",
              "    <tr>\n",
              "      <th>income_working class</th>\n",
              "      <td>-0.259231</td>\n",
              "      <td>-0.126664</td>\n",
              "      <td>-0.161366</td>\n",
              "      <td>-0.104488</td>\n",
              "      <td>0.005117</td>\n",
              "      <td>0.095930</td>\n",
              "      <td>-0.119806</td>\n",
              "      <td>-0.059083</td>\n",
              "      <td>-0.104814</td>\n",
              "      <td>0.137152</td>\n",
              "      <td>0.153549</td>\n",
              "      <td>-0.087943</td>\n",
              "      <td>-0.196614</td>\n",
              "      <td>0.073521</td>\n",
              "      <td>-0.093399</td>\n",
              "      <td>-0.135071</td>\n",
              "      <td>0.118847</td>\n",
              "      <td>-0.188883</td>\n",
              "      <td>-0.150876</td>\n",
              "      <td>0.150876</td>\n",
              "      <td>0.000825</td>\n",
              "      <td>-0.000825</td>\n",
              "      <td>0.000153</td>\n",
              "      <td>-0.000153</td>\n",
              "      <td>-0.018554</td>\n",
              "      <td>0.018554</td>\n",
              "      <td>-0.213949</td>\n",
              "      <td>-0.397658</td>\n",
              "      <td>1.000000</td>\n",
              "    </tr>\n",
              "  </tbody>\n",
              "</table>\n",
              "</div>"
            ],
            "text/plain": [
              "                           credit_score  ...  income_working class\n",
              "credit_score                   1.000000  ...             -0.259231\n",
              "vehicle_ownership              0.295689  ...             -0.126664\n",
              "married                        0.267074  ...             -0.161366\n",
              "children                       0.209515  ...             -0.104488\n",
              "postal_code                    0.008533  ...              0.005117\n",
              "annual_mileage                -0.157641  ...              0.095930\n",
              "speeding_violations            0.194645  ...             -0.119806\n",
              "DUIs                           0.120953  ...             -0.059083\n",
              "past_accidents                 0.172077  ...             -0.104814\n",
              "outcome                       -0.309010  ...              0.137152\n",
              "age_26-39                     -0.128558  ...              0.153549\n",
              "age_40-64                      0.201123  ...             -0.087943\n",
              "age_65+                        0.300127  ...             -0.196614\n",
              "driving_experience_10-19y     -0.017554  ...              0.073521\n",
              "driving_experience_20-29y      0.181313  ...             -0.093399\n",
              "driving_experience_30y+        0.200549  ...             -0.135071\n",
              "education_none                -0.334260  ...              0.118847\n",
              "education_university           0.321017  ...             -0.188883\n",
              "vehicle_year_after 2015        0.254574  ...             -0.150876\n",
              "vehicle_year_before 2015      -0.254574  ...              0.150876\n",
              "vehicle_type_sedan             0.013141  ...              0.000825\n",
              "vehicle_type_sports car       -0.013141  ...             -0.000825\n",
              "gender_female                  0.077478  ...              0.000153\n",
              "gender_male                   -0.077478  ...             -0.000153\n",
              "race_majority                  0.037637  ...             -0.018554\n",
              "race_minority                 -0.037637  ...              0.018554\n",
              "income_poverty                -0.542507  ...             -0.213949\n",
              "income_upper class             0.595553  ...             -0.397658\n",
              "income_working class          -0.259231  ...              1.000000\n",
              "\n",
              "[29 rows x 29 columns]"
            ]
          },
          "metadata": {
            "tags": []
          },
          "execution_count": 38
        }
      ]
    },
    {
      "cell_type": "code",
      "metadata": {
        "colab": {
          "base_uri": "https://localhost:8080/",
          "height": 411
        },
        "id": "DQEE7DW23ikz",
        "outputId": "c078a489-ddf5-4767-9c8c-a985cc9aaa78"
      },
      "source": [
        "import seaborn as sns\n",
        "sns.heatmap(data.corr())    ##plotting correlation matrix"
      ],
      "execution_count": 39,
      "outputs": [
        {
          "output_type": "execute_result",
          "data": {
            "text/plain": [
              "<matplotlib.axes._subplots.AxesSubplot at 0x7f3608c8d5d0>"
            ]
          },
          "metadata": {
            "tags": []
          },
          "execution_count": 39
        },
        {
          "output_type": "display_data",
          "data": {
            "image/png": "[encoded data removed]",
            "text/plain": [
              "<Figure size 432x288 with 2 Axes>"
            ]
          },
          "metadata": {
            "tags": [],
            "needs_background": "light"
          }
        }
      ]
    },
    {
      "cell_type": "code",
      "metadata": {
        "colab": {
          "base_uri": "https://localhost:8080/",
          "height": 1000
        },
        "id": "imHyplGe4KaP",
        "outputId": "93a95631-ea1a-46d6-95ef-a8222cddd388"
      },
      "source": [
        "#### Visualizing numeric columns ######\n",
        "\n",
        "numeric_cols = data.select_dtypes(include = np.number) ### selects numeric columns\n",
        "\n",
        "column_names = list(numeric_cols.columns)\n",
        "\n",
        "col_index = 0\n",
        "\n",
        "plot_rows = 7\n",
        "plot_cols = 4\n",
        "\n",
        "fig, ax = plt.subplots(nrows = plot_rows,ncols=plot_cols,figsize = (20,20))\n",
        "\n",
        "for row_count in range(plot_rows):\n",
        "    for col_count in range(plot_cols):\n",
        "        ax[row_count][col_count].scatter(y = numeric_cols[column_names[col_index]],x=numeric_cols.index)\n",
        "        ax[row_count][col_count].set_ylabel(column_names[col_index])\n",
        "        col_index = col_index + 1"
      ],
      "execution_count": 40,
      "outputs": [
        {
          "output_type": "display_data",
          "data": {
            "image/png": "[encoded data removed]",
            "text/plain": [
              "<Figure size 1440x1440 with 28 Axes>"
            ]
          },
          "metadata": {
            "tags": [],
            "needs_background": "light"
          }
        }
      ]
    },
    {
      "cell_type": "code",
      "metadata": {
        "id": "U3T2iDvi6Rdj",
        "colab": {
          "base_uri": "https://localhost:8080/"
        },
        "outputId": "05990885-aa3e-40c1-a955-2a96c20c826c"
      },
      "source": [
        "data.shape"
      ],
      "execution_count": 41,
      "outputs": [
        {
          "output_type": "execute_result",
          "data": {
            "text/plain": [
              "(10000, 29)"
            ]
          },
          "metadata": {
            "tags": []
          },
          "execution_count": 41
        }
      ]
    },
    {
      "cell_type": "code",
      "metadata": {
        "id": "SmSaLXUPnDll"
      },
      "source": [
        "scaler = StandardScaler() \n",
        "\n",
        "scaler.fit(data[['credit_score','postal_code','annual_mileage']]) ### it will compute mean and standard deviation of every column\n",
        "\n",
        "data[['credit_score','postal_code','annual_mileage']] = scaler.transform(data[['credit_score','postal_code','annual_mileage']])  ## transforming and reassigning names of columns"
      ],
      "execution_count": 42,
      "outputs": []
    },
    {
      "cell_type": "code",
      "metadata": {
        "colab": {
          "base_uri": "https://localhost:8080/",
          "height": 240
        },
        "id": "l7Tt1wkEnVQj",
        "outputId": "8f5a424d-6fec-4bd9-a48d-22c630543c40"
      },
      "source": [
        "data.head()"
      ],
      "execution_count": 43,
      "outputs": [
        {
          "output_type": "execute_result",
          "data": {
            "text/html": [
              "<div>\n",
              "<style scoped>\n",
              "    .dataframe tbody tr th:only-of-type {\n",
              "        vertical-align: middle;\n",
              "    }\n",
              "\n",
              "    .dataframe tbody tr th {\n",
              "        vertical-align: top;\n",
              "    }\n",
              "\n",
              "    .dataframe thead th {\n",
              "        text-align: right;\n",
              "    }\n",
              "</style>\n",
              "<table border=\"1\" class=\"dataframe\">\n",
              "  <thead>\n",
              "    <tr style=\"text-align: right;\">\n",
              "      <th></th>\n",
              "      <th>credit_score</th>\n",
              "      <th>vehicle_ownership</th>\n",
              "      <th>married</th>\n",
              "      <th>children</th>\n",
              "      <th>postal_code</th>\n",
              "      <th>annual_mileage</th>\n",
              "      <th>speeding_violations</th>\n",
              "      <th>DUIs</th>\n",
              "      <th>past_accidents</th>\n",
              "      <th>outcome</th>\n",
              "      <th>age_26-39</th>\n",
              "      <th>age_40-64</th>\n",
              "      <th>age_65+</th>\n",
              "      <th>driving_experience_10-19y</th>\n",
              "      <th>driving_experience_20-29y</th>\n",
              "      <th>driving_experience_30y+</th>\n",
              "      <th>education_none</th>\n",
              "      <th>education_university</th>\n",
              "      <th>vehicle_year_after 2015</th>\n",
              "      <th>vehicle_year_before 2015</th>\n",
              "      <th>vehicle_type_sedan</th>\n",
              "      <th>vehicle_type_sports car</th>\n",
              "      <th>gender_female</th>\n",
              "      <th>gender_male</th>\n",
              "      <th>race_majority</th>\n",
              "      <th>race_minority</th>\n",
              "      <th>income_poverty</th>\n",
              "      <th>income_upper class</th>\n",
              "      <th>income_working class</th>\n",
              "    </tr>\n",
              "  </thead>\n",
              "  <tbody>\n",
              "    <tr>\n",
              "      <th>0</th>\n",
              "      <td>0.865914</td>\n",
              "      <td>1</td>\n",
              "      <td>0</td>\n",
              "      <td>1</td>\n",
              "      <td>-0.508946</td>\n",
              "      <td>0.113057</td>\n",
              "      <td>0</td>\n",
              "      <td>0</td>\n",
              "      <td>0</td>\n",
              "      <td>0</td>\n",
              "      <td>0</td>\n",
              "      <td>0</td>\n",
              "      <td>1</td>\n",
              "      <td>0</td>\n",
              "      <td>0</td>\n",
              "      <td>0</td>\n",
              "      <td>0</td>\n",
              "      <td>0</td>\n",
              "      <td>1</td>\n",
              "      <td>0</td>\n",
              "      <td>1</td>\n",
              "      <td>0</td>\n",
              "      <td>1</td>\n",
              "      <td>0</td>\n",
              "      <td>1</td>\n",
              "      <td>0</td>\n",
              "      <td>0</td>\n",
              "      <td>1</td>\n",
              "      <td>0</td>\n",
              "    </tr>\n",
              "    <tr>\n",
              "      <th>1</th>\n",
              "      <td>-1.208879</td>\n",
              "      <td>0</td>\n",
              "      <td>0</td>\n",
              "      <td>0</td>\n",
              "      <td>-0.508946</td>\n",
              "      <td>1.605576</td>\n",
              "      <td>0</td>\n",
              "      <td>0</td>\n",
              "      <td>0</td>\n",
              "      <td>1</td>\n",
              "      <td>0</td>\n",
              "      <td>0</td>\n",
              "      <td>0</td>\n",
              "      <td>0</td>\n",
              "      <td>0</td>\n",
              "      <td>0</td>\n",
              "      <td>1</td>\n",
              "      <td>0</td>\n",
              "      <td>0</td>\n",
              "      <td>1</td>\n",
              "      <td>1</td>\n",
              "      <td>0</td>\n",
              "      <td>0</td>\n",
              "      <td>1</td>\n",
              "      <td>1</td>\n",
              "      <td>0</td>\n",
              "      <td>1</td>\n",
              "      <td>0</td>\n",
              "      <td>0</td>\n",
              "    </tr>\n",
              "    <tr>\n",
              "      <th>2</th>\n",
              "      <td>-0.173367</td>\n",
              "      <td>1</td>\n",
              "      <td>0</td>\n",
              "      <td>0</td>\n",
              "      <td>-0.508946</td>\n",
              "      <td>-0.260073</td>\n",
              "      <td>0</td>\n",
              "      <td>0</td>\n",
              "      <td>0</td>\n",
              "      <td>0</td>\n",
              "      <td>0</td>\n",
              "      <td>0</td>\n",
              "      <td>0</td>\n",
              "      <td>0</td>\n",
              "      <td>0</td>\n",
              "      <td>0</td>\n",
              "      <td>0</td>\n",
              "      <td>0</td>\n",
              "      <td>0</td>\n",
              "      <td>1</td>\n",
              "      <td>1</td>\n",
              "      <td>0</td>\n",
              "      <td>1</td>\n",
              "      <td>0</td>\n",
              "      <td>1</td>\n",
              "      <td>0</td>\n",
              "      <td>0</td>\n",
              "      <td>0</td>\n",
              "      <td>1</td>\n",
              "    </tr>\n",
              "    <tr>\n",
              "      <th>3</th>\n",
              "      <td>-2.369485</td>\n",
              "      <td>1</td>\n",
              "      <td>0</td>\n",
              "      <td>1</td>\n",
              "      <td>0.682034</td>\n",
              "      <td>-0.260073</td>\n",
              "      <td>0</td>\n",
              "      <td>0</td>\n",
              "      <td>0</td>\n",
              "      <td>0</td>\n",
              "      <td>0</td>\n",
              "      <td>0</td>\n",
              "      <td>0</td>\n",
              "      <td>0</td>\n",
              "      <td>0</td>\n",
              "      <td>0</td>\n",
              "      <td>0</td>\n",
              "      <td>1</td>\n",
              "      <td>0</td>\n",
              "      <td>1</td>\n",
              "      <td>1</td>\n",
              "      <td>0</td>\n",
              "      <td>0</td>\n",
              "      <td>1</td>\n",
              "      <td>1</td>\n",
              "      <td>0</td>\n",
              "      <td>0</td>\n",
              "      <td>0</td>\n",
              "      <td>1</td>\n",
              "    </tr>\n",
              "    <tr>\n",
              "      <th>4</th>\n",
              "      <td>-0.974770</td>\n",
              "      <td>1</td>\n",
              "      <td>0</td>\n",
              "      <td>0</td>\n",
              "      <td>0.682034</td>\n",
              "      <td>0.113057</td>\n",
              "      <td>2</td>\n",
              "      <td>0</td>\n",
              "      <td>1</td>\n",
              "      <td>1</td>\n",
              "      <td>1</td>\n",
              "      <td>0</td>\n",
              "      <td>0</td>\n",
              "      <td>1</td>\n",
              "      <td>0</td>\n",
              "      <td>0</td>\n",
              "      <td>1</td>\n",
              "      <td>0</td>\n",
              "      <td>0</td>\n",
              "      <td>1</td>\n",
              "      <td>1</td>\n",
              "      <td>0</td>\n",
              "      <td>0</td>\n",
              "      <td>1</td>\n",
              "      <td>1</td>\n",
              "      <td>0</td>\n",
              "      <td>0</td>\n",
              "      <td>0</td>\n",
              "      <td>1</td>\n",
              "    </tr>\n",
              "  </tbody>\n",
              "</table>\n",
              "</div>"
            ],
            "text/plain": [
              "   credit_score  vehicle_ownership  ...  income_upper class  income_working class\n",
              "0      0.865914                  1  ...                   1                     0\n",
              "1     -1.208879                  0  ...                   0                     0\n",
              "2     -0.173367                  1  ...                   0                     1\n",
              "3     -2.369485                  1  ...                   0                     1\n",
              "4     -0.974770                  1  ...                   0                     1\n",
              "\n",
              "[5 rows x 29 columns]"
            ]
          },
          "metadata": {
            "tags": []
          },
          "execution_count": 43
        }
      ]
    },
    {
      "cell_type": "markdown",
      "metadata": {
        "id": "WwCk5wSD66Wo"
      },
      "source": [
        "# Model Data Preparation"
      ]
    },
    {
      "cell_type": "code",
      "metadata": {
        "id": "1JyyD63D6-hO"
      },
      "source": [
        "features = data.drop(['outcome'],axis=1)   ## dropping target column and storing all features in features variable\n",
        "target = data['outcome']                   ## selecting only target column (outcome) and storing in target variable"
      ],
      "execution_count": 44,
      "outputs": []
    },
    {
      "cell_type": "code",
      "metadata": {
        "colab": {
          "base_uri": "https://localhost:8080/"
        },
        "id": "91gIl_jB72yR",
        "outputId": "2b25e704-ecf6-488e-d31a-4080506bcec2"
      },
      "source": [
        "features.shape, target.shape"
      ],
      "execution_count": 45,
      "outputs": [
        {
          "output_type": "execute_result",
          "data": {
            "text/plain": [
              "((10000, 28), (10000,))"
            ]
          },
          "metadata": {
            "tags": []
          },
          "execution_count": 45
        }
      ]
    },
    {
      "cell_type": "code",
      "metadata": {
        "colab": {
          "base_uri": "https://localhost:8080/"
        },
        "id": "NUYbSh_o75ii",
        "outputId": "fda7ea29-1cbc-4176-a9d3-337ce0e47e25"
      },
      "source": [
        "target.value_counts()   ## imbalanced dataset"
      ],
      "execution_count": 46,
      "outputs": [
        {
          "output_type": "execute_result",
          "data": {
            "text/plain": [
              "0    6867\n",
              "1    3133\n",
              "Name: outcome, dtype: int64"
            ]
          },
          "metadata": {
            "tags": []
          },
          "execution_count": 46
        }
      ]
    },
    {
      "cell_type": "code",
      "metadata": {
        "id": "KE8zxhKy8Agm"
      },
      "source": [
        "##### Creating a test set to validate the model on ######\n",
        "\n",
        "split_size = 0.2\n",
        "\n",
        "split_ins = StratifiedShuffleSplit(n_splits=1, test_size=split_size, random_state=1000)\n",
        "\n",
        "splits = split_ins.split(features,target)\n",
        "\n",
        "for train_index, test_index in splits:\n",
        "    xtrain = features.iloc[train_index,:]   ## features for the training set\n",
        "    ytrain = target[train_index]            ## target values for the training set\n",
        "    xval = features.iloc[test_index,:]      ## features for the validation set\n",
        "    yval = target[test_index]               ## targets for the validation set"
      ],
      "execution_count": 47,
      "outputs": []
    },
    {
      "cell_type": "code",
      "metadata": {
        "colab": {
          "base_uri": "https://localhost:8080/"
        },
        "id": "5yYp3-ogjbm-",
        "outputId": "5a486770-41d8-45a6-e1db-bbf26ae63eb5"
      },
      "source": [
        "xtrain.shape, ytrain.shape, xval.shape, yval.shape"
      ],
      "execution_count": 48,
      "outputs": [
        {
          "output_type": "execute_result",
          "data": {
            "text/plain": [
              "((8000, 28), (8000,), (2000, 28), (2000,))"
            ]
          },
          "metadata": {
            "tags": []
          },
          "execution_count": 48
        }
      ]
    },
    {
      "cell_type": "markdown",
      "metadata": {
        "id": "vU2_WaUyjxEz"
      },
      "source": [
        "# Logistic Regression Model"
      ]
    },
    {
      "cell_type": "code",
      "metadata": {
        "id": "z7KtOYwCj14C"
      },
      "source": [
        "LR_model = LogisticRegression(penalty ='none' ,class_weight = 'balanced',max_iter=200,random_state=1000)"
      ],
      "execution_count": 49,
      "outputs": []
    },
    {
      "cell_type": "code",
      "metadata": {
        "colab": {
          "base_uri": "https://localhost:8080/"
        },
        "id": "vmYNGhGslQfZ",
        "outputId": "5a9f0341-2013-43f1-ca86-4929daf6f614"
      },
      "source": [
        "LR_model.fit(xtrain,ytrain)                  ##training the model"
      ],
      "execution_count": 50,
      "outputs": [
        {
          "output_type": "execute_result",
          "data": {
            "text/plain": [
              "LogisticRegression(C=1.0, class_weight='balanced', dual=False,\n",
              "                   fit_intercept=True, intercept_scaling=1, l1_ratio=None,\n",
              "                   max_iter=200, multi_class='auto', n_jobs=None,\n",
              "                   penalty='none', random_state=1000, solver='lbfgs',\n",
              "                   tol=0.0001, verbose=0, warm_start=False)"
            ]
          },
          "metadata": {
            "tags": []
          },
          "execution_count": 50
        }
      ]
    },
    {
      "cell_type": "code",
      "metadata": {
        "id": "zFc6HuwHlWUA"
      },
      "source": [
        "prediction_train = LR_model.predict_proba(xtrain)                 ## applies a threshold of 0.5"
      ],
      "execution_count": 51,
      "outputs": []
    },
    {
      "cell_type": "code",
      "metadata": {
        "colab": {
          "base_uri": "https://localhost:8080/",
          "height": 346
        },
        "id": "x0ySR-f1ldCq",
        "outputId": "17987dee-59e6-4442-b412-2dff72ea6921"
      },
      "source": [
        "print(confusion_matrix(y_true = ytrain, y_pred = LR_model.predict(xtrain)))                  ##confusion matrix for pred on train set\n",
        "\n",
        "print ('The F1-SCORE on the train set prediction ',f1_score(y_true=ytrain,y_pred = LR_model.predict(xtrain),sample_weight = ytrain))   ## calculating F score\n",
        "plot_roc_curve(LR_model,X =xtrain, y= ytrain)  ## plotting roc and auc curve"
      ],
      "execution_count": 52,
      "outputs": [
        {
          "output_type": "stream",
          "text": [
            "[[4450 1044]\n",
            " [ 383 2123]]\n",
            "The F1-SCORE on the train set prediction  0.9172607474616548\n"
          ],
          "name": "stdout"
        },
        {
          "output_type": "execute_result",
          "data": {
            "text/plain": [
              "<sklearn.metrics._plot.roc_curve.RocCurveDisplay at 0x7f36004dfb50>"
            ]
          },
          "metadata": {
            "tags": []
          },
          "execution_count": 52
        },
        {
          "output_type": "display_data",
          "data": {
            "image/png": "[encoded data removed]",
            "text/plain": [
              "<Figure size 432x288 with 1 Axes>"
            ]
          },
          "metadata": {
            "tags": [],
            "needs_background": "light"
          }
        }
      ]
    },
    {
      "cell_type": "code",
      "metadata": {
        "id": "CAc8Kv7_lkD5"
      },
      "source": [
        "##******************** validation set **********************************\n",
        "predictionval = LR_model.predict_proba(xval) ### applies a threshold of 0.5"
      ],
      "execution_count": 53,
      "outputs": []
    },
    {
      "cell_type": "code",
      "metadata": {
        "colab": {
          "base_uri": "https://localhost:8080/",
          "height": 346
        },
        "id": "Hv4auHfbmDbv",
        "outputId": "810a3f82-75ff-40b6-bbad-b2a1d1dd6b40"
      },
      "source": [
        "print(confusion_matrix(y_true = yval, y_pred = LR_model.predict(xval)))          ## confusion matrix for pred on validation set\n",
        "\n",
        "print ('The F1-SCORE on the validation set prediction ',f1_score(y_true=yval,y_pred = LR_model.predict(xval),sample_weight = yval))   ## calculating F score\n",
        "plot_roc_curve(LR_model,X =xval, y= yval)         ## plotting roc and auc curve "
      ],
      "execution_count": 54,
      "outputs": [
        {
          "output_type": "stream",
          "text": [
            "[[1103  270]\n",
            " [  87  540]]\n",
            "The F1-SCORE on the validation set prediction  0.9254498714652957\n"
          ],
          "name": "stdout"
        },
        {
          "output_type": "execute_result",
          "data": {
            "text/plain": [
              "<sklearn.metrics._plot.roc_curve.RocCurveDisplay at 0x7f35fff76850>"
            ]
          },
          "metadata": {
            "tags": []
          },
          "execution_count": 54
        },
        {
          "output_type": "display_data",
          "data": {
            "image/png": "[encoded data removed]",
            "text/plain": [
              "<Figure size 432x288 with 1 Axes>"
            ]
          },
          "metadata": {
            "tags": [],
            "needs_background": "light"
          }
        }
      ]
    },
    {
      "cell_type": "code",
      "metadata": {
        "id": "0wV_emEbmVRy"
      },
      "source": [
        ""
      ],
      "execution_count": 54,
      "outputs": []
    },
    {
      "cell_type": "markdown",
      "metadata": {
        "id": "utiaY5fzog2e"
      },
      "source": [
        "# Decision Tree Model"
      ]
    },
    {
      "cell_type": "code",
      "metadata": {
        "id": "4DD0Bm5QokRm"
      },
      "source": [
        "clf = DecisionTreeClassifier()\n",
        "\n",
        "params={'class_weight':['balanced'], \n",
        "        'max_features' : [1,5],\n",
        "        'max_depth' : [6,7,8,9,10],\n",
        "        'criterion' :['gini','entropy'],\n",
        "        'min_samples_split' : [2,5,10,20]}"
      ],
      "execution_count": 55,
      "outputs": []
    },
    {
      "cell_type": "code",
      "metadata": {
        "colab": {
          "base_uri": "https://localhost:8080/"
        },
        "id": "RB3BAsB4o8v_",
        "outputId": "f482b123-71be-41b0-9169-dd820047df8d"
      },
      "source": [
        "##### Fitting grid search cv to find the best combination of hyper parameters ####\n",
        "\n",
        "grid_search = GridSearchCV(estimator = clf,param_grid = params,cv = 5,scoring = 'f1', return_train_score=True)\n",
        "\n",
        "grid_search.fit(xtrain,ytrain)"
      ],
      "execution_count": 56,
      "outputs": [
        {
          "output_type": "execute_result",
          "data": {
            "text/plain": [
              "GridSearchCV(cv=5, error_score=nan,\n",
              "             estimator=DecisionTreeClassifier(ccp_alpha=0.0, class_weight=None,\n",
              "                                              criterion='gini', max_depth=None,\n",
              "                                              max_features=None,\n",
              "                                              max_leaf_nodes=None,\n",
              "                                              min_impurity_decrease=0.0,\n",
              "                                              min_impurity_split=None,\n",
              "                                              min_samples_leaf=1,\n",
              "                                              min_samples_split=2,\n",
              "                                              min_weight_fraction_leaf=0.0,\n",
              "                                              presort='deprecated',\n",
              "                                              random_state=None,\n",
              "                                              splitter='best'),\n",
              "             iid='deprecated', n_jobs=None,\n",
              "             param_grid={'class_weight': ['balanced'],\n",
              "                         'criterion': ['gini', 'entropy'],\n",
              "                         'max_depth': [6, 7, 8, 9, 10], 'max_features': [1, 5],\n",
              "                         'min_samples_split': [2, 5, 10, 20]},\n",
              "             pre_dispatch='2*n_jobs', refit=True, return_train_score=True,\n",
              "             scoring='f1', verbose=0)"
            ]
          },
          "metadata": {
            "tags": []
          },
          "execution_count": 56
        }
      ]
    },
    {
      "cell_type": "code",
      "metadata": {
        "colab": {
          "base_uri": "https://localhost:8080/"
        },
        "id": "aIFOOAvmpDae",
        "outputId": "bfe08bf8-7889-4fb7-efb2-39c764128928"
      },
      "source": [
        "grid_search.best_estimator_   ## shows best set of parameter"
      ],
      "execution_count": 57,
      "outputs": [
        {
          "output_type": "execute_result",
          "data": {
            "text/plain": [
              "DecisionTreeClassifier(ccp_alpha=0.0, class_weight='balanced',\n",
              "                       criterion='entropy', max_depth=9, max_features=5,\n",
              "                       max_leaf_nodes=None, min_impurity_decrease=0.0,\n",
              "                       min_impurity_split=None, min_samples_leaf=1,\n",
              "                       min_samples_split=5, min_weight_fraction_leaf=0.0,\n",
              "                       presort='deprecated', random_state=None,\n",
              "                       splitter='best')"
            ]
          },
          "metadata": {
            "tags": []
          },
          "execution_count": 57
        }
      ]
    },
    {
      "cell_type": "code",
      "metadata": {
        "id": "kYhGJWyvpRkZ"
      },
      "source": [
        "clf = grid_search.best_estimator_"
      ],
      "execution_count": 58,
      "outputs": []
    },
    {
      "cell_type": "code",
      "metadata": {
        "colab": {
          "base_uri": "https://localhost:8080/"
        },
        "id": "uMCGiJsDpUrZ",
        "outputId": "e4e39c7a-5ec4-4b7d-9fee-8b0c5d0c579f"
      },
      "source": [
        "clf.fit(xtrain,ytrain)   ## fitting with best set of parameters given by gridsearchcv"
      ],
      "execution_count": 59,
      "outputs": [
        {
          "output_type": "execute_result",
          "data": {
            "text/plain": [
              "DecisionTreeClassifier(ccp_alpha=0.0, class_weight='balanced',\n",
              "                       criterion='entropy', max_depth=9, max_features=5,\n",
              "                       max_leaf_nodes=None, min_impurity_decrease=0.0,\n",
              "                       min_impurity_split=None, min_samples_leaf=1,\n",
              "                       min_samples_split=5, min_weight_fraction_leaf=0.0,\n",
              "                       presort='deprecated', random_state=None,\n",
              "                       splitter='best')"
            ]
          },
          "metadata": {
            "tags": []
          },
          "execution_count": 59
        }
      ]
    },
    {
      "cell_type": "code",
      "metadata": {
        "colab": {
          "base_uri": "https://localhost:8080/",
          "height": 330
        },
        "id": "B1r6YFLYpXK4",
        "outputId": "c05dc7d1-17e4-4510-e665-a4e172575d36"
      },
      "source": [
        "## Evaluating model on train set\n",
        "\n",
        "predicted_train = clf.predict(xtrain)      # prediction on train set\n",
        "\n",
        "plot_roc_curve(clf,X =xtrain, y= ytrain)     # roc and auc curve\n",
        "\n",
        "print(confusion_matrix(y_true = ytrain, y_pred = predicted_train))   # printing confusion matrix\n",
        "\n",
        "print ('The F1-SCORE on the train set prediction ',f1_score(y_true=ytrain,y_pred = predicted_train,sample_weight = ytrain))  # calculating F1 score"
      ],
      "execution_count": 60,
      "outputs": [
        {
          "output_type": "stream",
          "text": [
            "[[4378 1116]\n",
            " [ 395 2111]]\n",
            "The F1-SCORE on the train set prediction  0.9144466103530432\n"
          ],
          "name": "stdout"
        },
        {
          "output_type": "display_data",
          "data": {
            "image/png": "[encoded data removed]",
            "text/plain": [
              "<Figure size 432x288 with 1 Axes>"
            ]
          },
          "metadata": {
            "tags": [],
            "needs_background": "light"
          }
        }
      ]
    },
    {
      "cell_type": "code",
      "metadata": {
        "colab": {
          "base_uri": "https://localhost:8080/",
          "height": 330
        },
        "id": "MxPz0UYdpnet",
        "outputId": "a725a46b-8604-4836-e373-7cf9d8d49c65"
      },
      "source": [
        "## Evaluating model on train set\n",
        "\n",
        "predicted_val = clf.predict(xval)         # prediction on validation set\n",
        "\n",
        "plot_roc_curve(clf,X =xval, y= yval)            # roc and auc curve\n",
        "\n",
        "print(confusion_matrix(y_true = yval, y_pred = predicted_val))                # printing confusion matrix\n",
        "\n",
        "print ('The F1-SCORE on the validation set prediction ',f1_score(y_true=yval,y_pred = predicted_val,sample_weight = yval))      # calculating F1 score"
      ],
      "execution_count": 61,
      "outputs": [
        {
          "output_type": "stream",
          "text": [
            "[[1069  304]\n",
            " [ 110  517]]\n",
            "The F1-SCORE on the validation set prediction  0.9038461538461539\n"
          ],
          "name": "stdout"
        },
        {
          "output_type": "display_data",
          "data": {
            "image/png": "[encoded data removed]",
            "text/plain": [
              "<Figure size 432x288 with 1 Axes>"
            ]
          },
          "metadata": {
            "tags": [],
            "needs_background": "light"
          }
        }
      ]
    },
    {
      "cell_type": "code",
      "metadata": {
        "id": "72ayLLSMqAC0"
      },
      "source": [
        ""
      ],
      "execution_count": 61,
      "outputs": []
    },
    {
      "cell_type": "markdown",
      "metadata": {
        "id": "YkrU4ghp1Pjc"
      },
      "source": [
        "# Random Forest Model"
      ]
    },
    {
      "cell_type": "code",
      "metadata": {
        "id": "kSIoM3vz4vf9"
      },
      "source": [
        "from sklearn.ensemble import RandomForestClassifier         ## models from sklearn"
      ],
      "execution_count": 62,
      "outputs": []
    },
    {
      "cell_type": "code",
      "metadata": {
        "id": "kol5oNPu4brA"
      },
      "source": [
        "#### Fitting a random forest classifier ######\n",
        "\n",
        "clf = RandomForestClassifier()                          ## random forest function from  sklearn\n",
        "\n",
        "params={'n_estimators':[50,70,100],                     ## number of trees combination i want\n",
        "        'class_weight':['balanced'],                \n",
        "        'criterion':['gini'],                           ## two different methods to find purity of node\n",
        "        'max_depth':[3,4,5],                            ## depth combination\n",
        "        'min_samples_split': [2,3,4,5],                 ## minimum number of samples must be there for occurence of a split\n",
        "        'max_samples':[0.7,0.8,0.9],\n",
        "        'max_features':[10,12,15,18,20]}                ## parameter combinations"
      ],
      "execution_count": 63,
      "outputs": []
    },
    {
      "cell_type": "code",
      "metadata": {
        "colab": {
          "base_uri": "https://localhost:8080/"
        },
        "id": "NYLcF7XV4gdT",
        "outputId": "26dc0a69-8a9d-4f19-c3b0-c8194dafe4cf"
      },
      "source": [
        "grid_search = GridSearchCV(estimator = clf,param_grid = params,cv = 5,scoring = 'f1',return_train_score=True)\n",
        "\n",
        "grid_search.fit(xtrain, ytrain)"
      ],
      "execution_count": null,
      "outputs": [
        {
          "output_type": "execute_result",
          "data": {
            "text/plain": [
              "GridSearchCV(cv=5, error_score=nan,\n",
              "             estimator=RandomForestClassifier(bootstrap=True, ccp_alpha=0.0,\n",
              "                                              class_weight=None,\n",
              "                                              criterion='gini', max_depth=None,\n",
              "                                              max_features='auto',\n",
              "                                              max_leaf_nodes=None,\n",
              "                                              max_samples=None,\n",
              "                                              min_impurity_decrease=0.0,\n",
              "                                              min_impurity_split=None,\n",
              "                                              min_samples_leaf=1,\n",
              "                                              min_samples_split=2,\n",
              "                                              min_weight_fraction_leaf=0.0,\n",
              "                                              n_estimators=100, n_jobs=None,...\n",
              "                                              random_state=None, verbose=0,\n",
              "                                              warm_start=False),\n",
              "             iid='deprecated', n_jobs=None,\n",
              "             param_grid={'class_weight': ['balanced'], 'criterion': ['gini'],\n",
              "                         'max_depth': [3, 4, 5],\n",
              "                         'max_features': [10, 12, 15, 18, 20],\n",
              "                         'max_samples': [0.7, 0.8, 0.9],\n",
              "                         'min_samples_split': [2, 3, 4, 5],\n",
              "                         'n_estimators': [50, 70, 100]},\n",
              "             pre_dispatch='2*n_jobs', refit=True, return_train_score=True,\n",
              "             scoring='f1', verbose=0)"
            ]
          },
          "metadata": {
            "tags": []
          },
          "execution_count": 65
        }
      ]
    },
    {
      "cell_type": "code",
      "metadata": {
        "colab": {
          "base_uri": "https://localhost:8080/"
        },
        "id": "hpfMQXuL43KZ",
        "outputId": "5a92ea0e-2251-424a-93c4-2bc6c7faabe0"
      },
      "source": [
        "grid_search.best_estimator_    ## printing best estimators"
      ],
      "execution_count": null,
      "outputs": [
        {
          "output_type": "execute_result",
          "data": {
            "text/plain": [
              "RandomForestClassifier(bootstrap=True, ccp_alpha=0.0, class_weight='balanced',\n",
              "                       criterion='gini', max_depth=5, max_features=20,\n",
              "                       max_leaf_nodes=None, max_samples=0.9,\n",
              "                       min_impurity_decrease=0.0, min_impurity_split=None,\n",
              "                       min_samples_leaf=1, min_samples_split=3,\n",
              "                       min_weight_fraction_leaf=0.0, n_estimators=70,\n",
              "                       n_jobs=None, oob_score=False, random_state=None,\n",
              "                       verbose=0, warm_start=False)"
            ]
          },
          "metadata": {
            "tags": []
          },
          "execution_count": 66
        }
      ]
    },
    {
      "cell_type": "code",
      "metadata": {
        "id": "HFvA05cm5BZj"
      },
      "source": [
        "clf = grid_search.best_estimator_  "
      ],
      "execution_count": null,
      "outputs": []
    },
    {
      "cell_type": "code",
      "metadata": {
        "colab": {
          "base_uri": "https://localhost:8080/"
        },
        "id": "oVUsi8X35BWa",
        "outputId": "b3a269c2-5d18-4b0e-e197-bb115a6601d3"
      },
      "source": [
        "clf.fit(xtrain, ytrain)     ## training model with best estimators obtained from gridsearchcv"
      ],
      "execution_count": null,
      "outputs": [
        {
          "output_type": "execute_result",
          "data": {
            "text/plain": [
              "RandomForestClassifier(bootstrap=True, ccp_alpha=0.0, class_weight='balanced',\n",
              "                       criterion='gini', max_depth=5, max_features=20,\n",
              "                       max_leaf_nodes=None, max_samples=0.9,\n",
              "                       min_impurity_decrease=0.0, min_impurity_split=None,\n",
              "                       min_samples_leaf=1, min_samples_split=3,\n",
              "                       min_weight_fraction_leaf=0.0, n_estimators=70,\n",
              "                       n_jobs=None, oob_score=False, random_state=None,\n",
              "                       verbose=0, warm_start=False)"
            ]
          },
          "metadata": {
            "tags": []
          },
          "execution_count": 74
        }
      ]
    },
    {
      "cell_type": "code",
      "metadata": {
        "colab": {
          "base_uri": "https://localhost:8080/",
          "height": 330
        },
        "id": "sis_eYoF5BTJ",
        "outputId": "4a3a295b-7c21-444f-bfd0-49d8155cc42d"
      },
      "source": [
        "## Evaluating model on train set\n",
        "\n",
        "predicted_train = clf.predict(xtrain)          # prediction on train set\n",
        "\n",
        "plot_roc_curve(clf,X =xtrain, y= ytrain)         # roc and auc curve\n",
        "\n",
        "print(confusion_matrix(y_true = ytrain, y_pred = predicted_train))      # printing confusion matrix\n",
        "\n",
        "print ('The F1-SCORE on the train set prediction ',f1_score(y_true=ytrain,y_pred = predicted_train,sample_weight = ytrain))  # calculating F1 score"
      ],
      "execution_count": null,
      "outputs": [
        {
          "output_type": "stream",
          "text": [
            "[[4482 1012]\n",
            " [ 362 2144]]\n",
            "The F1-SCORE on the train set prediction  0.9221505376344087\n"
          ],
          "name": "stdout"
        },
        {
          "output_type": "display_data",
          "data": {
            "image/png": "[encoded data removed]",
            "text/plain": [
              "<Figure size 432x288 with 1 Axes>"
            ]
          },
          "metadata": {
            "tags": [],
            "needs_background": "light"
          }
        }
      ]
    },
    {
      "cell_type": "code",
      "metadata": {
        "colab": {
          "base_uri": "https://localhost:8080/",
          "height": 330
        },
        "id": "vM4uVQeI5hvH",
        "outputId": "4e18c1fe-aa1d-4d69-9940-9f8dd3ecb3ac"
      },
      "source": [
        "##**************** validation set *********************************\n",
        "\n",
        "predicted_train = clf.predict(xval)     # prediction on validation set\n",
        "\n",
        "plot_roc_curve(clf,X =xval, y= yval)      # roc and auc curve\n",
        "\n",
        "print(confusion_matrix(y_true = yval, y_pred = predicted_train))       # printing confusion matrix\n",
        "\n",
        "print ('The F1-SCORE on the validation set prediction ',f1_score(y_true=yval,y_pred = predicted_train,sample_weight = yval))      # calculating F1 score"
      ],
      "execution_count": null,
      "outputs": [
        {
          "output_type": "stream",
          "text": [
            "[[1105  268]\n",
            " [  92  535]]\n",
            "The F1-SCORE on the train set prediction  0.9208261617900172\n"
          ],
          "name": "stdout"
        },
        {
          "output_type": "display_data",
          "data": {
            "image/png": "[encoded data removed]",
            "text/plain": [
              "<Figure size 432x288 with 1 Axes>"
            ]
          },
          "metadata": {
            "tags": [],
            "needs_background": "light"
          }
        }
      ]
    },
    {
      "cell_type": "code",
      "metadata": {
        "id": "-hLBOPmd-ec8"
      },
      "source": [
        ""
      ],
      "execution_count": null,
      "outputs": []
    },
    {
      "cell_type": "markdown",
      "metadata": {
        "id": "mZqe6dSN_IYa"
      },
      "source": [
        "# XG Boost Model"
      ]
    },
    {
      "cell_type": "code",
      "metadata": {
        "id": "MjNhDnew_LwP"
      },
      "source": [
        "from xgboost.sklearn import XGBClassifier"
      ],
      "execution_count": null,
      "outputs": []
    },
    {
      "cell_type": "code",
      "metadata": {
        "id": "oIuUusZQHJo0"
      },
      "source": [
        "from sklearn.model_selection import RandomizedSearchCV"
      ],
      "execution_count": null,
      "outputs": []
    },
    {
      "cell_type": "code",
      "metadata": {
        "id": "yl1RgQ6DClLf"
      },
      "source": [
        "## trying with different parameters\n",
        "\n",
        "xgb_params = {  \n",
        "                \"learning_rate\":[0.01,0.05,0.1,0.3,0.5],\n",
        "                \"gamma\":[i/10.0 for i in range(0,5)],\n",
        "                \"max_depth\": [2,3,4,5,6,7,8],\n",
        "                \"min_child_weight\":[1,2,5,10],\n",
        "                \"max_delta_step\":[0,1,2,5,10],\n",
        "                \"subsample\":[i/10.0 for i in range(5,10)],\n",
        "                \"colsample_bytree\":[i/10.0 for i in range(5,10)],\n",
        "                \"colsample_bylevel\":[i/10.0 for i in range(5,10)],\n",
        "                \"reg_lambda\":[1e-5, 1e-2, 0.1, 1, 100], \n",
        "                \"reg_alpha\":[1e-5, 1e-2, 0.1, 1, 100],\n",
        "                \"scale_pos_weight\":[1,2,3,4,5,6,7,8,9],\n",
        "                \"n_estimators\":[100,500,700,1000]\n",
        "             }"
      ],
      "execution_count": null,
      "outputs": []
    },
    {
      "cell_type": "code",
      "metadata": {
        "id": "iI39HfnpGv4A"
      },
      "source": [
        "xgb=XGBClassifier(objective='binary:logistic')   ## binary classification "
      ],
      "execution_count": null,
      "outputs": []
    },
    {
      "cell_type": "code",
      "metadata": {
        "id": "-qbweGQGGzRn"
      },
      "source": [
        "n_iter=10\n",
        "\n",
        "random_search=RandomizedSearchCV(xgb,n_jobs=-1,cv=10,n_iter=n_iter,scoring='roc_auc',\n",
        "                                 param_distributions=xgb_params)"
      ],
      "execution_count": null,
      "outputs": []
    },
    {
      "cell_type": "code",
      "metadata": {
        "colab": {
          "base_uri": "https://localhost:8080/"
        },
        "id": "KNNd73LUG2Bb",
        "outputId": "b7a5caae-91c1-4aa6-c062-2688af346caf"
      },
      "source": [
        "random_search.fit(xtrain,ytrain)  "
      ],
      "execution_count": null,
      "outputs": [
        {
          "output_type": "execute_result",
          "data": {
            "text/plain": [
              "RandomizedSearchCV(cv=10, error_score=nan,\n",
              "                   estimator=XGBClassifier(base_score=0.5, booster='gbtree',\n",
              "                                           colsample_bylevel=1,\n",
              "                                           colsample_bynode=1,\n",
              "                                           colsample_bytree=1, gamma=0,\n",
              "                                           learning_rate=0.1, max_delta_step=0,\n",
              "                                           max_depth=3, min_child_weight=1,\n",
              "                                           missing=None, n_estimators=100,\n",
              "                                           n_jobs=1, nthread=None,\n",
              "                                           objective='binary:logistic',\n",
              "                                           random_state=0, reg_alpha=0,\n",
              "                                           reg_lambda=1, s...\n",
              "                                        'max_delta_step': [0, 1, 2, 5, 10],\n",
              "                                        'max_depth': [2, 3, 4, 5, 6, 7, 8],\n",
              "                                        'min_child_weight': [1, 2, 5, 10],\n",
              "                                        'n_estimators': [100, 500, 700, 1000],\n",
              "                                        'reg_alpha': [1e-05, 0.01, 0.1, 1, 100],\n",
              "                                        'reg_lambda': [1e-05, 0.01, 0.1, 1,\n",
              "                                                       100],\n",
              "                                        'scale_pos_weight': [1, 2, 3, 4, 5, 6,\n",
              "                                                             7, 8, 9],\n",
              "                                        'subsample': [0.5, 0.6, 0.7, 0.8, 0.9]},\n",
              "                   pre_dispatch='2*n_jobs', random_state=None, refit=True,\n",
              "                   return_train_score=False, scoring='roc_auc', verbose=0)"
            ]
          },
          "metadata": {
            "tags": []
          },
          "execution_count": 105
        }
      ]
    },
    {
      "cell_type": "code",
      "metadata": {
        "id": "WZXWtayuJwQN"
      },
      "source": [
        "## defining a function to get report means summary\n",
        "\n",
        "def report(results, n_top=3):\n",
        "    for i in range(1, n_top + 1):\n",
        "        candidates = np.flatnonzero(results['rank_test_score'] == i)\n",
        "        for candidate in candidates:\n",
        "            print(\"Model with rank: {0}\".format(i))\n",
        "            print(\"Mean validation score: {0:.3f} (std: {1:.5f})\".format(\n",
        "                  results['mean_test_score'][candidate],\n",
        "                  results['std_test_score'][candidate]))\n",
        "            print(\"Parameters: {0}\".format(results['params'][candidate]))\n",
        "            print(\"\")"
      ],
      "execution_count": null,
      "outputs": []
    },
    {
      "cell_type": "code",
      "metadata": {
        "colab": {
          "base_uri": "https://localhost:8080/"
        },
        "id": "9LEGq1DOG4Mg",
        "outputId": "92fc8a03-dc7e-436c-81ec-0b54332dc447"
      },
      "source": [
        "report(random_search.cv_results_,5)"
      ],
      "execution_count": null,
      "outputs": [
        {
          "output_type": "stream",
          "text": [
            "Model with rank: 1\n",
            "Mean validation score: 0.920 (std: 0.00900)\n",
            "Parameters: {'subsample': 0.9, 'scale_pos_weight': 2, 'reg_lambda': 1e-05, 'reg_alpha': 1, 'n_estimators': 1000, 'min_child_weight': 1, 'max_depth': 3, 'max_delta_step': 1, 'learning_rate': 0.01, 'gamma': 0.1, 'colsample_bytree': 0.8, 'colsample_bylevel': 0.8}\n",
            "\n",
            "Model with rank: 2\n",
            "Mean validation score: 0.919 (std: 0.00924)\n",
            "Parameters: {'subsample': 0.5, 'scale_pos_weight': 6, 'reg_lambda': 0.1, 'reg_alpha': 0.01, 'n_estimators': 700, 'min_child_weight': 2, 'max_depth': 2, 'max_delta_step': 1, 'learning_rate': 0.1, 'gamma': 0.4, 'colsample_bytree': 0.5, 'colsample_bylevel': 0.6}\n",
            "\n",
            "Model with rank: 3\n",
            "Mean validation score: 0.917 (std: 0.00907)\n",
            "Parameters: {'subsample': 0.5, 'scale_pos_weight': 6, 'reg_lambda': 0.1, 'reg_alpha': 0.1, 'n_estimators': 100, 'min_child_weight': 1, 'max_depth': 4, 'max_delta_step': 10, 'learning_rate': 0.05, 'gamma': 0.3, 'colsample_bytree': 0.5, 'colsample_bylevel': 0.8}\n",
            "\n",
            "Model with rank: 4\n",
            "Mean validation score: 0.912 (std: 0.01075)\n",
            "Parameters: {'subsample': 0.5, 'scale_pos_weight': 5, 'reg_lambda': 100, 'reg_alpha': 1, 'n_estimators': 1000, 'min_child_weight': 10, 'max_depth': 7, 'max_delta_step': 2, 'learning_rate': 0.1, 'gamma': 0.3, 'colsample_bytree': 0.7, 'colsample_bylevel': 0.6}\n",
            "\n",
            "Model with rank: 5\n",
            "Mean validation score: 0.912 (std: 0.00922)\n",
            "Parameters: {'subsample': 0.9, 'scale_pos_weight': 6, 'reg_lambda': 1e-05, 'reg_alpha': 1, 'n_estimators': 700, 'min_child_weight': 2, 'max_depth': 2, 'max_delta_step': 10, 'learning_rate': 0.01, 'gamma': 0.4, 'colsample_bytree': 0.7, 'colsample_bylevel': 0.8}\n",
            "\n"
          ],
          "name": "stdout"
        }
      ]
    },
    {
      "cell_type": "code",
      "metadata": {
        "colab": {
          "base_uri": "https://localhost:8080/"
        },
        "id": "d6NDlGihHBWq",
        "outputId": "19f77021-b3d8-494b-d1c6-c31ec784f6bd"
      },
      "source": [
        "random_search.best_estimator_   ## best estimators"
      ],
      "execution_count": null,
      "outputs": [
        {
          "output_type": "execute_result",
          "data": {
            "text/plain": [
              "XGBClassifier(base_score=0.5, booster='gbtree', colsample_bylevel=0.8,\n",
              "              colsample_bynode=1, colsample_bytree=0.8, gamma=0.1,\n",
              "              learning_rate=0.01, max_delta_step=1, max_depth=3,\n",
              "              min_child_weight=1, missing=None, n_estimators=1000, n_jobs=1,\n",
              "              nthread=None, objective='binary:logistic', random_state=0,\n",
              "              reg_alpha=1, reg_lambda=1e-05, scale_pos_weight=2, seed=None,\n",
              "              silent=None, subsample=0.9, verbosity=1)"
            ]
          },
          "metadata": {
            "tags": []
          },
          "execution_count": 109
        }
      ]
    },
    {
      "cell_type": "code",
      "metadata": {
        "id": "MIz87JXfJ10C"
      },
      "source": [
        "xgbmodel = random_search.best_estimator_"
      ],
      "execution_count": null,
      "outputs": []
    },
    {
      "cell_type": "code",
      "metadata": {
        "colab": {
          "base_uri": "https://localhost:8080/"
        },
        "id": "odxRGIplK292",
        "outputId": "d19cab6f-6436-486c-b1a7-d7d3a82e961d"
      },
      "source": [
        "cross_val_score(xgbmodel,xtrain,ytrain,scoring='roc_auc',verbose=10,n_jobs=-1,cv=10)   "
      ],
      "execution_count": null,
      "outputs": [
        {
          "output_type": "stream",
          "text": [
            "[Parallel(n_jobs=-1)]: Using backend LokyBackend with 2 concurrent workers.\n",
            "[Parallel(n_jobs=-1)]: Done   1 tasks      | elapsed:    9.4s\n",
            "[Parallel(n_jobs=-1)]: Done   4 tasks      | elapsed:   17.9s\n",
            "[Parallel(n_jobs=-1)]: Done  10 out of  10 | elapsed:   44.0s finished\n"
          ],
          "name": "stderr"
        },
        {
          "output_type": "execute_result",
          "data": {
            "text/plain": [
              "array([0.92100088, 0.9238964 , 0.90685346, 0.91667574, 0.93516281,\n",
              "       0.9330329 , 0.92421818, 0.90838545, 0.91245818, 0.91924   ])"
            ]
          },
          "metadata": {
            "tags": []
          },
          "execution_count": 113
        }
      ]
    },
    {
      "cell_type": "code",
      "metadata": {
        "id": "WOkG6lbtLRj2"
      },
      "source": [
        "scores = [0.92100088, 0.9238964 , 0.90685346, 0.91667574, 0.93516281,\n",
        "       0.9330329 , 0.92421818, 0.90838545, 0.91245818, 0.91924   ]"
      ],
      "execution_count": null,
      "outputs": []
    },
    {
      "cell_type": "code",
      "metadata": {
        "colab": {
          "base_uri": "https://localhost:8080/"
        },
        "id": "QwXvZCZALnUH",
        "outputId": "42fe1ad5-f1c9-4320-87c3-24126e895915"
      },
      "source": [
        "scores"
      ],
      "execution_count": null,
      "outputs": [
        {
          "output_type": "execute_result",
          "data": {
            "text/plain": [
              "[0.92100088,\n",
              " 0.9238964,\n",
              " 0.90685346,\n",
              " 0.91667574,\n",
              " 0.93516281,\n",
              " 0.9330329,\n",
              " 0.92421818,\n",
              " 0.90838545,\n",
              " 0.91245818,\n",
              " 0.91924]"
            ]
          },
          "metadata": {
            "tags": []
          },
          "execution_count": 116
        }
      ]
    },
    {
      "cell_type": "markdown",
      "metadata": {
        "id": "pq98OH18xDmU"
      },
      "source": [
        "# Questions & Answers"
      ]
    },
    {
      "cell_type": "code",
      "metadata": {
        "id": "Muxw55GEyJYv"
      },
      "source": [
        "data = pd.read_csv('customer-data.csv')"
      ],
      "execution_count": 64,
      "outputs": []
    },
    {
      "cell_type": "code",
      "metadata": {
        "id": "45ogY4U3yJQ2",
        "colab": {
          "base_uri": "https://localhost:8080/",
          "height": 307
        },
        "outputId": "8f9ba81c-88d7-4c53-c9ff-ff61d8b977ce"
      },
      "source": [
        "data.head()"
      ],
      "execution_count": 65,
      "outputs": [
        {
          "output_type": "execute_result",
          "data": {
            "text/html": [
              "<div>\n",
              "<style scoped>\n",
              "    .dataframe tbody tr th:only-of-type {\n",
              "        vertical-align: middle;\n",
              "    }\n",
              "\n",
              "    .dataframe tbody tr th {\n",
              "        vertical-align: top;\n",
              "    }\n",
              "\n",
              "    .dataframe thead th {\n",
              "        text-align: right;\n",
              "    }\n",
              "</style>\n",
              "<table border=\"1\" class=\"dataframe\">\n",
              "  <thead>\n",
              "    <tr style=\"text-align: right;\">\n",
              "      <th></th>\n",
              "      <th>id</th>\n",
              "      <th>age</th>\n",
              "      <th>gender</th>\n",
              "      <th>race</th>\n",
              "      <th>driving_experience</th>\n",
              "      <th>education</th>\n",
              "      <th>income</th>\n",
              "      <th>credit_score</th>\n",
              "      <th>vehicle_ownership</th>\n",
              "      <th>vehicle_year</th>\n",
              "      <th>married</th>\n",
              "      <th>children</th>\n",
              "      <th>postal_code</th>\n",
              "      <th>annual_mileage</th>\n",
              "      <th>vehicle_type</th>\n",
              "      <th>speeding_violations</th>\n",
              "      <th>DUIs</th>\n",
              "      <th>past_accidents</th>\n",
              "      <th>outcome</th>\n",
              "    </tr>\n",
              "  </thead>\n",
              "  <tbody>\n",
              "    <tr>\n",
              "      <th>0</th>\n",
              "      <td>569520</td>\n",
              "      <td>65+</td>\n",
              "      <td>female</td>\n",
              "      <td>majority</td>\n",
              "      <td>0-9y</td>\n",
              "      <td>high school</td>\n",
              "      <td>upper class</td>\n",
              "      <td>0.629027</td>\n",
              "      <td>True</td>\n",
              "      <td>after 2015</td>\n",
              "      <td>False</td>\n",
              "      <td>True</td>\n",
              "      <td>10238</td>\n",
              "      <td>12000.0</td>\n",
              "      <td>sedan</td>\n",
              "      <td>0</td>\n",
              "      <td>0</td>\n",
              "      <td>0</td>\n",
              "      <td>False</td>\n",
              "    </tr>\n",
              "    <tr>\n",
              "      <th>1</th>\n",
              "      <td>750365</td>\n",
              "      <td>16-25</td>\n",
              "      <td>male</td>\n",
              "      <td>majority</td>\n",
              "      <td>0-9y</td>\n",
              "      <td>none</td>\n",
              "      <td>poverty</td>\n",
              "      <td>0.357757</td>\n",
              "      <td>False</td>\n",
              "      <td>before 2015</td>\n",
              "      <td>False</td>\n",
              "      <td>False</td>\n",
              "      <td>10238</td>\n",
              "      <td>16000.0</td>\n",
              "      <td>sedan</td>\n",
              "      <td>0</td>\n",
              "      <td>0</td>\n",
              "      <td>0</td>\n",
              "      <td>True</td>\n",
              "    </tr>\n",
              "    <tr>\n",
              "      <th>2</th>\n",
              "      <td>199901</td>\n",
              "      <td>16-25</td>\n",
              "      <td>female</td>\n",
              "      <td>majority</td>\n",
              "      <td>0-9y</td>\n",
              "      <td>high school</td>\n",
              "      <td>working class</td>\n",
              "      <td>0.493146</td>\n",
              "      <td>True</td>\n",
              "      <td>before 2015</td>\n",
              "      <td>False</td>\n",
              "      <td>False</td>\n",
              "      <td>10238</td>\n",
              "      <td>11000.0</td>\n",
              "      <td>sedan</td>\n",
              "      <td>0</td>\n",
              "      <td>0</td>\n",
              "      <td>0</td>\n",
              "      <td>False</td>\n",
              "    </tr>\n",
              "    <tr>\n",
              "      <th>3</th>\n",
              "      <td>478866</td>\n",
              "      <td>16-25</td>\n",
              "      <td>male</td>\n",
              "      <td>majority</td>\n",
              "      <td>0-9y</td>\n",
              "      <td>university</td>\n",
              "      <td>working class</td>\n",
              "      <td>0.206013</td>\n",
              "      <td>True</td>\n",
              "      <td>before 2015</td>\n",
              "      <td>False</td>\n",
              "      <td>True</td>\n",
              "      <td>32765</td>\n",
              "      <td>11000.0</td>\n",
              "      <td>sedan</td>\n",
              "      <td>0</td>\n",
              "      <td>0</td>\n",
              "      <td>0</td>\n",
              "      <td>False</td>\n",
              "    </tr>\n",
              "    <tr>\n",
              "      <th>4</th>\n",
              "      <td>731664</td>\n",
              "      <td>26-39</td>\n",
              "      <td>male</td>\n",
              "      <td>majority</td>\n",
              "      <td>10-19y</td>\n",
              "      <td>none</td>\n",
              "      <td>working class</td>\n",
              "      <td>0.388366</td>\n",
              "      <td>True</td>\n",
              "      <td>before 2015</td>\n",
              "      <td>False</td>\n",
              "      <td>False</td>\n",
              "      <td>32765</td>\n",
              "      <td>12000.0</td>\n",
              "      <td>sedan</td>\n",
              "      <td>2</td>\n",
              "      <td>0</td>\n",
              "      <td>1</td>\n",
              "      <td>True</td>\n",
              "    </tr>\n",
              "  </tbody>\n",
              "</table>\n",
              "</div>"
            ],
            "text/plain": [
              "       id    age  gender  ... DUIs past_accidents outcome\n",
              "0  569520    65+  female  ...    0              0   False\n",
              "1  750365  16-25    male  ...    0              0    True\n",
              "2  199901  16-25  female  ...    0              0   False\n",
              "3  478866  16-25    male  ...    0              0   False\n",
              "4  731664  26-39    male  ...    0              1    True\n",
              "\n",
              "[5 rows x 19 columns]"
            ]
          },
          "metadata": {
            "tags": []
          },
          "execution_count": 65
        }
      ]
    },
    {
      "cell_type": "code",
      "metadata": {
        "colab": {
          "base_uri": "https://localhost:8080/"
        },
        "id": "UtTfP7EJFpKH",
        "outputId": "b90169d5-bcb2-49f5-d9d9-63ea4896af90"
      },
      "source": [
        "#1. What proportion of customers with a credit score below 0.2 made a claim in the last year?\n",
        "#Ans:- Out of 98 customers who were having credit score less than 0.2, only 59 customers made a claim.\n",
        "#Solution:-\n",
        "print('Total number of customers having credit score less than 0.2 is',sum(data['credit_score']<0.2))                         \n",
        "sum((data['credit_score']<0.2) & (data['outcome']==True))           "
      ],
      "execution_count": 66,
      "outputs": [
        {
          "output_type": "stream",
          "text": [
            "Total number of customers having credit score less than 0.2 is 98\n"
          ],
          "name": "stdout"
        },
        {
          "output_type": "execute_result",
          "data": {
            "text/plain": [
              "59"
            ]
          },
          "metadata": {
            "tags": []
          },
          "execution_count": 66
        }
      ]
    },
    {
      "cell_type": "code",
      "metadata": {
        "colab": {
          "base_uri": "https://localhost:8080/"
        },
        "id": "aH9gmjshxOlT",
        "outputId": "659d9e57-fec1-4e54-d7c9-8f6fbbe93488"
      },
      "source": [
        "#2. What is the average number of speeding violations among customers with driving experience between 20 and 29 years (inclusive)?\n",
        "#Ans:- The average number of speeding violations among customers with driving experience between 20 and 29 years (inclusive) is 2.734308636149127.\n",
        "#Solution:-\n",
        "newdf = data.loc[data['driving_experience']=='20-29y']            ## all rows where customers have 20-29 years of driving experience\n",
        "newdf['speeding_violations'].mean()"
      ],
      "execution_count": 67,
      "outputs": [
        {
          "output_type": "execute_result",
          "data": {
            "text/plain": [
              "2.734308636149127"
            ]
          },
          "metadata": {
            "tags": []
          },
          "execution_count": 67
        }
      ]
    },
    {
      "cell_type": "code",
      "metadata": {
        "colab": {
          "base_uri": "https://localhost:8080/"
        },
        "id": "lfbjD4clxlbo",
        "outputId": "22206016-0b80-42f5-f498-7c13c11489be"
      },
      "source": [
        "#3. What if you consider only the people in this group who drive a sports car?\n",
        "#Ans:- The average number of speeding violations among customers with sports car is 1.50104821802935.\n",
        "#Solution:-\n",
        "newdf2 = data.loc[data['vehicle_type']=='sports car']            ## all rows where customers have sports car\n",
        "newdf2['speeding_violations'].mean()"
      ],
      "execution_count": 68,
      "outputs": [
        {
          "output_type": "execute_result",
          "data": {
            "text/plain": [
              "1.50104821802935"
            ]
          },
          "metadata": {
            "tags": []
          },
          "execution_count": 68
        }
      ]
    },
    {
      "cell_type": "code",
      "metadata": {
        "colab": {
          "base_uri": "https://localhost:8080/",
          "height": 35
        },
        "id": "TUH-I_gqxlYu",
        "outputId": "326cf70b-1d9e-4a36-c735-0ea10410e83d"
      },
      "source": [
        "#4. What is the standard deviation in annual mileage?\n",
        "#Ans:- Standard Deviation of annual mileage column is 2818.278688843016.\n",
        "#Solution:-\n",
        "\"Standard Deviation of annual mileage column is % s \"% (np.std(data['annual_mileage']))"
      ],
      "execution_count": 69,
      "outputs": [
        {
          "output_type": "execute_result",
          "data": {
            "application/vnd.google.colaboratory.intrinsic+json": {
              "type": "string"
            },
            "text/plain": [
              "'Standard Deviation of annual mileage column is 2818.278688843016 '"
            ]
          },
          "metadata": {
            "tags": []
          },
          "execution_count": 69
        }
      ]
    },
    {
      "cell_type": "code",
      "metadata": {
        "id": "4yvHbbI1xlV5"
      },
      "source": [
        "#***********************************************************************************************************************************************************"
      ],
      "execution_count": 70,
      "outputs": []
    },
    {
      "cell_type": "code",
      "metadata": {
        "id": "mMMAdvSVxlS1",
        "colab": {
          "base_uri": "https://localhost:8080/",
          "height": 307
        },
        "outputId": "2a71f886-55ab-4604-ca1d-0a7668d6d126"
      },
      "source": [
        "#1. Are there particular customer types?\n",
        "#Ans:- The customers belonging to the majority race and having vehicle of before 2015 are more likely to take claims.Also, customers having Sedan car and zero \n",
        "#      driving under the influence (DUIs) charges are more likely to take claims.\n",
        "#Solution:-\n",
        "truedf = data.loc[data['outcome']==True]\n",
        "truedf.head()"
      ],
      "execution_count": 71,
      "outputs": [
        {
          "output_type": "execute_result",
          "data": {
            "text/html": [
              "<div>\n",
              "<style scoped>\n",
              "    .dataframe tbody tr th:only-of-type {\n",
              "        vertical-align: middle;\n",
              "    }\n",
              "\n",
              "    .dataframe tbody tr th {\n",
              "        vertical-align: top;\n",
              "    }\n",
              "\n",
              "    .dataframe thead th {\n",
              "        text-align: right;\n",
              "    }\n",
              "</style>\n",
              "<table border=\"1\" class=\"dataframe\">\n",
              "  <thead>\n",
              "    <tr style=\"text-align: right;\">\n",
              "      <th></th>\n",
              "      <th>id</th>\n",
              "      <th>age</th>\n",
              "      <th>gender</th>\n",
              "      <th>race</th>\n",
              "      <th>driving_experience</th>\n",
              "      <th>education</th>\n",
              "      <th>income</th>\n",
              "      <th>credit_score</th>\n",
              "      <th>vehicle_ownership</th>\n",
              "      <th>vehicle_year</th>\n",
              "      <th>married</th>\n",
              "      <th>children</th>\n",
              "      <th>postal_code</th>\n",
              "      <th>annual_mileage</th>\n",
              "      <th>vehicle_type</th>\n",
              "      <th>speeding_violations</th>\n",
              "      <th>DUIs</th>\n",
              "      <th>past_accidents</th>\n",
              "      <th>outcome</th>\n",
              "    </tr>\n",
              "  </thead>\n",
              "  <tbody>\n",
              "    <tr>\n",
              "      <th>1</th>\n",
              "      <td>750365</td>\n",
              "      <td>16-25</td>\n",
              "      <td>male</td>\n",
              "      <td>majority</td>\n",
              "      <td>0-9y</td>\n",
              "      <td>none</td>\n",
              "      <td>poverty</td>\n",
              "      <td>0.357757</td>\n",
              "      <td>False</td>\n",
              "      <td>before 2015</td>\n",
              "      <td>False</td>\n",
              "      <td>False</td>\n",
              "      <td>10238</td>\n",
              "      <td>16000.0</td>\n",
              "      <td>sedan</td>\n",
              "      <td>0</td>\n",
              "      <td>0</td>\n",
              "      <td>0</td>\n",
              "      <td>True</td>\n",
              "    </tr>\n",
              "    <tr>\n",
              "      <th>4</th>\n",
              "      <td>731664</td>\n",
              "      <td>26-39</td>\n",
              "      <td>male</td>\n",
              "      <td>majority</td>\n",
              "      <td>10-19y</td>\n",
              "      <td>none</td>\n",
              "      <td>working class</td>\n",
              "      <td>0.388366</td>\n",
              "      <td>True</td>\n",
              "      <td>before 2015</td>\n",
              "      <td>False</td>\n",
              "      <td>False</td>\n",
              "      <td>32765</td>\n",
              "      <td>12000.0</td>\n",
              "      <td>sedan</td>\n",
              "      <td>2</td>\n",
              "      <td>0</td>\n",
              "      <td>1</td>\n",
              "      <td>True</td>\n",
              "    </tr>\n",
              "    <tr>\n",
              "      <th>7</th>\n",
              "      <td>461006</td>\n",
              "      <td>26-39</td>\n",
              "      <td>female</td>\n",
              "      <td>majority</td>\n",
              "      <td>0-9y</td>\n",
              "      <td>university</td>\n",
              "      <td>working class</td>\n",
              "      <td>0.468689</td>\n",
              "      <td>False</td>\n",
              "      <td>after 2015</td>\n",
              "      <td>False</td>\n",
              "      <td>True</td>\n",
              "      <td>10238</td>\n",
              "      <td>14000.0</td>\n",
              "      <td>sedan</td>\n",
              "      <td>0</td>\n",
              "      <td>0</td>\n",
              "      <td>0</td>\n",
              "      <td>True</td>\n",
              "    </tr>\n",
              "    <tr>\n",
              "      <th>9</th>\n",
              "      <td>445911</td>\n",
              "      <td>40-64</td>\n",
              "      <td>female</td>\n",
              "      <td>majority</td>\n",
              "      <td>0-9y</td>\n",
              "      <td>high school</td>\n",
              "      <td>upper class</td>\n",
              "      <td>0.561531</td>\n",
              "      <td>True</td>\n",
              "      <td>before 2015</td>\n",
              "      <td>False</td>\n",
              "      <td>True</td>\n",
              "      <td>32765</td>\n",
              "      <td>11000.0</td>\n",
              "      <td>sedan</td>\n",
              "      <td>0</td>\n",
              "      <td>0</td>\n",
              "      <td>0</td>\n",
              "      <td>True</td>\n",
              "    </tr>\n",
              "    <tr>\n",
              "      <th>17</th>\n",
              "      <td>24851</td>\n",
              "      <td>16-25</td>\n",
              "      <td>male</td>\n",
              "      <td>majority</td>\n",
              "      <td>0-9y</td>\n",
              "      <td>none</td>\n",
              "      <td>poverty</td>\n",
              "      <td>NaN</td>\n",
              "      <td>False</td>\n",
              "      <td>before 2015</td>\n",
              "      <td>True</td>\n",
              "      <td>False</td>\n",
              "      <td>32765</td>\n",
              "      <td>12000.0</td>\n",
              "      <td>sedan</td>\n",
              "      <td>0</td>\n",
              "      <td>0</td>\n",
              "      <td>0</td>\n",
              "      <td>True</td>\n",
              "    </tr>\n",
              "  </tbody>\n",
              "</table>\n",
              "</div>"
            ],
            "text/plain": [
              "        id    age  gender  ... DUIs past_accidents outcome\n",
              "1   750365  16-25    male  ...    0              0    True\n",
              "4   731664  26-39    male  ...    0              1    True\n",
              "7   461006  26-39  female  ...    0              0    True\n",
              "9   445911  40-64  female  ...    0              0    True\n",
              "17   24851  16-25    male  ...    0              0    True\n",
              "\n",
              "[5 rows x 19 columns]"
            ]
          },
          "metadata": {
            "tags": []
          },
          "execution_count": 71
        }
      ]
    },
    {
      "cell_type": "code",
      "metadata": {
        "id": "2O5siW-CxlNo",
        "colab": {
          "base_uri": "https://localhost:8080/"
        },
        "outputId": "307738cb-aa21-4b5e-a80c-85387f89e7e5"
      },
      "source": [
        "#2. What do claimants have in common?\n",
        "#Ans:- The claimants have common things such as, many(89.76%) claimants belong to majority race, also many (84.81%) claimants have vehicles of the year before 2015,\n",
        "#      along with that many (89.89%) customers have sedan car and also many (87.95%) have zero 'driving under the influence'(DUIs)\n",
        "#Solution:-\n",
        "print('The vehicle_type column have :\\n',truedf['vehicle_type'].value_counts())\n",
        "print('The percent of Sedan car is :', ((2978/3313)*100))\n",
        "print('****************************************************************')\n",
        "print('The race column :\\n',truedf['race'].value_counts())\n",
        "print('The percent of majority race is :', ((2812/3313)*100))\n",
        "print('****************************************************************')\n",
        "print('The DUIs column :\\n',truedf['DUIs'].value_counts())\n",
        "print('The percent of zero DUIs is :', ((2914/3313)*100))\n",
        "print('****************************************************************')\n",
        "print('The vehicle_year column :\\n',truedf['vehicle_year'].value_counts())\n",
        "print('The percent of the year before 2015 is :', ((2810/3313)*100))"
      ],
      "execution_count": 72,
      "outputs": [
        {
          "output_type": "stream",
          "text": [
            "The vehicle_type column have :\n",
            " sedan         2978\n",
            "sports car     155\n",
            "Name: vehicle_type, dtype: int64\n",
            "The percent of Sedan car is : 89.88831874434048\n",
            "****************************************************************\n",
            "The race column :\n",
            " majority    2812\n",
            "minority     321\n",
            "Name: race, dtype: int64\n",
            "The percent of majority race is : 84.87775430123754\n",
            "****************************************************************\n",
            "The DUIs column :\n",
            " 0    2914\n",
            "1     188\n",
            "2      22\n",
            "3       6\n",
            "4       3\n",
            "Name: DUIs, dtype: int64\n",
            "The percent of zero DUIs is : 87.95653486266224\n",
            "****************************************************************\n",
            "The vehicle_year column :\n",
            " before 2015    2810\n",
            "after 2015      323\n",
            "Name: vehicle_year, dtype: int64\n",
            "The percent of the year before 2015 is : 84.81738605493511\n"
          ],
          "name": "stdout"
        }
      ]
    },
    {
      "cell_type": "code",
      "metadata": {
        "id": "2LxJKQJ2xlK5",
        "colab": {
          "base_uri": "https://localhost:8080/"
        },
        "outputId": "89f69796-2103-49ad-b44a-5d25197a8e6f"
      },
      "source": [
        "#3. How does the number of claims vary between postcodes?\n",
        "#Ans:- As the postal code increases, the number of claims decreases. The highest number of claims (1886) by customers are of Postal code 10238.\n",
        "#      The average number of claims (927,200) by customers are of Postal code 32765 and 92101. \n",
        "#      The lowest number of claims (120) by customers are of Postal code 21217.\n",
        "#Solution:-\n",
        "truedf['postal_code'].value_counts()"
      ],
      "execution_count": 73,
      "outputs": [
        {
          "output_type": "execute_result",
          "data": {
            "text/plain": [
              "10238    1886\n",
              "32765     927\n",
              "92101     200\n",
              "21217     120\n",
              "Name: postal_code, dtype: int64"
            ]
          },
          "metadata": {
            "tags": []
          },
          "execution_count": 73
        }
      ]
    },
    {
      "cell_type": "code",
      "metadata": {
        "id": "jS9VfJQQxlHj"
      },
      "source": [
        "#******************************************************************************************************************************************************"
      ],
      "execution_count": 74,
      "outputs": []
    },
    {
      "cell_type": "code",
      "metadata": {
        "id": "C91_FB5Nxk58"
      },
      "source": [
        "#1. Are there any problems with the data you have been given that should be kept in mind when modelling?\n",
        "#Ans:- Yes, the data has certain problems like the education of many (1915) customers were none which could mean that either they have not studied\n",
        "#      or education is not known. Credit score(982 nulls) and annual mileage (957 nulls) columns were having many null values which are important features."
      ],
      "execution_count": 75,
      "outputs": []
    },
    {
      "cell_type": "code",
      "metadata": {
        "id": "PwIbijSJyDmQ"
      },
      "source": [
        "#2. Has the client collected the right data for their business needs?\n",
        "#Ans: Yes, the client has collected the right data."
      ],
      "execution_count": 76,
      "outputs": []
    },
    {
      "cell_type": "code",
      "metadata": {
        "id": "gie_oNEwyDjA"
      },
      "source": [
        "#3. What recommendations would you make to the client for future data collection?\n",
        "#Ans:- 1.The range of age cateogry should be less for more better analysis of the data.\n",
        "#      2.Try to mention the number of children which could increase the spendings of customer and as a result also may affect the claims. \n",
        "#      3.The company should try decrease the empty records from Credit score and annual mileage columns."
      ],
      "execution_count": 77,
      "outputs": []
    },
    {
      "cell_type": "markdown",
      "metadata": {
        "id": "zOMI7uyAzS2l"
      },
      "source": [
        "# Working Of Model"
      ]
    },
    {
      "cell_type": "markdown",
      "metadata": {
        "id": "mTkamxIVHHa9"
      },
      "source": [
        "**Introduction** : \n",
        "In the Machine Learning world, Random Forest models are a kind of non \n",
        "parametric models that can be used both for regression and classification. They are one of the most popular ensemble methods (Ensemble method is a machine learning technique that combines several base models in order to produce one optimal predictive model), belonging to the specific category of Bagging methods(it is a simple and very powerful ensemble method).                         \n",
        "**Working Procedure :**                                     \n",
        "*Step 1 : Training the model.*                  \n",
        "1.We create a bootstrapped data set for each tree. (Bootstrapping is a statistical procedure that resamples a single dataset to create many simulated samples).                \n",
        "2.Then we create a decision tree using its corresponding data set, but at each node use a random sub sample of variables or features to split on. (Decision tree is a Machine Learning Algorithm which involves in making a tree shaped diagram to analyse the data which breaks into different branches to make predictions and give statistical probability and those branches are called nodes).         \n",
        "3.Repeat all these three steps hundreds of times to build a massive forest with a wide variety of trees. This variety is what makes a Random Forest way better than a single decision tree.                        \n",
        "*Step 2: Making predictions.*             \n",
        "After model gets trained, making predictions with a Random Forest is very easy. We just have to take each of our individual trees, pass the observation for which we want to make a prediction through them, get a prediction from every tree and then obtain an overall, aggregated (average) prediction. \n",
        "\n",
        "**Conclusion:**                         \n",
        "Random Forests are very flexible and powerful Machine Learning models that are highly used in commercial and industrial applications, along with Boosting models and Artificial Neural Networks."
      ]
    },
    {
      "cell_type": "markdown",
      "metadata": {
        "id": "eNZzSCRw6Cth"
      },
      "source": [
        "# Summary"
      ]
    },
    {
      "cell_type": "markdown",
      "metadata": {
        "id": "Eu9ncnhPCUXF"
      },
      "source": [
        "**Logistic Model** --> \n",
        "Train score : 0.9172607474616548 and AUC= 0.90.                        \n",
        "Validation score : 0.9254498714652957 and AUC= 0.91.\n",
        "\n",
        "**Decision Tree Model**-->\n",
        "Train score : 0.9144466103530432 and AUC= 0.90.                                \n",
        "Validation score : 0.9038461538461539 and AUC= 0.85.\n",
        "\n",
        "**Random Forest Model**-->\n",
        "Train score : 0.9221505376344087 and AUC= 0.91.                                 \n",
        "Validation score : 0.9208261617900172 and AUC= 0.91.\n",
        "\n",
        "**XGBoost Model**--> \n",
        "Best Cross Validation score : 0.93516281.\n",
        "\n",
        "***Conclusion:***\n",
        "As the improvement of model is not so much, we can finalise the Random Forest Model."
      ]
    }
  ]
}